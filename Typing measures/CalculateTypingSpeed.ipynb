{
 "cells": [
  {
   "cell_type": "code",
   "execution_count": 595,
   "metadata": {},
   "outputs": [],
   "source": [
    "%matplotlib inline\n",
    "import os\n",
    "import csv\n",
    "import numpy as np\n",
    "import re\n",
    "import datetime\n",
    "import fnmatch"
   ]
  },
  {
   "cell_type": "code",
   "execution_count": 596,
   "metadata": {},
   "outputs": [],
   "source": [
    "folderName = r'C:\\DTU\\Data\\201805_HealthnRehab\\TypingData\\May16\\km_DT\\OptiKeyLogs\\2018-5-16-15-52-45'\n",
    "\n",
    "for root, dirs, files in os.walk(folderName):\n",
    "    for file in files:\n",
    "        if fnmatch.fnmatch(file, 'ScratchPadLog*'):\n",
    "            with open(folderName + '\\\\' + file, encoding='utf-8') as f:\n",
    "                reader = csv.reader(f)\n",
    "                your_list = list(reader)\n",
    "                    "
   ]
  },
  {
   "cell_type": "code",
   "execution_count": 597,
   "metadata": {},
   "outputs": [],
   "source": [
    "NotInclude = ['scratchPadText', '']"
   ]
  },
  {
   "cell_type": "code",
   "execution_count": 598,
   "metadata": {},
   "outputs": [],
   "source": [
    "# Find entries in scratchpad that are the start and end of the phrase\n",
    "listTimeCharacters = list()\n",
    "IndexNotInclude = list()\n",
    "\n",
    "for row_ind in range(0, len(your_list)):\n",
    "    list_inner = your_list[row_ind]\n",
    "    if list_inner[1] in NotInclude:\n",
    "        IndexNotInclude.append(row_ind)\n",
    "        \n",
    "# Remove consecutive entries with blank scratchpads\n",
    "\n",
    "IndexNotIncludeArray = np.asarray(IndexNotInclude)\n",
    "IndDiff = np.diff(IndexNotIncludeArray,1)"
   ]
  },
  {
   "cell_type": "code",
   "execution_count": 599,
   "metadata": {},
   "outputs": [
    {
     "data": {
      "text/plain": [
       "array([14, 14, 14, 12, 16])"
      ]
     },
     "execution_count": 599,
     "metadata": {},
     "output_type": "execute_result"
    }
   ],
   "source": [
    "IndDiff"
   ]
  },
  {
   "cell_type": "code",
   "execution_count": 600,
   "metadata": {},
   "outputs": [],
   "source": [
    "ind = IndDiff.size-1\n",
    "while (ind>-1):\n",
    "    if IndDiff[ind] == 1:\n",
    "        for i_2 in range (ind,len(IndexNotInclude)):\n",
    "            IndexNotInclude[i_2] = IndexNotInclude[i_2]-1\n",
    "        \n",
    "        del(IndexNotInclude[ind])\n",
    "        del your_list[IndexNotIncludeArray[ind]]\n",
    "    ind = ind - 1\n",
    "    "
   ]
  },
  {
   "cell_type": "code",
   "execution_count": 601,
   "metadata": {},
   "outputs": [],
   "source": [
    "# Find the time taken for each phrase\n",
    "PhraseList = list()\n",
    "\n",
    "for indPhrase in range(0, len(IndexNotInclude)-1):\n",
    "    startPhrase = IndexNotInclude[indPhrase]\n",
    "    endPhrase = IndexNotInclude[indPhrase+1]\n",
    "    headStartPhrase,sep,tail = your_list[startPhrase+1][0].partition('+')\n",
    "    headEndPhrase,sep,tail = your_list[endPhrase-1][0].partition('+')\n",
    "    timeTaken = datetime.datetime.strptime(re.sub('[:.T]','-',headEndPhrase[:-1]), \"%Y-%m-%d-%H-%M-%S-%f\") - datetime.datetime.strptime(re.sub('[:.T]', '-', headStartPhrase[:-1]), \"%Y-%m-%d-%H-%M-%S-%f\")\n",
    "    phraseTyped = your_list[endPhrase-1][1]\n",
    "    PhraseList.append([timeTaken, phraseTyped])"
   ]
  },
  {
   "cell_type": "code",
   "execution_count": 602,
   "metadata": {},
   "outputs": [
    {
     "name": "stdout",
     "output_type": "stream",
     "text": [
      "Typing speed is 7.220867931581335\n"
     ]
    }
   ],
   "source": [
    "# Compute the total time for the phrase and the total number of words typed during that time (1 word = 5 characters, including space)\n",
    "timeAdd = datetime.datetime.strptime('1000-1-1-0-00-00-000000',\"%Y-%m-%d-%H-%M-%S-%f\")\n",
    "characterLen = 0\n",
    "\n",
    "for indPhrase in range(0, len(IndexNotInclude)-1):\n",
    "    timeAdd += PhraseList[indPhrase][0]\n",
    "    characterLen += len(PhraseList[indPhrase][1])\n",
    "    \n",
    "TimeTaken = (timeAdd.microsecond/1000000 + timeAdd.second)/60 + timeAdd.minute\n",
    "WPM = (characterLen-1)/(5*TimeTaken)\n",
    "print(\"Typing speed is\", WPM)"
   ]
  },
  {
   "cell_type": "code",
   "execution_count": 603,
   "metadata": {},
   "outputs": [
    {
     "name": "stdout",
     "output_type": "stream",
     "text": [
      "[[datetime.timedelta(0, 52, 66207), 'skal vi si Elif en omgang Kort'], [datetime.timedelta(0, 31, 938423), \"en ræv er et meget småt y'er\"], [datetime.timedelta(0, 54, 326360), 'jeg siddet kaffe på gulvmop tyg'], [datetime.timedelta(0, 37, 754098), 'integrationer mellem mænd go gæk rush'], [datetime.timedelta(0, 91, 472776), 'en def. EF EF FDF Jesu udgave ryddet']]\n"
     ]
    }
   ],
   "source": [
    "print(PhraseList)"
   ]
  },
  {
   "cell_type": "code",
   "execution_count": null,
   "metadata": {},
   "outputs": [],
   "source": []
  }
 ],
 "metadata": {
  "kernelspec": {
   "display_name": "Python 3",
   "language": "python",
   "name": "python3"
  },
  "language_info": {
   "codemirror_mode": {
    "name": "ipython",
    "version": 3
   },
   "file_extension": ".py",
   "mimetype": "text/x-python",
   "name": "python",
   "nbconvert_exporter": "python",
   "pygments_lexer": "ipython3",
   "version": "3.6.4"
  }
 },
 "nbformat": 4,
 "nbformat_minor": 2
}
