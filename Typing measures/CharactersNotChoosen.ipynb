{
 "cells": [
  {
   "cell_type": "code",
   "execution_count": 1,
   "metadata": {},
   "outputs": [],
   "source": [
    "%matplotlib inline\n",
    "import os\n",
    "import csv\n",
    "import fnmatch\n",
    "import numpy as np\n",
    "import datetime\n",
    "import re"
   ]
  },
  {
   "cell_type": "code",
   "execution_count": 2,
   "metadata": {},
   "outputs": [],
   "source": [
    "KeyNotInclude = ['PhraseTextBlock', 'ScratchPad', 'Sleep', 'NextSuggestions', 'SpaceBar', 'NextPhrase', 'Quit', 'YesQuestionResult', 'IncreaseDwellTime', 'DecreaseDwellTime']"
   ]
  },
  {
   "cell_type": "code",
   "execution_count": 3,
   "metadata": {},
   "outputs": [],
   "source": [
    "def CharNotActivated(userKeys):\n",
    "    nKey = 0\n",
    "    LetterLookedAt = [userKeys[letterInd] for letterInd in range(0,len(userKeys))  if userKeys[letterInd][1] not in KeyNotInclude and 'Suggestion' not in userKeys[letterInd][1]]\n",
    "    LetterLookingAt = list()\n",
    "                \n",
    "    for keyInd in range(0, len(LetterLookedAt)):\n",
    "        if keyInd == 0:\n",
    "            theLetter = LetterLookedAt[keyInd][1]\n",
    "            LetterLookingAt.append(LetterLookedAt[keyInd])\n",
    "            continue\n",
    "                        \n",
    "        checkLetter = LetterLookedAt[keyInd][1]\n",
    "                    \n",
    "        if theLetter != checkLetter:\n",
    "            theLetter = checkLetter\n",
    "                        \n",
    "            LetterLookedAtList.append(LetterLookingAt)\n",
    "            LetterLookingAt = list()\n",
    "            LetterLookingAt.append(LetterLookedAt[keyInd])\n",
    "            \n",
    "        else:\n",
    "            LetterLookingAt.append(LetterLookedAt[keyInd])\n",
    "    \n",
    "    for key in LetterLookedAtList:\n",
    "        for progressInd in key:\n",
    "            if float(progressInd[2]) == 1:\n",
    "                LetterLookedAtList.remove(LetterLookedAtList[nKey])\n",
    "                continue\n",
    "            \n",
    "        nKey = nKey + 1\n",
    "    \n",
    "    return len(LetterLookedAtList)"
   ]
  },
  {
   "cell_type": "code",
   "execution_count": 4,
   "metadata": {},
   "outputs": [],
   "source": [
    "def CharTyped(scratchPad):\n",
    "    phraseUser = list()\n",
    "    phraseUserEnd = list()\n",
    "                \n",
    "    for row_ind in range(0, len(scratchPad)):\n",
    "        if row_ind!= 0 and scratchPad[row_ind][1] == '':\n",
    "            phraseUser.append(scratchPad[row_ind-1])\n",
    "                        \n",
    "    for row_ind2 in range(0, len(phraseUser)):\n",
    "        if len(phraseUser[row_ind2])>2:\n",
    "            phraseUser[row_ind2][1] = ''.join(phraseUser[row_ind2][1:])\n",
    "        phraseUserEnd.append(phraseUser[row_ind2][1])\n",
    "              \n",
    "    return len(''.join(phraseUserEnd))"
   ]
  },
  {
   "cell_type": "code",
   "execution_count": 5,
   "metadata": {},
   "outputs": [
    {
     "name": "stdout",
     "output_type": "stream",
     "text": [
      "C:\\DTU\\Data\\201805_HealthnRehab\\TypingData\\May15\\akt_MS\\OptiKeyLogs\\2018-5-15-14-3-18 1.1596638655462186\n",
      "C:\\DTU\\Data\\201805_HealthnRehab\\TypingData\\May15\\be_DT\\OptiKeyLogs\\2018-5-15-14-51-13 1.7222222222222223\n",
      "C:\\DTU\\Data\\201805_HealthnRehab\\TypingData\\May15\\jl_DT\\OptiKeyLogs\\2018-5-15-10-21-20 0.7894736842105263\n",
      "C:\\DTU\\Data\\201805_HealthnRehab\\TypingData\\May15\\KEA_MS\\OptiKeyLogs\\2018-5-15-12-31-49 0.896\n",
      "C:\\DTU\\Data\\201805_HealthnRehab\\TypingData\\May15\\lone_DT\\OptiKeyLogs\\2018-5-15-11-4-33 1.9487179487179487\n",
      "C:\\DTU\\Data\\201805_HealthnRehab\\TypingData\\May15\\mcc_MS\\OptiKeyLogs\\2018-5-15-12-2-10 1.0561797752808988\n",
      "C:\\DTU\\Data\\201805_HealthnRehab\\TypingData\\May15\\MK_DT\\OptiKeyLogs\\2018-5-15-14-32-48 1.0648148148148149\n",
      "C:\\DTU\\Data\\201805_HealthnRehab\\TypingData\\May15\\MT_MS\\Optikey Logs\\2018-5-15-10-52-23 0.584070796460177\n",
      "C:\\DTU\\Data\\201805_HealthnRehab\\TypingData\\May15\\ok_MS\\OptiKeyLogs\\2018-5-15-12-23-16 0.5870967741935483\n",
      "C:\\DTU\\Data\\201805_HealthnRehab\\TypingData\\May15\\pt_DT\\OptiKeyLogs\\2018-5-15-12-43-13 1.1493506493506493\n",
      "C:\\DTU\\Data\\201805_HealthnRehab\\TypingData\\May15\\sc_MS\\OptiKeyLogs\\2018-5-15-14-25-39 2.75\n",
      "C:\\DTU\\Data\\201805_HealthnRehab\\TypingData\\May15\\sh_MS\\OptiKeyLogs\\2018-5-15-15-36-9 1.0217391304347827\n",
      "C:\\DTU\\Data\\201805_HealthnRehab\\TypingData\\May15\\slh_DT\\OptiKeyLogs\\2018-5-15-11-48-25 1.0074074074074073\n",
      "C:\\DTU\\Data\\201805_HealthnRehab\\TypingData\\May16\\ae_DT\\OptiKeyLogs\\2018-5-16-15-5-59 2.0\n",
      "C:\\DTU\\Data\\201805_HealthnRehab\\TypingData\\May16\\ep_DT\\OptiKeyLogs\\2018-5-16-13-5-32 0.7975460122699386\n",
      "C:\\DTU\\Data\\201805_HealthnRehab\\TypingData\\May16\\hc_MS\\OptiKeyLogs\\2018-5-16-13-42-4 1.3613861386138615\n",
      "C:\\DTU\\Data\\201805_HealthnRehab\\TypingData\\May16\\ib_MS\\OptiKeyLogs\\2018-5-16-10-36-58 1.644736842105263\n",
      "C:\\DTU\\Data\\201805_HealthnRehab\\TypingData\\May16\\js_MS\\OptiKeyLogs\\2018-5-16-10-18-59 1.0263157894736843\n",
      "C:\\DTU\\Data\\201805_HealthnRehab\\TypingData\\May16\\km_DT\\OptiKeyLogs\\2018-5-16-15-52-45 1.382716049382716\n",
      "C:\\DTU\\Data\\201805_HealthnRehab\\TypingData\\May16\\ma_DT\\OptiKeyLogs\\2018-5-16-10-7-33 1.25\n",
      "C:\\DTU\\Data\\201805_HealthnRehab\\TypingData\\May16\\mw_MS\\OptiKeyLogs\\2018-5-16-16-13-42 1.2722222222222221\n",
      "C:\\DTU\\Data\\201805_HealthnRehab\\TypingData\\May16\\pgba_DT\\OptiKeyLogs\\2018-5-16-14-50-56 0.6754966887417219\n",
      "C:\\DTU\\Data\\201805_HealthnRehab\\TypingData\\May16\\pt_MS\\OptiKeyLogs\\2018-5-16-16-1-48 1.1265822784810127\n",
      "C:\\DTU\\Data\\201805_HealthnRehab\\TypingData\\May16\\smn_DT\\OptiKeyLogs\\2018-5-16-11-59-49 0.6904761904761905\n",
      "C:\\DTU\\Data\\201805_HealthnRehab\\TypingData\\May17\\eo_DT\\OptiKeyLogs\\2018-5-17-11-53-9 1.0\n",
      "C:\\DTU\\Data\\201805_HealthnRehab\\TypingData\\May17\\jek_MS\\OptiKeyLogs\\2018-5-17-13-38-4 2.0043103448275863\n",
      "C:\\DTU\\Data\\201805_HealthnRehab\\TypingData\\May17\\jg_DT\\OptiKeyLogs\\2018-5-17-12-34-27 1.2647058823529411\n",
      "C:\\DTU\\Data\\201805_HealthnRehab\\TypingData\\May17\\lg_MS\\OptiKeyLogs\\2018-5-17-10-44-20 1.3333333333333333\n",
      "C:\\DTU\\Data\\201805_HealthnRehab\\TypingData\\May17\\lr_MS\\OptiKeyLogs\\2018-5-17-10-17-20 1.1006711409395973\n",
      "C:\\DTU\\Data\\201805_HealthnRehab\\TypingData\\May17\\mm_MS\\OptiKeyLogs\\2018-5-17-13-22-11 0.5625\n",
      "C:\\DTU\\Data\\201805_HealthnRehab\\TypingData\\May17\\mr_DT\\OptiKeyLogs\\2018-5-17-15-27-31 1.3924050632911393\n"
     ]
    }
   ],
   "source": [
    "subjName = r'C:\\DTU\\Data\\201805_HealthnRehab\\TypingData'\n",
    "\n",
    "for root, dirs, subfolder in os.walk(subjName):\n",
    "    LetterLookedAtList = list()\n",
    "    LetterLookedAt = list()\n",
    "    \n",
    "    userKeys = None\n",
    "    \n",
    "    if not dirs:\n",
    "        \n",
    "        if 'notCompleted' in root:\n",
    "            continue\n",
    "        if 'tb' in root or 'joha' in root or 'snk' in root:\n",
    "            continue\n",
    "\n",
    "        for file in subfolder:\n",
    "            \n",
    "            if fnmatch.fnmatch(file, 'user*'):\n",
    "                try:\n",
    "                    \n",
    "                    fUserKey = open(root + '\\\\' + file, encoding='utf-8')\n",
    "                    readerUserKey = csv.reader(fUserKey)\n",
    "                    userKeys = list(readerUserKey)\n",
    "                    userKeys.remove(userKeys[0])\n",
    "                except:\n",
    "                    if fUserKey is not None:\n",
    "                        fUserKey.close()\n",
    "                    else:\n",
    "                        print('error in opening the user looks at log file')\n",
    "            elif fnmatch.fnmatch(file, 'ScratchPad*'):\n",
    "                try:\n",
    "                    fScratchPad = open(root + '\\\\' + file, encoding='utf-8')\n",
    "                    readerScratchPad = csv.reader(fScratchPad)\n",
    "                    scratchPad = list(readerScratchPad)  \n",
    "                    scratchPad.remove(scratchPad[0])\n",
    "                except:\n",
    "                    if fScratchPad is not None:\n",
    "                        fScratchPad.close()\n",
    "                    else:\n",
    "                        print('error in opening the user looks at log file')\n",
    "            else:\n",
    "                continue\n",
    "            \n",
    "            if userKeys and scratchPad:\n",
    "                \n",
    "                nCharNotActivated = CharNotActivated(userKeys)                \n",
    "                nCharTyped = CharTyped(scratchPad)\n",
    "                \n",
    "                nAttendedButNotSelected = float(nCharNotActivated/nCharTyped)\n",
    "                print(root, nAttendedButNotSelected)\n",
    "                "
   ]
  },
  {
   "cell_type": "code",
   "execution_count": 6,
   "metadata": {},
   "outputs": [
    {
     "data": {
      "text/plain": [
       "0"
      ]
     },
     "execution_count": 6,
     "metadata": {},
     "output_type": "execute_result"
    }
   ],
   "source": [
    "len(LetterLookedAtList)"
   ]
  },
  {
   "cell_type": "code",
   "execution_count": null,
   "metadata": {},
   "outputs": [],
   "source": []
  }
 ],
 "metadata": {
  "kernelspec": {
   "display_name": "Python 3",
   "language": "python",
   "name": "python3"
  },
  "language_info": {
   "codemirror_mode": {
    "name": "ipython",
    "version": 3
   },
   "file_extension": ".py",
   "mimetype": "text/x-python",
   "name": "python",
   "nbconvert_exporter": "python",
   "pygments_lexer": "ipython3",
   "version": "3.6.4"
  }
 },
 "nbformat": 4,
 "nbformat_minor": 2
}
