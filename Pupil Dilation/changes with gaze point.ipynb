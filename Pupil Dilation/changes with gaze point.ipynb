{
 "cells": [
  {
   "cell_type": "code",
   "execution_count": 6,
   "metadata": {},
   "outputs": [],
   "source": [
    "import os\n",
    "import csv\n",
    "import numpy as np\n"
   ]
  },
  {
   "cell_type": "code",
   "execution_count": 34,
   "metadata": {},
   "outputs": [],
   "source": [
    "fileName = r'C:\\Users\\taba\\Desktop\\Tobii\\GazeLog2018-6-6-8-16-39.csv'\n",
    "\n",
    "fUserKey = open(fileName, encoding='utf-8')\n",
    "readerUserKey = csv.reader(fUserKey)\n",
    "userKeys = list(readerUserKey)\n",
    "userKeys.remove(userKeys[0])\n",
    "userKey = np.transpose(np.asarray(userKeys))\n",
    "new = np.delete(userKey, 0, 0)\n"
   ]
  },
  {
   "cell_type": "code",
   "execution_count": 49,
   "metadata": {},
   "outputs": [],
   "source": [
    "new1 = new[28].astype(np.float)"
   ]
  },
  {
   "cell_type": "code",
   "execution_count": 52,
   "metadata": {},
   "outputs": [],
   "source": [
    "new3 = new[30].astype(np.float)"
   ]
  },
  {
   "cell_type": "code",
   "execution_count": 53,
   "metadata": {},
   "outputs": [],
   "source": [
    "new4 = new3[~np.isnan(new3)]"
   ]
  },
  {
   "cell_type": "code",
   "execution_count": 73,
   "metadata": {},
   "outputs": [],
   "source": [
    "p1L = np.nanmean(new1[0:170])\n",
    "p1R = np.nanmean(new3[0:170])\n"
   ]
  },
  {
   "cell_type": "code",
   "execution_count": 74,
   "metadata": {},
   "outputs": [],
   "source": [
    "p2L = np.nanmean(new1[226:506])\n",
    "p2R = np.nanmean(new3[226:506])"
   ]
  },
  {
   "cell_type": "code",
   "execution_count": 75,
   "metadata": {},
   "outputs": [],
   "source": [
    "p3L = np.nanmean(new1[572:827])\n",
    "p3R = np.nanmean(new3[572:827])"
   ]
  },
  {
   "cell_type": "code",
   "execution_count": 76,
   "metadata": {},
   "outputs": [],
   "source": [
    "p4L = np.nanmean(new1[909:1148])\n",
    "p4R = np.nanmean(new3[909:1148])"
   ]
  },
  {
   "cell_type": "code",
   "execution_count": 77,
   "metadata": {},
   "outputs": [],
   "source": [
    "p5L = np.nanmean(new1[1224:1455])\n",
    "p5R = np.nanmean(new3[1224:1455])"
   ]
  },
  {
   "cell_type": "code",
   "execution_count": 78,
   "metadata": {},
   "outputs": [],
   "source": [
    "p6L = np.nanmean(new1[1519:1737])\n",
    "p6R = np.nanmean(new3[1519:1737])"
   ]
  },
  {
   "cell_type": "code",
   "execution_count": 79,
   "metadata": {},
   "outputs": [],
   "source": [
    "p7L = np.nanmean(new1[1823:2143])\n",
    "p7R = np.nanmean(new3[1823:2143])"
   ]
  },
  {
   "cell_type": "code",
   "execution_count": 80,
   "metadata": {},
   "outputs": [],
   "source": [
    "p8L = np.nanmean(new1[2205:2459])\n",
    "p8R = np.nanmean(new3[2205:2459])"
   ]
  },
  {
   "cell_type": "code",
   "execution_count": 81,
   "metadata": {},
   "outputs": [],
   "source": [
    "p9L = np.nanmean(new1[2522:2767])\n",
    "p9R = np.nanmean(new3[2522:2767])"
   ]
  },
  {
   "cell_type": "code",
   "execution_count": 83,
   "metadata": {},
   "outputs": [
    {
     "name": "stdout",
     "output_type": "stream",
     "text": [
      "3.8506109814814815 3.6134462250000006\n",
      "4.028366239285714 3.8018666107142867\n",
      "3.9883393490196073 3.78572034117647\n",
      "3.7299171380753138 3.5661815899581586\n",
      "3.368533090909091 3.341062705627705\n",
      "3.707476660550459 3.6094861009174313\n",
      "3.557738593059937 3.4585657255520506\n",
      "3.7463860866141734 3.777062062992126\n",
      "3.585454510204082 3.6866330775510208\n"
     ]
    }
   ],
   "source": [
    "print(p1L, p1R)\n",
    "print(p2L, p2R)\n",
    "print(p3L, p3R)\n",
    "print(p4L, p4R)\n",
    "print(p5L, p5R)\n",
    "print(p6L, p6R)\n",
    "print(p7L, p7R)\n",
    "print(p8L, p8R)\n",
    "print(p9L, p9R)\n"
   ]
  },
  {
   "cell_type": "code",
   "execution_count": 68,
   "metadata": {},
   "outputs": [
    {
     "data": {
      "text/plain": [
       "2327"
      ]
     },
     "execution_count": 68,
     "metadata": {},
     "output_type": "execute_result"
    }
   ],
   "source": [
    "np.size(new4)"
   ]
  },
  {
   "cell_type": "code",
   "execution_count": null,
   "metadata": {},
   "outputs": [],
   "source": []
  }
 ],
 "metadata": {
  "kernelspec": {
   "display_name": "Python 3",
   "language": "python",
   "name": "python3"
  },
  "language_info": {
   "codemirror_mode": {
    "name": "ipython",
    "version": 3
   },
   "file_extension": ".py",
   "mimetype": "text/x-python",
   "name": "python",
   "nbconvert_exporter": "python",
   "pygments_lexer": "ipython3",
   "version": "3.6.4"
  }
 },
 "nbformat": 4,
 "nbformat_minor": 2
}
