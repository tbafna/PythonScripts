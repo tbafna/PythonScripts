{
 "cells": [
  {
   "cell_type": "code",
   "execution_count": 1,
   "metadata": {},
   "outputs": [],
   "source": [
    "%matplotlib inline\n",
    "import numpy as np\n",
    "import re"
   ]
  },
  {
   "cell_type": "code",
   "execution_count": 2,
   "metadata": {},
   "outputs": [],
   "source": [
    "folderName = r'\\\\dtu-storage\\taba\\Documents\\Conferences\\Rehabilitation exhibition\\Danish phrases'\n",
    "fileName = r'default_phrases_danish_withCapitalLetters'\n",
    "\n",
    "try:\n",
    "    with open(folderName + '\\\\' + fileName + '.txt', encoding='utf-8', mode = 'r') as fr:\n",
    "        textIn = fr.read()\n",
    "except:\n",
    "    print('Error in finding or opening the file')"
   ]
  },
  {
   "cell_type": "code",
   "execution_count": 3,
   "metadata": {},
   "outputs": [],
   "source": [
    "# convert all to lower letters and save the file as phrases to be used.\n",
    "textOutLower = textIn.lower()\n",
    "\n",
    "with open(folderName+'\\\\' + fileName + 'woCaps.txt', encoding='utf-8', mode='w+') as fw:\n",
    "    fw.write(textOutLower)\n",
    "    fw.seek(0)"
   ]
  },
  {
   "cell_type": "code",
   "execution_count": 4,
   "metadata": {},
   "outputs": [],
   "source": [
    "textOutNewLine = re.sub(' ', '\\n', textOutLower)"
   ]
  },
  {
   "cell_type": "code",
   "execution_count": 5,
   "metadata": {},
   "outputs": [],
   "source": [
    "textOutList = textOutNewLine.splitlines()"
   ]
  },
  {
   "cell_type": "code",
   "execution_count": 6,
   "metadata": {},
   "outputs": [],
   "source": [
    "textOutNoDuplicates = list(set(textOutList))"
   ]
  },
  {
   "cell_type": "code",
   "execution_count": 7,
   "metadata": {},
   "outputs": [],
   "source": [
    "with open(folderName+'\\\\exp2AddToDictdictionaryAdd.txt', encoding='utf-8', mode='w+') as fw:\n",
    "    fw.write(\"\\n\".join(textOutNoDuplicates))\n",
    "    fw.seek(0)"
   ]
  },
  {
   "cell_type": "code",
   "execution_count": null,
   "metadata": {},
   "outputs": [],
   "source": [
    "with open(folderName)"
   ]
  }
 ],
 "metadata": {
  "kernelspec": {
   "display_name": "Python 3",
   "language": "python",
   "name": "python3"
  },
  "language_info": {
   "codemirror_mode": {
    "name": "ipython",
    "version": 3
   },
   "file_extension": ".py",
   "mimetype": "text/x-python",
   "name": "python",
   "nbconvert_exporter": "python",
   "pygments_lexer": "ipython3",
   "version": "3.6.4"
  }
 },
 "nbformat": 4,
 "nbformat_minor": 2
}
