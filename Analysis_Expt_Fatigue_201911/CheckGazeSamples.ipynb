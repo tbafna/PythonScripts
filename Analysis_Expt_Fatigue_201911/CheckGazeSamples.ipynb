{
 "cells": [
  {
   "cell_type": "code",
   "execution_count": 1,
   "metadata": {},
   "outputs": [],
   "source": [
    "#%matplotlib inline\n",
    "#%matplotlib qt\n",
    "import os\n",
    "import csv\n",
    "import numpy as np\n",
    "import fnmatch\n",
    "from pathlib import Path\n",
    "import pandas as pd\n",
    "import xlrd\n",
    "import matplotlib.pyplot as plt\n",
    "from scipy import stats \n",
    "import statsmodels\n",
    "from statsmodels.graphics.gofplots import qqplot\n",
    "import pickle\n",
    "from itertools import *\n",
    "from operator import *\n",
    "\n",
    "import itertools\n",
    "from scipy import signal"
   ]
  },
  {
   "cell_type": "code",
   "execution_count": 23,
   "metadata": {},
   "outputs": [
    {
     "name": "stdout",
     "output_type": "stream",
     "text": [
      "C:\\DTU\\Data\\201911_StudentsFatigue\\Data\\perla\\Tobii\\Tobii Export Data\\Data Export - perla\\perla Recording003.xlsx\n",
      "74.75077265018103\n",
      "C:\\DTU\\Data\\201911_StudentsFatigue\\Data\\perla\\Tobii\\Tobii Export Data\\Data Export - perla\\perla Recording009.xlsx\n",
      "80.38932457813016\n"
     ]
    }
   ],
   "source": [
    "dataFolderName = r\"C:\\DTU\\Data\\201911_StudentsFatigue\\Data\\perla\\Tobii\\Tobii Export Data\\Data Export - perla\"\n",
    "\n",
    "#df_data = pd.read_excel(filePath_PythonData)\n",
    "for files in os.walk(dataFolderName):\n",
    "    for file in files[2]:\n",
    "        fileName = dataFolderName + '\\\\' + file\n",
    "        print(fileName)\n",
    "        df_data = pd.read_excel(fileName)\n",
    "        print(((1-df_data['Pupil diameter right'].isna().sum()/len(df_data['Pupil diameter right'].tolist()))*100 + \\\n",
    "                (1-df_data['Pupil diameter left'].isna().sum()/len(df_data['Pupil diameter left'].tolist()))*100)/2)"
   ]
  },
  {
   "cell_type": "code",
   "execution_count": 17,
   "metadata": {},
   "outputs": [
    {
     "data": {
      "text/plain": [
       "Index(['Recording timestamp', 'Computer timestamp', 'Sensor', 'Gaze point X',\n",
       "       'Gaze point Y', 'Gaze point 3D X', 'Gaze point 3D Y', 'Gaze point 3D Z',\n",
       "       'Gaze direction left X', 'Gaze direction left Y',\n",
       "       'Gaze direction left Z', 'Gaze direction right X',\n",
       "       'Gaze direction right Y', 'Gaze direction right Z',\n",
       "       'Pupil position left X', 'Pupil position left Y',\n",
       "       'Pupil position left Z', 'Pupil position right X',\n",
       "       'Pupil position right Y', 'Pupil position right Z',\n",
       "       'Pupil diameter left', 'Pupil diameter right', 'Validity left',\n",
       "       'Validity right'],\n",
       "      dtype='object')"
      ]
     },
     "execution_count": 17,
     "metadata": {},
     "output_type": "execute_result"
    }
   ],
   "source": [
    "df_data.columns"
   ]
  }
 ],
 "metadata": {
  "kernelspec": {
   "display_name": "Python 3",
   "language": "python",
   "name": "python3"
  },
  "language_info": {
   "codemirror_mode": {
    "name": "ipython",
    "version": 3
   },
   "file_extension": ".py",
   "mimetype": "text/x-python",
   "name": "python",
   "nbconvert_exporter": "python",
   "pygments_lexer": "ipython3",
   "version": "3.7.3"
  }
 },
 "nbformat": 4,
 "nbformat_minor": 2
}
