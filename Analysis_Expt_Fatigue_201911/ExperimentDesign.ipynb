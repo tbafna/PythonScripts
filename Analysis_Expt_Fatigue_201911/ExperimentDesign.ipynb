{
 "cells": [
  {
   "cell_type": "code",
   "execution_count": 1,
   "metadata": {},
   "outputs": [],
   "source": [
    "import random\n",
    "import pandas as pd"
   ]
  },
  {
   "cell_type": "markdown",
   "metadata": {},
   "source": [
    "# Create randomized list of each of the combinations"
   ]
  },
  {
   "cell_type": "code",
   "execution_count": 2,
   "metadata": {},
   "outputs": [
    {
     "name": "stdout",
     "output_type": "stream",
     "text": [
      "1 [8, 10, 9, 11]\n",
      "2 [9, 7, 10, 12]\n",
      "3 [12, 8, 7, 11]\n",
      "4 [11, 12, 9, 6]\n"
     ]
    }
   ],
   "source": [
    "dict_codes = dict()\n",
    "\n",
    "list1 = [8,9,10,11]\n",
    "random.shuffle(list1)\n",
    "print('1', list1)\n",
    "dict_codes['1'] = list1\n",
    "\n",
    "list2 = [7,9,10,12]\n",
    "random.shuffle(list2)\n",
    "print('2', list2)\n",
    "dict_codes['2'] = list2\n",
    "\n",
    "list3 = [7,8,11,12]\n",
    "random.shuffle(list3)\n",
    "print('3', list3)\n",
    "dict_codes['3'] = list3\n",
    "\n",
    "list4 = [6,9,11,12]\n",
    "random.shuffle(list4)\n",
    "print('4', list4)\n",
    "dict_codes['4'] = list4"
   ]
  },
  {
   "cell_type": "code",
   "execution_count": 8,
   "metadata": {},
   "outputs": [],
   "source": [
    "P1_code = '4'\n",
    "P2_code = '2'"
   ]
  },
  {
   "cell_type": "markdown",
   "metadata": {},
   "source": [
    "# Now we select words from the lists, with the codes for P1(part1) and P2(part2), given above"
   ]
  },
  {
   "cell_type": "code",
   "execution_count": 9,
   "metadata": {},
   "outputs": [],
   "source": [
    "file_easy = r'M:\\Documents\\Experiment design\\Experiment_studentsFatigue2019\\Words\\Final\\easy.xlsx'\n",
    "\n",
    "df_easy = pd.read_excel(file_easy, header=None)\n",
    "df_easy.columns = ['word', 'length']"
   ]
  },
  {
   "cell_type": "code",
   "execution_count": 10,
   "metadata": {},
   "outputs": [],
   "source": [
    "file_difficult = r'M:\\Documents\\Experiment design\\Experiment_studentsFatigue2019\\Words\\Final\\difficult.xlsx'\n",
    "\n",
    "df_difficult = pd.read_excel(file_difficult, header=None)\n",
    "df_difficult.columns = ['word', 'length']"
   ]
  },
  {
   "cell_type": "markdown",
   "metadata": {},
   "source": [
    "# P1"
   ]
  },
  {
   "cell_type": "code",
   "execution_count": 11,
   "metadata": {},
   "outputs": [
    {
     "name": "stdout",
     "output_type": "stream",
     "text": [
      "For part 1-------\n",
      "Easy words-------\n",
      "['forskellige', 'interesseret', 'alvorligt', 'vælger']\n",
      "Difficult words--\n",
      "['Halsstarrig', 'Sporenstregs', 'Trættekær', 'Tvætte']\n"
     ]
    }
   ],
   "source": [
    "P1_difficult_list = list()\n",
    "P1_easy_list = list()\n",
    "\n",
    "for wordLen in dict_codes[P1_code]:\n",
    "    #difficult\n",
    "    df_difficult_wordLen = df_difficult[df_difficult.length==wordLen]\n",
    "    \n",
    "    word_difficult = df_difficult_wordLen.sample().word.tolist()[0]\n",
    "    \n",
    "    \n",
    "    df_difficult = df_difficult[df_difficult.word != word_difficult]\n",
    "    P1_difficult_list.append(word_difficult)\n",
    "    \n",
    "    # easy\n",
    "    df_easy_wordLen = df_easy[df_easy.length==wordLen]\n",
    "    \n",
    "    word_easy = df_easy_wordLen.sample().word.tolist()[0]\n",
    "    \n",
    "    \n",
    "    df_easy = df_easy[df_easy.word != word_easy]\n",
    "    P1_easy_list.append(word_easy)\n",
    "    \n",
    "    \n",
    "print('For part 1-------')\n",
    "print('Easy words-------')\n",
    "print(P1_easy_list)\n",
    "print('Difficult words--')\n",
    "print(P1_difficult_list)"
   ]
  },
  {
   "cell_type": "code",
   "execution_count": 12,
   "metadata": {},
   "outputs": [
    {
     "name": "stdout",
     "output_type": "stream",
     "text": [
      "For part 2-------\n",
      "Easy words-------\n",
      "['fortæller', 'brænder', 'præsentere', 'selvfølgelig']\n",
      "Difficult words--\n",
      "['Ufortøvet', 'Kanalje', 'Vindbøjtel', 'Dosmerseddel\\xa0\\xa0\\xa0\\xa0\\xa0\\xa0\\xa0\\xa0\\xa0']\n"
     ]
    }
   ],
   "source": [
    "P2_difficult_list = list()\n",
    "P2_easy_list = list()\n",
    "\n",
    "for wordLen in dict_codes[P2_code]:\n",
    "    #difficult\n",
    "    df_difficult_wordLen = df_difficult[df_difficult.length==wordLen]\n",
    "    \n",
    "    word_difficult = df_difficult_wordLen.sample().word.tolist()[0]\n",
    "    \n",
    "    \n",
    "    df_difficult = df_difficult[df_difficult.word != word_difficult]\n",
    "    P2_difficult_list.append(word_difficult)\n",
    "    \n",
    "    \n",
    "    # easy\n",
    "    df_easy_wordLen = df_easy[df_easy.length==wordLen]\n",
    "    \n",
    "    word_easy = df_easy_wordLen.sample().word.tolist()[0]\n",
    "    \n",
    "    \n",
    "    df_easy = df_easy[df_easy.word != word_easy]\n",
    "    P2_easy_list.append(word_easy)\n",
    "    \n",
    "    \n",
    "print('For part 2-------')\n",
    "print('Easy words-------')\n",
    "print(P2_easy_list)\n",
    "print('Difficult words--')\n",
    "print(P2_difficult_list)"
   ]
  },
  {
   "cell_type": "code",
   "execution_count": null,
   "metadata": {},
   "outputs": [],
   "source": []
  }
 ],
 "metadata": {
  "kernelspec": {
   "display_name": "Python 3",
   "language": "python",
   "name": "python3"
  },
  "language_info": {
   "codemirror_mode": {
    "name": "ipython",
    "version": 3
   },
   "file_extension": ".py",
   "mimetype": "text/x-python",
   "name": "python",
   "nbconvert_exporter": "python",
   "pygments_lexer": "ipython3",
   "version": "3.7.3"
  }
 },
 "nbformat": 4,
 "nbformat_minor": 2
}
