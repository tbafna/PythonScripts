{
 "cells": [
  {
   "cell_type": "code",
   "execution_count": 1,
   "metadata": {},
   "outputs": [],
   "source": [
    "import os\n",
    "import pandas as pd\n",
    "import numpy as np\n",
    "import matplotlib.pyplot as plt\n",
    "%matplotlib qt\n"
   ]
  },
  {
   "cell_type": "code",
   "execution_count": 2,
   "metadata": {},
   "outputs": [
    {
     "name": "stdout",
     "output_type": "stream",
     "text": [
      "1:  C:\\DTU\\Data\\201911_StudentsFatigue\\Data\\ABSH\\ANT\\ABSH_1 - 2019-11-13 - Data.csv\n",
      "2:  C:\\DTU\\Data\\201911_StudentsFatigue\\Data\\ABSH\\ANT\\ABSH_2 - 2019-11-13 - Data.csv\n",
      "1:  C:\\DTU\\Data\\201911_StudentsFatigue\\Data\\AW\\ANT\\aw_1 - 2019-11-12 - Data.csv\n",
      "2:  C:\\DTU\\Data\\201911_StudentsFatigue\\Data\\AW\\ANT\\aw_2 - 2019-11-12 - Data.csv\n",
      "1:  C:\\DTU\\Data\\201911_StudentsFatigue\\Data\\CBK\\ANT\\CBK_1 - 2019-11-08 - Data.csv\n",
      "2:  C:\\DTU\\Data\\201911_StudentsFatigue\\Data\\CBK\\ANT\\cbk_2 - 2019-11-08 - Data.csv\n",
      "2:  C:\\DTU\\Data\\201911_StudentsFatigue\\Data\\CBK\\ANT\\cbk_3 - 2019-11-08 - Data.csv\n",
      "2:  C:\\DTU\\Data\\201911_StudentsFatigue\\Data\\CBK\\ANT\\cbk_4 - 2019-11-08 - Data.csv\n",
      "1:  C:\\DTU\\Data\\201911_StudentsFatigue\\Data\\cet\\ANT\\CET_1 - 2019-11-11 - Data.csv\n",
      "2:  C:\\DTU\\Data\\201911_StudentsFatigue\\Data\\cet\\ANT\\CET_2 - 2019-11-11 - Data.csv\n",
      "2:  C:\\DTU\\Data\\201911_StudentsFatigue\\Data\\cet\\p1\\ANT\\CET - 2019-11-11 - Data.csv\n",
      "1:  C:\\DTU\\Data\\201911_StudentsFatigue\\Data\\Jph\\ANT\\jph_1 - 2019-11-13 - Data.csv\n",
      "1:  C:\\DTU\\Data\\201911_StudentsFatigue\\Data\\RBB\\ANT\\RBB_1 - 2019-11-14 - Data.csv\n",
      "1:  C:\\DTU\\Data\\201911_StudentsFatigue\\Data\\RRN\\ANT\\RNN_1 - 2019-11-15 - Data.csv\n",
      "2:  C:\\DTU\\Data\\201911_StudentsFatigue\\Data\\RRN\\ANT\\RNN_2 - 2019-11-15 - Data.csv\n"
     ]
    }
   ],
   "source": [
    "dataFolderName = r'C:\\DTU\\Data\\201911_StudentsFatigue\\Data'\n",
    "\n",
    "for root, dirs, subfolder in os.walk(dataFolderName):\n",
    "    if not dirs:\n",
    "        \n",
    "        if 'ANT' not in root:\n",
    "            continue\n",
    "            \n",
    "        for file in subfolder:\n",
    "            if 'Summary' not in file:\n",
    "                fileName = root + '\\\\' + file\n",
    "                \n",
    "                if '_1' in file:\n",
    "                    df_p1 = pd.read_csv(fileName)\n",
    "                    print('1: ', fileName)\n",
    "                else:\n",
    "                    df_p2 = pd.read_csv(fileName)\n",
    "                    print('2: ', fileName)\n",
    "                    \n",
    "                "
   ]
  },
  {
   "cell_type": "markdown",
   "metadata": {},
   "source": [
    "# Reaction time"
   ]
  },
  {
   "cell_type": "markdown",
   "metadata": {},
   "source": [
    "### Mean reaction time"
   ]
  },
  {
   "cell_type": "code",
   "execution_count": 3,
   "metadata": {},
   "outputs": [
    {
     "data": {
      "text/plain": [
       "Text(0.5, 1.0, 'Total reaction time')"
      ]
     },
     "execution_count": 3,
     "metadata": {},
     "output_type": "execute_result"
    },
    {
     "data": {
      "image/png": "[encoded data removed]",
      "text/plain": [
       "<Figure size 432x288 with 1 Axes>"
      ]
     },
     "metadata": {
      "needs_background": "light"
     },
     "output_type": "display_data"
    }
   ],
   "source": [
    "rtMean_p1 = df_p1.RT.mean()\n",
    "rtStd_p1 = df_p1.RT.std()\n",
    "\n",
    "rtMean_p2 = df_p2.RT.mean()\n",
    "rtStd_p2 = df_p2.RT.std()\n",
    "\n",
    "plt.bar([1,2], [rtMean_p1, rtMean_p2], yerr = [rtStd_p1, rtStd_p2])\n",
    "plt.xticks([1,2], ['Test1', 'Test2'])\n",
    "plt.ylabel('Total reaction time')\n",
    "plt.title('Total reaction time')\n"
   ]
  },
  {
   "cell_type": "markdown",
   "metadata": {},
   "source": [
    "### Conflicting"
   ]
  },
  {
   "cell_type": "code",
   "execution_count": 4,
   "metadata": {},
   "outputs": [
    {
     "data": {
      "text/plain": [
       "Text(0.5, 1.0, 'Conflicting reaction time')"
      ]
     },
     "execution_count": 4,
     "metadata": {},
     "output_type": "execute_result"
    },
    {
     "data": {
      "image/png": "[encoded data removed]",
      "text/plain": [
       "<Figure size 432x288 with 1 Axes>"
      ]
     },
     "metadata": {
      "needs_background": "light"
     },
     "output_type": "display_data"
    }
   ],
   "source": [
    "rtMean_congruent_p1 = df_p1.RT[df_p1.Congruency=='congruent'].mean()\n",
    "rtMean_incongruent_p1 = df_p1.RT[df_p1.Congruency=='incongruent'].mean()\n",
    "\n",
    "rtMean_congruent_p1 = df_p1.RT[df_p1.Congruency=='congruent'].mean()\n",
    "rtMean_incongruent_p1 = df_p1.RT[df_p1.Congruency=='incongruent'].mean()\n",
    "\n",
    "RTMean_conflicting_p1 = rtMean_incongruent_p1 - rtMean_congruent_p1\n",
    "\n",
    "\n",
    "rtMean_congruent_p2 = df_p2.RT[df_p2.Congruency=='congruent'].mean()\n",
    "rtMean_incongruent_p2 = df_p2.RT[df_p2.Congruency=='incongruent'].mean()\n",
    "RTMean_conflicting_p2 = rtMean_incongruent_p2 - rtMean_congruent_p2\n",
    "\n",
    "\n",
    "\n",
    "\n",
    "plt.figure()\n",
    "plt.bar([1,2], [RTMean_conflicting_p1, RTMean_conflicting_p2])\n",
    "plt.xticks([1,2], ['Test1', 'Test2', 'Test3', 'Test4'])\n",
    "plt.ylabel('Conflicting reaction time')\n",
    "plt.title('Conflicting reaction time')"
   ]
  },
  {
   "cell_type": "markdown",
   "metadata": {},
   "source": [
    "### Orienting"
   ]
  },
  {
   "cell_type": "code",
   "execution_count": 17,
   "metadata": {},
   "outputs": [
    {
     "data": {
      "text/plain": [
       "Text(0.5, 1.0, 'Orienting reaction time')"
      ]
     },
     "execution_count": 17,
     "metadata": {},
     "output_type": "execute_result"
    }
   ],
   "source": [
    "rtMean_center_p1 = df_p1.RT[df_p1.CueType==2].mean()\n",
    "rtMean_spatial_p1 = df_p1.RT[df_p1.CueType==4].mean()\n",
    "\n",
    "RTMean_orienting_p1 = rtMean_center_p1 - rtMean_spatial_p1\n",
    "\n",
    "rtMean_center_p2 = df_p2.RT[df_p2.CueType==2].mean()\n",
    "rtMean_spatial_p2 = df_p2.RT[df_p2.CueType==4].mean()\n",
    "\n",
    "RTMean_orienting_p2 = rtMean_center_p2 - rtMean_spatial_p2\n",
    "\n",
    "plt.figure()\n",
    "plt.bar([1,2], [RTMean_orienting_p1, RTMean_orienting_p2])\n",
    "plt.xticks([1,2], ['Test1', 'Test2'])\n",
    "plt.ylabel('Orienting reaction time')\n",
    "plt.title('Orienting reaction time')"
   ]
  },
  {
   "cell_type": "markdown",
   "metadata": {},
   "source": [
    "### Alerting"
   ]
  },
  {
   "cell_type": "code",
   "execution_count": 20,
   "metadata": {},
   "outputs": [
    {
     "data": {
      "text/plain": [
       "Text(0.5, 1.0, 'Alerting reaction time')"
      ]
     },
     "execution_count": 20,
     "metadata": {},
     "output_type": "execute_result"
    }
   ],
   "source": [
    "rtMean_noCue_p1 = df_p1.RT[df_p1.CueType==1].mean()\n",
    "rtMean_doubleCue_p1 = df_p1.RT[df_p1.CueType==3].mean()\n",
    "RTMean_alerting_p1 = rtMean_noCue_p1 - rtMean_doubleCue_p1\n",
    "\n",
    "\n",
    "rtMean_noCue_p2 = df_p2.RT[df_p2.CueType==1].mean()\n",
    "rtMean_doubleCue_p2 = df_p2.RT[df_p2.CueType==3].mean()\n",
    "RTMean_alerting_p2 = rtMean_noCue_p2 - rtMean_doubleCue_p2\n",
    "\n",
    "plt.figure()\n",
    "plt.bar([1,2], [RTMean_alerting_p1, RTMean_alerting_p2])\n",
    "plt.xticks([1,2], ['Test1', 'Test2'])\n",
    "plt.ylabel('Alerting reaction time')\n",
    "plt.title('Alerting reaction time')\n"
   ]
  },
  {
   "cell_type": "markdown",
   "metadata": {},
   "source": [
    "# Accuracy"
   ]
  },
  {
   "cell_type": "markdown",
   "metadata": {},
   "source": [
    "### Congruency"
   ]
  },
  {
   "cell_type": "code",
   "execution_count": 22,
   "metadata": {},
   "outputs": [
    {
     "data": {
      "text/plain": [
       "<matplotlib.legend.Legend at 0x21a213dab00>"
      ]
     },
     "execution_count": 22,
     "metadata": {},
     "output_type": "execute_result"
    }
   ],
   "source": [
    "accuracy_congruent_p1 = df_p1.Correct[np.logical_and(df_p1.Correct==1, df_p1.Congruency=='congruent')].count()/len(df_p1[df_p1.Congruency=='congruent'])\n",
    "accuracy_incongruent_p1 = df_p1.RT[np.logical_and(df_p1.Correct==1, df_p1.Congruency=='incongruent')].count()/len(df_p1[df_p1.Congruency=='congruent'])\n",
    "\n",
    "\n",
    "accuracy_congruent_p2 = df_p2.RT[np.logical_and(df_p2.Correct==1, df_p2.Congruency=='congruent')].count()/len(df_p2[df_p2.Congruency=='congruent'])\n",
    "accuracy_incongruent_p2 = df_p2.RT[np.logical_and(df_p2.Correct==1, df_p2.Congruency=='incongruent')].count()/len(df_p2[df_p2.Congruency=='congruent'])\n",
    "\n",
    "\n",
    "\n",
    "plt.figure()\n",
    "plt.bar([1,2], [accuracy_congruent_p1, accuracy_congruent_p2], width=0.4, label = 'congruent')\n",
    "\n",
    "plt.bar([1.5, 2.5], [accuracy_incongruent_p1, accuracy_incongruent_p2], width=0.4, label = 'incongruent')\n",
    "plt.xticks([1.25,2.25], ['Test1', 'Test2'])\n",
    "plt.ylabel('Accuracy')\n",
    "plt.title('Accuracy')\n",
    "plt.legend()"
   ]
  },
  {
   "cell_type": "code",
   "execution_count": null,
   "metadata": {},
   "outputs": [],
   "source": []
  }
 ],
 "metadata": {
  "kernelspec": {
   "display_name": "Python 3",
   "language": "python",
   "name": "python3"
  },
  "language_info": {
   "codemirror_mode": {
    "name": "ipython",
    "version": 3
   },
   "file_extension": ".py",
   "mimetype": "text/x-python",
   "name": "python",
   "nbconvert_exporter": "python",
   "pygments_lexer": "ipython3",
   "version": "3.7.3"
  }
 },
 "nbformat": 4,
 "nbformat_minor": 2
}
