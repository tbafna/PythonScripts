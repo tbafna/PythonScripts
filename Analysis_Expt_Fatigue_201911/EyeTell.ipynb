{
 "cells": [
  {
   "cell_type": "code",
   "execution_count": 18,
   "metadata": {},
   "outputs": [],
   "source": [
    "import os\n",
    "import pandas as pd\n",
    "import numpy as np\n",
    "import matplotlib.pyplot as plt\n",
    "%matplotlib qt"
   ]
  },
  {
   "cell_type": "code",
   "execution_count": 71,
   "metadata": {
    "scrolled": true
   },
   "outputs": [
    {
     "name": "stdout",
     "output_type": "stream",
     "text": [
      "C:\\DTU\\Data\\201911_StudentsFatigue\\Data\\AW\\EyeTell\\P1\n",
      "8 4 28.5 1.6842105263157894\n",
      "C:\\DTU\\Data\\201911_StudentsFatigue\\Data\\AW\\EyeTell\\P1\n",
      "15 13 74.9 2.082777036048064\n",
      "C:\\DTU\\Data\\201911_StudentsFatigue\\Data\\AW\\EyeTell\\P1\n",
      "6 4 37.06666666666667 1.2949640287769784\n",
      "C:\\DTU\\Data\\201911_StudentsFatigue\\Data\\AW\\EyeTell\\P1\n",
      "5 3 18.533333333333335 1.9424460431654675\n",
      "C:\\DTU\\Data\\201911_StudentsFatigue\\Data\\AW\\EyeTell\\P1\n",
      "45 37 208.76666666666668 2.126776305285007\n",
      "C:\\DTU\\Data\\201911_StudentsFatigue\\Data\\AW\\EyeTell\\P1\n",
      "85 59 418.3333333333333 1.6924302788844623\n",
      "C:\\DTU\\Data\\201911_StudentsFatigue\\Data\\AW\\EyeTell\\P2\n",
      "85 59 418.3333333333333 1.6924302788844623\n",
      "C:\\DTU\\Data\\201911_StudentsFatigue\\Data\\AW\\EyeTell\\P2\n",
      "85 59 418.3333333333333 1.6924302788844623\n",
      "C:\\DTU\\Data\\201911_StudentsFatigue\\Data\\cet\\EyeTell\\P1\n",
      "9 5 38.53333333333333 1.5570934256055364\n",
      "C:\\DTU\\Data\\201911_StudentsFatigue\\Data\\cet\\EyeTell\\P1\n",
      "54 37 267.6 1.6591928251121075\n",
      "C:\\DTU\\Data\\201911_StudentsFatigue\\Data\\cet\\EyeTell\\P1\n",
      "10 6 45.166666666666664 1.5940959409594098\n",
      "C:\\DTU\\Data\\201911_StudentsFatigue\\Data\\cet\\EyeTell\\P1\n",
      "101 80 439.46666666666664 2.184466019417476\n",
      "C:\\DTU\\Data\\201911_StudentsFatigue\\Data\\cet\\EyeTell\\P2\n",
      "101 80 439.46666666666664 2.184466019417476\n",
      "C:\\DTU\\Data\\201911_StudentsFatigue\\Data\\cet\\EyeTell\\P2\n",
      "101 80 439.46666666666664 2.184466019417476\n",
      "C:\\DTU\\Data\\201911_StudentsFatigue\\Data\\cet\\EyeTell\\P2\n",
      "101 80 439.46666666666664 2.184466019417476\n",
      "C:\\DTU\\Data\\201911_StudentsFatigue\\Data\\cet\\EyeTell\\P2\n",
      "101 80 439.46666666666664 2.184466019417476\n",
      "C:\\DTU\\Data\\201911_StudentsFatigue\\Data\\LM\\EyeTell\\P1\n",
      "27 19 147.23333333333332 1.5485623726511208\n",
      "C:\\DTU\\Data\\201911_StudentsFatigue\\Data\\LM\\EyeTell\\P1\n",
      "14 11 86.2 1.531322505800464\n",
      "C:\\DTU\\Data\\201911_StudentsFatigue\\Data\\LM\\EyeTell\\P1\n",
      "10 7 63.666666666666664 1.3193717277486912\n",
      "C:\\DTU\\Data\\201911_StudentsFatigue\\Data\\LM\\EyeTell\\P1\n",
      "41 24 268.2 1.0738255033557047\n",
      "C:\\DTU\\Data\\201911_StudentsFatigue\\Data\\LM\\EyeTell\\P1\n",
      "35 25 188.63333333333333 1.590386994168581\n",
      "C:\\DTU\\Data\\201911_StudentsFatigue\\Data\\LM\\EyeTell\\P2\n",
      "35 25 188.63333333333333 1.590386994168581\n",
      "C:\\DTU\\Data\\201911_StudentsFatigue\\Data\\LM\\EyeTell\\P2\n",
      "35 25 188.63333333333333 1.590386994168581\n",
      "C:\\DTU\\Data\\201911_StudentsFatigue\\Data\\LM\\EyeTell\\P2\n",
      "35 25 188.63333333333333 1.590386994168581\n",
      "C:\\DTU\\Data\\201911_StudentsFatigue\\Data\\RBB\\EyeTell\\P1\n",
      "9 4 54.6 0.8791208791208791\n",
      "C:\\DTU\\Data\\201911_StudentsFatigue\\Data\\RBB\\EyeTell\\P1\n",
      "44 34 202.03333333333333 2.0194687345322553\n",
      "C:\\DTU\\Data\\201911_StudentsFatigue\\Data\\RBB\\EyeTell\\P1\n",
      "12 10 51.2 2.34375\n",
      "C:\\DTU\\Data\\201911_StudentsFatigue\\Data\\RBB\\EyeTell\\P1\n",
      "43 28 210.4 1.596958174904943\n",
      "C:\\DTU\\Data\\201911_StudentsFatigue\\Data\\RBB\\EyeTell\\P1\n",
      "47 37 214.56666666666666 2.069286934907566\n",
      "C:\\DTU\\Data\\201911_StudentsFatigue\\Data\\RBB\\EyeTell\\P2\n",
      "47 37 214.56666666666666 2.069286934907566\n",
      "C:\\DTU\\Data\\201911_StudentsFatigue\\Data\\RBB\\EyeTell\\P2\n",
      "47 37 214.56666666666666 2.069286934907566\n",
      "C:\\DTU\\Data\\201911_StudentsFatigue\\Data\\RRN\\EyeTell\\P1\n",
      "114 82 600.7666666666667 1.6379071186816847\n",
      "C:\\DTU\\Data\\201911_StudentsFatigue\\Data\\RRN\\EyeTell\\P1\n",
      "107 85 546.6666666666666 1.8658536585365855\n",
      "C:\\DTU\\Data\\201911_StudentsFatigue\\Data\\RRN\\EyeTell\\P2\n",
      "107 85 546.6666666666666 1.8658536585365855\n",
      "C:\\DTU\\Data\\201911_StudentsFatigue\\Data\\RRN\\EyeTell\\P2\n",
      "107 85 546.6666666666666 1.8658536585365855\n"
     ]
    }
   ],
   "source": [
    "dataFolderName = r'C:\\DTU\\Data\\201911_StudentsFatigue\\Data'\n",
    "\n",
    "typingSpeed_p1,typingSpeed_p2 = list(), list()\n",
    "\n",
    "for root, dirs, subfolder in os.walk(dataFolderName):\n",
    "    if not dirs:\n",
    "        if 'EyeTell' not in root or 'Videos' in root or 'ANT' in root or 'Words' in root:\n",
    "            continue\n",
    "        \n",
    "        #if 'LM' not in root:\n",
    "        #    continue\n",
    "            \n",
    "        typingSpeed_partSubject = list()\n",
    "        for file in subfolder:\n",
    "            \n",
    "            if '_meta' not in file:\n",
    "                fileName = root + '\\\\' + file\n",
    "                \n",
    "                if 'P1' in root:\n",
    "                    df_p1 = pd.read_csv(fileName)\n",
    "                else:\n",
    "                    df_p2 = pd.read_csv(fileName)\n",
    "                    \n",
    "                time = np.arange(0, len(df_p1.activated_target)/30, 1/30)\n",
    "                \n",
    "                nKeys, nCharacters = 0, 0\n",
    "                time_list = list()\n",
    "                \n",
    "                for i,v in enumerate(df_p1.activated_target):\n",
    "                    if v > 0:\n",
    "                        nKeys = nKeys + 1\n",
    "                        time_list.append(i/30)\n",
    "                        if v>5:\n",
    "                            nCharacters = nCharacters + 1\n",
    "                \n",
    "                if len(time_list) < 2:\n",
    "                    continue\n",
    "                timeTaken = time_list[-2]\n",
    "                typingSpeed = (nCharacters*60)/(timeTaken*5)\n",
    "                print(root)\n",
    "                print(nKeys, nCharacters, timeTaken, typingSpeed)\n",
    "                \n",
    "                typingSpeed_partSubject.append(typingSpeed)\n",
    "                \n",
    "                \n",
    "        if 'P1' in root:\n",
    "            typingSpeed_p1.append(np.mean(typingSpeed_partSubject))\n",
    "        else:\n",
    "            typingSpeed_p2.append(np.mean(typingSpeed_partSubject))\n",
    "        \n",
    "        \n",
    "                "
   ]
  },
  {
   "cell_type": "code",
   "execution_count": 74,
   "metadata": {},
   "outputs": [
    {
     "data": {
      "text/plain": [
       "[<matplotlib.lines.Line2D at 0x2888d5d1b38>]"
      ]
     },
     "execution_count": 74,
     "metadata": {},
     "output_type": "execute_result"
    }
   ],
   "source": [
    "plt.plot(typingSpeed_p1)\n",
    "plt.plot(typingSpeed_p2)"
   ]
  },
  {
   "cell_type": "code",
   "execution_count": 73,
   "metadata": {},
   "outputs": [
    {
     "data": {
      "text/plain": [
       "[<matplotlib.lines.Line2D at 0x288b64bc5c0>]"
      ]
     },
     "execution_count": 73,
     "metadata": {},
     "output_type": "execute_result"
    }
   ],
   "source": [
    "\n"
   ]
  },
  {
   "cell_type": "code",
   "execution_count": 69,
   "metadata": {},
   "outputs": [
    {
     "data": {
      "text/plain": [
       "[nan, nan, nan, nan, nan]"
      ]
     },
     "execution_count": 69,
     "metadata": {},
     "output_type": "execute_result"
    }
   ],
   "source": [
    "typingSpeed_p2"
   ]
  },
  {
   "cell_type": "code",
   "execution_count": null,
   "metadata": {},
   "outputs": [],
   "source": []
  }
 ],
 "metadata": {
  "kernelspec": {
   "display_name": "Python 3",
   "language": "python",
   "name": "python3"
  },
  "language_info": {
   "codemirror_mode": {
    "name": "ipython",
    "version": 3
   },
   "file_extension": ".py",
   "mimetype": "text/x-python",
   "name": "python",
   "nbconvert_exporter": "python",
   "pygments_lexer": "ipython3",
   "version": "3.7.3"
  }
 },
 "nbformat": 4,
 "nbformat_minor": 2
}
