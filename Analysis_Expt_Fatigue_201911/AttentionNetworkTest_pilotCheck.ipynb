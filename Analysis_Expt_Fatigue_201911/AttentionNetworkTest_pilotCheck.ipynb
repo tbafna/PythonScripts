{
 "cells": [
  {
   "cell_type": "code",
   "execution_count": 16,
   "metadata": {},
   "outputs": [],
   "source": [
    "import pandas as pd\n",
    "import numpy as np\n",
    "import matplotlib.pyplot as plt\n",
    "%matplotlib qt"
   ]
  },
  {
   "cell_type": "code",
   "execution_count": 15,
   "metadata": {},
   "outputs": [],
   "source": [
    "file_p1_t1 = r'C:\\DTU\\Data\\201911_StudentsFatigue\\Pilots\\Pilot_20191108\\ANT\\cbk_1 - 2019-11-08 - Data.csv'\n",
    "df_p1_t1 = pd.read_csv(file_p1_t1)\n",
    "\n",
    "file_p1_t2 = r'C:\\DTU\\Data\\201911_StudentsFatigue\\Pilots\\Pilot_20191108\\ANT\\cbk_2 - 2019-11-08 - Data.csv'\n",
    "df_p1_t2 = pd.read_csv(file_p1_t2)\n",
    "\n",
    "file_p2_t1 = r'C:\\DTU\\Data\\201911_StudentsFatigue\\Pilots\\Pilot_20191108\\ANT\\cbk_3 - 2019-11-08 - Data.csv'\n",
    "df_p2_t1 = pd.read_csv(file_p2_t1)\n",
    "\n",
    "file_p2_t2 = r'C:\\DTU\\Data\\201911_StudentsFatigue\\Pilots\\Pilot_20191108\\ANT\\cbk_4 - 2019-11-08 - Data.csv'\n",
    "df_p2_t2 = pd.read_csv(file_p2_t2)\n"
   ]
  },
  {
   "cell_type": "markdown",
   "metadata": {},
   "source": [
    "# Reaction time"
   ]
  },
  {
   "cell_type": "markdown",
   "metadata": {},
   "source": [
    "### Mean reaction time"
   ]
  },
  {
   "cell_type": "code",
   "execution_count": 86,
   "metadata": {},
   "outputs": [
    {
     "data": {
      "text/plain": [
       "Text(0.5, 1.0, 'Total reaction time')"
      ]
     },
     "execution_count": 86,
     "metadata": {},
     "output_type": "execute_result"
    }
   ],
   "source": [
    "rtMean_p1_t1 = df_p1_t1.RT.mean()\n",
    "rtMean_p1_t2 = df_p1_t2.RT.mean()\n",
    "\n",
    "rtMean_p2_t1 = df_p2_t1.RT.mean()\n",
    "rtMean_p2_t2 = df_p2_t2.RT.mean()\n",
    "\n",
    "rtStd_p1_t1 = df_p1_t1.RT.std()\n",
    "rtStd_p1_t2 = df_p1_t2.RT.std()\n",
    "\n",
    "rtStd_p2_t1 = df_p2_t1.RT.std()\n",
    "rtStd_p2_t2 = df_p2_t2.RT.std()\n",
    "\n",
    "plt.bar([1,2,3,4], [rtMean_p1_t1, rtMean_p1_t2, rtMean_p2_t1, rtMean_p2_t2], yerr = [rtStd_p1_t1, rtStd_p1_t2, rtStd_p2_t1, rtStd_p2_t2])\n",
    "plt.xticks([1,2,3,4], ['Test1', 'Test2', 'Test3', 'Test4'])\n",
    "plt.ylabel('Total reaction time')\n",
    "plt.title('Total reaction time')\n"
   ]
  },
  {
   "cell_type": "markdown",
   "metadata": {},
   "source": [
    "### Conflicting"
   ]
  },
  {
   "cell_type": "code",
   "execution_count": 87,
   "metadata": {},
   "outputs": [
    {
     "data": {
      "text/plain": [
       "Text(0.5, 1.0, 'Conflicting reaction time')"
      ]
     },
     "execution_count": 87,
     "metadata": {},
     "output_type": "execute_result"
    }
   ],
   "source": [
    "rtMean_congruent_p1_t1 = df_p1_t1.RT[df_p1_t1.Congruency=='congruent'].mean()\n",
    "rtMean_congruent_p1_t2 = df_p1_t2.RT[df_p1_t2.Congruency=='congruent'].mean()\n",
    "\n",
    "rtMean_incongruent_p1_t1 = df_p1_t1.RT[df_p1_t1.Congruency=='incongruent'].mean()\n",
    "rtMean_incongruent_p1_t2 = df_p1_t2.RT[df_p1_t2.Congruency=='incongruent'].mean()\n",
    "\n",
    "\n",
    "rtMean_congruent_p2_t1 = df_p2_t1.RT[df_p2_t1.Congruency=='congruent'].mean()\n",
    "rtMean_congruent_p2_t2 = df_p2_t2.RT[df_p2_t2.Congruency=='congruent'].mean()\n",
    "\n",
    "rtMean_incongruent_p2_t1 = df_p2_t1.RT[df_p2_t1.Congruency=='incongruent'].mean()\n",
    "rtMean_incongruent_p2_t2 = df_p2_t2.RT[df_p2_t2.Congruency=='incongruent'].mean()\n",
    "\n",
    "\n",
    "RTMean_conflicting_p1_t1 = rtMean_incongruent_p1_t1 - rtMean_congruent_p1_t1\n",
    "RTMean_conflicting_p1_t2 = rtMean_incongruent_p1_t2 - rtMean_congruent_p1_t2\n",
    "\n",
    "\n",
    "RTMean_conflicting_p2_t1 = rtMean_incongruent_p2_t1 - rtMean_congruent_p2_t1\n",
    "RTMean_conflicting_p2_t2 = rtMean_incongruent_p2_t2 - rtMean_congruent_p2_t2\n",
    "\n",
    "\n",
    "\n",
    "plt.figure()\n",
    "plt.bar([1,2,3,4], [RTMean_conflicting_p1_t1, RTMean_conflicting_p1_t2, RTMean_conflicting_p2_t1, RTMean_conflicting_p2_t2])\n",
    "plt.xticks([1,2,3,4], ['Test1', 'Test2', 'Test3', 'Test4'])\n",
    "plt.ylabel('Conflicting reaction time')\n",
    "plt.title('Conflicting reaction time')"
   ]
  },
  {
   "cell_type": "markdown",
   "metadata": {},
   "source": [
    "### Orienting"
   ]
  },
  {
   "cell_type": "code",
   "execution_count": 92,
   "metadata": {},
   "outputs": [
    {
     "data": {
      "text/plain": [
       "Text(0.5, 1.0, 'Orienting reaction time')"
      ]
     },
     "execution_count": 92,
     "metadata": {},
     "output_type": "execute_result"
    }
   ],
   "source": [
    "rtMean_center_p1_t1 = df_p1_t1.RT[df_p1_t1.CueType==2].mean()\n",
    "rtMean_center_p1_t2 = df_p1_t2.RT[df_p1_t2.CueType==2].mean()\n",
    "\n",
    "rtMean_spatial_p1_t1 = df_p1_t1.RT[df_p1_t1.CueType==4].mean()\n",
    "rtMean_spatial_p1_t2 = df_p1_t2.RT[df_p1_t2.CueType==4].mean()\n",
    "\n",
    "rtMean_center_p2_t1 = df_p2_t1.RT[df_p2_t1.CueType==2].mean()\n",
    "rtMean_center_p2_t2 = df_p2_t2.RT[df_p2_t2.CueType==2].mean()\n",
    "\n",
    "rtMean_spatial_p2_t1 = df_p2_t1.RT[df_p2_t1.CueType==4].mean()\n",
    "rtMean_spatial_p2_t2 = df_p2_t2.RT[df_p2_t2.CueType==4].mean()\n",
    "\n",
    "\n",
    "RTMean_orienting_p1_t1 = rtMean_center_p1_t1 - rtMean_spatial_p1_t1\n",
    "RT_orienting_p1_t2 = rtMean_center_p1_t2 - rtMean_spatial_p1_t2\n",
    "\n",
    "\n",
    "RTMean_orienting_p2_t1 = rtMean_center_p2_t1 - rtMean_spatial_p2_t1\n",
    "RT_orienting_p2_t2 = rtMean_center_p2_t2 - rtMean_spatial_p2_t2\n",
    "\n",
    "plt.figure()\n",
    "plt.bar([1,2,3,4], [RTMean_orienting_p1_t1, RT_orienting_p1_t2, RTMean_orienting_p2_t1, RT_orienting_p2_t2])\n",
    "plt.xticks([1,2,3,4], ['Test1', 'Test2', 'Test3', 'Test4'])\n",
    "plt.ylabel('Orienting reaction time')\n",
    "plt.title('Orienting reaction time')"
   ]
  },
  {
   "cell_type": "markdown",
   "metadata": {},
   "source": [
    "### Alerting"
   ]
  },
  {
   "cell_type": "code",
   "execution_count": 93,
   "metadata": {},
   "outputs": [
    {
     "data": {
      "text/plain": [
       "Text(0.5, 1.0, 'Alerting reaction time')"
      ]
     },
     "execution_count": 93,
     "metadata": {},
     "output_type": "execute_result"
    }
   ],
   "source": [
    "rtMean_noCue_p1_t1 = df_p1_t1.RT[df_p1_t1.CueType==1].mean()\n",
    "rtMean_noCue_p1_t2 = df_p1_t2.RT[df_p1_t2.CueType==1].mean()\n",
    "\n",
    "rtMean_doubleCue_p1_t1 = df_p1_t1.RT[df_p1_t1.CueType==3].mean()\n",
    "rtMean_doubleCue_p1_t2 = df_p1_t2.RT[df_p1_t2.CueType==3].mean()\n",
    "\n",
    "\n",
    "rtMean_noCue_p2_t1 = df_p2_t1.RT[df_p2_t1.CueType==1].mean()\n",
    "rtMean_noCue_p2_t2 = df_p2_t2.RT[df_p2_t2.CueType==1].mean()\n",
    "\n",
    "rtMean_doubleCue_p2_t1 = df_p2_t1.RT[df_p2_t1.CueType==3].mean()\n",
    "rtMean_doubleCue_p2_t2 = df_p2_t2.RT[df_p2_t2.CueType==3].mean()\n",
    "\n",
    "\n",
    "RTMean_orienting_p1_t1 = rtMean_noCue_p1_t1 - rtMean_doubleCue_p1_t1\n",
    "RT_orienting_p1_t2 = rtMean_noCue_p1_t2 - rtMean_doubleCue_p1_t2\n",
    "\n",
    "\n",
    "RTMean_orienting_p2_t1 = rtMean_noCue_p2_t1 - rtMean_doubleCue_p2_t1\n",
    "RT_orienting_p2_t2 = rtMean_noCue_p2_t2 - rtMean_doubleCue_p2_t2\n",
    "\n",
    "plt.figure()\n",
    "plt.bar([1,2,3,4], [RTMean_orienting_p1_t1, RT_orienting_p1_t2, RTMean_orienting_p2_t1, RT_orienting_p2_t2])\n",
    "plt.xticks([1,2,3,4], ['Test1', 'Test2', 'Test3', 'Test4'])\n",
    "plt.ylabel('Alerting reaction time')\n",
    "plt.title('Alerting reaction time')\n"
   ]
  },
  {
   "cell_type": "markdown",
   "metadata": {},
   "source": [
    "# Accuracy"
   ]
  },
  {
   "cell_type": "markdown",
   "metadata": {},
   "source": [
    "### Congruency"
   ]
  },
  {
   "cell_type": "code",
   "execution_count": 94,
   "metadata": {},
   "outputs": [
    {
     "data": {
      "text/plain": [
       "<matplotlib.legend.Legend at 0x1bbb8620a90>"
      ]
     },
     "execution_count": 94,
     "metadata": {},
     "output_type": "execute_result"
    }
   ],
   "source": [
    "accuracy_congruent_p1_t1 = df_p1_t1.Correct[np.logical_and(df_p1_t1.Correct==1, df_p1_t1.Congruency=='congruent')].count()/len(df_p1_t1[df_p1_t1.Congruency=='congruent'])\n",
    "accuracy_congruent_p1_t2 = df_p1_t2.RT[np.logical_and(df_p1_t2.Correct==1, df_p1_t2.Congruency=='congruent')].count()/len(df_p1_t2[df_p1_t2.Congruency=='congruent'])\n",
    "\n",
    "accuracy_incongruent_p1_t1 = df_p1_t1.RT[np.logical_and(df_p1_t1.Correct==1, df_p1_t1.Congruency=='incongruent')].count()/len(df_p1_t1[df_p1_t1.Congruency=='congruent'])\n",
    "accuracy_incongruent_p1_t2 = df_p1_t2.RT[np.logical_and(df_p1_t2.Correct==1, df_p1_t2.Congruency=='incongruent')].count()/len(df_p1_t2[df_p1_t2.Congruency=='congruent'])\n",
    "\n",
    "\n",
    "accuracy_congruent_p2_t1 = df_p2_t1.RT[np.logical_and(df_p2_t1.Correct==1, df_p2_t2.Congruency=='congruent')].count()/len(df_p2_t1[df_p2_t1.Congruency=='congruent'])\n",
    "accuracy_congruent_p2_t2 = df_p2_t2.RT[np.logical_and(df_p2_t2.Correct==1, df_p2_t2.Congruency=='congruent')].count()/len(df_p2_t2[df_p2_t2.Congruency=='congruent'])\n",
    "\n",
    "accuracy_incongruent_p2_t1 = df_p2_t1.RT[np.logical_and(df_p2_t1.Correct==1, df_p2_t2.Congruency=='incongruent')].count()/len(df_p2_t1[df_p2_t1.Congruency=='congruent'])\n",
    "accuracy_incongruent_p2_t2 = df_p2_t2.RT[np.logical_and(df_p2_t2.Correct==1, df_p2_t2.Congruency=='incongruent')].count()/len(df_p2_t2[df_p2_t2.Congruency=='congruent'])\n",
    "\n",
    "\n",
    "\n",
    "plt.figure()\n",
    "plt.bar([1,2,3,4], [accuracy_congruent_p1_t1, accuracy_congruent_p1_t2, accuracy_congruent_p2_t1, \\\n",
    "                                      accuracy_congruent_p2_t2], width=0.4, label = 'congruent')\n",
    "\n",
    "plt.bar([1.5, 2.5, 3.5, 4.5], [accuracy_incongruent_p1_t1, accuracy_incongruent_p1_t2, accuracy_incongruent_p2_t1, \\\n",
    "                              accuracy_incongruent_p2_t2], width=0.4, label = 'incongruent')\n",
    "plt.xticks([1.25,2.25,3.25,4.25], ['Test1', 'Test2', 'Test3', 'Test4'])\n",
    "plt.ylabel('Accuracy')\n",
    "plt.title('Accuracy')\n",
    "plt.legend()"
   ]
  },
  {
   "cell_type": "code",
   "execution_count": null,
   "metadata": {},
   "outputs": [],
   "source": []
  }
 ],
 "metadata": {
  "kernelspec": {
   "display_name": "Python 3",
   "language": "python",
   "name": "python3"
  },
  "language_info": {
   "codemirror_mode": {
    "name": "ipython",
    "version": 3
   },
   "file_extension": ".py",
   "mimetype": "text/x-python",
   "name": "python",
   "nbconvert_exporter": "python",
   "pygments_lexer": "ipython3",
   "version": "3.7.3"
  }
 },
 "nbformat": 4,
 "nbformat_minor": 2
}
