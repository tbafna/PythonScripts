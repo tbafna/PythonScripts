{
 "cells": [
  {
   "cell_type": "code",
   "execution_count": 3,
   "metadata": {},
   "outputs": [
    {
     "name": "stdout",
     "output_type": "stream",
     "text": [
      "Fer is a red convertible worth $60000.00\n",
      "Jump is a blue van worth $10000.00\n"
     ]
    }
   ],
   "source": [
    "class Vehicle():\n",
    "    name = ''\n",
    "    kind = 'car'\n",
    "    color = ''\n",
    "    value = 100.00\n",
    "    \n",
    "    def description(self):\n",
    "        desc_str = '%s is a %s %s worth $%.2f' %(self.name, self.color, self.kind, self.value)\n",
    "        return desc_str\n",
    "    \n",
    "\n",
    "# my code\n",
    "car1 = Vehicle()\n",
    "car1.name = 'Fer'\n",
    "car1.color = 'red'\n",
    "car1.value = 60000.00\n",
    "car1.kind = 'convertible'\n",
    "\n",
    "\n",
    "\n",
    "car2 = Vehicle()\n",
    "car2.name = 'Jump'\n",
    "car2.color = 'blue'\n",
    "car2.kind = 'van'\n",
    "car2.value = 10000.00\n",
    "\n",
    "\n",
    "    \n",
    "print(car1.description())\n",
    "print(car2.description())"
   ]
  },
  {
   "cell_type": "code",
   "execution_count": null,
   "metadata": {},
   "outputs": [],
   "source": []
  }
 ],
 "metadata": {
  "kernelspec": {
   "display_name": "Python 3",
   "language": "python",
   "name": "python3"
  },
  "language_info": {
   "codemirror_mode": {
    "name": "ipython",
    "version": 3
   },
   "file_extension": ".py",
   "mimetype": "text/x-python",
   "name": "python",
   "nbconvert_exporter": "python",
   "pygments_lexer": "ipython3",
   "version": "3.6.5"
  }
 },
 "nbformat": 4,
 "nbformat_minor": 2
}
