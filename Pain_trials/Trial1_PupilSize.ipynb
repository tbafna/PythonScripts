{
 "cells": [
  {
   "cell_type": "code",
   "execution_count": 1,
   "metadata": {},
   "outputs": [
    {
     "name": "stdout",
     "output_type": "stream",
     "text": [
      "Using matplotlib backend: Qt5Agg\n"
     ]
    }
   ],
   "source": [
    "%matplotlib \n",
    "#%matplotlib inline\n",
    "#%matplotlib qt\n",
    "import os\n",
    "import csv\n",
    "import numpy as np\n",
    "import fnmatch\n",
    "from pathlib import Path\n",
    "import pandas as pd\n",
    "import xlrd\n",
    "import matplotlib.pyplot as plt\n",
    "from scipy import stats \n",
    "import statsmodels\n",
    "from statsmodels.graphics.gofplots import qqplot\n"
   ]
  },
  {
   "cell_type": "code",
   "execution_count": 2,
   "metadata": {},
   "outputs": [],
   "source": [
    "# first find the number of rows in the existing file\n",
    "filePath_PythonData = r\"C:\\DTU\\Data\\201906_PainTrial1\\Pain expt\\Reduced data\\WithEvents\\20190617-13-34-21-850_Nick_raw.xlsx\"\n",
    "\n",
    "\n",
    "df_data = pd.read_excel(filePath_PythonData)"
   ]
  },
  {
   "cell_type": "code",
   "execution_count": 5,
   "metadata": {},
   "outputs": [],
   "source": [
    "# extract pupil data\n",
    "\n",
    "pupilRawLeft = df_data['Pupil diameter left'].tolist()\n",
    "pupilRawRight = df_data['Pupil diameter right'].tolist()\n",
    "\n",
    "pupilRawLeft_woNan = [pupilSize for ind, pupilSize in enumerate(pupilRawLeft) if not np.isnan(pupilSize) and not np.isnan(pupilRawRight[ind])]\n",
    "pupilRawRight_woNan = [pupilSize for ind, pupilSize in enumerate(pupilRawRight) if not np.isnan(pupilSize) and not np.isnan(pupilRawLeft[ind])]\n",
    "\n",
    "\n",
    "# extract event information\n",
    "events = df_data['Event'].tolist()\n",
    "\n",
    "# extract time \n",
    "timeMicroS = df_data['Recording timestamp'].tolist()\n",
    "timeMilliS = [time/1000 for time in timeMicroS]\n",
    "\n",
    "timeMillis_woNan = [timeMilliS[ind] for ind, pupilSize in enumerate(pupilRawLeft) if not np.isnan(pupilSize) and not np.isnan(pupilRawRight[ind])]"
   ]
  },
  {
   "cell_type": "code",
   "execution_count": 4,
   "metadata": {},
   "outputs": [
    {
     "data": {
      "text/plain": [
       "28535"
      ]
     },
     "execution_count": 4,
     "metadata": {},
     "output_type": "execute_result"
    }
   ],
   "source": [
    "len(timeMillis_woNan)"
   ]
  },
  {
   "cell_type": "markdown",
   "metadata": {},
   "source": [
    "## Pupil sizes from fork"
   ]
  },
  {
   "cell_type": "code",
   "execution_count": 7,
   "metadata": {},
   "outputs": [],
   "source": [
    "index_fork_start =  [ind for ind, row in enumerate(events) if row == 'fork_start']\n",
    "index_fork_end = [ind for ind, row in enumerate(events) if row == 'fork_end']\n",
    "\n",
    "\n",
    "index_fork_baseline = [ind - 35 for ind in index_fork_start]\n"
   ]
  },
  {
   "cell_type": "code",
   "execution_count": 8,
   "metadata": {},
   "outputs": [],
   "source": [
    "# pupil sizes for pain from fork \n",
    "\n",
    "# fork1\n",
    "pupilRawLeft_fork1 = pupilRawLeft[index_fork_start[0]:index_fork_end[0]]\n",
    "pupilRawRight_fork1 = pupilRawRight[index_fork_start[0]:index_fork_end[0]]\n",
    "time_fork1 = timeMilliS[index_fork_start[0]:index_fork_end[0]]\n",
    "\n",
    "# fork2\n",
    "pupilRawLeft_fork2 = pupilRawLeft[index_fork_start[1]:index_fork_end[1]]\n",
    "pupilRawRight_fork2 = pupilRawRight[index_fork_start[1]:index_fork_end[1]]\n",
    "time_fork2 = timeMilliS[index_fork_start[1]:index_fork_end[1]]\n",
    "\n",
    "\n",
    "# fork3\n",
    "pupilRawLeft_fork3 = pupilRawLeft[index_fork_start[2]:index_fork_end[2]]\n",
    "pupilRawRight_fork3 = pupilRawRight[index_fork_start[2]:index_fork_end[2]]\n",
    "time_fork3 = timeMilliS[index_fork_start[2]:index_fork_end[2]]\n"
   ]
  },
  {
   "cell_type": "code",
   "execution_count": 9,
   "metadata": {},
   "outputs": [],
   "source": [
    "# pupil sizes from fork pain without nan\n",
    "\n",
    "pupilRawLeft_fork1_woNan = [pupilSize for ind, pupilSize in enumerate(pupilRawLeft_fork1) if not np.isnan(pupilSize) and not np.isnan(pupilRawRight_fork1[ind])]\n",
    "pupilRawRight_fork1_woNan = [pupilSize for ind, pupilSize in enumerate(pupilRawRight_fork1) if not np.isnan(pupilSize) and not np.isnan(pupilRawLeft_fork1[ind])]\n",
    "time_fork1_woNan = [time_fork1[ind] for ind, pupilSize in enumerate(pupilRawLeft_fork1) if not np.isnan(pupilSize) and not np.isnan(pupilRawRight_fork1[ind])]\n",
    "\n",
    "pupilRawLeft_fork2_woNan = [pupilSize for ind, pupilSize in enumerate(pupilRawLeft_fork2) if not np.isnan(pupilSize) and not np.isnan(pupilRawRight_fork2[ind])]\n",
    "pupilRawRight_fork2_woNan = [pupilSize for ind, pupilSize in enumerate(pupilRawRight_fork2) if not np.isnan(pupilSize) and not np.isnan(pupilRawLeft_fork2[ind])]\n",
    "time_fork2_woNan = [time_fork2[ind] for ind, pupilSize in enumerate(pupilRawLeft_fork2) if not np.isnan(pupilSize) and not np.isnan(pupilRawRight_fork2[ind])]\n",
    "\n",
    "pupilRawLeft_fork3_woNan = [pupilSize for ind, pupilSize in enumerate(pupilRawLeft_fork3) if not np.isnan(pupilSize) and not np.isnan(pupilRawRight_fork3[ind])]\n",
    "pupilRawRight_fork3_woNan = [pupilSize for ind, pupilSize in enumerate(pupilRawRight_fork3) if not np.isnan(pupilSize) and not np.isnan(pupilRawLeft_fork3[ind])]\n",
    "time_fork3_woNan = [time_fork3[ind] for ind, pupilSize in enumerate(pupilRawLeft_fork3) if not np.isnan(pupilSize) and not np.isnan(pupilRawRight_fork3[ind])]\n"
   ]
  },
  {
   "cell_type": "code",
   "execution_count": 12,
   "metadata": {},
   "outputs": [],
   "source": [
    "# relative pupil size:\n",
    "\n",
    "# fork1: baseline\n",
    "pupilRawLeft_fork1_baseline = pupilRawLeft[index_fork_baseline[0]:index_fork_start[0]]\n",
    "pupilRawRight_fork1_baseline = pupilRawRight[index_fork_baseline[0]:index_fork_start[0]]\n",
    "time_fork1_baseline = timeMilliS[index_fork_baseline[0]:index_fork_start[0]]\n",
    "\n",
    "# fork2: baseline\n",
    "pupilRawLeft_fork2_baseline = pupilRawLeft[index_fork_baseline[1]:index_fork_start[1]]\n",
    "pupilRawRight_fork2_baseline = pupilRawRight[index_fork_baseline[1]:index_fork_start[1]]\n",
    "time_fork2_baseline = timeMilliS[index_fork_baseline[1]:index_fork_start[1]]\n",
    "\n",
    "# fork3: baseline\n",
    "pupilRawLeft_fork3_baseline = pupilRawLeft[index_fork_baseline[2]:index_fork_start[2]]\n",
    "pupilRawRight_fork3_baseline = pupilRawRight[index_fork_baseline[2]:index_fork_start[2]]\n",
    "time_fork3_baseline = timeMilliS[index_fork_baseline[2]:index_fork_start[2]]\n",
    "\n",
    "\n",
    "# baseline without nan values\n",
    "pupilRawLeft_fork1_baseline_woNan = np.mean([pupilSize for ind, pupilSize in enumerate(pupilRawLeft_fork1_baseline) if not np.isnan(pupilSize) and not np.isnan(pupilRawRight_fork1_baseline[ind])])\n",
    "pupilRawRight_fork1_baseline_woNan = np.mean([pupilSize for ind, pupilSize in enumerate(pupilRawRight_fork1_baseline) if not np.isnan(pupilSize) and not np.isnan(pupilRawLeft_fork1_baseline[ind])])\n",
    "\n",
    "pupilRawLeft_fork2_baseline_woNan = np.mean([pupilSize for ind, pupilSize in enumerate(pupilRawLeft_fork2_baseline) if not np.isnan(pupilSize) and not np.isnan(pupilRawRight_fork2_baseline[ind])])\n",
    "pupilRawRight_fork2_baseline_woNan = np.mean([pupilSize for ind, pupilSize in enumerate(pupilRawRight_fork2_baseline) if not np.isnan(pupilSize) and not np.isnan(pupilRawLeft_fork2_baseline[ind])])\n",
    "\n",
    "pupilRawLeft_fork3_baseline_woNan = np.mean([pupilSize for ind, pupilSize in enumerate(pupilRawLeft_fork3_baseline) if not np.isnan(pupilSize) and not np.isnan(pupilRawRight_fork3_baseline[ind])])\n",
    "pupilRawRight_fork3_baseline_woNan = np.mean([pupilSize for ind, pupilSize in enumerate(pupilRawRight_fork3_baseline) if not np.isnan(pupilSize) and not np.isnan(pupilRawLeft_fork3_baseline[ind])])\n",
    "\n"
   ]
  },
  {
   "cell_type": "code",
   "execution_count": 13,
   "metadata": {},
   "outputs": [],
   "source": [
    "# compute relative pupil size from absolute and baseline pupil size\n",
    "\n",
    "pupilRelativeLeft_fork1 = [pupilSize - pupilRawLeft_fork1_baseline_woNan for pupilSize in pupilRawLeft_fork1_woNan]\n",
    "pupilRelativeRight_fork1 = [pupilSize - pupilRawRight_fork1_baseline_woNan for pupilSize in pupilRawRight_fork1_woNan]\n",
    "\n",
    "pupilRelativeLeft_fork2 = [pupilSize - pupilRawLeft_fork2_baseline_woNan for pupilSize in pupilRawLeft_fork2_woNan]\n",
    "pupilRelativeRight_fork2 = [pupilSize - pupilRawRight_fork2_baseline_woNan for pupilSize in pupilRawRight_fork2_woNan]\n",
    "\n",
    "pupilRelativeLeft_fork3 = [pupilSize - pupilRawLeft_fork3_baseline_woNan for pupilSize in pupilRawLeft_fork3_woNan]\n",
    "pupilRelativeRight_fork3 = [pupilSize - pupilRawRight_fork3_baseline_woNan for pupilSize in pupilRawRight_fork3_woNan]\n",
    "\n"
   ]
  },
  {
   "cell_type": "code",
   "execution_count": 14,
   "metadata": {},
   "outputs": [
    {
     "data": {
      "text/plain": [
       "[<matplotlib.lines.Line2D at 0x18c83623780>]"
      ]
     },
     "execution_count": 14,
     "metadata": {},
     "output_type": "execute_result"
    }
   ],
   "source": [
    "fig = plt.figure()\n",
    "\n",
    "ax = fig.add_subplot(111)\n",
    "\n",
    "ax.plot(time_fork1_woNan, pupilRelativeLeft_fork1)\n",
    "ax.plot(time_fork1_woNan, pupilRelativeRight_fork1)"
   ]
  },
  {
   "cell_type": "code",
   "execution_count": 15,
   "metadata": {},
   "outputs": [
    {
     "data": {
      "text/plain": [
       "[<matplotlib.lines.Line2D at 0x18c82cf8710>]"
      ]
     },
     "execution_count": 15,
     "metadata": {},
     "output_type": "execute_result"
    }
   ],
   "source": [
    "# plot the whole experiment, but mark the events in the plots\n",
    "fig = plt.figure()\n",
    "\n",
    "ax = fig.add_subplot(111)\n",
    "\n",
    "# plot the pupils\n",
    "ax.plot(timeMillis_woNan, pupilRawLeft_woNan)\n",
    "\n",
    "# indicate the events\n",
    "ax.plot([time_fork1_woNan[0], time_fork1_woNan[0]], [np.min(pupilRawLeft_woNan), np.max(pupilRawLeft_woNan)], 'orange')\n",
    "ax.plot([time_fork1_woNan[-1], time_fork1_woNan[-1]], [np.min(pupilRawLeft_woNan), np.max(pupilRawLeft_woNan)], '-.', color = 'orange')\n",
    "\n",
    "ax.plot([time_fork2_woNan[0], time_fork2_woNan[0]], [np.min(pupilRawLeft_woNan), np.max(pupilRawLeft_woNan)], 'green')\n",
    "ax.plot([time_fork2_woNan[-1], time_fork2_woNan[-1]], [np.min(pupilRawLeft_woNan), np.max(pupilRawLeft_woNan)], '-.', color = 'green')\n",
    "\n",
    "ax.plot([time_fork3_woNan[0], time_fork3_woNan[0]], [np.min(pupilRawLeft_woNan), np.max(pupilRawLeft_woNan)], 'pink')\n",
    "ax.plot([time_fork3_woNan[-1], time_fork3_woNan[-1]], [np.min(pupilRawLeft_woNan), np.max(pupilRawLeft_woNan)], '-.', color = 'pink')\n",
    "\n"
   ]
  },
  {
   "cell_type": "markdown",
   "metadata": {},
   "source": [
    "## Pupil sizes from hot cup"
   ]
  },
  {
   "cell_type": "code",
   "execution_count": 17,
   "metadata": {},
   "outputs": [],
   "source": [
    "# indexes for the pain using hot cup\n",
    "\n",
    "index_hot_start =  [ind for ind, row in enumerate(events) if row == 'hot_start']\n",
    "index_hot_end = [ind for ind, row in enumerate(events) if row == 'hot_end']\n",
    "\n",
    "index_hot_baseline = [ind - 35 for ind in index_hot_start]\n"
   ]
  },
  {
   "cell_type": "code",
   "execution_count": 18,
   "metadata": {},
   "outputs": [],
   "source": [
    "# pupil sizes for pain from hot cup \n",
    "\n",
    "# hot1\n",
    "pupilRawLeft_hot1 = pupilRawLeft[index_hot_start[0]:index_hot_end[0]]\n",
    "pupilRawRight_hot1 = pupilRawRight[index_hot_start[0]:index_hot_end[0]]\n",
    "time_hot1 = timeMilliS[index_hot_start[0]:index_hot_end[0]]\n",
    "\n",
    "# hot2\n",
    "pupilRawLeft_hot2 = pupilRawLeft[index_hot_start[1]:index_hot_end[1]]\n",
    "pupilRawRight_hot2 = pupilRawRight[index_hot_start[1]:index_hot_end[1]]\n",
    "time_hot2 = timeMilliS[index_hot_start[1]:index_hot_end[1]]\n",
    "\n",
    "\n",
    "# hot3\n",
    "pupilRawLeft_hot3 = pupilRawLeft[index_hot_start[2]:index_hot_end[2]]\n",
    "pupilRawRight_hot3 = pupilRawRight[index_hot_start[2]:index_hot_end[2]]\n",
    "time_hot3 = timeMilliS[index_hot_start[2]:index_hot_end[2]]\n"
   ]
  },
  {
   "cell_type": "code",
   "execution_count": 19,
   "metadata": {},
   "outputs": [],
   "source": [
    "# pupil sizes from pain from hot cup without nan\n",
    "\n",
    "pupilRawLeft_hot1_woNan = [pupilSize for ind, pupilSize in enumerate(pupilRawLeft_hot1) if not np.isnan(pupilSize) and not np.isnan(pupilRawRight_hot1[ind])]\n",
    "pupilRawRight_hot1_woNan = [pupilSize for ind, pupilSize in enumerate(pupilRawRight_hot1) if not np.isnan(pupilSize) and not np.isnan(pupilRawLeft_hot1[ind])]\n",
    "time_hot1_woNan = [time_hot1[ind] for ind, pupilSize in enumerate(pupilRawLeft_hot1) if not np.isnan(pupilSize) and not np.isnan(pupilRawRight_hot1[ind])]\n",
    "\n",
    "pupilRawLeft_hot2_woNan = [pupilSize for ind, pupilSize in enumerate(pupilRawLeft_hot2) if not np.isnan(pupilSize) and not np.isnan(pupilRawRight_hot2[ind])]\n",
    "pupilRawRight_hot2_woNan = [pupilSize for ind, pupilSize in enumerate(pupilRawRight_hot2) if not np.isnan(pupilSize) and not np.isnan(pupilRawLeft_hot2[ind])]\n",
    "time_hot2_woNan = [time_hot2[ind] for ind, pupilSize in enumerate(pupilRawLeft_hot2) if not np.isnan(pupilSize) and not np.isnan(pupilRawRight_hot2[ind])]\n",
    "\n",
    "pupilRawLeft_hot3_woNan = [pupilSize for ind, pupilSize in enumerate(pupilRawLeft_hot3) if not np.isnan(pupilSize) and not np.isnan(pupilRawRight_hot3[ind])]\n",
    "pupilRawRight_hot3_woNan = [pupilSize for ind, pupilSize in enumerate(pupilRawRight_hot3) if not np.isnan(pupilSize) and not np.isnan(pupilRawLeft_hot3[ind])]\n",
    "time_hot3_woNan = [time_hot3[ind] for ind, pupilSize in enumerate(pupilRawLeft_hot3) if not np.isnan(pupilSize) and not np.isnan(pupilRawRight_hot3[ind])]\n"
   ]
  },
  {
   "cell_type": "markdown",
   "metadata": {},
   "source": [
    "## Pupil sizes from warm cup "
   ]
  },
  {
   "cell_type": "code",
   "execution_count": 20,
   "metadata": {},
   "outputs": [],
   "source": [
    "# indexes for the pain using warm cup\n",
    "\n",
    "index_warm_start =  [ind for ind, row in enumerate(events) if row == 'warm_start']\n",
    "index_warm_end = [ind for ind, row in enumerate(events) if row == 'warm_end']\n",
    "\n",
    "index_warm_baseline = [ind - 35 for ind in index_warm_start]\n"
   ]
  },
  {
   "cell_type": "code",
   "execution_count": 21,
   "metadata": {},
   "outputs": [],
   "source": [
    "# pupil sizes for pain from warm cup \n",
    "\n",
    "# warm1\n",
    "pupilRawLeft_warm1 = pupilRawLeft[index_warm_start[0]:index_warm_end[0]]\n",
    "pupilRawRight_warm1 = pupilRawRight[index_warm_start[0]:index_warm_end[0]]\n",
    "time_warm1 = timeMilliS[index_warm_start[0]:index_warm_end[0]]\n",
    "\n",
    "# warm2\n",
    "pupilRawLeft_warm2 = pupilRawLeft[index_warm_start[1]:index_warm_end[1]]\n",
    "pupilRawRight_warm2 = pupilRawRight[index_warm_start[1]:index_warm_end[1]]\n",
    "time_warm2 = timeMilliS[index_warm_start[1]:index_warm_end[1]]\n",
    "\n",
    "\n",
    "# warm3\n",
    "pupilRawLeft_warm3 = pupilRawLeft[index_warm_start[2]:index_warm_end[2]]\n",
    "pupilRawRight_warm3 = pupilRawRight[index_warm_start[2]:index_warm_end[2]]\n",
    "time_warm3 = timeMilliS[index_warm_start[2]:index_warm_end[2]]\n"
   ]
  },
  {
   "cell_type": "code",
   "execution_count": 22,
   "metadata": {},
   "outputs": [],
   "source": [
    "# pupil sizes from pain from warm cup without nan\n",
    "\n",
    "pupilRawLeft_warm1_woNan = [pupilSize for ind, pupilSize in enumerate(pupilRawLeft_warm1) if not np.isnan(pupilSize) and not np.isnan(pupilRawRight_warm1[ind])]\n",
    "pupilRawRight_warm1_woNan = [pupilSize for ind, pupilSize in enumerate(pupilRawRight_warm1) if not np.isnan(pupilSize) and not np.isnan(pupilRawLeft_warm1[ind])]\n",
    "time_warm1_woNan = [time_warm1[ind] for ind, pupilSize in enumerate(pupilRawLeft_warm1) if not np.isnan(pupilSize) and not np.isnan(pupilRawRight_warm1[ind])]\n",
    "\n",
    "pupilRawLeft_warm2_woNan = [pupilSize for ind, pupilSize in enumerate(pupilRawLeft_warm2) if not np.isnan(pupilSize) and not np.isnan(pupilRawRight_warm2[ind])]\n",
    "pupilRawRight_warm2_woNan = [pupilSize for ind, pupilSize in enumerate(pupilRawRight_warm2) if not np.isnan(pupilSize) and not np.isnan(pupilRawLeft_warm2[ind])]\n",
    "time_warm2_woNan = [time_warm2[ind] for ind, pupilSize in enumerate(pupilRawLeft_warm2) if not np.isnan(pupilSize) and not np.isnan(pupilRawRight_warm2[ind])]\n",
    "\n",
    "pupilRawLeft_warm3_woNan = [pupilSize for ind, pupilSize in enumerate(pupilRawLeft_warm3) if not np.isnan(pupilSize) and not np.isnan(pupilRawRight_warm3[ind])]\n",
    "pupilRawRight_warm3_woNan = [pupilSize for ind, pupilSize in enumerate(pupilRawRight_warm3) if not np.isnan(pupilSize) and not np.isnan(pupilRawLeft_warm3[ind])]\n",
    "time_warm3_woNan = [time_warm3[ind] for ind, pupilSize in enumerate(pupilRawLeft_warm3) if not np.isnan(pupilSize) and not np.isnan(pupilRawRight_warm3[ind])]\n"
   ]
  },
  {
   "cell_type": "markdown",
   "metadata": {},
   "source": [
    "## Pupil sizes from pen on thumb"
   ]
  },
  {
   "cell_type": "code",
   "execution_count": 23,
   "metadata": {},
   "outputs": [],
   "source": [
    "# indexes for the pain using pen on thumb \n",
    "\n",
    "index_thumb_start =  [ind for ind, row in enumerate(events) if row == 'thumb_start']\n",
    "index_thumb_end = [ind for ind, row in enumerate(events) if row == 'thumb_end']\n",
    "\n",
    "index_thumb_baseline = [ind - 35 for ind in index_thumb_start]\n"
   ]
  },
  {
   "cell_type": "code",
   "execution_count": 24,
   "metadata": {},
   "outputs": [],
   "source": [
    "# pupil sizes for pain from using pen on thumb\n",
    "\n",
    "# thumb1\n",
    "pupilRawLeft_thumb1 = pupilRawLeft[index_thumb_start[0]:index_thumb_end[0]]\n",
    "pupilRawRight_thumb1 = pupilRawRight[index_thumb_start[0]:index_thumb_end[0]]\n",
    "time_thumb1 = timeMilliS[index_thumb_start[0]:index_thumb_end[0]]\n",
    "\n",
    "# thumb2\n",
    "pupilRawLeft_thumb2 = pupilRawLeft[index_thumb_start[1]:index_thumb_end[1]]\n",
    "pupilRawRight_thumb2 = pupilRawRight[index_thumb_start[1]:index_thumb_end[1]]\n",
    "time_thumb2 = timeMilliS[index_thumb_start[1]:index_thumb_end[1]]\n",
    "\n",
    "\n",
    "# thumb3\n",
    "pupilRawLeft_thumb3 = pupilRawLeft[index_thumb_start[2]:index_thumb_end[2]]\n",
    "pupilRawRight_thumb3 = pupilRawRight[index_thumb_start[2]:index_thumb_end[2]]\n",
    "time_thumb3 = timeMilliS[index_thumb_start[2]:index_thumb_end[2]]\n"
   ]
  },
  {
   "cell_type": "code",
   "execution_count": 25,
   "metadata": {},
   "outputs": [],
   "source": [
    "# pupil sizes from pain from using pen on thumb without nan\n",
    "\n",
    "pupilRawLeft_thumb1_woNan = [pupilSize for ind, pupilSize in enumerate(pupilRawLeft_thumb1) if not np.isnan(pupilSize) and not np.isnan(pupilRawRight_thumb1[ind])]\n",
    "pupilRawRight_thumb1_woNan = [pupilSize for ind, pupilSize in enumerate(pupilRawRight_thumb1) if not np.isnan(pupilSize) and not np.isnan(pupilRawLeft_thumb1[ind])]\n",
    "time_thumb1_woNan = [time_thumb1[ind] for ind, pupilSize in enumerate(pupilRawLeft_thumb1) if not np.isnan(pupilSize) and not np.isnan(pupilRawRight_thumb1[ind])]\n",
    "\n",
    "pupilRawLeft_thumb2_woNan = [pupilSize for ind, pupilSize in enumerate(pupilRawLeft_thumb2) if not np.isnan(pupilSize) and not np.isnan(pupilRawRight_thumb2[ind])]\n",
    "pupilRawRight_thumb2_woNan = [pupilSize for ind, pupilSize in enumerate(pupilRawRight_thumb2) if not np.isnan(pupilSize) and not np.isnan(pupilRawLeft_thumb2[ind])]\n",
    "time_thumb2_woNan = [time_thumb2[ind] for ind, pupilSize in enumerate(pupilRawLeft_thumb2) if not np.isnan(pupilSize) and not np.isnan(pupilRawRight_thumb2[ind])]\n",
    "\n",
    "pupilRawLeft_thumb3_woNan = [pupilSize for ind, pupilSize in enumerate(pupilRawLeft_thumb3) if not np.isnan(pupilSize) and not np.isnan(pupilRawRight_thumb3[ind])]\n",
    "pupilRawRight_thumb3_woNan = [pupilSize for ind, pupilSize in enumerate(pupilRawRight_thumb3) if not np.isnan(pupilSize) and not np.isnan(pupilRawLeft_thumb3[ind])]\n",
    "time_thumb3_woNan = [time_thumb3[ind] for ind, pupilSize in enumerate(pupilRawLeft_thumb3) if not np.isnan(pupilSize) and not np.isnan(pupilRawRight_thumb3[ind])]\n"
   ]
  },
  {
   "cell_type": "markdown",
   "metadata": {},
   "source": [
    "## Plot the complete pupil size with events marked "
   ]
  },
  {
   "cell_type": "code",
   "execution_count": 26,
   "metadata": {},
   "outputs": [
    {
     "data": {
      "text/plain": [
       "[<matplotlib.lines.Line2D at 0x18c81e9c3c8>]"
      ]
     },
     "execution_count": 26,
     "metadata": {},
     "output_type": "execute_result"
    }
   ],
   "source": [
    "# plot the whole experiment, but mark the events in the plots\n",
    "fig = plt.figure()\n",
    "\n",
    "ax = fig.add_subplot(111)\n",
    "\n",
    "# plot the pupils\n",
    "ax.plot(timeMillis_woNan, pupilRawLeft_woNan)\n",
    "\n",
    "\n",
    "\n",
    "# indicate the fork events\n",
    "ax.plot([time_fork1_woNan[0], time_fork1_woNan[0]], [np.min(pupilRawLeft_woNan), np.max(pupilRawLeft_woNan)], 'orange')\n",
    "ax.plot([time_fork1_woNan[-1], time_fork1_woNan[-1]], [np.min(pupilRawLeft_woNan), np.max(pupilRawLeft_woNan)], '-.', color = 'orange')\n",
    "\n",
    "ax.plot([time_fork2_woNan[0], time_fork2_woNan[0]], [np.min(pupilRawLeft_woNan), np.max(pupilRawLeft_woNan)], 'green')\n",
    "ax.plot([time_fork2_woNan[-1], time_fork2_woNan[-1]], [np.min(pupilRawLeft_woNan), np.max(pupilRawLeft_woNan)], '-.', color = 'green')\n",
    "\n",
    "ax.plot([time_fork3_woNan[0], time_fork3_woNan[0]], [np.min(pupilRawLeft_woNan), np.max(pupilRawLeft_woNan)], 'pink')\n",
    "ax.plot([time_fork3_woNan[-1], time_fork3_woNan[-1]], [np.min(pupilRawLeft_woNan), np.max(pupilRawLeft_woNan)], '-.', color = 'pink')\n",
    "\n",
    "\n",
    "\n",
    "# indicate the hot cup events\n",
    "ax.plot([time_hot1_woNan[0], time_hot1_woNan[0]], [np.min(pupilRawLeft_woNan), np.max(pupilRawLeft_woNan)], 'orange')\n",
    "ax.plot([time_hot1_woNan[-1], time_hot1_woNan[-1]], [np.min(pupilRawLeft_woNan), np.max(pupilRawLeft_woNan)], '-.', color = 'orange')\n",
    "\n",
    "ax.plot([time_hot2_woNan[0], time_hot2_woNan[0]], [np.min(pupilRawLeft_woNan), np.max(pupilRawLeft_woNan)], 'green')\n",
    "ax.plot([time_hot2_woNan[-1], time_hot2_woNan[-1]], [np.min(pupilRawLeft_woNan), np.max(pupilRawLeft_woNan)], '-.', color = 'green')\n",
    "\n",
    "ax.plot([time_hot3_woNan[0], time_hot3_woNan[0]], [np.min(pupilRawLeft_woNan), np.max(pupilRawLeft_woNan)], 'pink')\n",
    "ax.plot([time_hot3_woNan[-1], time_hot3_woNan[-1]], [np.min(pupilRawLeft_woNan), np.max(pupilRawLeft_woNan)], '-.', color = 'pink')\n",
    "\n",
    "\n",
    "\n",
    "# indicate the warm cup events\n",
    "ax.plot([time_warm1_woNan[0], time_warm1_woNan[0]], [np.min(pupilRawLeft_woNan), np.max(pupilRawLeft_woNan)], 'orange')\n",
    "ax.plot([time_warm1_woNan[-1], time_warm1_woNan[-1]], [np.min(pupilRawLeft_woNan), np.max(pupilRawLeft_woNan)], '-.', color = 'orange')\n",
    "\n",
    "ax.plot([time_warm2_woNan[0], time_warm2_woNan[0]], [np.min(pupilRawLeft_woNan), np.max(pupilRawLeft_woNan)], 'green')\n",
    "ax.plot([time_warm2_woNan[-1], time_warm2_woNan[-1]], [np.min(pupilRawLeft_woNan), np.max(pupilRawLeft_woNan)], '-.', color = 'green')\n",
    "\n",
    "ax.plot([time_warm3_woNan[0], time_warm3_woNan[0]], [np.min(pupilRawLeft_woNan), np.max(pupilRawLeft_woNan)], 'pink')\n",
    "ax.plot([time_warm3_woNan[-1], time_warm3_woNan[-1]], [np.min(pupilRawLeft_woNan), np.max(pupilRawLeft_woNan)], '-.', color = 'pink')\n",
    "\n",
    "\n",
    "\n",
    "# indicate the thumb events\n",
    "ax.plot([time_thumb1_woNan[0], time_thumb1_woNan[0]], [np.min(pupilRawLeft_woNan), np.max(pupilRawLeft_woNan)], 'orange')\n",
    "ax.plot([time_thumb1_woNan[-1], time_thumb1_woNan[-1]], [np.min(pupilRawLeft_woNan), np.max(pupilRawLeft_woNan)], '-.', color = 'orange')\n",
    "\n",
    "ax.plot([time_thumb2_woNan[0], time_thumb2_woNan[0]], [np.min(pupilRawLeft_woNan), np.max(pupilRawLeft_woNan)], 'green')\n",
    "ax.plot([time_thumb2_woNan[-1], time_thumb2_woNan[-1]], [np.min(pupilRawLeft_woNan), np.max(pupilRawLeft_woNan)], '-.', color = 'green')\n",
    "\n",
    "ax.plot([time_thumb3_woNan[0], time_thumb3_woNan[0]], [np.min(pupilRawLeft_woNan), np.max(pupilRawLeft_woNan)], 'pink')\n",
    "ax.plot([time_thumb3_woNan[-1], time_thumb3_woNan[-1]], [np.min(pupilRawLeft_woNan), np.max(pupilRawLeft_woNan)], '-.', color = 'pink')\n"
   ]
  },
  {
   "cell_type": "code",
   "execution_count": 27,
   "metadata": {},
   "outputs": [],
   "source": [
    "def hampel(vals_orig, k, sd):\n",
    "    '''\n",
    "    vals: pandas series of values from which to remove outliers\n",
    "    k: size of window (including the sample; 7 is equal to 3 on either side of value)\n",
    "    '''\n",
    "    # Obtained from: https://stackoverflow.com/questions/46819260/filtering-outliers-how-to-make-median-based-\n",
    "    # hampel-function-faster\n",
    "    \n",
    "    #Make copy so original not edited\n",
    "    vals0 = pd.DataFrame(vals_orig)      \n",
    "    vals1 = vals0.replace([np.inf, -np.inf], np.nan)\n",
    "    \n",
    "    vals2 = vals1.astype(float).interpolate('linear', limit_direction = 'both') # linear interpolation instead of \n",
    "    # simply copying the previous value --\\ linear interpolation than cubic to not add any patterns in the data, limit direction\n",
    "    # set to both, to interpolate the nan values occuring from the start of the series\n",
    "    \n",
    "    L= 1.4826\n",
    "    # compte the rolling mean\n",
    "    rolling_median = vals2.rolling(window=k, min_periods=1, center=True).median()\n",
    "    \n",
    "    difference = np.abs(rolling_median-vals2)\n",
    "    median_abs_deviation = difference.rolling(k).median()\n",
    "    threshold = sd * L * median_abs_deviation\n",
    "    \n",
    "    outlier_idx = difference>threshold\n",
    "    \n",
    "    #print(vals2[outlier_idx])\n",
    "    \n",
    "    vals2[outlier_idx] = rolling_median[outlier_idx]\n",
    "    \n",
    "    for i in vals2:\n",
    "        if np.isnan(i):\n",
    "            print(i)\n",
    "    \n",
    "    return(vals2)"
   ]
  },
  {
   "cell_type": "code",
   "execution_count": 28,
   "metadata": {},
   "outputs": [],
   "source": [
    "winSize = 35\n",
    "sd = 3\n",
    "\n",
    "\n",
    "pupilLeft_fork1_filtered = hampel(pupilRawLeft_fork1_woNan, winSize, sd)\n",
    "pupilRight_fork1_filtered = hampel(pupilRawRight_fork1_woNan, winSize, sd)\n",
    "\n",
    "pupilLeft_fork2_filtered = hampel(pupilRawLeft_fork2_woNan, winSize, sd)\n",
    "pupilRight_fork2_filtered = hampel(pupilRawRight_fork2_woNan, winSize, sd)\n",
    "\n",
    "pupilLeft_fork3_filtered = hampel(pupilRawLeft_fork3_woNan, winSize, sd)\n",
    "pupilRight_fork3_filtered = hampel(pupilRawRight_fork3_woNan, winSize, sd)\n",
    "\n",
    "\n",
    "\n",
    "\n"
   ]
  },
  {
   "cell_type": "code",
   "execution_count": 29,
   "metadata": {},
   "outputs": [],
   "source": [
    "pupilLeft_hot1_filtered = hampel(pupilRawLeft_hot1_woNan, winSize, sd)\n",
    "pupilRight_hot1_filtered = hampel(pupilRawRight_hot1_woNan, winSize, sd)\n",
    "\n",
    "pupilLeft_hot2_filtered = hampel(pupilRawLeft_hot2_woNan, winSize, sd)\n",
    "pupilRight_hot2_filtered = hampel(pupilRawRight_hot2_woNan, winSize, sd)\n",
    "\n",
    "pupilLeft_hot3_filtered = hampel(pupilRawLeft_hot3_woNan, winSize, sd)\n",
    "pupilRight_hot3_filtered = hampel(pupilRawRight_hot3_woNan, winSize, sd)\n"
   ]
  },
  {
   "cell_type": "code",
   "execution_count": 30,
   "metadata": {},
   "outputs": [],
   "source": [
    "pupilLeft_warm1_filtered = hampel(pupilRawLeft_warm1_woNan, winSize, sd)\n",
    "pupilRight_warm1_filtered = hampel(pupilRawRight_warm1_woNan, winSize, sd)\n",
    "\n",
    "pupilLeft_warm2_filtered = hampel(pupilRawLeft_warm2_woNan, winSize, sd)\n",
    "pupilRight_warm2_filtered = hampel(pupilRawRight_warm2_woNan, winSize, sd)\n",
    "\n",
    "pupilLeft_warm3_filtered = hampel(pupilRawLeft_warm3_woNan, winSize, sd)\n",
    "pupilRight_warm3_filtered = hampel(pupilRawRight_warm3_woNan, winSize, sd)\n"
   ]
  },
  {
   "cell_type": "code",
   "execution_count": 31,
   "metadata": {},
   "outputs": [],
   "source": [
    "pupilLeft_thumb1_filtered = hampel(pupilRawLeft_thumb1_woNan, winSize, sd)\n",
    "pupilRight_thumb1_filtered = hampel(pupilRawRight_thumb1_woNan, winSize, sd)\n",
    "\n",
    "pupilLeft_thumb2_filtered = hampel(pupilRawLeft_thumb2_woNan, winSize, sd)\n",
    "pupilRight_thumb2_filtered = hampel(pupilRawRight_thumb2_woNan, winSize, sd)\n",
    "\n",
    "pupilLeft_thumb3_filtered = hampel(pupilRawLeft_thumb3_woNan, winSize, sd)\n",
    "pupilRight_thumb3_filtered = hampel(pupilRawRight_thumb3_woNan, winSize, sd)\n"
   ]
  },
  {
   "cell_type": "code",
   "execution_count": 32,
   "metadata": {},
   "outputs": [
    {
     "data": {
      "text/plain": [
       "<matplotlib.legend.Legend at 0x18cfd57a630>"
      ]
     },
     "execution_count": 32,
     "metadata": {},
     "output_type": "execute_result"
    }
   ],
   "source": [
    "# find the max of each event and plot\n",
    "\n",
    "fig = plt.figure()\n",
    "ax = fig.add_subplot(111)\n",
    "\n",
    "ax.plot([1, 2, 3], [np.max(pupilLeft_fork1_filtered), np.max(pupilLeft_fork2_filtered), np.max(pupilLeft_fork3_filtered)], label = 'fork')\n",
    "\n",
    "#ax.plot([1, 2, 3], [np.max(pupilLeft_hot1_filtered), np.max(pupilLeft_hot2_filtered), np.max(pupilLeft_hot3_filtered)], label = 'hot')\n",
    "\n",
    "ax.plot([1, 2, 3], [np.max(pupilLeft_warm1_filtered), np.max(pupilLeft_warm2_filtered), np.max(pupilLeft_warm3_filtered)], label = 'warm')\n",
    "\n",
    "ax.plot([1, 2, 3], [np.max(pupilLeft_thumb1_filtered), np.max(pupilLeft_thumb2_filtered), np.max(pupilLeft_thumb3_filtered)], label = 'thumb')\n",
    "\n",
    "plt.legend()"
   ]
  },
  {
   "cell_type": "code",
   "execution_count": 224,
   "metadata": {},
   "outputs": [
    {
     "data": {
      "text/plain": [
       "[<matplotlib.lines.Line2D at 0x24f0a4df4e0>]"
      ]
     },
     "execution_count": 224,
     "metadata": {},
     "output_type": "execute_result"
    }
   ],
   "source": [
    "fig = plt.figure()\n",
    "ax = fig.add_subplot(111)\n",
    "\n",
    "ax.plot(pupilLeft_fork1_filtered)\n",
    "ax.plot(pupilLeft_fork2_filtered)\n",
    "ax.plot(pupilLeft_fork3_filtered)\n"
   ]
  },
  {
   "cell_type": "code",
   "execution_count": 225,
   "metadata": {},
   "outputs": [
    {
     "data": {
      "text/plain": [
       "[<matplotlib.lines.Line2D at 0x24f0a8770b8>]"
      ]
     },
     "execution_count": 225,
     "metadata": {},
     "output_type": "execute_result"
    }
   ],
   "source": [
    "fig = plt.figure()\n",
    "ax = fig.add_subplot(111)\n",
    "\n",
    "ax.plot(pupilLeft_hot1_filtered)\n",
    "ax.plot(pupilLeft_hot2_filtered)\n",
    "ax.plot(pupilLeft_hot3_filtered)\n"
   ]
  },
  {
   "cell_type": "code",
   "execution_count": 226,
   "metadata": {},
   "outputs": [
    {
     "data": {
      "text/plain": [
       "[<matplotlib.lines.Line2D at 0x24f0a8d6438>]"
      ]
     },
     "execution_count": 226,
     "metadata": {},
     "output_type": "execute_result"
    }
   ],
   "source": [
    "fig = plt.figure()\n",
    "ax = fig.add_subplot(111)\n",
    "\n",
    "ax.plot(pupilLeft_warm1_filtered)\n",
    "ax.plot(pupilLeft_warm2_filtered)\n",
    "ax.plot(pupilLeft_warm3_filtered)\n"
   ]
  },
  {
   "cell_type": "code",
   "execution_count": 227,
   "metadata": {},
   "outputs": [
    {
     "data": {
      "text/plain": [
       "[<matplotlib.lines.Line2D at 0x24f0a935e10>]"
      ]
     },
     "execution_count": 227,
     "metadata": {},
     "output_type": "execute_result"
    }
   ],
   "source": [
    "fig = plt.figure()\n",
    "ax = fig.add_subplot(111)\n",
    "\n",
    "ax.plot(pupilLeft_thumb1_filtered)\n",
    "ax.plot(pupilLeft_thumb2_filtered)\n",
    "ax.plot(pupilLeft_thumb3_filtered)\n"
   ]
  },
  {
   "cell_type": "code",
   "execution_count": null,
   "metadata": {},
   "outputs": [],
   "source": []
  }
 ],
 "metadata": {
  "kernelspec": {
   "display_name": "Python 3",
   "language": "python",
   "name": "python3"
  },
  "language_info": {
   "codemirror_mode": {
    "name": "ipython",
    "version": 3
   },
   "file_extension": ".py",
   "mimetype": "text/x-python",
   "name": "python",
   "nbconvert_exporter": "python",
   "pygments_lexer": "ipython3",
   "version": "3.6.5"
  }
 },
 "nbformat": 4,
 "nbformat_minor": 2
}
