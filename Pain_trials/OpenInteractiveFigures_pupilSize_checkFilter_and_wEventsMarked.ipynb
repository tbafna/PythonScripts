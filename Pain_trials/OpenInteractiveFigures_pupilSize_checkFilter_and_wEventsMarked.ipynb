{
 "cells": [
  {
   "cell_type": "code",
   "execution_count": 18,
   "metadata": {},
   "outputs": [
    {
     "name": "stdout",
     "output_type": "stream",
     "text": [
      "Using matplotlib backend: Qt5Agg\n"
     ]
    }
   ],
   "source": [
    "%matplotlib\n",
    "#%matplotlib inline\n",
    "\n",
    "import pickle"
   ]
  },
  {
   "cell_type": "markdown",
   "metadata": {},
   "source": [
    "# Choose a subject"
   ]
  },
  {
   "cell_type": "code",
   "execution_count": 24,
   "metadata": {},
   "outputs": [],
   "source": [
    "#subjectName = 'Per'\n",
    "subjectName = 'Torben'\n",
    "#subjectName = 'John'"
   ]
  },
  {
   "cell_type": "markdown",
   "metadata": {},
   "source": [
    "# Check filtering process"
   ]
  },
  {
   "cell_type": "markdown",
   "metadata": {},
   "source": [
    "## Blink removal"
   ]
  },
  {
   "cell_type": "code",
   "execution_count": 9,
   "metadata": {},
   "outputs": [],
   "source": [
    "# figure to view the filtering process after interpolation of nan values \n",
    "\n",
    "figx = pickle.load(open(r'C:\\DTU\\Results\\201907_PainTrial2' + '\\\\' + subjectName + '\\\\checkFiltering_leftPupil_blinkRemoval', 'rb'))\n",
    "\n",
    "figx.show() # Show the figure, edit it, etc.!\n"
   ]
  },
  {
   "cell_type": "markdown",
   "metadata": {},
   "source": [
    "## Hampel filter"
   ]
  },
  {
   "cell_type": "code",
   "execution_count": null,
   "metadata": {},
   "outputs": [],
   "source": [
    "# figure to view the filtering process hampel filter \n",
    "\n",
    "figx = pickle.load(open(r'C:\\DTU\\Results\\201907_PainTrial2' + '\\\\' + subjectName + '\\\\checkFiltering_leftPupil_hampelFilter', 'rb'))\n",
    "\n",
    "figx.show() # Show the figure, edit it, etc.!\n"
   ]
  },
  {
   "cell_type": "markdown",
   "metadata": {},
   "source": [
    "# Pins in the dark"
   ]
  },
  {
   "cell_type": "markdown",
   "metadata": {},
   "source": [
    "## LogEvents marked on complete pin expt"
   ]
  },
  {
   "cell_type": "code",
   "execution_count": 7,
   "metadata": {},
   "outputs": [],
   "source": [
    "# figure to view the pupil size during pain trials from pins in the dark\n",
    "\n",
    "figx = pickle.load(open(r'C:\\DTU\\Results\\201907_PainTrial2' + '\\\\' + subjectName +  '\\\\pupils_pin_dark_wLogEventsMarked', 'rb'))\n",
    "\n",
    "figx.show() # Show the figure, edit it, etc.!\n"
   ]
  },
  {
   "cell_type": "markdown",
   "metadata": {},
   "source": [
    "## Trials Averaged with standard deviation shown "
   ]
  },
  {
   "cell_type": "code",
   "execution_count": 3,
   "metadata": {},
   "outputs": [],
   "source": [
    "# figure to view the average pupil size for the pin trials with standard deviation\n",
    "\n",
    "figx = pickle.load(open(r'C:\\DTU\\Results\\201907_PainTrial2' + '\\\\' + subjectName +  '\\\\pupils_pin_dark_trialsAvg_wStdDev', 'rb'))\n",
    "\n",
    "figx.show()"
   ]
  },
  {
   "cell_type": "markdown",
   "metadata": {},
   "source": [
    "## Trials Averaged with error shown"
   ]
  },
  {
   "cell_type": "code",
   "execution_count": 22,
   "metadata": {},
   "outputs": [],
   "source": [
    "# figure to view the average pupil size for the pin trials with error\n",
    "\n",
    "figx = pickle.load(open(r'C:\\DTU\\Results\\201907_PainTrial2' + '\\\\' + subjectName +  '\\\\pupils_pin_dark_trialsAvg_wError', 'rb'))\n",
    "\n",
    "figx.show()"
   ]
  },
  {
   "cell_type": "markdown",
   "metadata": {},
   "source": [
    "# Hot cup in the dark"
   ]
  },
  {
   "cell_type": "code",
   "execution_count": 25,
   "metadata": {},
   "outputs": [],
   "source": [
    "# figure to view the pupil size during pain trials from hot cup in the dark\n",
    "\n",
    "# hand1\n",
    "figx = pickle.load(open(r'C:\\DTU\\Results\\201907_PainTrial2' + '\\\\' + subjectName +  '\\\\pupils_hot_dark_wLogEventsMarked_H1', 'rb'))\n",
    "\n",
    "figx.show() # Show the figure, edit it, etc.!\n",
    "\n",
    "\n",
    "# hand2\n",
    "figx = pickle.load(open(r'C:\\DTU\\Results\\201907_PainTrial2' + '\\\\' + subjectName +  '\\\\pupils_hot_dark_wLogEventsMarked_H2', 'rb'))\n",
    "\n",
    "figx.show() # Show the figure, edit it, etc.!\n"
   ]
  },
  {
   "cell_type": "markdown",
   "metadata": {},
   "source": [
    "# Pins in the light"
   ]
  },
  {
   "cell_type": "markdown",
   "metadata": {},
   "source": [
    "## LogEvents marked on complete pin expt"
   ]
  },
  {
   "cell_type": "code",
   "execution_count": 23,
   "metadata": {},
   "outputs": [],
   "source": [
    "# figure to view the pupil size during pain trials from pins in the light\n",
    "\n",
    "figx = pickle.load(open(r'C:\\DTU\\Results\\201907_PainTrial2' + '\\\\' + subjectName +  '\\\\pupils_pin_light_wLogEventsMarked', 'rb'))\n",
    "\n",
    "figx.show() # Show the figure, edit it, etc.!\n"
   ]
  },
  {
   "cell_type": "markdown",
   "metadata": {},
   "source": [
    "## Trials Averaged with standard deviation shown"
   ]
  },
  {
   "cell_type": "code",
   "execution_count": 7,
   "metadata": {},
   "outputs": [],
   "source": [
    "# figure to view the average pupil size for the pin trials with standard deviation\n",
    "\n",
    "figx = pickle.load(open(r'C:\\DTU\\Results\\201907_PainTrial2' + '\\\\' + subjectName +  '\\\\pupils_pin_light_trialsAvg_wStdDev', 'rb'))\n",
    "\n",
    "figx.show()"
   ]
  },
  {
   "cell_type": "markdown",
   "metadata": {},
   "source": [
    "## Trials Averaged with error shown"
   ]
  },
  {
   "cell_type": "code",
   "execution_count": 10,
   "metadata": {},
   "outputs": [],
   "source": [
    "# figure to view the average pupil size for the pin trials with error\n",
    "\n",
    "figx = pickle.load(open(r'C:\\DTU\\Results\\201907_PainTrial2' + '\\\\' + subjectName +  '\\\\pupils_pin_light_trialsAvg_wError', 'rb'))\n",
    "\n",
    "figx.show()"
   ]
  },
  {
   "cell_type": "markdown",
   "metadata": {},
   "source": [
    "# Hot cup in the light"
   ]
  },
  {
   "cell_type": "code",
   "execution_count": 17,
   "metadata": {},
   "outputs": [],
   "source": [
    "# figure to view the pupil size during pain trials from hot cup in the light\n",
    "\n",
    "# hand1\n",
    "figx = pickle.load(open(r'C:\\DTU\\Results\\201907_PainTrial2' + '\\\\' + subjectName +  '\\\\pupils_hot_light_wLogEventsMarked_H1', 'rb'))\n",
    "\n",
    "figx.show() # Show the figure, edit it, etc.!\n",
    "\n",
    "\n",
    "# hand2\n",
    "figx = pickle.load(open(r'C:\\DTU\\Results\\201907_PainTrial2' + '\\\\' + subjectName +  '\\\\pupils_hot_light_wLogEventsMarked_H2', 'rb'))\n",
    "\n",
    "figx.show() # Show the figure, edit it, etc.!\n"
   ]
  },
  {
   "cell_type": "code",
   "execution_count": null,
   "metadata": {},
   "outputs": [],
   "source": []
  }
 ],
 "metadata": {
  "kernelspec": {
   "display_name": "Python 3",
   "language": "python",
   "name": "python3"
  },
  "language_info": {
   "codemirror_mode": {
    "name": "ipython",
    "version": 3
   },
   "file_extension": ".py",
   "mimetype": "text/x-python",
   "name": "python",
   "nbconvert_exporter": "python",
   "pygments_lexer": "ipython3",
   "version": "3.6.5"
  }
 },
 "nbformat": 4,
 "nbformat_minor": 2
}
