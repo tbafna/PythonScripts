{
 "cells": [
  {
   "cell_type": "code",
   "execution_count": 6,
   "metadata": {},
   "outputs": [
    {
     "name": "stdout",
     "output_type": "stream",
     "text": [
      "Using matplotlib backend: Qt5Agg\n"
     ]
    }
   ],
   "source": [
    "import os\n",
    "import pandas as pd\n",
    "from openpyxl import load_workbook\n",
    "import numpy as np\n",
    "import matplotlib.pyplot as plt\n",
    "%matplotlib\n",
    "import pickle\n",
    "import statsmodels.api as sm\n",
    "from statsmodels.formula.api import ols\n",
    "import scipy.stats as stats\n",
    "import copy"
   ]
  },
  {
   "cell_type": "code",
   "execution_count": 4,
   "metadata": {},
   "outputs": [],
   "source": [
    "pathName = r'C:\\DTU\\Data\\201901_JanuaryExpt\\DataExtracted\\IndividualTrials\\Subject_Block_Session_Trial.xlsx'\n",
    "\n",
    "book = load_workbook(pathName)\n",
    "writer = pd.ExcelWriter(pathName, engine='openpyxl')\n",
    "writer.book = book\n",
    "\n",
    "df = pd.read_excel(open(pathName, 'rb'), sheet_name='Sheet1')\n",
    "\n",
    "df_woNa = copy.deepcopy(df)"
   ]
  },
  {
   "cell_type": "markdown",
   "metadata": {},
   "source": [
    "# Bar plots of baseline, reading and writing pupil size"
   ]
  },
  {
   "cell_type": "code",
   "execution_count": 7,
   "metadata": {},
   "outputs": [
    {
     "data": {
      "text/plain": [
       "[Text(0,0,'baseline'),\n",
       " Text(0,0,'reading start'),\n",
       " Text(0,0,'reading end'),\n",
       " Text(0,0,'writing start'),\n",
       " Text(0,0,'writing end')]"
      ]
     },
     "execution_count": 7,
     "metadata": {},
     "output_type": "execute_result"
    }
   ],
   "source": [
    "PlotTitle = 'pupilPattern'\n",
    "fig = plt.figure()\n",
    "ax1 = fig.add_subplot(1,1,1)\n",
    "\n",
    "plot_variables = ['PupilSizeAbsolute_baseline300', 'PupilSizeAbsolute_readingStarting300', 'PupilSizeAbsolute_readingEnding300',\\\n",
    "                 'PupilSizeAbsolute_writingStarting300', 'PupilSizeAbsolute_writingEnding300']\n",
    "\n",
    "for ind, variable in enumerate(plot_variables):\n",
    "    ax1.bar(ind, df[variable].mean(), yerr = df[variable].std())\n",
    "\n",
    "ax1.set_title(PlotTitle)\n",
    "ax1.set_xticks([0,1,2,3,4])\n",
    "ax1.set_xticklabels(['baseline', 'reading start', 'reading end', 'writing start', 'writing end'])"
   ]
  },
  {
   "cell_type": "markdown",
   "metadata": {},
   "source": [
    "# Pupil Patterns for some sessions of some participants"
   ]
  },
  {
   "cell_type": "code",
   "execution_count": 9,
   "metadata": {},
   "outputs": [
    {
     "data": {
      "text/plain": [
       "<matplotlib.legend.Legend at 0x259799315c0>"
      ]
     },
     "execution_count": 9,
     "metadata": {},
     "output_type": "execute_result"
    }
   ],
   "source": [
    "subjectID = 'bh1'\n",
    "block = '5'\n",
    "session = 2\n",
    "\n",
    "indices = np.logical_and(np.logical_and(np.array(df.SubjectID==subjectID), np.array(df.Block==block)), np.array(df.Session==session))\n",
    "\n",
    "PlotTitle = 'pupilPattern_' + subjectID + '_' + block + '_' + str(session) \n",
    "fig = plt.figure()\n",
    "ax1 = fig.add_subplot(1,1,1)\n",
    "\n",
    "\n",
    "trials = df.Trial[indices]\n",
    "trials_dict = dict()\n",
    "scores_list = list()\n",
    "\n",
    "for trialInd, trial in enumerate(trials):\n",
    "    # create a list of the variables for each trial\n",
    "    trials_dict[trial] = list()\n",
    "    scores_list.append(int(np.array(df['ScoreDifficultyNew'][indices])[trial]))\n",
    "    for ind, variable in enumerate(plot_variables):\n",
    "        trials_dict[trial].append(np.array(df[variable][indices])[trial])\n",
    "\n",
    "        \n",
    "        \n",
    "for ind, trialNum in enumerate(trials_dict):\n",
    "    \n",
    "    #print(trials_dict[trialNum])\n",
    "    ax1.plot(range(0,len(trials_dict[trialNum])), trials_dict[trialNum], '-o', label = str(int(trialNum)+1)+'_score'+str(scores_list[trialNum]))\n",
    "    \n",
    "ax1.set_xticks([0,1,2,3,4])\n",
    "ax1.set_xticklabels(['baseline', 'reading start', 'reading end', 'writing start', 'writing end'])\n",
    "ax1.set_title(PlotTitle)\n",
    "ax1.legend()"
   ]
  },
  {
   "cell_type": "code",
   "execution_count": 6,
   "metadata": {},
   "outputs": [
    {
     "name": "stdout",
     "output_type": "stream",
     "text": [
      "C:\\DTU\\Results\\201901_Expt\\Blinks\\MissingDataLengthHistograms\\ac\\ac__1__2019-02-11-11-18-30_1\n"
     ]
    },
    {
     "ename": "AttributeError",
     "evalue": "'tuple' object has no attribute 'show'",
     "output_type": "error",
     "traceback": [
      "\u001b[1;31m---------------------------------------------------------------------------\u001b[0m",
      "\u001b[1;31mAttributeError\u001b[0m                            Traceback (most recent call last)",
      "\u001b[1;32m<ipython-input-6-dd4925a4d2cd>\u001b[0m in \u001b[0;36m<module>\u001b[1;34m()\u001b[0m\n\u001b[0;32m     16\u001b[0m     \u001b[0mfigx\u001b[0m \u001b[1;33m=\u001b[0m \u001b[0mpickle\u001b[0m\u001b[1;33m.\u001b[0m\u001b[0mload\u001b[0m\u001b[1;33m(\u001b[0m\u001b[0mopen\u001b[0m\u001b[1;33m(\u001b[0m\u001b[0mf\u001b[0m\u001b[1;33m,\u001b[0m \u001b[1;34m'rb'\u001b[0m\u001b[1;33m)\u001b[0m\u001b[1;33m)\u001b[0m\u001b[1;33m\u001b[0m\u001b[0m\n\u001b[0;32m     17\u001b[0m \u001b[1;33m\u001b[0m\u001b[0m\n\u001b[1;32m---> 18\u001b[1;33m     \u001b[0mfigx\u001b[0m\u001b[1;33m.\u001b[0m\u001b[0mshow\u001b[0m\u001b[1;33m(\u001b[0m\u001b[1;33m)\u001b[0m \u001b[1;31m# Show the figure, edit it, etc.!\u001b[0m\u001b[1;33m\u001b[0m\u001b[0m\n\u001b[0m",
      "\u001b[1;31mAttributeError\u001b[0m: 'tuple' object has no attribute 'show'"
     ]
    }
   ],
   "source": [
    "subjectID = 'bh1'\n",
    "path_baseline = r'C:\\DTU\\Results\\201901_Expt\\Blinks\\MissingDataLengthHistograms\\ac'\n",
    "\n",
    "# create a list of all saved figures in the folder\n",
    "\n",
    "#path_baseline = path + '\\\\PupilBaseline' + '\\\\' + subjectID + '\\\\'\n",
    "\n",
    "files_baseline = []\n",
    "# r=root, d=directories, f = files\n",
    "for r, d, f in os.walk(path_baseline):\n",
    "    for file in f:\n",
    "        files_baseline.append(os.path.join(r, file))\n",
    "\n",
    "for f in files_baseline:\n",
    "    print(f)\n",
    "    figx = pickle.load(open(f, 'rb'))\n",
    "\n",
    "    figx.show() # Show the figure, edit it, etc.!\n"
   ]
  },
  {
   "cell_type": "code",
   "execution_count": null,
   "metadata": {},
   "outputs": [],
   "source": []
  }
 ],
 "metadata": {
  "kernelspec": {
   "display_name": "Python 3",
   "language": "python",
   "name": "python3"
  },
  "language_info": {
   "codemirror_mode": {
    "name": "ipython",
    "version": 3
   },
   "file_extension": ".py",
   "mimetype": "text/x-python",
   "name": "python",
   "nbconvert_exporter": "python",
   "pygments_lexer": "ipython3",
   "version": "3.7.3"
  }
 },
 "nbformat": 4,
 "nbformat_minor": 2
}
