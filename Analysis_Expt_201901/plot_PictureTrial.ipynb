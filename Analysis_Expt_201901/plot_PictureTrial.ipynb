{
 "cells": [
  {
   "cell_type": "code",
   "execution_count": 26,
   "metadata": {},
   "outputs": [],
   "source": [
    "import os\n",
    "import pandas as pd\n",
    "from openpyxl import load_workbook\n",
    "import numpy as np\n",
    "import matplotlib.pyplot as plt\n",
    "%matplotlib qt\n",
    "import pickle\n",
    "import statsmodels.api as sm\n",
    "from statsmodels.formula.api import ols\n",
    "import scipy.stats as stats\n",
    "import copy"
   ]
  },
  {
   "cell_type": "code",
   "execution_count": 39,
   "metadata": {},
   "outputs": [],
   "source": [
    "pathName = r'C:\\DTU\\Data\\201901_JanuaryExpt\\DataExtracted\\IndividualSessions_TrialAvg\\Subject_Block_Session_Picture.xlsx'\n",
    "corrFileName = r'C:\\DTU\\Data\\201901_JanuaryExpt\\DataExtracted\\IndividualSessions_TrialAvg\\Subject_Block_Session_PupilSizeCorrelation2.xlsx'\n",
    "\n",
    "\n",
    "\n",
    "df = pd.read_excel(open(pathName, 'rb'), sheet_name='Sheet1')\n",
    "df_woNa = copy.deepcopy(df)\n",
    "\n",
    "\n",
    "corr = pd.read_excel(open(corrFileName, 'rb'), sheet_name='Sheet1')\n",
    "corr_short = corr[corr.Correlation>0.75]\n",
    "\n",
    "\n",
    "\n"
   ]
  },
  {
   "cell_type": "code",
   "execution_count": 40,
   "metadata": {},
   "outputs": [],
   "source": [
    "DayNr = [day[0] for day in df.Day]\n",
    "\n",
    "df['DayNr'] = DayNr\n",
    "\n",
    "TypingTechnique = ['MS' if len(day)>1 else 'DT' for day in df.Day]\n",
    "\n",
    "df['TypingTechnique'] = TypingTechnique\n",
    "\n"
   ]
  },
  {
   "cell_type": "code",
   "execution_count": 41,
   "metadata": {},
   "outputs": [],
   "source": [
    "df_performance = df[['Subject', 'Day', 'TypingTechnique', 'DayNr', 'DayDT', 'Session', 'ScoreDifficulty', 'AttendedButNotSelected', 'CharacterPerTotalTime']]\n",
    "df_performance = df_performance.dropna()\n",
    "\n",
    "df.drop(columns=['AttendedButNotSelected', 'CharacterPerTotalTime'], inplace=True)"
   ]
  },
  {
   "cell_type": "code",
   "execution_count": 49,
   "metadata": {},
   "outputs": [],
   "source": [
    "df1 = df.merge(corr_short, on=['Subject','Day', 'Session'])\n",
    "\n",
    "df2 = df1.merge(df_performance, on=['Subject','Day', 'Session', 'ScoreDifficulty', 'TypingTechnique', 'DayNr', 'DayDT'])\n",
    "\n",
    "\n",
    "df2.to_csv(r'C:\\DTU\\Data\\201901_JanuaryExpt\\DataExtracted\\IndividualSessions_TrialAvg\\Subject_Block_Session_Picture.csv', sep=',',na_rep='', header=True, index=False)\n"
   ]
  },
  {
   "cell_type": "code",
   "execution_count": 50,
   "metadata": {
    "scrolled": true
   },
   "outputs": [],
   "source": [
    "df_performance = df_performance[df_performance.TypingTechnique=='DT']\n",
    "df2 = df2[df2.TypingTechnique=='DT']"
   ]
  },
  {
   "cell_type": "markdown",
   "metadata": {},
   "source": [
    "# Performance for Picture"
   ]
  },
  {
   "cell_type": "code",
   "execution_count": 43,
   "metadata": {},
   "outputs": [],
   "source": [
    "variable = 'CharacterPerTotalTime'\n",
    "\n",
    "fig = plt.figure(figsize=(15,15))\n",
    "ax = fig.add_subplot()\n",
    "\n",
    "for i in np.unique(df2.ScoreDifficulty):\n",
    "    ax.errorbar(i, df2[variable][df2.ScoreDifficulty==i].mean(), marker = 'o', color='gray', yerr=df2[variable][df2.ScoreDifficulty==i].std()/np.sqrt(df2[variable][df2.ScoreDifficulty==i].count()), markersize=12)\n",
    "\n",
    "ax.set_ylabel('Typing speed [in WPM]')\n",
    "ax.set_xlabel('Score')\n",
    "plt.rcParams.update({'font.size': 32})\n",
    "plt.tight_layout()\n",
    "\n",
    "fig.savefig(r'C:\\DTU\\Results\\201901_Expt\\ETRA\\picture_TypingSpeed.png', dpi = 300, bbox_to_anchor = (0.95, 0.1))"
   ]
  },
  {
   "cell_type": "code",
   "execution_count": 56,
   "metadata": {},
   "outputs": [],
   "source": [
    "variable = 'AttendedButNotSelected'\n",
    "\n",
    "fig = plt.figure(figsize=(15,15))\n",
    "ax = fig.add_subplot()\n",
    "\n",
    "for i in np.unique(df2.ScoreDifficulty):\n",
    "    ax.errorbar(i, df2[variable][df2.ScoreDifficulty==i].mean(), marker = 'o', color='gray', yerr=df2[variable][df2.ScoreDifficulty==i].std()/np.sqrt(df2[variable][df2.ScoreDifficulty==i].count()), markersize=12)\n",
    "\n",
    "ax.set_ylabel('Attended but not selected rate')\n",
    "ax.set_xlabel('Score')\n",
    "plt.rcParams.update({'font.size': 32})\n",
    "plt.tight_layout()\n",
    "\n",
    "fig.savefig(r'C:\\DTU\\Results\\201901_Expt\\ETRA\\picture_AttendedButNotSelected.png', dpi = 300, bbox_to_anchor = (0.95, 0.1))"
   ]
  },
  {
   "cell_type": "markdown",
   "metadata": {},
   "source": [
    "## Blinks"
   ]
  },
  {
   "cell_type": "code",
   "execution_count": 57,
   "metadata": {},
   "outputs": [],
   "source": [
    "variable = 'BlinkFrequency'\n",
    "\n",
    "fig = plt.figure(figsize=(15,15))\n",
    "ax = fig.add_subplot()\n",
    "\n",
    "for i in np.unique(df2.ScoreDifficulty):\n",
    "    ax.errorbar(i, df2[variable][df2.ScoreDifficulty==i].mean(), marker = 'o', color='gray', yerr=df2[variable][df2.ScoreDifficulty==i].std()/np.sqrt(df2[variable][df2.ScoreDifficulty==i].count()), markersize=12)\n",
    "\n",
    "ax.set_ylabel('Blink Frequency')\n",
    "ax.set_xlabel('Score')\n",
    "plt.rcParams.update({'font.size': 32})\n",
    "plt.tight_layout()\n",
    "\n",
    "fig.savefig(r'C:\\DTU\\Results\\201901_Expt\\ETRA\\picture_BlinkFrequency.png', dpi = 300, bbox_to_anchor = (0.95, 0.1))"
   ]
  },
  {
   "cell_type": "code",
   "execution_count": 58,
   "metadata": {},
   "outputs": [],
   "source": [
    "variable = 'BlinkDuration'\n",
    "\n",
    "fig = plt.figure(figsize=(15,15))\n",
    "ax = fig.add_subplot()\n",
    "\n",
    "for i in np.unique(df2.ScoreDifficulty):\n",
    "    ax.errorbar(i, df2[variable][df2.ScoreDifficulty==i].mean(), marker = 'o', color='gray', yerr=df2[variable][df2.ScoreDifficulty==i].std()/np.sqrt(df2[variable][df2.ScoreDifficulty==i].count()), markersize=12)\n",
    "\n",
    "ax.set_ylabel('Blink Duration')\n",
    "ax.set_xlabel('Score')\n",
    "plt.rcParams.update({'font.size': 32})\n",
    "plt.tight_layout()\n",
    "\n",
    "fig.savefig(r'C:\\DTU\\Results\\201901_Expt\\ETRA\\picture_BlinkDuration.png', dpi = 300, bbox_to_anchor = (0.95, 0.1))"
   ]
  },
  {
   "cell_type": "code",
   "execution_count": 59,
   "metadata": {},
   "outputs": [],
   "source": [
    "variable = 'InterBlinkDuration'\n",
    "\n",
    "fig = plt.figure(figsize=(15,15))\n",
    "ax = fig.add_subplot()\n",
    "\n",
    "for i in np.unique(df2.ScoreDifficulty):\n",
    "    ax.errorbar(i, df2[variable][df2.ScoreDifficulty==i].mean(), marker = 'o', color='gray', yerr=df2[variable][df2.ScoreDifficulty==i].std()/np.sqrt(df2[variable][df2.ScoreDifficulty==i].count()), markersize=12)\n",
    "\n",
    "ax.set_ylabel('Blink Interval')\n",
    "ax.set_xlabel('Score')\n",
    "plt.rcParams.update({'font.size': 32})\n",
    "plt.tight_layout()\n",
    "plt.ylim([0,15])\n",
    "\n",
    "fig.savefig(r'C:\\DTU\\Results\\201901_Expt\\ETRA\\picture_InterBlinkDuration.png', dpi = 300, bbox_to_anchor = (0.95, 0.1))"
   ]
  },
  {
   "cell_type": "markdown",
   "metadata": {},
   "source": [
    "# Pupil size"
   ]
  },
  {
   "cell_type": "code",
   "execution_count": 61,
   "metadata": {},
   "outputs": [],
   "source": [
    "variable = 'PupilMean'\n",
    "\n",
    "fig = plt.figure(figsize=(15,15))\n",
    "ax = fig.add_subplot()\n",
    "\n",
    "for i in np.unique(df2.ScoreDifficulty):\n",
    "    ax.errorbar(i, df2[variable][df2.ScoreDifficulty==i].mean(), marker = 'o', color='gray', yerr=df2[variable][df2.ScoreDifficulty==i].std()/np.sqrt(df2[variable][df2.ScoreDifficulty==i].count()), markersize=12)\n",
    "\n",
    "ax.set_ylabel('Pupil Dilation')\n",
    "ax.set_xlabel('Score')\n",
    "plt.rcParams.update({'font.size': 32})\n",
    "plt.tight_layout()\n",
    "\n",
    "\n",
    "fig.savefig(r'C:\\DTU\\Results\\201901_Expt\\ETRA\\picture_pupilMean.png', dpi = 300, bbox_to_anchor = (0.95, 0.1))"
   ]
  },
  {
   "cell_type": "code",
   "execution_count": null,
   "metadata": {},
   "outputs": [],
   "source": []
  }
 ],
 "metadata": {
  "kernelspec": {
   "display_name": "Python 3",
   "language": "python",
   "name": "python3"
  },
  "language_info": {
   "codemirror_mode": {
    "name": "ipython",
    "version": 3
   },
   "file_extension": ".py",
   "mimetype": "text/x-python",
   "name": "python",
   "nbconvert_exporter": "python",
   "pygments_lexer": "ipython3",
   "version": "3.7.3"
  }
 },
 "nbformat": 4,
 "nbformat_minor": 2
}
