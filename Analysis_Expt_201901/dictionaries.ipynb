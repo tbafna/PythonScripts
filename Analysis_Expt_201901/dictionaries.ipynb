{
 "cells": [
  {
   "cell_type": "code",
   "execution_count": 1,
   "metadata": {},
   "outputs": [],
   "source": [
    "import os"
   ]
  },
  {
   "cell_type": "code",
   "execution_count": 3,
   "metadata": {},
   "outputs": [],
   "source": [
    "dic_phraseuser = dict()\n",
    "\n",
    "dic_phraseUser = {\n",
    "    \"2019-2-6-15-44-15_1\" : [2, 3, 6],\n",
    "    \"2019-2-6-16-19-9_2\" : [1, 3, 6, 7],\n",
    "    \"2019-2-12-11-21-21_2\" : [0],\n",
    "    \"2019-2-14-14-28-49_1\" : [0, 2, 3],\n",
    "    \"2019-2-14-14-45-49_2\" : [0, 5, 6],\n",
    "    '2019-1-29-14-19-26_1' : [0, 3, 4],\n",
    "    '2019-1-29-14-40-36_2' : [0, 1, 2],\n",
    "    '2019-1-30-14-29-29_2' : [4],\n",
    "    '2019-1-31-9-12-2_1' : [3],\n",
    "    '2019-1-31-9-22-49_1stPart_2' : [4],\n",
    "    '2019-3-5-9-15-11_1' : [1],\n",
    "    '2019-2-21-15-55-56_2' : [2],\n",
    "    '2019-1-30-15-19-36_2' : [1],\n",
    "    '2019-1-30-15-4-30_1' : [0]\n",
    "    \n",
    "}"
   ]
  },
  {
   "cell_type": "code",
   "execution_count": null,
   "metadata": {},
   "outputs": [],
   "source": [
    "if '2019-2-6-15-44-15_1' in full_path:\n",
    "        index_to_be_removed = [2, 3, 6]\n",
    "    elif '2019-2-6-16-19-9_2' in full_path:\n",
    "        index_to_be_removed = [1, 3, 6, 7]\n",
    "    elif '2019-2-12-11-21-21_2' in full_path:\n",
    "        index_to_be_removed = [0]\n",
    "    elif '2019-2-14-14-28-49_1' in full_path: # ac_session3_1\n",
    "        index_to_be_removed = [0, 2, 3]\n",
    "    elif '2019-2-14-14-45-49_2' in full_path: # ac_session3_2\n",
    "        index_to_be_removed = [0, 5, 6]\n",
    "    elif '2019-1-29-14-19-26_1' in full_path: # bh1_session2_1\n",
    "        index_to_be_removed = [0, 3, 4]\n",
    "    elif '2019-1-29-14-40-36_2' in full_path: # bh1_session2_2\n",
    "        index_to_be_removed = [0, 1, 2]\n",
    "    elif '2019-1-30-14-29-29_2' in full_path: #bh1_session3_2\n",
    "        index_to_be_removed = [4]\n",
    "    elif '2019-1-31-9-12-2_1' in full_path: # bh1_session4_1\n",
    "        index_to_be_removed = [3]\n",
    "    elif '2019-1-31-9-22-49_1stPart_2' in full_path: # bh1_session4_2_part1\n",
    "        index_to_be_removed = [4]\n",
    "    elif '2019-3-5-9-15-11_1' in full_path: # bh2_session5_1\n",
    "        index_to_be_removed = [1]\n",
    "    elif '2019-2-21-15-55-56_2' in full_path: # ch_session5_2\n",
    "        index_to_be_removed = [2]\n",
    "    elif '2019-1-30-15-19-36_2' in full_path: #jm_session2_2\n",
    "        index_to_be_removed = [1]\n",
    "    elif '2019-1-30-15-4-30_1' in full_path: # jm_session2_1\n",
    "        index_to_be_removed = [0]\n",
    "    else:\n",
    "        index_to_be_removed = []"
   ]
  },
  {
   "cell_type": "code",
   "execution_count": 4,
   "metadata": {},
   "outputs": [
    {
     "name": "stdout",
     "output_type": "stream",
     "text": [
      "[2]\n"
     ]
    }
   ],
   "source": [
    "if '2019-2-21-15-55-56_2' in dic_phraseStim:\n",
    "    index_ = dic_phraseStim['2019-2-21-15-55-56_2']\n",
    "    print(index_)"
   ]
  }
 ],
 "metadata": {
  "kernelspec": {
   "display_name": "Python 3",
   "language": "python",
   "name": "python3"
  },
  "language_info": {
   "codemirror_mode": {
    "name": "ipython",
    "version": 3
   },
   "file_extension": ".py",
   "mimetype": "text/x-python",
   "name": "python",
   "nbconvert_exporter": "python",
   "pygments_lexer": "ipython3",
   "version": "3.6.5"
  }
 },
 "nbformat": 4,
 "nbformat_minor": 2
}
