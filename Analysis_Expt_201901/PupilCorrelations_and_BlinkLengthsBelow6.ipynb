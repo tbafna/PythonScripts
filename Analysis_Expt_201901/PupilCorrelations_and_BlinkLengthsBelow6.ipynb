{
 "cells": [
  {
   "cell_type": "code",
   "execution_count": 1,
   "metadata": {},
   "outputs": [
    {
     "name": "stdout",
     "output_type": "stream",
     "text": [
      "Using matplotlib backend: Qt5Agg\n"
     ]
    }
   ],
   "source": [
    "import os\n",
    "import pandas as pd\n",
    "from openpyxl import load_workbook\n",
    "import numpy as np\n",
    "import matplotlib.pyplot as plt\n",
    "%matplotlib\n",
    "import pickle\n",
    "import statsmodels.api as sm\n",
    "from statsmodels.formula.api import ols\n",
    "import scipy.stats as stats\n",
    "import copy"
   ]
  },
  {
   "cell_type": "code",
   "execution_count": 3,
   "metadata": {},
   "outputs": [],
   "source": [
    "pathName = r'C:\\DTU\\Data\\201901_JanuaryExpt\\DataExtracted\\IndividualSessions_TrialAvg\\Subject_Block_Session.xlsx'\n",
    "\n",
    "book = load_workbook(pathName)\n",
    "writer = pd.ExcelWriter(pathName, engine='openpyxl')\n",
    "writer.book = book\n",
    "\n",
    "df = pd.read_excel(open(pathName, 'rb'), sheet_name='Sheet1')\n",
    "\n",
    "df_woNa = copy.deepcopy(df)\n",
    "df_woNa = df_woNa.dropna()\n"
   ]
  },
  {
   "cell_type": "code",
   "execution_count": 4,
   "metadata": {},
   "outputs": [
    {
     "data": {
      "text/plain": [
       "-0.5707915022246285"
      ]
     },
     "execution_count": 4,
     "metadata": {},
     "output_type": "execute_result"
    }
   ],
   "source": [
    "df_woNa['PupilSizeCorrelationRL'].corr(df_woNa['BlinkLengthBelow6'])"
   ]
  },
  {
   "cell_type": "code",
   "execution_count": null,
   "metadata": {},
   "outputs": [],
   "source": []
  }
 ],
 "metadata": {
  "kernelspec": {
   "display_name": "Python 3",
   "language": "python",
   "name": "python3"
  },
  "language_info": {
   "codemirror_mode": {
    "name": "ipython",
    "version": 3
   },
   "file_extension": ".py",
   "mimetype": "text/x-python",
   "name": "python",
   "nbconvert_exporter": "python",
   "pygments_lexer": "ipython3",
   "version": "3.7.3"
  }
 },
 "nbformat": 4,
 "nbformat_minor": 2
}
