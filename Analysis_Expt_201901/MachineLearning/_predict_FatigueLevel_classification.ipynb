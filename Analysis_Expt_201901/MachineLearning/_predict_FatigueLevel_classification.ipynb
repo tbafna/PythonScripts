{
 "cells": [
  {
   "cell_type": "code",
   "execution_count": 1,
   "metadata": {},
   "outputs": [],
   "source": [
    "import os\n",
    "import pandas as pd\n",
    "from sklearn.linear_model import LinearRegression\n",
    "from sklearn import linear_model\n",
    "import numpy as np\n",
    "from sklearn.neighbors import KNeighborsRegressor\n",
    "import matplotlib.pyplot as plt\n",
    "import scipy.linalg as lng\n",
    "import matplotlib\n",
    "from sklearn.cluster import KMeans\n",
    "import operator\n",
    "%matplotlib qt\n",
    "from sklearn.decomposition import PCA\n",
    "from scipy.cluster.hierarchy import dendrogram, linkage\n",
    "from matplotlib import pyplot as plt\n",
    "import seaborn as sns\n",
    "from sklearn.tree import DecisionTreeClassifier\n",
    "from sklearn.metrics import confusion_matrix\n",
    "from sklearn.linear_model import LinearRegression\n",
    "from sklearn.linear_model import LogisticRegression\n",
    "from sklearn.svm import SVR\n",
    "import statsmodels.formula.api as smf\n",
    "import statsmodels.api as sm\n",
    "import mord\n",
    "from sklearn.model_selection import cross_val_score, GridSearchCV\n",
    "from sklearn.preprocessing import MinMaxScaler\n",
    "from sklearn.ensemble import RandomForestRegressor\n",
    "from sklearn.ensemble import AdaBoostRegressor\n",
    "from sklearn.tree import DecisionTreeRegressor\n",
    "import random\n",
    "import copy\n",
    "import math\n",
    "from sklearn.tree import export_graphviz\n",
    "import eli5\n",
    "from eli5.sklearn import PermutationImportance\n",
    "from sklearn.model_selection import StratifiedKFold\n",
    "from sklearn.model_selection import train_test_split\n",
    "from sklearn.metrics import confusion_matrix\n",
    "import pydot\n",
    "from sklearn import preprocessing, metrics\n",
    "os.environ[\"PATH\"] += os.pathsep + 'C:/Program Files (x86)/Graphviz2.38/bin/'"
   ]
  },
  {
   "cell_type": "code",
   "execution_count": 2,
   "metadata": {},
   "outputs": [],
   "source": [
    "def center(X):\n",
    "    \"\"\" Center the columns (variables) of a data matrix to zero mean.\n",
    "        \n",
    "        X, MU = center(X) centers the observations of a data matrix such that each variable\n",
    "        (column) has zero mean and also returns a vector MU of mean values for each variable.\n",
    "     \"\"\" \n",
    "    n = X.shape[0]\n",
    "    mu = np.nanmean(X,0)\n",
    "    #X = X - np.ones((n,1)) * mu\n",
    "    X = X - mu\n",
    "    \n",
    "    return X, mu"
   ]
  },
  {
   "cell_type": "code",
   "execution_count": 3,
   "metadata": {},
   "outputs": [],
   "source": [
    "def normalize(X):\n",
    "    \"\"\"Normalize the columns (variables) of a data matrix to unit Euclidean length.\n",
    "    X, MU, D = normalize(X)\n",
    "    i) centers and scales the observations of a data matrix such\n",
    "    that each variable (column) has unit Euclidean length. For a normalized matrix X,\n",
    "    X'*X is equivalent to the correlation matrix of X.\n",
    "    ii) returns a vector MU of mean values for each variable.\n",
    "    iii) returns a vector D containing the Euclidean lengths for each original variable.\n",
    "    \n",
    "    \"\"\"\n",
    "\n",
    "    n = np.size(X, 0)\n",
    "    X, mu = center(X)\n",
    "    #X = np.ma.array(X, mask=np.isnan(X))\n",
    "    \n",
    "    # find the norm of each column, but only removing the nan values from that column\n",
    "    d_compile = list()\n",
    "    for column_ in X.columns:\n",
    "        Xcopy = copy.deepcopy(X)\n",
    "        Xcopy.dropna(subset = [column_], inplace=True )\n",
    "        d_compile.append(np.linalg.norm(Xcopy[column_], ord=2))\n",
    "        \n",
    "    #d = np.linalg.norm(X[~np.isnan(X)], ord = 2, axis = 0)\n",
    "    if len(np.where(d_compile==0)[0]) > 1:\n",
    "        d_compile[np.where(d_compile==0)[0]] = 1\n",
    "    X = np.divide(X, np.ones((n,1)) * d_compile)\n",
    "    return X, mu, d_compile"
   ]
  },
  {
   "cell_type": "code",
   "execution_count": 7,
   "metadata": {
    "scrolled": false
   },
   "outputs": [
    {
     "name": "stderr",
     "output_type": "stream",
     "text": [
      "C:\\ProgramData\\Anaconda3\\lib\\site-packages\\ipykernel_launcher.py:31: SettingWithCopyWarning: \n",
      "A value is trying to be set on a copy of a slice from a DataFrame.\n",
      "Try using .loc[row_indexer,col_indexer] = value instead\n",
      "\n",
      "See the caveats in the documentation: http://pandas.pydata.org/pandas-docs/stable/indexing.html#indexing-view-versus-copy\n",
      "C:\\ProgramData\\Anaconda3\\lib\\site-packages\\ipykernel_launcher.py:39: SettingWithCopyWarning: \n",
      "A value is trying to be set on a copy of a slice from a DataFrame.\n",
      "Try using .loc[row_indexer,col_indexer] = value instead\n",
      "\n",
      "See the caveats in the documentation: http://pandas.pydata.org/pandas-docs/stable/indexing.html#indexing-view-versus-copy\n"
     ]
    }
   ],
   "source": [
    "data = pd.read_excel(r'C:\\DTU\\Data\\201901_JanuaryExpt\\DataExtracted\\MachineLearning\\Subject_Block_Session_Trial_Fatigue'\\\n",
    "                     '_allTrials.xlsx')\n",
    "\n",
    "Y1 = np.array(data.Fatigue.tolist())\n",
    "\n",
    "data_woNaInY = data.dropna(subset=['Fatigue'], axis=0) # drop only nan in ScoreDifficulty\n",
    "Y1_wNanInData = ['HF' if fatigueR>=4 else 'LF' for fatigueR in data_woNaInY.Fatigue.tolist()]\n",
    "\n",
    "\n",
    "data_woNa = data.dropna(inplace=False, axis=0) # drop nan values in all data\n",
    "Y1_woNa = ['HF' if fatigueR>=4 else 'LF' for fatigueR in data_woNa.Fatigue.tolist()]\n",
    "\n",
    "\n",
    "# convert some data to categorical first\n",
    "cols_categorical = ['ScoreDifficulty', 'Subject', 'Day', 'DayDT', 'Session', 'SessionDifficulty', 'Trial','Language', \\\n",
    "                    'Fatigue']\n",
    "for cols in cols_categorical:\n",
    "    data[cols] = data[cols].astype('category')\n",
    "    \n",
    "\n",
    "X = data.drop(['ScoreDifficulty', 'Subject', 'Day', 'DayDT', 'Session', 'SessionDifficulty', 'Trial','Language', \\\n",
    "              'TypingTechnique', 'Fatigue'], axis = 1)\n",
    "\n",
    "\n",
    "# data without nan\n",
    "le = preprocessing.LabelEncoder()\n",
    "le.fit(data_woNa.SessionDifficulty.tolist())\n",
    "le.classes_\n",
    "SessionDifficulty_transformed = le.transform(data_woNa.SessionDifficulty.tolist())\n",
    "\n",
    "data_woNa[\"Session_Difficulty\"] = SessionDifficulty_transformed\n",
    "\n",
    "# data without nan\n",
    "le = preprocessing.LabelEncoder()\n",
    "le.fit(data_woNa.Session.tolist())\n",
    "le.classes_\n",
    "Session_transformed = le.transform(data_woNa.Session.tolist())\n",
    "\n",
    "data_woNa[\"SessionNr\"] = Session_transformed\n",
    "\n",
    "X_woNa = data_woNa.drop(['ScoreDifficulty', 'Subject', 'Day', 'DayDT', 'Session', 'SessionDifficulty', 'Trial','Language',\\\n",
    "              'TypingTechnique', 'Fatigue'], axis = 1)\n",
    "\n",
    "#X.drop(['ScoreDifficulty'], axis=1, inplace=True)\n",
    "\n",
    "X_norm, mu, d = normalize(X)\n",
    "\n",
    "X_norm_woNa, mu, d = normalize(X_woNa)\n",
    "\n"
   ]
  },
  {
   "cell_type": "code",
   "execution_count": 9,
   "metadata": {},
   "outputs": [],
   "source": [
    "for columnPlot in data_woNa.columns:\n",
    "    if columnPlot not in ['ScoreDifficulty', 'Subject', 'Day', 'DayDT', 'Session', 'SessionDifficulty', 'Trial','Language'\\\n",
    "                    ,'Fatigue', 'TypingTechnique', 'FatigueLevel']:\n",
    "        #print(columnPlot)\n",
    "        data_woNa.boxplot(column=columnPlot, by='FatigueLevel', showmeans = True)\n",
    "        fileName = r'C:\\DTU\\Results\\201901_Expt\\Fatigue\\FatigueLevelCorrelations' + '\\\\' + columnPlot + '.png'\n",
    "        plt.savefig(fileName, dpi=300)\n",
    "        plt.close()"
   ]
  },
  {
   "cell_type": "code",
   "execution_count": null,
   "metadata": {},
   "outputs": [],
   "source": [
    "corr = X.corr()\n",
    "# Generate a mask for the upper triangle\n",
    "mask = np.zeros_like(corr, dtype=np.bool)\n",
    "mask[np.triu_indices_from(mask)] = True\n",
    "\n",
    "# Set up the matplotlib figure\n",
    "f, ax = plt.subplots(figsize=(10, 10))\n",
    "\n",
    "# Generate a custom diverging colormap\n",
    "cmap = sns.diverging_palette(220, 10, as_cmap=True)\n",
    "\n",
    "# Draw the heatmap with the mask and correct aspect ratio\n",
    "g = sns.heatmap(corr, mask=mask, cmap=cmap, vmin=-1.0, vmax=1.0, center=0,\n",
    "            square=True, linewidths=.5, cbar_kws={\"shrink\": .5}, xticklabels='auto')\n",
    "#plt.xticks(rotation=15)\n",
    "plt.tight_layout()\n",
    "plt.rcParams.update({'font.size': 12})\n",
    "plt.savefig(r'C:\\DTU\\Results\\201901_Expt\\MachineLearning\\correlationPlot', dpi=600)"
   ]
  },
  {
   "cell_type": "code",
   "execution_count": null,
   "metadata": {},
   "outputs": [],
   "source": [
    "X.hist()"
   ]
  },
  {
   "cell_type": "code",
   "execution_count": 8,
   "metadata": {},
   "outputs": [],
   "source": [
    "\n",
    "\n",
    "\"\"\"\n",
    "le = preprocessing.LabelEncoder()\n",
    "le.fit(Y1)\n",
    "le.classes_\n",
    "Y = le.transform(Y1)\n",
    "\n",
    "\n",
    "le = preprocessing.LabelEncoder()\n",
    "le.fit(Y1_wNanInData)\n",
    "le.classes_\n",
    "Y_wNanInData = le.transform(Y1_wNanInData)\n",
    "\n",
    "X_norm_wY = copy.deepcopy(X_norm)\n",
    "X_norm_wY['y'] = Y_wNanInData\n",
    "\n",
    "\"\"\"\n",
    "\n",
    "\n",
    "# data without nan\n",
    "le = preprocessing.LabelEncoder()\n",
    "le.fit(Y1_woNa)\n",
    "le.classes_\n",
    "Y_woNa = le.transform(Y1_woNa)\n",
    "\n",
    "X_norm_woNa_wY = copy.deepcopy(X_norm_woNa)\n",
    "X_norm_woNa_wY['y'] = Y_woNa\n"
   ]
  },
  {
   "cell_type": "markdown",
   "metadata": {},
   "source": [
    "# PCA"
   ]
  },
  {
   "cell_type": "code",
   "execution_count": null,
   "metadata": {},
   "outputs": [],
   "source": [
    "n, p = np.shape(X_norm_woNa)\n",
    "u, d, v = np.linalg.svd(X_norm_woNa)\n",
    "\n",
    "# Plot the two components and see if the perceived difficulty levels are differentiated\n",
    "L = v # the loading\n",
    "k = len(d)\n",
    "d = d[0:k]\n",
    "u = u[:, :k]\n",
    "v = v[:k, :] # Matrix that is returned from svd is ordered differently, therefor different slicing\n",
    "\n",
    "S = np.matmul(u, np.diag(d)) # The scores\n"
   ]
  },
  {
   "cell_type": "code",
   "execution_count": null,
   "metadata": {},
   "outputs": [],
   "source": [
    "d_varianceExplained = list()\n",
    "# Plot the variance explained by n components:\n",
    "\n",
    "plt.figure()\n",
    "plt.bar(range(1, len(d)+1), (d/sum(d))*100)\n",
    "\n",
    "for i in range(1, len(d)+1):\n",
    "    #print(len(d[0:i]), (sum(d[0:i])/sum(d))*100)\n",
    "    d_varianceExplained.append((sum(d[0:i])/sum(d))*100)\n",
    "\n",
    "plt.grid(b=True)\n",
    "#d_varianceExplained = (d[0]/sum(d))*100\n",
    "plt.plot(range(1, len(d)+1), d_varianceExplained)\n",
    "plt.xlabel('number of components')\n",
    "plt.ylabel('Percentage variance explained')\n",
    "plt.xticks(range(1,len(d)+1))\n",
    "plt.yticks(range(10,110,10))\n",
    "plt.ylim([0,105])"
   ]
  },
  {
   "cell_type": "code",
   "execution_count": null,
   "metadata": {},
   "outputs": [],
   "source": [
    "\n",
    "# for perceived score of 1, plot pc2 vs pc1:\n",
    "#colorList = ['b', 'r', 'y', 'c', 'm', 'pink', 'g']\n",
    "\n",
    "indices = Y_woNa==0\n",
    "plt.figure(figsize=(12, 9))\n",
    "plt.plot(S[indices, 0], S[indices, 1], 'ob', label=0)\n",
    "\n",
    "indices = Y_woNa==4\n",
    "plt.plot(S[indices, 0], S[indices, 1], 'or', label=1)\n",
    "\n",
    "plt.xlabel('Principal Component 1')\n",
    "plt.ylabel('Principal Component 2')\n",
    "\n",
    "#for i in range(1,8):\n",
    "#    indices = Y==i\n",
    "#    plt.plot(S[indices, 1], S[indices,0], 'o', markerfacecolor=colorList[i-1], markeredgecolor=colorList[i-1], label=i)\n",
    "plt.rcParams.update({'font.size': 24})\n",
    "plt.legend()\n",
    "plt.tight_layout()\n",
    "#plt.savefig(r'M:\\Documents\\Courses\\Credits\\2019_04_August\\Computational Data Analysis\\Project\\Results\\perceivedDifficulty\\PCA\\PC1_PC2', dpi=600)\n"
   ]
  },
  {
   "cell_type": "code",
   "execution_count": null,
   "metadata": {},
   "outputs": [],
   "source": [
    "# Biplot and factor loadings\n",
    "xs = S[:,0]\n",
    "ys = S[:,1]\n",
    "coeff = np.transpose(v[0:2,:])\n",
    "n = coeff.shape[0]\n",
    "\n",
    "scalex = 1.0/(xs.max() - xs.min())\n",
    "scaley = 1.0/(ys.max() - ys.min())\n",
    "plt.figure(figsize=(12, 9))\n",
    "plt.scatter(xs * scalex,ys * scaley, c = Y_woNa, alpha=0.5)\n",
    "plt.colorbar()\n",
    "\n",
    "n = 10\n",
    "\n",
    "for i in range(n):\n",
    "    \n",
    "    label_ = 'Var'+str(i+1)+' : '+X_norm.columns[i]\n",
    "    print(label_)\n",
    "    plt.arrow(0, 0, coeff[i,0], coeff[i,1], color = 'r', alpha = 1)\n",
    "    plt.text(coeff[i,0]*1.3, coeff[i,1]*1.5, \"Var\"+str(i+1), color = 'black', ha = 'center', va = 'center')\n",
    "    \n",
    "plt.xlabel('Principal component 1')\n",
    "plt.ylabel('Principal component 2')\n",
    "plt.xlim(-0.75,0.75)\n",
    "plt.ylim(-0.75,0.75)\n",
    "\n",
    "plt.grid()\n",
    "plt.rcParams.update({'font.size': 24})\n",
    "plt.tight_layout()\n",
    "#plt.savefig(r'M:\\Documents\\Courses\\Credits\\2019_04_August\\Computational Data Analysis\\Project\\Results\\perceivedDifficulty\\PCA\\loadings', dpi=600)"
   ]
  },
  {
   "cell_type": "code",
   "execution_count": 10,
   "metadata": {},
   "outputs": [],
   "source": [
    "maeTrainMean, maeTrainStd, maeTestMean, maeTestStd, accuracyMean, accuracyStd = dict(), dict(), dict(), dict(), dict(), \\\n",
    "dict()\n"
   ]
  },
  {
   "cell_type": "markdown",
   "metadata": {},
   "source": [
    "# Random Forests"
   ]
  },
  {
   "cell_type": "code",
   "execution_count": 9,
   "metadata": {},
   "outputs": [],
   "source": [
    "def rfr_model(X, y):\n",
    "# Perform Grid-Search\n",
    "    gsc = GridSearchCV(\n",
    "        estimator=RandomForestRegressor(),\n",
    "        param_grid={\n",
    "            'max_depth': range(3,7),\n",
    "            'n_estimators': (20, 50, 100, 200, 300, 500, 700, 1000),\n",
    "            'max_features' : (4,5,6,7,8,9,10)\n",
    "        },\n",
    "        cv=5, scoring='neg_mean_squared_error', verbose=0, n_jobs=-1)\n",
    "    \n",
    "    grid_result = gsc.fit(X, y)\n",
    "    best_params = grid_result.best_params_\n",
    "    \n",
    "    print('optimized parameters: ', best_params)\n",
    "    \n",
    "    rfr = RandomForestRegressor(max_depth=best_params[\"max_depth\"], n_estimators=best_params[\"n_estimators\"],\n",
    "                                max_features=best_params[\"max_features\"], random_state=False, verbose=False)\n",
    "    # Perform K-Fold CV\n",
    "    scores = cross_val_score(rfr, X, y, cv=10, scoring='neg_mean_absolute_error')\n",
    "\n",
    "    return scores, best_params"
   ]
  },
  {
   "cell_type": "markdown",
   "metadata": {},
   "source": [
    "### Model selection"
   ]
  },
  {
   "cell_type": "code",
   "execution_count": 11,
   "metadata": {},
   "outputs": [
    {
     "name": "stderr",
     "output_type": "stream",
     "text": [
      "C:\\ProgramData\\Anaconda3\\lib\\site-packages\\sklearn\\model_selection\\_search.py:813: DeprecationWarning: The default of the `iid` parameter will change from True to False in version 0.22 and will be removed in 0.24. This will change numeric results when test-set sizes are unequal.\n",
      "  DeprecationWarning)\n"
     ]
    },
    {
     "name": "stdout",
     "output_type": "stream",
     "text": [
      "optimized parameters:  {'max_depth': 3, 'max_features': 5, 'n_estimators': 100}\n",
      "Neg_mean_absolute error:  -0.45650845330084255 0.02449797822002715\n"
     ]
    }
   ],
   "source": [
    "scores_rfr, bestParams_rfr = rfr_model(X_norm_woNa, Y_woNa)\n",
    "print('Neg_mean_absolute error: ', np.mean(scores_rfr), np.std(scores_rfr))"
   ]
  },
  {
   "cell_type": "code",
   "execution_count": 12,
   "metadata": {},
   "outputs": [
    {
     "data": {
      "image/png": "[encoded data removed]",
      "text/plain": [
       "<Figure size 864x648 with 1 Axes>"
      ]
     },
     "metadata": {
      "needs_background": "light"
     },
     "output_type": "display_data"
    }
   ],
   "source": [
    "skf = StratifiedKFold(n_splits=10)\n",
    "\n",
    "# Plot oob error\n",
    "maeOOBList = list()\n",
    "\n",
    "plt.figure(figsize=(12,9))\n",
    "\n",
    "for j, nTrees in enumerate([20, 50, 100, 200, 300, 500, 700, 1000, 1500, 2000]):\n",
    "    maeOOBList = list()\n",
    "    \n",
    "    for train_index, test_index in skf.split(X_norm_woNa, Y_woNa):\n",
    "    \n",
    "        X_train, X_test = X_norm_woNa.iloc[train_index], X_norm_woNa.iloc[test_index]\n",
    "        y_train, y_test = Y_woNa[train_index], Y_woNa[test_index]\n",
    "        \n",
    "        rf = RandomForestRegressor(max_depth=3, n_estimators=nTrees,\n",
    "                                   max_features=5, random_state=False, verbose=False, \n",
    "                                   oob_score=True)\n",
    "        \n",
    "        \n",
    "        #rf = RandomForestRegressor(max_depth=bestParams_rfr[\"max_depth\"], n_estimators=nTrees,\n",
    "        #                           max_features=bestParams_rfr[\"max_features\"], random_state=False, verbose=False, \n",
    "        #                           oob_score=True)\n",
    "        # Train the model on training data\n",
    "        rf.fit(X_train, y_train)\n",
    "    \n",
    "        # Use out-of-bag prediction scores to estimate the number of trees\n",
    "        maeOOBList.append(1-(rf.oob_score_))\n",
    "        \n",
    "    plt.boxplot(maeOOBList, positions=[j+1])\n",
    "        \n",
    "plt.xlabel('Number of trees')\n",
    "plt.ylabel('Out of bag error')\n",
    "plt.xticks([1, 2, 3, 4, 5, 6, 7, 8, 9, 10], [20, 50, 100, 200, 300, 500, 700, 1000, 1500, 2000])\n",
    "plt.rcParams.update({'font.size': 12})\n",
    "plt.tight_layout()\n",
    "plt.savefig(r'C:\\DTU\\Results\\201901_Expt\\MachineLearning\\FatigueLevel_RF_oobError_modelSelection', dpi=600)"
   ]
  },
  {
   "cell_type": "code",
   "execution_count": 13,
   "metadata": {},
   "outputs": [],
   "source": [
    "plt.rcParams.update({'font.size': 12})"
   ]
  },
  {
   "cell_type": "markdown",
   "metadata": {},
   "source": [
    "### Variable importance"
   ]
  },
  {
   "cell_type": "code",
   "execution_count": 14,
   "metadata": {},
   "outputs": [
    {
     "data": {
      "image/png": "[encoded data removed]",
      "text/plain": [
       "<Figure size 864x648 with 1 Axes>"
      ]
     },
     "metadata": {
      "needs_background": "light"
     },
     "output_type": "display_data"
    }
   ],
   "source": [
    "perm = PermutationImportance(rf, cv = None, refit = False, n_iter = 50).fit(X_train, y_train)\n",
    "\n",
    "imp_df = pd.DataFrame({'feature': X_train.columns.values,\n",
    "                       'importance': perm.feature_importances_})\n",
    "\n",
    "# Reorder by importance\n",
    "ordered_df = imp_df.sort_values(by='importance')\n",
    "imp_range=range(1,len(imp_df.index)+1)\n",
    "\n",
    "## Barplot with confidence intervals\n",
    "height = ordered_df['importance']\n",
    "bars = ordered_df['feature']\n",
    "y_pos = np.arange(len(bars))\n",
    "\n",
    "plt.figure(figsize=(12,9))\n",
    "# Create horizontal bars\n",
    "plt.barh(y_pos, height)\n",
    "\n",
    "# Create names on the y-axis\n",
    "plt.yticks(y_pos, bars)\n",
    "\n",
    "plt.xlabel(\"Feature importance\")\n",
    "\n",
    "plt.tight_layout()\n",
    "# Show graphic\n",
    "plt.savefig(r'C:\\DTU\\Results\\201901_Expt\\MachineLearning\\FatigueLevel_RF_variable_importance', dpi=600)\n"
   ]
  },
  {
   "cell_type": "markdown",
   "metadata": {},
   "source": [
    "### Get accuracy"
   ]
  },
  {
   "cell_type": "code",
   "execution_count": 15,
   "metadata": {},
   "outputs": [
    {
     "name": "stdout",
     "output_type": "stream",
     "text": [
      "TRAINING DATA\n",
      "Mean of mean absolute error 0.7168289302970952 with std:  0.012974899572889727\n",
      "\n",
      "TESTING DATA\n",
      "Mean of mean absolute error 0.9809611169766994 with std:  0.08096154667597388\n",
      "Mean accuracy:  65.79898273966936 with std:  1.0633586173369525\n"
     ]
    }
   ],
   "source": [
    "skf = StratifiedKFold(n_splits=10)\n",
    "\n",
    "maeTrain_rf, maeTest_rf = list(), list()\n",
    "accuracy_rf = list()\n",
    "\n",
    "for train_index, test_index in skf.split(X_norm_woNa, Y_woNa):\n",
    "    \n",
    "    X_train, X_test = X_norm_woNa.iloc[train_index], X_norm_woNa.iloc[test_index]\n",
    "    y_train, y_test = Y_woNa[train_index], Y_woNa[test_index]\n",
    "    \n",
    "    rf = RandomForestRegressor(max_depth=bestParams_rfr[\"max_depth\"], n_estimators=bestParams_rfr[\"n_estimators\"],\n",
    "                                max_features=bestParams_rfr[\"max_features\"], random_state=False, verbose=False)\n",
    "    # Train the model on training data\n",
    "    rf.fit(X_train, y_train)\n",
    "    \n",
    "    # Training data metrics:\n",
    "    maeTrain_rf.append(1-(rf.score(X_train, y_train)))\n",
    "    \n",
    "    # testing data metrics:\n",
    "    maeTest_rf.append(1-(rf.score(X_test, y_test)))\n",
    "    # Use the forest's predict method on the test data\n",
    "    test_pred = rf.predict(X_test)\n",
    "    # Calculate the absolute errors\n",
    "    errors = np.sqrt((test_pred - y_test)**2)    \n",
    "    # Calculate mean absolute percentage error (MAPE)\n",
    "    mape = 100 * (errors / (y_test+1))\n",
    "    # Calculate and display accuracy\n",
    "    accuracy = 100 - np.mean(mape)\n",
    "    accuracy_rf.append(accuracy)    \n",
    "    \n",
    "\n",
    "maeTrainMean['rf'] = np.mean(maeTrain_rf)\n",
    "maeTrainStd['rf']= np.std(maeTrain_rf)\n",
    "\n",
    "maeTestMean['rf'] = np.mean(maeTest_rf)\n",
    "maeTestStd['rf']= np.std(maeTest_rf)\n",
    "\n",
    "accuracyMean['rf'] = np.mean(accuracy_rf)\n",
    "accuracyStd['rf'] = np.std(accuracy_rf)\n",
    "\n",
    "print('TRAINING DATA')    \n",
    "print('Mean of mean absolute error', np.mean(maeTrain_rf), 'with std: ', np.std(maeTrain_rf))\n",
    "print('')\n",
    "\n",
    "print('TESTING DATA')\n",
    "print('Mean of mean absolute error', np.mean(maeTest_rf), 'with std: ', np.std(maeTest_rf))\n",
    "print('Mean accuracy: ', np.mean(accuracy_rf), 'with std: ', np.std(accuracy_rf))"
   ]
  },
  {
   "cell_type": "markdown",
   "metadata": {},
   "source": [
    "# Decision Tree"
   ]
  },
  {
   "cell_type": "code",
   "execution_count": 16,
   "metadata": {},
   "outputs": [],
   "source": [
    "def dtr_model(X, y):\n",
    "# Perform Grid-Search\n",
    "    gsc = GridSearchCV(\n",
    "        estimator=DecisionTreeRegressor(criterion='mae', ),\n",
    "        param_grid={\n",
    "            'max_depth': range(3,7),\n",
    "            'max_features' : (4,5,6,7,8,9,10)\n",
    "        },\n",
    "        cv=5, scoring='neg_mean_squared_error', verbose=0, n_jobs=-1)\n",
    "    \n",
    "    grid_result = gsc.fit(X, y)\n",
    "    best_params = grid_result.best_params_\n",
    "    \n",
    "    print('optimized parameters: ', best_params)\n",
    "    \n",
    "    dtr = DecisionTreeRegressor(max_depth=best_params[\"max_depth\"], max_features=best_params[\"max_features\"],\n",
    "                                criterion='mae', \n",
    "                                random_state=False)\n",
    "    # Perform K-Fold CV\n",
    "    scores = cross_val_score(dtr, X, y, cv=10, scoring='neg_mean_absolute_error')\n",
    "\n",
    "    return scores, best_params"
   ]
  },
  {
   "cell_type": "code",
   "execution_count": 17,
   "metadata": {},
   "outputs": [
    {
     "name": "stdout",
     "output_type": "stream",
     "text": [
      "optimized parameters:  {'max_depth': 3, 'max_features': 7}\n",
      "Neg_mean_absolute error:  -0.3759139784946236 0.07337904166277616\n"
     ]
    },
    {
     "name": "stderr",
     "output_type": "stream",
     "text": [
      "C:\\ProgramData\\Anaconda3\\lib\\site-packages\\sklearn\\model_selection\\_search.py:813: DeprecationWarning: The default of the `iid` parameter will change from True to False in version 0.22 and will be removed in 0.24. This will change numeric results when test-set sizes are unequal.\n",
      "  DeprecationWarning)\n"
     ]
    }
   ],
   "source": [
    "scores_dtr, bestParams_dtr = dtr_model(X_norm_woNa, Y_woNa)\n",
    "print('Neg_mean_absolute error: ', np.mean(scores_dtr), np.std(scores_dtr))"
   ]
  },
  {
   "cell_type": "code",
   "execution_count": 18,
   "metadata": {},
   "outputs": [
    {
     "name": "stdout",
     "output_type": "stream",
     "text": [
      "TRAINING DATA\n",
      "Mean of mean absolute error 1.1392121127108656 with std:  0.048523487473746886\n",
      "\n",
      "TESTING DATA\n",
      "Mean of mean absolute error 1.9444577352472092 with std:  0.4206362971286752\n",
      "Mean accuracy:  60.71616611049315 with std:  5.580929864544035\n"
     ]
    }
   ],
   "source": [
    "skf = StratifiedKFold(n_splits=10)\n",
    "\n",
    "maeTrain_decTree, maeTest_decTree = list(), list()\n",
    "accuracy_decTree = list()\n",
    "\n",
    "for train_index, test_index in skf.split(X_norm_woNa, Y_woNa):\n",
    "    \n",
    "    X_train, X_test = X_norm_woNa.iloc[train_index], X_norm_woNa.iloc[test_index]\n",
    "    y_train, y_test = Y_woNa[train_index], Y_woNa[test_index]\n",
    "    \n",
    "    \n",
    "    regr = DecisionTreeRegressor(criterion='mae', max_depth=bestParams_dtr['max_depth'], \n",
    "                                 max_features=bestParams_dtr[\"max_features\"])\n",
    "    regr.fit(X_train, y_train)\n",
    "    \n",
    "    # Training data metrics:\n",
    "    maeTrain_decTree.append(1-(regr.score(X_train, y_train)))\n",
    "    \n",
    "    # testing data metrics:\n",
    "    maeTest_decTree.append(1-(regr.score(X_test, y_test)))\n",
    "    # Use the forest's predict method on the test data\n",
    "    test_pred = regr.predict(X_test)\n",
    "    # Calculate the absolute errors\n",
    "    errors = np.sqrt((test_pred - y_test)**2)    \n",
    "    # Calculate mean absolute percentage error (MAPE)\n",
    "    mape = 100 * (errors / (y_test+1))\n",
    "    # Calculate and display accuracy\n",
    "    accuracy = 100 - np.mean(mape)\n",
    "    accuracy_decTree.append(accuracy)    \n",
    "    \n",
    "\n",
    "maeTrainMean['decTree'] = np.mean(maeTrain_decTree)\n",
    "maeTrainStd['decTree']= np.std(maeTrain_decTree)\n",
    "\n",
    "maeTestMean['decTree'] = np.mean(maeTest_decTree)\n",
    "maeTestStd['decTree']= np.std(maeTest_decTree)\n",
    "\n",
    "accuracyMean['decTree'] = np.mean(accuracy_decTree)\n",
    "accuracyStd['decTree'] = np.std(accuracy_decTree)\n",
    "\n",
    "print('TRAINING DATA')    \n",
    "print('Mean of mean absolute error', np.mean(maeTrain_decTree), 'with std: ', np.std(maeTrain_decTree))\n",
    "print('')\n",
    "\n",
    "print('TESTING DATA')\n",
    "print('Mean of mean absolute error', np.mean(maeTest_decTree), 'with std: ', np.std(maeTest_decTree))\n",
    "print('Mean accuracy: ', np.mean(accuracy_decTree), 'with std: ', np.std(accuracy_decTree))"
   ]
  },
  {
   "cell_type": "markdown",
   "metadata": {},
   "source": [
    "# Adaboosting with decision trees"
   ]
  },
  {
   "cell_type": "code",
   "execution_count": 19,
   "metadata": {},
   "outputs": [],
   "source": [
    "def ab_model(X, y, bestParams_dtr):\n",
    "# Perform Grid-Search\n",
    "    gsc = GridSearchCV(\n",
    "        estimator=AdaBoostRegressor(),\n",
    "        param_grid={\n",
    "            'n_estimators': (20, 50, 100, 200, 300, 500, 700, 1000),\n",
    "            'loss' : ['linear', 'square', 'exponential']\n",
    "        },\n",
    "        cv=5, scoring='neg_mean_squared_error', verbose=0, n_jobs=-1)\n",
    "    \n",
    "    grid_result = gsc.fit(X, y)\n",
    "    best_params = grid_result.best_params_\n",
    "    \n",
    "    print('optimized parameters: ', best_params)\n",
    "    \n",
    "    ab = AdaBoostRegressor(DecisionTreeRegressor(max_depth=bestParams_dtr[\"max_depth\"], \n",
    "                           max_features=bestParams_dtr[\"max_features\"], criterion='mae', random_state=False), \n",
    "                           n_estimators=best_params[\"n_estimators\"])\n",
    "    # Perform K-Fold CV\n",
    "    scores = cross_val_score(ab, X, y, cv=10, scoring='neg_mean_absolute_error')\n",
    "\n",
    "    return scores, best_params"
   ]
  },
  {
   "cell_type": "code",
   "execution_count": 20,
   "metadata": {},
   "outputs": [
    {
     "name": "stdout",
     "output_type": "stream",
     "text": [
      "optimized parameters:  {'loss': 'linear', 'n_estimators': 100}\n",
      "Neg_mean_absolute error:  -0.465268817204301 0.10053050403097294\n"
     ]
    }
   ],
   "source": [
    "scores_ab, bestParams_ab = ab_model(X_norm_woNa, Y_woNa, bestParams_dtr)\n",
    "print('Neg_mean_absolute error: ', np.mean(scores_ab), np.std(scores_ab))"
   ]
  },
  {
   "cell_type": "code",
   "execution_count": 21,
   "metadata": {},
   "outputs": [
    {
     "name": "stdout",
     "output_type": "stream",
     "text": [
      "TRAINING DATA\n",
      "Mean of mean absolute error 0.0 with std:  0.0\n",
      "\n",
      "TESTING DATA\n",
      "Mean of mean absolute error 1.8859914938862308 with std:  0.29877593243442735\n",
      "Mean accuracy:  65.32517612161661 with std:  4.576191522090519\n"
     ]
    }
   ],
   "source": [
    "skf = StratifiedKFold(n_splits=10)\n",
    "\n",
    "maeTrain_adaBoost, maeTest_adaBoost = list(), list()\n",
    "accuracy_adaBoost = list()\n",
    "\n",
    "for train_index, test_index in skf.split(X_norm_woNa, Y_woNa):\n",
    "    \n",
    "    X_train, X_test = X_norm_woNa.iloc[train_index], X_norm_woNa.iloc[test_index]\n",
    "    y_train, y_test = Y_woNa[train_index], Y_woNa[test_index]\n",
    "    \n",
    "    \n",
    "    #regr = DecisionTreeRegressor(max_depth=3)\n",
    "    regr = AdaBoostRegressor(DecisionTreeRegressor(criterion='mae', max_depth=bestParams_dtr['max_depth'], \n",
    "                                 max_features=bestParams_dtr[\"max_features\"]), n_estimators=bestParams_ab['n_estimators'],\n",
    "                            loss = bestParams_ab[\"loss\"])\n",
    "    regr.fit(X_train, y_train)\n",
    "    \n",
    "    # Training data metrics:\n",
    "    maeTrain_adaBoost.append(1-(regr.score(X_train, y_train)))\n",
    "    \n",
    "    # testing data metrics:\n",
    "    maeTest_adaBoost.append(1-(regr.score(X_test, y_test)))\n",
    "    # Use the forest's predict method on the test data\n",
    "    test_pred = regr.predict(X_test)\n",
    "    # Calculate the absolute errors\n",
    "    errors = np.sqrt((test_pred - y_test)**2)    \n",
    "    # Calculate mean absolute percentage error (MAPE)\n",
    "    mape = 100 * (errors / (y_test+1))\n",
    "    # Calculate and display accuracy\n",
    "    accuracy = 100 - np.mean(mape)\n",
    "    accuracy_adaBoost.append(accuracy)    \n",
    "    \n",
    "\n",
    "maeTrainMean['adaBoost'] = np.mean(maeTrain_adaBoost)\n",
    "maeTrainStd['adaBoost']= np.std(maeTrain_adaBoost)\n",
    "\n",
    "maeTestMean['adaBoost'] = np.mean(maeTest_adaBoost)\n",
    "maeTestStd['adaBoost']= np.std(maeTest_adaBoost)\n",
    "\n",
    "accuracyMean['adaBoost'] = np.mean(accuracy_adaBoost)\n",
    "accuracyStd['adaBoost'] = np.std(accuracy_adaBoost)\n",
    "\n",
    "print('TRAINING DATA')    \n",
    "print('Mean of mean absolute error', np.mean(maeTrain_adaBoost), 'with std: ', np.std(maeTrain_adaBoost))\n",
    "print('')\n",
    "\n",
    "print('TESTING DATA')\n",
    "print('Mean of mean absolute error', np.mean(maeTest_adaBoost), 'with std: ', np.std(maeTest_adaBoost))\n",
    "print('Mean accuracy: ', np.mean(accuracy_adaBoost), 'with std: ', np.std(accuracy_adaBoost))"
   ]
  },
  {
   "cell_type": "markdown",
   "metadata": {},
   "source": [
    "# SVM"
   ]
  },
  {
   "cell_type": "code",
   "execution_count": 22,
   "metadata": {},
   "outputs": [
    {
     "name": "stdout",
     "output_type": "stream",
     "text": [
      "TRAINING DATA\n",
      "Mean of mean absolute error 0.9644237127063983 with std:  0.03839141878290975\n",
      "\n",
      "TESTING DATA\n",
      "Mean of mean absolute error 1.191986039847358 with std:  0.21926441485083248\n",
      "Mean accuracy:  64.50939029283077 with std:  2.9210035650986694\n"
     ]
    }
   ],
   "source": [
    "from sklearn.svm import SVC\n",
    "skf = StratifiedKFold(n_splits=10)\n",
    "\n",
    "maeTrain_svmL, maeTest_svmL = list(), list()\n",
    "accuracy_svmL = list()\n",
    "\n",
    "for train_index, test_index in skf.split(X_norm_woNa, Y_woNa):\n",
    "    \n",
    "    X_train, X_test = X_norm_woNa.iloc[train_index], X_norm_woNa.iloc[test_index]\n",
    "    y_train, y_test = Y_woNa[train_index], Y_woNa[test_index]\n",
    "    \n",
    "    svmL = SVR(kernel = 'linear')\n",
    "    \n",
    "    # Train the model on training data\n",
    "    svmL.fit(X_train, y_train)\n",
    "    # Training data metrics:\n",
    "    maeTrain_svmL.append(1-(svmL.score(X_train, y_train)))\n",
    "    \n",
    "    # testing data metrics:\n",
    "    maeTest_svmL.append(1-(svmL.score(X_test, y_test)))\n",
    "    # Use the forest's predict method on the test data\n",
    "    test_pred = svmL.predict(X_test)\n",
    "    # Calculate the absolute errors\n",
    "    errors = np.sqrt((test_pred - y_test)**2)    \n",
    "    # Calculate mean absolute percentage error (MAPE)\n",
    "    mape = 100 * (errors / (y_test+1))\n",
    "    # Calculate and display accuracy\n",
    "    accuracy = 100 - np.mean(mape)\n",
    "    accuracy_svmL.append(accuracy)    \n",
    "    \n",
    "    \n",
    "\n",
    "maeTrainMean['svm_L'] = np.mean(maeTrain_svmL)\n",
    "maeTrainStd['svm_L']= np.std(maeTrain_svmL)\n",
    "\n",
    "maeTestMean['svm_L'] = np.mean(maeTest_svmL)\n",
    "maeTestStd['svm_L']= np.std(maeTest_svmL)\n",
    "\n",
    "accuracyMean['svm_L'] = np.mean(accuracy_svmL)\n",
    "accuracyStd['svm_L'] = np.std(accuracy_svmL)\n",
    "\n",
    "print('TRAINING DATA')    \n",
    "print('Mean of mean absolute error', np.mean(maeTrain_svmL), 'with std: ', np.std(maeTrain_svmL))\n",
    "print('')\n",
    "\n",
    "print('TESTING DATA')\n",
    "print('Mean of mean absolute error', np.mean(maeTest_svmL), 'with std: ', np.std(maeTest_svmL))\n",
    "print('Mean accuracy: ', np.mean(accuracy_svmL), 'with std: ', np.std(accuracy_svmL))"
   ]
  },
  {
   "cell_type": "code",
   "execution_count": 23,
   "metadata": {},
   "outputs": [
    {
     "name": "stdout",
     "output_type": "stream",
     "text": [
      "TRAINING DATA\n",
      "Mean of mean absolute error 0.23451306862496385 with std:  0.011741546547571086\n",
      "\n",
      "TESTING DATA\n",
      "Mean of mean absolute error 1.1263799746437118 with std:  0.24735698066199202\n",
      "Mean accuracy:  66.25827730975396 with std:  3.4128133840834667\n"
     ]
    }
   ],
   "source": [
    "import seaborn\n",
    "    \n",
    "skf = StratifiedKFold(n_splits=10)\n",
    "\n",
    "maeTrain_svm_R, maeTest_svm_R = list(), list()\n",
    "accuracy_svm_R = list()\n",
    "\n",
    "for train_index, test_index in skf.split(X_norm_woNa, Y_woNa):\n",
    "    \n",
    "    X_train, X_test = X_norm_woNa.iloc[train_index], X_norm_woNa.iloc[test_index]\n",
    "    y_train, y_test = Y_woNa[train_index], Y_woNa[test_index]\n",
    "    \n",
    "    svm_R = SVR(kernel = 'rbf', gamma='scale')\n",
    "    \n",
    "    # Train the model on training data\n",
    "    svm_R.fit(X_train, y_train)\n",
    "    # Training data metrics:\n",
    "    maeTrain_svm_R.append(1-(svm_R.score(X_train, y_train)))\n",
    "    \n",
    "    # testing data metrics:\n",
    "    maeTest_svm_R.append(1-(svm_R.score(X_test, y_test)))\n",
    "    # Use the forest's predict method on the test data\n",
    "    test_pred = svm_R.predict(X_test)\n",
    "    # Calculate the absolute errors\n",
    "    errors = np.sqrt((test_pred - y_test)**2)    \n",
    "    # Calculate mean absolute percentage error (MAPE)\n",
    "    mape = 100 * (errors / (y_test+1))\n",
    "    # Calculate and display accuracy\n",
    "    accuracy = 100 - np.mean(mape)\n",
    "    accuracy_svm_R.append(accuracy)    \n",
    "    \n",
    "    \n",
    "\n",
    "maeTrainMean['svm_R'] = np.mean(maeTrain_svm_R)\n",
    "maeTrainStd['svm_R']= np.std(maeTrain_svm_R)\n",
    "\n",
    "maeTestMean['svm_R'] = np.mean(maeTest_svm_R)\n",
    "maeTestStd['svm_R']= np.std(maeTest_svm_R)\n",
    "\n",
    "accuracyMean['svm_R'] = np.mean(accuracy_svm_R)\n",
    "accuracyStd['svm_R'] = np.std(accuracy_svm_R)\n",
    "\n",
    "\n",
    "print('TRAINING DATA')    \n",
    "print('Mean of mean absolute error', np.mean(maeTrain_svm_R), 'with std: ', np.std(maeTrain_svm_R))\n",
    "print('')\n",
    "\n",
    "print('TESTING DATA')\n",
    "print('Mean of mean absolute error', np.mean(maeTest_svm_R), 'with std: ', np.std(maeTest_svm_R))\n",
    "print('Mean accuracy: ', np.mean(accuracy_svm_R), 'with std: ', np.std(accuracy_svm_R))"
   ]
  },
  {
   "cell_type": "code",
   "execution_count": 24,
   "metadata": {},
   "outputs": [
    {
     "data": {
      "image/png": "[encoded data removed]",
      "text/plain": [
       "<Figure size 432x288 with 1 Axes>"
      ]
     },
     "metadata": {
      "needs_background": "light"
     },
     "output_type": "display_data"
    }
   ],
   "source": [
    "# plot errors\n",
    "plt.figure()\n",
    "\n",
    "names, stdTrain = zip(*sorted(maeTrainStd.items()))\n",
    "names, stdTest = zip(*sorted(maeTestStd.items()))\n",
    "\n",
    "plt.errorbar(*zip(*sorted(maeTrainMean.items())), yerr=stdTrain)\n",
    "plt.errorbar(*zip(*sorted(maeTestMean.items())), yerr=stdTest)\n",
    "#plt.ylim([0,1])\n",
    "plt.ylabel('Mean absolute error')\n",
    "\n",
    "plt.savefig(r'C:\\DTU\\Results\\201901_Expt\\MachineLearning\\FatigueLevel_mae.png', dpi=600)\n"
   ]
  },
  {
   "cell_type": "code",
   "execution_count": 25,
   "metadata": {},
   "outputs": [
    {
     "data": {
      "image/png": "[encoded data removed]",
      "text/plain": [
       "<Figure size 432x288 with 1 Axes>"
      ]
     },
     "metadata": {
      "needs_background": "light"
     },
     "output_type": "display_data"
    }
   ],
   "source": [
    "# plot errors\n",
    "plt.figure()\n",
    "\n",
    "names, stdAccuracy = zip(*sorted(accuracyStd.items()))\n",
    "\n",
    "plt.errorbar(*zip(*sorted(accuracyMean.items())), yerr=stdAccuracy)\n",
    "\n",
    "plt.ylim([40,100])\n",
    "plt.ylabel('Accuracy [in %]')\n",
    "\n",
    "plt.savefig(r'C:\\DTU\\Results\\201901_Expt\\MachineLearning\\FatigueLevel_accuracy.png', dpi=600)"
   ]
  },
  {
   "cell_type": "code",
   "execution_count": null,
   "metadata": {},
   "outputs": [],
   "source": [
    "type(X_norm_woNa.Session_Difficulty[0])"
   ]
  },
  {
   "cell_type": "code",
   "execution_count": null,
   "metadata": {},
   "outputs": [],
   "source": []
  }
 ],
 "metadata": {
  "kernelspec": {
   "display_name": "Python 3",
   "language": "python",
   "name": "python3"
  },
  "language_info": {
   "codemirror_mode": {
    "name": "ipython",
    "version": 3
   },
   "file_extension": ".py",
   "mimetype": "text/x-python",
   "name": "python",
   "nbconvert_exporter": "python",
   "pygments_lexer": "ipython3",
   "version": "3.7.3"
  }
 },
 "nbformat": 4,
 "nbformat_minor": 2
}
