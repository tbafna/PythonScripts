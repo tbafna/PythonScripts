{
 "cells": [
  {
   "cell_type": "code",
   "execution_count": 1,
   "metadata": {},
   "outputs": [
    {
     "name": "stdout",
     "output_type": "stream",
     "text": [
      "Using matplotlib backend: Qt5Agg\n"
     ]
    }
   ],
   "source": [
    "%matplotlib\n",
    "#%matplotlib inline\n",
    "\n",
    "import os\n",
    "import pickle"
   ]
  },
  {
   "cell_type": "markdown",
   "metadata": {},
   "source": [
    "## Edit subject ID here"
   ]
  },
  {
   "cell_type": "code",
   "execution_count": 2,
   "metadata": {},
   "outputs": [],
   "source": [
    "subjectID = 'ys'\n",
    "path = r'C:\\DTU\\Results\\201901_Expt'"
   ]
  },
  {
   "cell_type": "markdown",
   "metadata": {},
   "source": [
    "# Open expt pupil size with Reading and Writing marked"
   ]
  },
  {
   "cell_type": "code",
   "execution_count": 3,
   "metadata": {},
   "outputs": [
    {
     "name": "stdout",
     "output_type": "stream",
     "text": [
      "C:\\DTU\\Results\\201901_Expt\\Expt_wReadingAndWritingMarked\\ys\\Figure_1.png\n"
     ]
    },
    {
     "ename": "UnpicklingError",
     "evalue": "A load persistent id instruction was encountered,\nbut no persistent_load function was specified.",
     "output_type": "error",
     "traceback": [
      "\u001b[1;31m---------------------------------------------------------------------------\u001b[0m",
      "\u001b[1;31mUnpicklingError\u001b[0m                           Traceback (most recent call last)",
      "\u001b[1;32m<ipython-input-3-3e06218eaeee>\u001b[0m in \u001b[0;36m<module>\u001b[1;34m()\u001b[0m\n\u001b[0;32m     11\u001b[0m \u001b[1;32mfor\u001b[0m \u001b[0mf\u001b[0m \u001b[1;32min\u001b[0m \u001b[0mfiles_readingWriting\u001b[0m\u001b[1;33m:\u001b[0m\u001b[1;33m\u001b[0m\u001b[0m\n\u001b[0;32m     12\u001b[0m     \u001b[0mprint\u001b[0m\u001b[1;33m(\u001b[0m\u001b[0mf\u001b[0m\u001b[1;33m)\u001b[0m\u001b[1;33m\u001b[0m\u001b[0m\n\u001b[1;32m---> 13\u001b[1;33m     \u001b[0mfigx\u001b[0m \u001b[1;33m=\u001b[0m \u001b[0mpickle\u001b[0m\u001b[1;33m.\u001b[0m\u001b[0mload\u001b[0m\u001b[1;33m(\u001b[0m\u001b[0mopen\u001b[0m\u001b[1;33m(\u001b[0m\u001b[0mf\u001b[0m\u001b[1;33m,\u001b[0m \u001b[1;34m'rb'\u001b[0m\u001b[1;33m)\u001b[0m\u001b[1;33m)\u001b[0m\u001b[1;33m\u001b[0m\u001b[0m\n\u001b[0m\u001b[0;32m     14\u001b[0m \u001b[1;33m\u001b[0m\u001b[0m\n\u001b[0;32m     15\u001b[0m     \u001b[0mfigx\u001b[0m\u001b[1;33m.\u001b[0m\u001b[0mshow\u001b[0m\u001b[1;33m(\u001b[0m\u001b[1;33m)\u001b[0m \u001b[1;31m# Show the figure, edit it, etc.!\u001b[0m\u001b[1;33m\u001b[0m\u001b[0m\n",
      "\u001b[1;31mUnpicklingError\u001b[0m: A load persistent id instruction was encountered,\nbut no persistent_load function was specified."
     ]
    }
   ],
   "source": [
    "# create a list of all saved figures in the folder\n",
    "\n",
    "path_readingWriting = path + '\\\\Expt_wReadingAndWritingMarked' + '\\\\' + subjectID + '\\\\'\n",
    "\n",
    "files_readingWriting = []\n",
    "# r=root, d=directories, f = files\n",
    "for r, d, f in os.walk(path_readingWriting):\n",
    "    for file in f:\n",
    "        files_readingWriting.append(os.path.join(r, file))\n",
    "\n",
    "for f in files_readingWriting:\n",
    "    print(f)\n",
    "    figx = pickle.load(open(f, 'rb'))\n",
    "\n",
    "    figx.show() # Show the figure, edit it, etc.!\n"
   ]
  },
  {
   "cell_type": "markdown",
   "metadata": {},
   "source": [
    "# Open expt pupil size with Trials marked"
   ]
  },
  {
   "cell_type": "code",
   "execution_count": 4,
   "metadata": {},
   "outputs": [
    {
     "name": "stdout",
     "output_type": "stream",
     "text": [
      "C:\\DTU\\Results\\201901_Expt\\Expt_wTrialsMarked\\ys\\pupilSize_CompleteExperiment_wTrialsMarked_ys__1__2019-01-14-15-07-21_1\n",
      "C:\\DTU\\Results\\201901_Expt\\Expt_wTrialsMarked\\ys\\pupilSize_CompleteExperiment_wTrialsMarked_ys__1__2019-01-14-15-25-55_2\n",
      "C:\\DTU\\Results\\201901_Expt\\Expt_wTrialsMarked\\ys\\pupilSize_CompleteExperiment_wTrialsMarked_ys__2__2019-01-16-15-18-50_1stPart_1\n",
      "C:\\DTU\\Results\\201901_Expt\\Expt_wTrialsMarked\\ys\\pupilSize_CompleteExperiment_wTrialsMarked_ys__2__2019-01-16-15-42-51_2ndPart_1\n",
      "C:\\DTU\\Results\\201901_Expt\\Expt_wTrialsMarked\\ys\\pupilSize_CompleteExperiment_wTrialsMarked_ys__2__2019-01-16-15-59-55_2\n",
      "C:\\DTU\\Results\\201901_Expt\\Expt_wTrialsMarked\\ys\\pupilSize_CompleteExperiment_wTrialsMarked_ys__3__2019-01-17-15-05-1_1\n",
      "C:\\DTU\\Results\\201901_Expt\\Expt_wTrialsMarked\\ys\\pupilSize_CompleteExperiment_wTrialsMarked_ys__4_MS__2019-01-30-11-22-25_1\n",
      "C:\\DTU\\Results\\201901_Expt\\Expt_wTrialsMarked\\ys\\pupilSize_CompleteExperiment_wTrialsMarked_ys__5__2019-01-31-13-13-2_1\n",
      "C:\\DTU\\Results\\201901_Expt\\Expt_wTrialsMarked\\ys\\pupilSize_CompleteExperiment_wTrialsMarked_ys__5__2019-01-31-13-32-2_2\n"
     ]
    }
   ],
   "source": [
    "# create a list of all saved figures in the folder\n",
    "\n",
    "path_trials = path + '\\\\Expt_wTrialsMarked' + '\\\\' + subjectID + '\\\\'\n",
    "\n",
    "files_trials = []\n",
    "# r=root, d=directories, f = files\n",
    "for r, d, f in os.walk(path_trials):\n",
    "    for file in f:\n",
    "        files_trials.append(os.path.join(r, file))\n",
    "\n",
    "for f in files_trials:\n",
    "    print(f)\n",
    "    figx = pickle.load(open(f, 'rb'))\n",
    "\n",
    "    figx.show() # Show the figure, edit it, etc.!\n",
    "\n",
    "    "
   ]
  },
  {
   "cell_type": "code",
   "execution_count": null,
   "metadata": {},
   "outputs": [],
   "source": []
  }
 ],
 "metadata": {
  "kernelspec": {
   "display_name": "Python 3",
   "language": "python",
   "name": "python3"
  },
  "language_info": {
   "codemirror_mode": {
    "name": "ipython",
    "version": 3
   },
   "file_extension": ".py",
   "mimetype": "text/x-python",
   "name": "python",
   "nbconvert_exporter": "python",
   "pygments_lexer": "ipython3",
   "version": "3.6.5"
  }
 },
 "nbformat": 4,
 "nbformat_minor": 2
}
