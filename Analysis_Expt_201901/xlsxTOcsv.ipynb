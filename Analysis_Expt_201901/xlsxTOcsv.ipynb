{
 "cells": [
  {
   "cell_type": "code",
   "execution_count": 1,
   "metadata": {},
   "outputs": [],
   "source": [
    "import xlrd\n",
    "import csv\n",
    "import numpy as np\n",
    "\n",
    "def csv_from_excel():\n",
    "    wb = xlrd.open_workbook(r'C:\\DTU\\Data\\201901_JanuaryExpt\\DataExtracted\\BaselineQuestion\\Subject_Block_Session_PupilSize.xlsx')\n",
    "    sh = wb.sheet_by_name('Sheet1')\n",
    "    your_csv_file = open(r'C:\\DTU\\Data\\201901_JanuaryExpt\\DataExtracted\\BaselineQuestion\\Subject_Block_Session_PupilSize.csv', 'w', newline='')\n",
    "    wr = csv.writer(your_csv_file, quoting = csv.QUOTE_NONE)\n",
    "    for rownum in range(sh.nrows):\n",
    "        wr.writerow(sh.row_values(rownum))\n",
    "\n",
    "    your_csv_file.close()\n",
    "\n",
    "# runs the csv_from_excel function:\n",
    "csv_from_excel()"
   ]
  },
  {
   "cell_type": "code",
   "execution_count": null,
   "metadata": {},
   "outputs": [],
   "source": []
  }
 ],
 "metadata": {
  "kernelspec": {
   "display_name": "Python 3",
   "language": "python",
   "name": "python3"
  },
  "language_info": {
   "codemirror_mode": {
    "name": "ipython",
    "version": 3
   },
   "file_extension": ".py",
   "mimetype": "text/x-python",
   "name": "python",
   "nbconvert_exporter": "python",
   "pygments_lexer": "ipython3",
   "version": "3.7.3"
  }
 },
 "nbformat": 4,
 "nbformat_minor": 2
}
