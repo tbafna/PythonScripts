{
 "cells": [
  {
   "cell_type": "code",
   "execution_count": 1,
   "metadata": {},
   "outputs": [
    {
     "name": "stdout",
     "output_type": "stream",
     "text": [
      "Using matplotlib backend: Qt5Agg\n"
     ]
    }
   ],
   "source": [
    "%matplotlib\n",
    "#%matplotlib inline\n",
    "import os\n",
    "import csv\n",
    "import fnmatch\n",
    "import numpy as np\n",
    "import datetime\n",
    "import re \n",
    "import pandas as pd\n",
    "import matplotlib.pyplot as plt"
   ]
  },
  {
   "cell_type": "code",
   "execution_count": 10,
   "metadata": {},
   "outputs": [],
   "source": [
    "# csv file with the saved data\n",
    "fileName = r\"C:\\DTU\\Data\\201901_JanuaryExpt\\Questionnaires\\Gaze Typing preference.csv\"\n",
    "\n",
    "df = pd.read_csv(fileName, delimiter=',')\n"
   ]
  },
  {
   "cell_type": "code",
   "execution_count": 11,
   "metadata": {},
   "outputs": [
    {
     "name": "stdout",
     "output_type": "stream",
     "text": [
      "nan\n",
      "nan\n",
      "Maybe for the special buttons (next, sleep, symbols...) the dwell time should be higher. I was constantly afraid of selecting the next button accidentaly.\n",
      "Really nice project Tanya you are the best :) \n",
      "It would be great if the dwell time when looking at the suggenstions was longer that when you looked at speciffic letters. You didn't really have time to read the suggestions \n",
      "nan\n",
      "First I felt that it was very slow to use the dwell-time but as I got better I used the suggestions a lot which made it faster and with no mistakes. I thereby preferred this method overall both regarding speed and precision. \n",
      "nan\n",
      "nan\n",
      "The suggested words sometimes were not good, for example when I needed to type Denmark. But it was weird that this words was suggested to me in only one of my trials but it was not suggested during the rest of the trials.\n",
      "nan\n",
      "The multi-key selection lacked in vocabulary and a way to easely type words letter by letter if needed.\n",
      "I think the mulitikey have potential to be much faster than the the dwelltime, however the learningcurve is perhaps a little steeper. The main problem for me with multikey, is if it guesses wrong and do not have the correct suggestions; because then I have to select each letter, and delete the spaces; super annoying. \n",
      "nan\n",
      "nan\n",
      "nan\n",
      "nan\n"
     ]
    }
   ],
   "source": [
    "for i in df['Any suggestions/comments?']:\n",
    "    print(i)"
   ]
  },
  {
   "cell_type": "code",
   "execution_count": null,
   "metadata": {},
   "outputs": [],
   "source": []
  }
 ],
 "metadata": {
  "kernelspec": {
   "display_name": "Python 3",
   "language": "python",
   "name": "python3"
  },
  "language_info": {
   "codemirror_mode": {
    "name": "ipython",
    "version": 3
   },
   "file_extension": ".py",
   "mimetype": "text/x-python",
   "name": "python",
   "nbconvert_exporter": "python",
   "pygments_lexer": "ipython3",
   "version": "3.6.5"
  }
 },
 "nbformat": 4,
 "nbformat_minor": 2
}
