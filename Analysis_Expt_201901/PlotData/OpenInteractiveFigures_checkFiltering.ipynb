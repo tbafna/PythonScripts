{
 "cells": [
  {
   "cell_type": "code",
   "execution_count": 1,
   "metadata": {},
   "outputs": [
    {
     "name": "stdout",
     "output_type": "stream",
     "text": [
      "Using matplotlib backend: Qt5Agg\n"
     ]
    }
   ],
   "source": [
    "%matplotlib\n",
    "#%matplotlib inline\n",
    "\n",
    "import os\n",
    "import pickle"
   ]
  },
  {
   "cell_type": "markdown",
   "metadata": {},
   "source": [
    "## Edit subject ID here"
   ]
  },
  {
   "cell_type": "code",
   "execution_count": 2,
   "metadata": {},
   "outputs": [],
   "source": [
    "subjectID = 'ac'\n",
    "path = r'C:\\DTU\\Results\\201901_Expt'"
   ]
  },
  {
   "cell_type": "markdown",
   "metadata": {},
   "source": [
    "# Open filtered signals"
   ]
  },
  {
   "cell_type": "code",
   "execution_count": 8,
   "metadata": {},
   "outputs": [
    {
     "name": "stdout",
     "output_type": "stream",
     "text": [
      "C:\\DTU\\Results\\201901_Expt\\filteringProcess_blinkRemoval\\ys\\checkFiltering_leftPupil_ys__1__2019-01-14-15-07-21_1_blinkRemoval\n",
      "C:\\DTU\\Results\\201901_Expt\\filteringProcess_blinkRemoval\\ys\\checkFiltering_leftPupil_ys__1__2019-01-14-15-07-21_1_hampelFilter\n",
      "C:\\DTU\\Results\\201901_Expt\\filteringProcess_blinkRemoval\\ys\\checkFiltering_leftPupil_ys__1__2019-01-14-15-25-55_2_blinkRemoval\n",
      "C:\\DTU\\Results\\201901_Expt\\filteringProcess_blinkRemoval\\ys\\checkFiltering_leftPupil_ys__1__2019-01-14-15-25-55_2_hampelFilter\n",
      "C:\\DTU\\Results\\201901_Expt\\filteringProcess_blinkRemoval\\ys\\checkFiltering_leftPupil_ys__2__2019-01-16-15-18-50_1stPart_1_blinkRemoval\n",
      "C:\\DTU\\Results\\201901_Expt\\filteringProcess_blinkRemoval\\ys\\checkFiltering_leftPupil_ys__2__2019-01-16-15-18-50_1stPart_1_hampelFilter\n",
      "C:\\DTU\\Results\\201901_Expt\\filteringProcess_blinkRemoval\\ys\\checkFiltering_leftPupil_ys__2__2019-01-16-15-42-51_2ndPart_1_blinkRemoval\n",
      "C:\\DTU\\Results\\201901_Expt\\filteringProcess_blinkRemoval\\ys\\checkFiltering_leftPupil_ys__2__2019-01-16-15-42-51_2ndPart_1_hampelFilter\n",
      "C:\\DTU\\Results\\201901_Expt\\filteringProcess_blinkRemoval\\ys\\checkFiltering_leftPupil_ys__2__2019-01-16-15-59-55_2_blinkRemoval\n",
      "C:\\DTU\\Results\\201901_Expt\\filteringProcess_blinkRemoval\\ys\\checkFiltering_leftPupil_ys__2__2019-01-16-15-59-55_2_hampelFilter\n",
      "C:\\DTU\\Results\\201901_Expt\\filteringProcess_blinkRemoval\\ys\\checkFiltering_leftPupil_ys__3__2019-01-17-15-05-1_1_blinkRemoval\n",
      "C:\\DTU\\Results\\201901_Expt\\filteringProcess_blinkRemoval\\ys\\checkFiltering_leftPupil_ys__3__2019-01-17-15-05-1_1_hampelFilter\n",
      "C:\\DTU\\Results\\201901_Expt\\filteringProcess_blinkRemoval\\ys\\checkFiltering_leftPupil_ys__4_MS__2019-01-30-11-22-25_1_blinkRemoval\n",
      "C:\\DTU\\Results\\201901_Expt\\filteringProcess_blinkRemoval\\ys\\checkFiltering_leftPupil_ys__4_MS__2019-01-30-11-22-25_1_hampelFilter\n",
      "C:\\DTU\\Results\\201901_Expt\\filteringProcess_blinkRemoval\\ys\\checkFiltering_leftPupil_ys__4_MS__2019-01-30-11-57-3_2_blinkRemoval\n",
      "C:\\DTU\\Results\\201901_Expt\\filteringProcess_blinkRemoval\\ys\\checkFiltering_leftPupil_ys__4_MS__2019-01-30-11-57-3_2_hampelFilter\n",
      "C:\\DTU\\Results\\201901_Expt\\filteringProcess_blinkRemoval\\ys\\checkFiltering_leftPupil_ys__5__2019-01-31-13-13-2_1_blinkRemoval\n",
      "C:\\DTU\\Results\\201901_Expt\\filteringProcess_blinkRemoval\\ys\\checkFiltering_leftPupil_ys__5__2019-01-31-13-13-2_1_hampelFilter\n",
      "C:\\DTU\\Results\\201901_Expt\\filteringProcess_blinkRemoval\\ys\\checkFiltering_leftPupil_ys__5__2019-01-31-13-32-2_2_blinkRemoval\n",
      "C:\\DTU\\Results\\201901_Expt\\filteringProcess_blinkRemoval\\ys\\checkFiltering_leftPupil_ys__5__2019-01-31-13-32-2_2_hampelFilter\n"
     ]
    }
   ],
   "source": [
    "# create a list of all saved figures in the folder\n",
    "\n",
    "path_blinkRemoval = path + '\\\\filteringProcess_blinkRemoval' + '\\\\' + subjectID + '\\\\'\n",
    "\n",
    "files_blinkRemoval = []\n",
    "# r=root, d=directories, f = files\n",
    "for r, d, f in os.walk(path_blinkRemoval):\n",
    "    for file in f:\n",
    "        files_blinkRemoval.append(os.path.join(r, file))\n",
    "\n",
    "for f in files_blinkRemoval:\n",
    "    print(f)\n",
    "    figx = pickle.load(open(f, 'rb'))\n",
    "\n",
    "    figx.show() # Show the figure, edit it, etc.!\n",
    "\n",
    "    "
   ]
  },
  {
   "cell_type": "code",
   "execution_count": 5,
   "metadata": {},
   "outputs": [
    {
     "name": "stdout",
     "output_type": "stream",
     "text": [
      "C:\\DTU\\Results\\201901_Expt\\filteringProcess_hampelFilter\\bh2\\checkFiltering_leftPupil_bh2__1__2019-02-21-16-09-44_1stPart_1_hampel filter\n",
      "C:\\DTU\\Results\\201901_Expt\\filteringProcess_hampelFilter\\bh2\\checkFiltering_leftPupil_bh2__1__2019-02-21-16-22-22_2ndPart_1_hampel filter\n",
      "C:\\DTU\\Results\\201901_Expt\\filteringProcess_hampelFilter\\bh2\\checkFiltering_leftPupil_bh2__1__2019-02-21-16-33-19_2_hampel filter\n",
      "C:\\DTU\\Results\\201901_Expt\\filteringProcess_hampelFilter\\bh2\\checkFiltering_leftPupil_bh2__2__2019-02-27-13-19-57_1_hampel filter\n",
      "C:\\DTU\\Results\\201901_Expt\\filteringProcess_hampelFilter\\bh2\\checkFiltering_leftPupil_bh2__2__2019-02-27-13-45-4_2_hampel filter\n",
      "C:\\DTU\\Results\\201901_Expt\\filteringProcess_hampelFilter\\bh2\\checkFiltering_leftPupil_bh2__3__2019-02-28-16-47-35_1_hampel filter\n",
      "C:\\DTU\\Results\\201901_Expt\\filteringProcess_hampelFilter\\bh2\\checkFiltering_leftPupil_bh2__3__2019-02-28-17-03-53_1stPart_2_hampel filter\n",
      "C:\\DTU\\Results\\201901_Expt\\filteringProcess_hampelFilter\\bh2\\checkFiltering_leftPupil_bh2__3__2019-02-28-17-24-2_2ndPart_2_hampel filter\n",
      "C:\\DTU\\Results\\201901_Expt\\filteringProcess_hampelFilter\\bh2\\checkFiltering_leftPupil_bh2__4__2019-03-04-10-14-44_1_hampel filter\n",
      "C:\\DTU\\Results\\201901_Expt\\filteringProcess_hampelFilter\\bh2\\checkFiltering_leftPupil_bh2__4__2019-03-04-10-38-49_2_hampel filter\n",
      "C:\\DTU\\Results\\201901_Expt\\filteringProcess_hampelFilter\\bh2\\checkFiltering_leftPupil_bh2__5_MS__2019-03-05-09-00-21_1_hampel filter\n",
      "C:\\DTU\\Results\\201901_Expt\\filteringProcess_hampelFilter\\bh2\\checkFiltering_leftPupil_bh2__5_MS__2019-03-05-09-15-11_2_hampel filter\n"
     ]
    }
   ],
   "source": [
    "# create a list of all saved figures in the folder\n",
    "\n",
    "path_blinkRemoval = path + '\\\\filteringProcess_hampelFilter' + '\\\\' + subjectID + '\\\\'\n",
    "\n",
    "files_blinkRemoval = []\n",
    "# r=root, d=directories, f = files\n",
    "for r, d, f in os.walk(path_blinkRemoval):\n",
    "    for file in f:\n",
    "        files_blinkRemoval.append(os.path.join(r, file))\n",
    "\n",
    "for f in files_blinkRemoval:\n",
    "    print(f)\n",
    "    figx = pickle.load(open(f, 'rb'))\n",
    "\n",
    "    figx.show() # Show the figure, edit it, etc.!\n"
   ]
  },
  {
   "cell_type": "markdown",
   "metadata": {},
   "source": [
    "# Open Pupil size of Experiment with Trials marked"
   ]
  },
  {
   "cell_type": "code",
   "execution_count": 14,
   "metadata": {},
   "outputs": [
    {
     "name": "stdout",
     "output_type": "stream",
     "text": [
      "C:\\DTU\\Results\\201901_Expt\\Expt_wTrialsMarked\\bh2\\pupilSize_CompleteExperiment_wTrials markedbh2__1__2019-02-21-16-09-44_1stPart_1\n",
      "C:\\DTU\\Results\\201901_Expt\\Expt_wTrialsMarked\\bh2\\pupilSize_CompleteExperiment_wTrials markedbh2__1__2019-02-21-16-22-22_2ndPart_1\n",
      "C:\\DTU\\Results\\201901_Expt\\Expt_wTrialsMarked\\bh2\\pupilSize_CompleteExperiment_wTrials markedbh2__1__2019-02-21-16-33-19_2\n",
      "C:\\DTU\\Results\\201901_Expt\\Expt_wTrialsMarked\\bh2\\pupilSize_CompleteExperiment_wTrials markedbh2__2__2019-02-27-13-19-57_1\n",
      "C:\\DTU\\Results\\201901_Expt\\Expt_wTrialsMarked\\bh2\\pupilSize_CompleteExperiment_wTrials markedbh2__2__2019-02-27-13-45-4_2\n",
      "C:\\DTU\\Results\\201901_Expt\\Expt_wTrialsMarked\\bh2\\pupilSize_CompleteExperiment_wTrials markedbh2__3__2019-02-28-16-47-35_1\n",
      "C:\\DTU\\Results\\201901_Expt\\Expt_wTrialsMarked\\bh2\\pupilSize_CompleteExperiment_wTrials markedbh2__3__2019-02-28-17-03-53_1stPart_2\n",
      "C:\\DTU\\Results\\201901_Expt\\Expt_wTrialsMarked\\bh2\\pupilSize_CompleteExperiment_wTrials markedbh2__3__2019-02-28-17-24-2_2ndPart_2\n",
      "C:\\DTU\\Results\\201901_Expt\\Expt_wTrialsMarked\\bh2\\pupilSize_CompleteExperiment_wTrials markedbh2__4__2019-03-04-10-14-44_1\n",
      "C:\\DTU\\Results\\201901_Expt\\Expt_wTrialsMarked\\bh2\\pupilSize_CompleteExperiment_wTrials markedbh2__4__2019-03-04-10-38-49_2\n",
      "C:\\DTU\\Results\\201901_Expt\\Expt_wTrialsMarked\\bh2\\pupilSize_CompleteExperiment_wTrials markedbh2__5_MS__2019-03-05-09-00-21_1\n",
      "C:\\DTU\\Results\\201901_Expt\\Expt_wTrialsMarked\\bh2\\pupilSize_CompleteExperiment_wTrials markedbh2__5_MS__2019-03-05-09-15-11_2\n"
     ]
    }
   ],
   "source": [
    "# create a list of all saved figures in the folder\n",
    "\n",
    "\n",
    "path_exptPupilSize_wTrialsMarked = path + '\\\\Expt_wTrialsMarked' + '\\\\' + subjectID + '\\\\'\n",
    "\n",
    "files_exptPupilSize_wTrialsMarked = []\n",
    "# r=root, d=directories, f = files\n",
    "for r, d, f in os.walk(path_expt_wTrialsMarked):\n",
    "    for file in f:\n",
    "        files_exptPupilSize_wTrialsMarked.append(os.path.join(r, file))\n",
    "\n",
    "for f in files_exptPupilSize_wTrialsMarked:\n",
    "    print(f)\n",
    "    figx = pickle.load(open(f, 'rb'))\n",
    "\n",
    "    figx.show() # Show the figure, edit it, etc.!"
   ]
  }
 ],
 "metadata": {
  "kernelspec": {
   "display_name": "Python 3",
   "language": "python",
   "name": "python3"
  },
  "language_info": {
   "codemirror_mode": {
    "name": "ipython",
    "version": 3
   },
   "file_extension": ".py",
   "mimetype": "text/x-python",
   "name": "python",
   "nbconvert_exporter": "python",
   "pygments_lexer": "ipython3",
   "version": "3.6.5"
  }
 },
 "nbformat": 4,
 "nbformat_minor": 2
}
