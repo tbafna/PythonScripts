{
 "cells": [
  {
   "cell_type": "code",
   "execution_count": 5,
   "metadata": {},
   "outputs": [],
   "source": [
    "import os\n",
    "import pandas as pd\n",
    "from openpyxl import load_workbook\n",
    "import numpy as np\n",
    "import matplotlib.pyplot as plt\n",
    "%matplotlib qt\n",
    "import pickle\n",
    "import statsmodels.api as sm\n",
    "from statsmodels.formula.api import ols\n",
    "import scipy.stats as stats\n",
    "import copy\n",
    "import matplotlib as mpl\n",
    "from PIL import Image"
   ]
  },
  {
   "cell_type": "code",
   "execution_count": 44,
   "metadata": {},
   "outputs": [
    {
     "name": "stdout",
     "output_type": "stream",
     "text": [
      "1383 1383 1383\n"
     ]
    }
   ],
   "source": [
    "fixationDispersionPath = r'C:\\DTU\\PupilProcessing_MATLABscripts\\PUPILS-preprocessing-pipeline-master-Helia\\data_0p7_baselineQ.csv'\n",
    "saccadeDispersionPath = r'C:\\DTU\\PupilProcessing_MATLABscripts\\PUPILS-preprocessing-pipeline-master-Helia\\data_out_example.csv'\n",
    "\n",
    "df_fixation = pd.read_csv(fixationDispersionPath, header=None)\n",
    "df_fixation.columns = ['timeStamp', 'x', 'y', 'pupil', 'fixation_index']\n",
    "df_saccade = pd.read_csv(saccadeDispersionPath)\n",
    "\n",
    "fixation_indexTF = [50 if element > 0 else 0 for element in df_fixation.fixation_index.tolist()]\n",
    "saccade_indexTF = [50 if element == 0 else 0 for element in df_saccade.saccade_indexes.tolist()][0:-1]\n",
    "\n",
    "acceleration = np.diff(df_saccade.velocity.tolist())\n",
    "\n",
    "print(len(df_fixation['x']), len(fixation_indexTF), len(saccade_indexTF))"
   ]
  },
  {
   "cell_type": "code",
   "execution_count": 45,
   "metadata": {},
   "outputs": [
    {
     "name": "stdout",
     "output_type": "stream",
     "text": [
      "1383 1383\n"
     ]
    }
   ],
   "source": [
    "# fix the saccade indexes into fixation indexes\n",
    "\n",
    "current_fixation = 1\n",
    "fixation_index_velThresh = list()\n",
    "\n",
    "for i, index in enumerate(df_saccade.saccade_indexes.tolist()[0:-2]):\n",
    "    if index > 0: # saccade\n",
    "        fixation_index_velThresh.append(0)\n",
    "    else:\n",
    "        fixation_index_velThresh.append(current_fixation)\n",
    "        if df_saccade.saccade_indexes.tolist()[i+1] > 0:\n",
    "            current_fixation = current_fixation + 1\n",
    "            \n",
    "if df_saccade.saccade_indexes.tolist()[-2] > 0:\n",
    "    fixation_index_velThresh.append(0)\n",
    "else:\n",
    "    fixation_index_velThresh.append(fixation_index_velThresh[-2])\n",
    "        \n",
    "        \n",
    "print(len(saccade_indexTF), len(fixation_index_velThresh))"
   ]
  },
  {
   "cell_type": "code",
   "execution_count": 47,
   "metadata": {},
   "outputs": [
    {
     "data": {
      "text/plain": [
       "[<matplotlib.lines.Line2D at 0x207be790780>]"
      ]
     },
     "execution_count": 47,
     "metadata": {},
     "output_type": "execute_result"
    }
   ],
   "source": [
    "fig = plt.figure()\n",
    "ax = fig.add_subplot(111)\n",
    "ax.plot(df_saccade.velocity, '-.')\n",
    "#ax.plot(acceleration, ':')\n",
    "\n",
    "ax.plot(fixation_indexTF, 'cyan')\n",
    "ax.plot(saccade_indexTF, 'orange')\n",
    "\n",
    "ax2 = ax.twinx()\n",
    "ax2.plot(df_fixation['x'], 'green')\n",
    "ax2.plot(df_fixation['y'], 'blue')"
   ]
  },
  {
   "cell_type": "code",
   "execution_count": 48,
   "metadata": {},
   "outputs": [],
   "source": [
    "plt.style.use('dark_background')\n",
    "im = np.array(Image.open('keyboard_baselineQ.png'), dtype=np.uint8)\n",
    "fig, ax = plt.subplots(figsize = (20,15)) #, dpi = dpi)\n",
    "ax.imshow(im, extent=(0, 59, 34.5, 0))\n",
    "ax.axis([0, 60, 35, 0])\n",
    "p = list()\n",
    "label_n = 0\n",
    "labelPrevious = 0        \n",
    "     \n",
    "colorList = ['red', 'olivedrab', 'paleturquoise', 'plum', 'maroon', 'orange', 'lightgreen', 'skyblue', 'deeppink', \\\n",
    "                'chocolate', 'forestgreen', 'aqua', 'blueviolet', 'brown', 'hotpink', 'tomato', 'lime', 'teal', \\\n",
    "                'darkmagenta', 'sandybrown', 'firebrick', 'darkcyan', 'palevioletred', 'springgreen', 'salmon', \\\n",
    "                'red', 'olivedrab', 'paleturquoise', 'plum', 'maroon', 'orange', 'lightgreen', 'skyblue', 'deeppink', \\\n",
    "                'chocolate', 'forestgreen', 'aqua', 'blueviolet', 'brown', 'hotpink', 'tomato', 'lime', 'teal', \\\n",
    "                'darkmagenta', 'sandybrown', 'firebrick', 'darkcyan', 'palevioletred', 'springgreen', 'salmon', \\\n",
    "                'red', 'olivedrab', 'paleturquoise', 'plum', 'maroon', 'orange', 'lightgreen', 'skyblue', 'deeppink', \\\n",
    "                'chocolate', 'forestgreen', 'aqua', 'blueviolet', 'brown', 'hotpink', 'tomato', 'lime', 'teal', \\\n",
    "                'darkmagenta', 'sandybrown', 'firebrick', 'darkcyan', 'palevioletred', 'springgreen', 'salmon', \\\n",
    "                'red', 'olivedrab', 'paleturquoise', 'plum', 'maroon', 'orange', 'lightgreen', 'skyblue', 'deeppink', \\\n",
    "                'chocolate', 'forestgreen', 'aqua', 'blueviolet', 'brown', 'hotpink', 'tomato', 'lime', 'teal', \\\n",
    "                'darkmagenta', 'sandybrown', 'firebrick', 'darkcyan', 'palevioletred', 'springgreen', 'salmon']\n",
    "    \n",
    "       \n",
    "for i, key in enumerate(range(0,len(saccade_indexTF))):\n",
    "    label = fixation_index_velThresh[key]\n",
    "    if not np.isnan(df_fixation['x'][key]): # current point is not a blink\n",
    "        if label == 0: # it is a saccade\n",
    "            ax.plot(df_fixation['x'][key], df_fixation['y'][key], marker = 'o', color = 'white')\n",
    "        else: # point is a fixation\n",
    "            labelCurrent = label\n",
    "            if labelCurrent != labelPrevious:\n",
    "                        \n",
    "                label_n = label_n + 1\n",
    "                #print(i, label_n, colorList[label_n], gazePoint_cm['x'][i], gazePoint_cm['y'][i])\n",
    "                ax.text(df_fixation['x'][key], df_fixation['y'][key], label_n, horizontalalignment='center',\\\n",
    "                        size='large', color='white', weight='semibold')\n",
    "            \n",
    "            ax.plot(df_fixation['x'][key], df_fixation['y'][key], marker = 'o', color = colorList[label_n])\n",
    "            labelPrevious = label\n",
    "\n",
    "plt.tight_layout()"
   ]
  },
  {
   "cell_type": "code",
   "execution_count": 49,
   "metadata": {},
   "outputs": [],
   "source": [
    "plt.style.use('dark_background')\n",
    "im = np.array(Image.open('keyboard_baselineQ.png'), dtype=np.uint8)\n",
    "fig, ax = plt.subplots(figsize = (20,15)) #, dpi = dpi)\n",
    "ax.imshow(im, extent=(0, 59, 34.5, 0))\n",
    "ax.axis([0, 60, 35, 0])\n",
    "p = list()\n",
    "label_n = 0\n",
    "labelPrevious = 0        \n",
    "     \n",
    "colorList = ['red', 'olivedrab', 'paleturquoise', 'plum', 'maroon', 'orange', 'lightgreen', 'skyblue', 'deeppink', \\\n",
    "                'chocolate', 'forestgreen', 'aqua', 'blueviolet', 'brown', 'hotpink', 'tomato', 'lime', 'teal', \\\n",
    "                'darkmagenta', 'sandybrown', 'firebrick', 'darkcyan', 'palevioletred', 'springgreen', 'salmon', \\\n",
    "                'red', 'olivedrab', 'paleturquoise', 'plum', 'maroon', 'orange', 'lightgreen', 'skyblue', 'deeppink', \\\n",
    "                'chocolate', 'forestgreen', 'aqua', 'blueviolet', 'brown', 'hotpink', 'tomato', 'lime', 'teal', \\\n",
    "                'darkmagenta', 'sandybrown', 'firebrick', 'darkcyan', 'palevioletred', 'springgreen', 'salmon', \\\n",
    "                'red', 'olivedrab', 'paleturquoise', 'plum', 'maroon', 'orange', 'lightgreen', 'skyblue', 'deeppink', \\\n",
    "                'chocolate', 'forestgreen', 'aqua', 'blueviolet', 'brown', 'hotpink', 'tomato', 'lime', 'teal', \\\n",
    "                'darkmagenta', 'sandybrown', 'firebrick', 'darkcyan', 'palevioletred', 'springgreen', 'salmon', \\\n",
    "                'red', 'olivedrab', 'paleturquoise', 'plum', 'maroon', 'orange', 'lightgreen', 'skyblue', 'deeppink', \\\n",
    "                'chocolate', 'forestgreen', 'aqua', 'blueviolet', 'brown', 'hotpink', 'tomato', 'lime', 'teal', \\\n",
    "                'darkmagenta', 'sandybrown', 'firebrick', 'darkcyan', 'palevioletred', 'springgreen', 'salmon']\n",
    "    \n",
    "        \n",
    "for i, key in enumerate(range(0,len(saccade_indexTF))):\n",
    "    label = df_fixation['fixation_index'][key]\n",
    "    if not np.isnan(df_fixation['x'][key]): # current point is not a blink\n",
    "        if label == 0: # it is a saccade\n",
    "            ax.plot(df_fixation['x'][key], df_fixation['y'][key], marker = 'o', color = 'white')\n",
    "        else: # point is a fixation\n",
    "            labelCurrent = label\n",
    "            if labelCurrent != labelPrevious:\n",
    "                        \n",
    "                label_n = label_n + 1\n",
    "                #print(i, label_n, colorList[label_n], gazePoint_cm['x'][i], gazePoint_cm['y'][i])\n",
    "                ax.text(df_fixation['x'][key], df_fixation['y'][key], label_n, horizontalalignment='center',\\\n",
    "                        size='large', color='white', weight='semibold')\n",
    "            \n",
    "            ax.plot(df_fixation['x'][key], df_fixation['y'][key], marker = 'o', color = colorList[label_n])\n",
    "            labelPrevious = label\n",
    "\n",
    "plt.tight_layout()"
   ]
  },
  {
   "cell_type": "code",
   "execution_count": null,
   "metadata": {},
   "outputs": [],
   "source": []
  }
 ],
 "metadata": {
  "kernelspec": {
   "display_name": "Python 3",
   "language": "python",
   "name": "python3"
  },
  "language_info": {
   "codemirror_mode": {
    "name": "ipython",
    "version": 3
   },
   "file_extension": ".py",
   "mimetype": "text/x-python",
   "name": "python",
   "nbconvert_exporter": "python",
   "pygments_lexer": "ipython3",
   "version": "3.7.3"
  }
 },
 "nbformat": 4,
 "nbformat_minor": 2
}
