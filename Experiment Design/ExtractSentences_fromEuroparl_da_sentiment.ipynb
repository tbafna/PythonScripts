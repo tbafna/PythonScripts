{
 "cells": [
  {
   "cell_type": "code",
   "execution_count": 1,
   "metadata": {},
   "outputs": [
    {
     "name": "stdout",
     "output_type": "stream",
     "text": [
      "Using matplotlib backend: TkAgg\n"
     ]
    }
   ],
   "source": [
    "%matplotlib\n",
    "#%matplotlib inline\n",
    "import os\n",
    "import csv\n",
    "import fnmatch\n",
    "import numpy as np\n",
    "import datetime\n",
    "import re\n",
    "import pandas as pd\n",
    "import matplotlib.pyplot as plt\n",
    "import math\n",
    "\n",
    "pd.options.mode.use_inf_as_na = True"
   ]
  },
  {
   "cell_type": "code",
   "execution_count": 228,
   "metadata": {
    "scrolled": false
   },
   "outputs": [],
   "source": [
    "filePath = r'\\\\ait-pdfs.win.dtu.dk\\users\\homedir\\taba\\Documents\\Experiment design\\Danish sentences\\europarl-da-sentiment-master'\n",
    "fileIn = 'europarl-da-sentiment.csv'\n",
    "fileOut = 'europarl_reduced.txt'\n",
    "\n",
    "sentencesFinal = list()\n",
    "\n",
    "# access lines in the file in form of list\n",
    "try:\n",
    "    fSentences = open(filePath+'\\\\'+fileIn, encoding=\"utf-8\")\n",
    "    sentences = fSentences.readlines()\n",
    "\n",
    "except:\n",
    "    print('error opening file')\n",
    "\n",
    "# add \" if not present\n",
    "line_ind = -1\n",
    "for line in sentences:\n",
    "    line_ind = line_ind + 1\n",
    "    \n",
    "    # add quote to beginning of sentence\n",
    "    check_quote = line.find(',\"')\n",
    "    \n",
    "    if check_quote < 0:\n",
    "        if re.search('[a-zA-Z]', line) is not None:\n",
    "            # find position of first comma\n",
    "            comma_first = line.index(',')\n",
    "            comma_second = line[comma_first+1:].index(',')\n",
    "            sentences[line_ind] = line[0:comma_second+comma_first+2] + '\"' + line[comma_second+comma_first+2:]\n",
    "            line = sentences[line_ind]\n",
    "            \n",
    "    # add quote to end of sentence\n",
    "    check_quote_end = line.find('.,,')\n",
    "    \n",
    "    if check_quote_end > 0:\n",
    "        if re.search('[a-zA-Z]', line) is not None:\n",
    "            sentences[line_ind] = sentences[line_ind].replace('.,,', '.\",,')\n",
    "            line = sentences[line_ind]\n",
    "        \n",
    "    else:\n",
    "        check_exclamation = line.find('!,,')\n",
    "        if check_exclamation > 0:\n",
    "            sentences[line_ind] = sentences[line_ind].replace('!,,', '!\",,')\n",
    "            line = sentences[line_ind]\n",
    "\n",
    "re_extractSentence = re.compile('(?<=\")(.*)(?=\")')\n",
    "\n",
    "nCharList = list()\n",
    "line_ind = -1\n",
    "for line in sentences:\n",
    "    line_ind = line_ind + 1\n",
    "    sentence = re_extractSentence.findall(line)\n",
    "    if sentence:\n",
    "            \n",
    "        # replace 'hr.' with nothing\n",
    "        sentence = sentence[0].replace('hr .', '')\n",
    "            \n",
    "        # replace 'fru.' with nothing\n",
    "        sentence = sentence.replace('fru', '')\n",
    "            \n",
    "        # replace quotation marks in the sentence\n",
    "        sentence = sentence.replace('\"', '')\n",
    "            \n",
    "        # replace any brackets\n",
    "        # check if complete brackets present first\n",
    "        sentence = sentence.replace('(', '')\n",
    "        sentence = sentence.replace(')', '')\n",
    "            \n",
    "        # replace extra spaces before '\n",
    "        sentence = sentence.replace(' \\'', '\\'')\n",
    "            \n",
    "        # replace ; with ,\n",
    "        sentence = sentence.replace(';', ',')\n",
    "            \n",
    "        # replace - with ,\n",
    "        sentence = sentence.replace(' -', ',')\n",
    "            \n",
    "        # third last -- replace comma and space with only comma\n",
    "        sentence = sentence.replace(' ,', ',')\n",
    "            \n",
    "        # second last -- replace comma and point with only point\n",
    "        sentence = sentence.replace(' .', '.')\n",
    "            \n",
    "        # in the end -- replace double space marks with single space\n",
    "        sentence = sentence.replace('  ', ' ')\n",
    "\n",
    "        # remove sentences with shortforms and numbers \n",
    "\n",
    "        if sentence[:-1].find('.') < 0:\n",
    "                    \n",
    "            # remove sentences with numbers:\n",
    "            if not any(char.isdigit() for char in sentence):\n",
    "                \n",
    "                if sentence.find('?') < 0:\n",
    "                        \n",
    "                    # remove sentence if there is still - in it\n",
    "                    if sentence.find('-') < 0:\n",
    "                            \n",
    "                        # remove sentence if it contains ' without an s before\n",
    "                        if sentence.find('s\\'') < 0:\n",
    "                            \n",
    "                            # remove sentences any upper case letters (names):\n",
    "                            if not any(x.isupper() for x in sentence[1:]):\n",
    "                                sentence = sentence.lower()\n",
    "                                \n",
    "                                # remove the last period\n",
    "                                sentence = sentence.replace('.', '')\n",
    "                                    \n",
    "                                    \n",
    "                                # remove sentence if it is more than 35 words long (occupies multiple lines in notepad)\n",
    "                                if len(sentence.split()) < 35:\n",
    "                                        \n",
    "                                    # remove sentences if they contain u'é' \n",
    "                                    if sentence.find(u'é') < 0:\n",
    "                                            \n",
    "                                        if sentence.find(':') < 0:\n",
    "                                            \n",
    "                                            # remove sentences that end in ,\n",
    "                                            if not sentence.endswith(', '):\n",
    "                                            \n",
    "                                                # remove small phrases like 'tak.'\n",
    "                                                if len(sentence) > 20:\n",
    "                                            \n",
    "                                                    sentencesFinal.append(sentence)\n",
    "                                    \n",
    "                                                    nCharList.append(len(sentence))\n",
    "                                    \n",
    "                                    \n",
    "# write to file\n",
    "with open(filePath+'\\\\'+fileOut, 'w+', encoding=\"utf-8\") as fOutput:\n",
    "    fOutput.write(\"\\n\".join(sentencesFinal))\n",
    "                                    \n",
    "                                \n",
    "                                #print(line_ind, sentence)\n",
    "            \n"
   ]
  },
  {
   "cell_type": "code",
   "execution_count": 229,
   "metadata": {},
   "outputs": [
    {
     "data": {
      "text/plain": [
       "8151"
      ]
     },
     "execution_count": 229,
     "metadata": {},
     "output_type": "execute_result"
    }
   ],
   "source": [
    "len(sentencesFinal)"
   ]
  },
  {
   "cell_type": "code",
   "execution_count": 230,
   "metadata": {},
   "outputs": [
    {
     "data": {
      "text/plain": [
       "22477"
      ]
     },
     "execution_count": 230,
     "metadata": {},
     "output_type": "execute_result"
    }
   ],
   "source": [
    "len(sentences)"
   ]
  },
  {
   "cell_type": "code",
   "execution_count": 231,
   "metadata": {},
   "outputs": [
    {
     "data": {
      "text/plain": [
       "96.28892160471108"
      ]
     },
     "execution_count": 231,
     "metadata": {},
     "output_type": "execute_result"
    }
   ],
   "source": [
    "np.mean(nCharList)"
   ]
  },
  {
   "cell_type": "code",
   "execution_count": 232,
   "metadata": {},
   "outputs": [
    {
     "data": {
      "text/plain": [
       "272"
      ]
     },
     "execution_count": 232,
     "metadata": {},
     "output_type": "execute_result"
    }
   ],
   "source": [
    "np.max(nCharList)"
   ]
  },
  {
   "cell_type": "code",
   "execution_count": 233,
   "metadata": {},
   "outputs": [
    {
     "data": {
      "text/plain": [
       "21"
      ]
     },
     "execution_count": 233,
     "metadata": {},
     "output_type": "execute_result"
    }
   ],
   "source": [
    "np.min(nCharList)"
   ]
  },
  {
   "cell_type": "code",
   "execution_count": null,
   "metadata": {},
   "outputs": [],
   "source": []
  }
 ],
 "metadata": {
  "kernelspec": {
   "display_name": "Python 3",
   "language": "python",
   "name": "python3"
  },
  "language_info": {
   "codemirror_mode": {
    "name": "ipython",
    "version": 3
   },
   "file_extension": ".py",
   "mimetype": "text/x-python",
   "name": "python",
   "nbconvert_exporter": "python",
   "pygments_lexer": "ipython3",
   "version": "3.6.4"
  }
 },
 "nbformat": 4,
 "nbformat_minor": 2
}
