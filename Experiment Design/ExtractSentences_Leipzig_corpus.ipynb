{
 "cells": [
  {
   "cell_type": "code",
   "execution_count": 1,
   "metadata": {},
   "outputs": [],
   "source": [
    "import os\n",
    "import numpy as np\n",
    "import re\n",
    "import matplotlib.pyplot as plt\n",
    "import random"
   ]
  },
  {
   "cell_type": "code",
   "execution_count": 21,
   "metadata": {},
   "outputs": [],
   "source": [
    "# input files \n",
    "#\n",
    "danish = 1\n",
    "if danish:\n",
    "    file_1 = r'\\\\ait-pdfs.win.dtu.dk\\users\\homedir\\taba\\Documents\\Experiment design\\Danish sentences\\Leipzig Corpora\\dan_mixed_2014_10K\\dan_check2.txt'\n",
    "else:\n",
    "    file_1 = r'\\\\ait-pdfs.win.dtu.dk\\users\\homedir\\taba\\Documents\\Experiment design\\English sentences\\Leipzig corpora\\eng_mixed_reduced2.txt'\n",
    "\n",
    "resultPath = r'\\\\ait-pdfs.win.dtu.dk\\users\\homedir\\taba\\Documents\\Experiment design\\Danish sentences\\VISL Sentences - Study1\\Analyzed\\Danish'\n"
   ]
  },
  {
   "cell_type": "code",
   "execution_count": 22,
   "metadata": {},
   "outputs": [],
   "source": [
    "try:\n",
    "    fSentences = open(file_1, encoding=\"utf-8\")\n",
    "    sentences = fSentences.readlines()\n",
    "\n",
    "except:\n",
    "    print('error opening file')"
   ]
  },
  {
   "cell_type": "code",
   "execution_count": 23,
   "metadata": {},
   "outputs": [],
   "source": [
    "# function that computes LIX score \n",
    "def ComputeLIXscoreOfPhrase(phrase):\n",
    "    \n",
    "    \n",
    "    B = 1\n",
    "    sentenceLength = phrase.count(' ')\n",
    "    words = phrase.split()\n",
    "    A = sentenceLength\n",
    "    C = 0\n",
    "    for word in words:\n",
    "        if len(word) > 6:\n",
    "            C = C + 1\n",
    "        \n",
    "    LIX = A/B + (C*100)/A\n",
    "            \n",
    "#     if LIX < 35:\n",
    "#         print('Easy')\n",
    "#     elif LIX > 45:\n",
    "#         print('Difficult')\n",
    "#     else:\n",
    "#         print('Medium')\n",
    "    \n",
    "    return LIX"
   ]
  },
  {
   "cell_type": "code",
   "execution_count": 24,
   "metadata": {
    "scrolled": false
   },
   "outputs": [
    {
     "name": "stdout",
     "output_type": "stream",
     "text": [
      "Difficult:  16\n",
      "Easy:  13\n"
     ]
    }
   ],
   "source": [
    "LIXDifficultList = list()\n",
    "LIXDifficultScores = list()\n",
    "LIXEasyList = list()\n",
    "LIXEasyScores = list() \n",
    "LIXMediumList = list()\n",
    "LIXMediumScores = list()\n",
    "\n",
    "for sentence in sentences:\n",
    "    #print(sentence)\n",
    "    \n",
    "    # for lix score, numbers, symbols are considered as spaces\n",
    "    #print(sentence)\n",
    "    # replace numbers and commas with spaces\n",
    "    sentenceForLix = re.sub('[\",:;()/\\-?!.]', \" \", sentence)\n",
    "    sentenceForLix = re.sub(\"[0-9]+.?[0-9]*\", \" \", sentence)\n",
    "    \n",
    "    #print(sentenceForLix)\n",
    "    # compute LIX score\n",
    "    LIX = ComputeLIXscoreOfPhrase(sentenceForLix)\n",
    "    \n",
    "    # Categorize sentence depending on LIX score\n",
    "    if LIX > 60:\n",
    "        LIXDifficultScores.append(LIX)\n",
    "        LIXDifficultList.append(sentence)\n",
    "    elif LIX < 30:\n",
    "        LIXEasyScores.append(LIX)\n",
    "        LIXEasyList.append(sentence)\n",
    "    #elif LIX > 40 and LIX < 50:\n",
    "    #    LIXMediumScores.append(LIX)\n",
    "    #    LIXMediumList.append(sentence)\n",
    "        \n",
    "        \n",
    "print('Difficult: ', len(LIXDifficultList))\n",
    "#print('Medium: ', len(LIXMediumList))\n",
    "print('Easy: ', len(LIXEasyList))"
   ]
  },
  {
   "cell_type": "code",
   "execution_count": 25,
   "metadata": {
    "scrolled": false
   },
   "outputs": [
    {
     "name": "stdout",
     "output_type": "stream",
     "text": [
      "Båden sejler stadig med sin originale Volvo Penta BB43 benzinmotor Resumé: Motorbåden Selma III - Selma III - en danskbygget klassisk motorbåd En charmerende midaldrende dame..\n",
      "\n",
      "Både Socialdemokratiet og Dansk Folkeparti afviser Hjorts forslag.\n",
      "\n",
      "Bagefter fortsætter vi til den Mexicanske Golf, til fiskerbyen Celestún.\n",
      "\n",
      "Baggrunden herfor er, at fælles livsarvinger arver ved den længstlevende ægtefælles død og på dette tidspunkt får mulighed for at overtage boets aktiver til vurderingsbeløbet i det omfang, aktiverne stadig er i behold, jf.\n",
      "\n",
      "Bag kampagnen står Det Kriminalpræventive Råd, Rigspolitiet, Justitsministeriet og Forsikring & Pension.\n",
      "\n",
      "Ballongas 1 x Helium Kit sæt 50 inkluderer: 4 x ecc godkendt tank fyldt med 0,42m³ helium. 4 x 50 levende, assorterede farver, 9\" latex balloner Obs:Vi kan ikke love, at latex balloner holder længere end ca. 6-7 timer, så pust dem ikke for tidligt op.\n",
      "\n",
      "BankInvest har lavet foreløbige beregninger af de forventede udbyttesatser for regnskabsåret 2013 for deres foreninger/afdelinger.\n",
      "\n",
      "Basel-Komiteens høringsdokument Finansrådets, Realkreditforeningens og Realkreditrådets svar Finansrådet Finanssektorens Hus Amaliegade 7 1256 København K Tlf.: 3370 1000 Fax: 3393 0260 mail@finansraadet.dk Vi samler statistik ved hjælp af cookies.\n",
      "\n",
      "Batterier til alle vores elektriske apparater som vibratore, trådløs æg, stimulatore, pumper, anal legetøj og meget mere.\n",
      "\n",
      "Bed selskabet bekræfte, at du rent faktisk er tilmeldt det billige produkt, som du har set på Elpristavlen.dk. 5. Hvad var den gennemsnitlige kWh-pris for HELE sidste måned?\n",
      "\n",
      "Begge publikationer er resultatet af mange hænders og hoveders arbejde og ydermere de eneste periodiske kulturarvsskrifter i kommunen, der fremlægger emner fra hele Vesthimmerland.\n",
      "\n",
      "Begge ting smager nu helt anderledes, for lungerne er rensede og smagsløgene skærpede Administratoren har deaktiveret offentlig skrive adgang.\n",
      "\n",
      "Behandling af bl.a. mindreværdskompleks, nedtrykthed, sorg, traumer, præstationsangst og stresshåndtering.\n",
      "\n",
      "Behandlingen af handicappede består af målrettede øvelser for muskelgrupper, der ikke fungerer normalt på grund af afkortning, nedsat kraft, manglende koordinering eller spasticitet.\n",
      "\n",
      "Beliggenhed: Velbeliggende i feriehusbyggeri med adgang til indendørs svømmebassin, tennisbaner, hånd- og fodboldbaner samt til solarium, sauna, motionsrum og nær golfbane Hvide Klit.\n",
      "\n",
      "Beneficium paupertatis for købmand Andreas Kårsberg af Århus.\n"
     ]
    }
   ],
   "source": [
    "for i in LIXDifficultList:\n",
    "\n",
    "    print(i)"
   ]
  },
  {
   "cell_type": "code",
   "execution_count": 20,
   "metadata": {},
   "outputs": [
    {
     "name": "stdout",
     "output_type": "stream",
     "text": [
      "I don't have time to dally with the hired help like some people.\n",
      "\n",
      "Front fore edge tail and rear fore edge head bent.\n",
      "\n",
      "And that really is the key to a great CV.\n",
      "\n",
      "The side panels are Yew veneer.\n",
      "\n",
      "Error codes and the Passwords file are the same as for the FileStore.\n",
      "\n",
      "At least contact us to find out more.\n",
      "\n",
      "Be there for the tears.\n",
      "\n",
      "Or if you prefer to be contacted by e-mail only.\n",
      "\n",
      "\"These do not belong to you.\"\n",
      "\n"
     ]
    }
   ],
   "source": [
    "for i in LIXEasyList:\n",
    "    print(i)"
   ]
  },
  {
   "cell_type": "code",
   "execution_count": null,
   "metadata": {
    "scrolled": false
   },
   "outputs": [],
   "source": [
    "for sentence in file_2_list:\n",
    "    #print(sentence)\n",
    "        \n",
    "    # replace numbers and commas with spaces\n",
    "    sentenceForLix = re.sub('[\",:;()/\\-?!.]', \" \", sentence)\n",
    "    sentenceForLix = re.sub(\"[0-9]+.?[0-9]*\", \" \", sentence)\n",
    "    \n",
    "    # compute LIX score\n",
    "    LIX = ComputeLIXscoreOfPhrase(sentenceForLix)\n",
    "    \n",
    "    if LIX > 60:\n",
    "        LIXDifficultScores.append(LIX)\n",
    "        LIXDifficultList.append(sentence)\n",
    "    elif LIX < 30: \n",
    "        LIXEasyScores.append(LIX)\n",
    "        LIXEasyList.append(sentence)\n",
    "    elif LIX > 40 and LIX < 50:\n",
    "        LIXMediumScores.append(LIX)\n",
    "        LIXMediumList.append(sentence)\n",
    "        \n",
    "        \n",
    "print('Difficult: ', len(set(LIXDifficultList)))\n",
    "print('Medium: ', len(set(LIXMediumList)))\n",
    "print('Easy: ', len(set(LIXEasyList)))"
   ]
  },
  {
   "cell_type": "code",
   "execution_count": null,
   "metadata": {},
   "outputs": [],
   "source": [
    "# visualize score distribution\n",
    "plt.hist(LIXDifficultScores, label='difficult')\n",
    "plt.hist(LIXMediumScores, label='medium')\n",
    "plt.hist(LIXEasyScores, label='easy')\n",
    "plt.legend()"
   ]
  },
  {
   "cell_type": "code",
   "execution_count": null,
   "metadata": {},
   "outputs": [],
   "source": [
    "\n",
    "with open(resultPath + '\\\\' + 'difficult.txt', \"w+\", encoding='utf-8')  as file:    \n",
    "    if LIXDifficultList:\n",
    "        LIXDifficultList = set(LIXDifficultList)\n",
    "        file.write(\"\\n\".join(LIXDifficultList))\n",
    "    \n",
    "with open(resultPath + '\\\\' + 'medium.txt', \"w+\", encoding='utf-8')  as file:\n",
    "    if LIXMediumList:\n",
    "        LIXMediumList = set(LIXMediumList)\n",
    "        file.write(\"\\n\".join(LIXMediumList))\n",
    "    \n",
    "with open(resultPath + '\\\\' + 'easy.txt', \"w+\", encoding='utf-8') as file:\n",
    "    if LIXEasyList:\n",
    "        LIXEasyList = set(LIXEasyList)\n",
    "        file.write(\"\\n\".join(LIXEasyList))\n",
    "    "
   ]
  },
  {
   "cell_type": "code",
   "execution_count": 39,
   "metadata": {},
   "outputs": [
    {
     "name": "stdout",
     "output_type": "stream",
     "text": [
      "{'25325', '11543', '55415', '51522', '15121', '32132', '55545', '55423', '25554', '44543', '55431', '32225', '55325', '52512', '42535', '34423', '33123', '34312', '52135', '53513'}\n",
      "{'24324', '41125', '33513', '12511', '54255', '12324', '25253', '43232', '11242', '14324', '13551', '44242', '45431', '24123', '35322', '13121', '23311', '22542', '12255', '21431'}\n"
     ]
    }
   ],
   "source": [
    "# Currently, the number of sentences in each category of complexity are 55,68,56. If 4 parts are created, they are \n",
    "# more or less equally distributed. 1 sentence will be removed from each part, to form two sets of trial sentences.  \n",
    "# This part of code will take the 4 numbers 1-4, and create a combination of easy, medium and difficult sentences.\n",
    "\n",
    "nParticipants = 4\n",
    "combination1category  = 0\n",
    "combiDifficult = list()\n",
    "combiEasy = list()\n",
    "\n",
    "for i in range(20):\n",
    "    combination1categoryDifficult = str(random.randint(1,5)) + str(random.randint(1,5)) + str(random.randint(1,5)) + str(random.randint(1,5)) + str(random.randint(1,5))\n",
    "    \n",
    "    #print(combination1category)\n",
    "    combiDifficult.append(combination1categoryDifficult)\n",
    "    \n",
    "    \n",
    "for i in range(20):\n",
    "    combination1categoryEasy = str(random.randint(1,5)) + str(random.randint(1,5)) + str(random.randint(1,5)) + str(random.randint(1,5)) + str(random.randint(1,5))\n",
    "    \n",
    "    #print(combination1category)\n",
    "    combiEasy.append(combination1categoryEasy)\n",
    "    \n",
    "    \n",
    "\n",
    "print(set(combiDifficult))\n",
    "print(set(combiEasy))\n",
    "\n",
    "# {'221', '341', '222', '323', '124', '143', '243', '311', '244', '121', '441', '211', '223', '344', '111', \n",
    "# '421', '331', '423', '342', '132'}\n"
   ]
  },
  {
   "cell_type": "code",
   "execution_count": 11,
   "metadata": {
    "scrolled": false
   },
   "outputs": [
    {
     "name": "stdout",
     "output_type": "stream",
     "text": [
      "['1', '1', '2', '1', '2']\n"
     ]
    }
   ],
   "source": [
    "# Randomized easy(1) and difficult(2)\n",
    "\n",
    "p1 = list()\n",
    "for i in range(5):\n",
    "    level = str(random.randint(1,2))\n",
    "    p1.append(level)\n",
    "    \n",
    "print(p1)"
   ]
  },
  {
   "cell_type": "code",
   "execution_count": null,
   "metadata": {},
   "outputs": [],
   "source": [
    "# part is a variable that determines the part of the category to be taken, for the participant\n",
    "part = {'easy' : 4}\n",
    "part['medium'] =  4\n",
    "part['difficult'] = 1\n",
    "nPhrases = 5\n",
    "\n",
    "participant = 'Björgvin_2'\n",
    "\n",
    "\n",
    "infilePath = r'\\\\ait-pdfs.win.dtu.dk\\users\\homedir\\taba\\Documents\\Experiment design\\Danish sentences\\VISL Sentences - Study1\\Analyzed\\Danish\\Parts'\n",
    "outfilePath = r'\\\\ait-pdfs.win.dtu.dk\\users\\homedir\\taba\\Documents\\Experiment design\\Pilot expt for movement\\Phrases'\n",
    "\n",
    "fileEasy = 'easy' + str(part['easy']) + '.txt'\n",
    "fileMedium = 'medium' + str(part['medium']) + '.txt'\n",
    "fileDifficult = 'difficult' + str(part['difficult']) + '.txt'\n",
    "    \n",
    "# open file and choose 5 sentences randomly\n",
    "with open(infilePath + '\\\\' + fileEasy, 'r', encoding='utf-8') as f_easy:\n",
    "    phrases_easy_all = f_easy.read().splitlines()\n",
    "\n",
    "with open(infilePath + '\\\\' + fileMedium, 'r', encoding='utf-8') as f_medium:\n",
    "    phrases_medium_all = f_medium.read().splitlines()\n",
    "\n",
    "with open(infilePath + '\\\\' + fileDifficult, 'r', encoding='utf-8') as f_difficult:\n",
    "    phrases_difficult_all = f_difficult.read().splitlines()\n",
    "\n",
    "# choose nPhrases number of random sentences from each category\n",
    "phrases_easy_some = random.sample(phrases_easy_all, nPhrases)\n",
    "phrases_medium_some = random.sample(phrases_medium_all, nPhrases)\n",
    "phrases_difficult_some = random.sample(phrases_difficult_all, nPhrases)\n",
    "\n",
    "phrasesFinal = phrases_easy_some + phrases_medium_some + phrases_difficult_some\n",
    "\n",
    "# write the phrases in a text file \n",
    "with open(outfilePath + '\\\\' + participant + '.txt', 'w+', encoding='utf-8') as f_out:\n",
    "    f_out.write('\\n'.join(phrasesFinal))\n"
   ]
  },
  {
   "cell_type": "code",
   "execution_count": 19,
   "metadata": {},
   "outputs": [],
   "source": [
    "a = ComputeLIXscoreOfPhrase('It validates people''s lives.')"
   ]
  },
  {
   "cell_type": "code",
   "execution_count": 18,
   "metadata": {},
   "outputs": [
    {
     "data": {
      "text/plain": [
       "69.66666666666667"
      ]
     },
     "execution_count": 18,
     "metadata": {},
     "output_type": "execute_result"
    }
   ],
   "source": [
    "a"
   ]
  },
  {
   "cell_type": "code",
   "execution_count": null,
   "metadata": {},
   "outputs": [],
   "source": []
  }
 ],
 "metadata": {
  "kernelspec": {
   "display_name": "Python 3",
   "language": "python",
   "name": "python3"
  },
  "language_info": {
   "codemirror_mode": {
    "name": "ipython",
    "version": 3
   },
   "file_extension": ".py",
   "mimetype": "text/x-python",
   "name": "python",
   "nbconvert_exporter": "python",
   "pygments_lexer": "ipython3",
   "version": "3.6.4"
  }
 },
 "nbformat": 4,
 "nbformat_minor": 2
}
