{
 "cells": [
  {
   "cell_type": "code",
   "execution_count": 5,
   "metadata": {},
   "outputs": [
    {
     "name": "stdout",
     "output_type": "stream",
     "text": [
      "Using matplotlib backend: TkAgg\n"
     ]
    }
   ],
   "source": [
    "%matplotlib\n",
    "#%matplotlib inline\n",
    "import os\n",
    "import csv\n",
    "import fnmatch\n",
    "import numpy as np\n",
    "import datetime\n",
    "import re\n",
    "import pandas as pd\n",
    "import matplotlib.pyplot as plt\n",
    "import math\n",
    "\n",
    "pd.options.mode.use_inf_as_na = True"
   ]
  },
  {
   "cell_type": "code",
   "execution_count": 6,
   "metadata": {},
   "outputs": [],
   "source": [
    "def ComputeLIXscoreOfPhrase(phrase):\n",
    "    \n",
    "    \n",
    "    B = 1\n",
    "    words = phrase.split()\n",
    "    A = len(words)\n",
    "    C = 0\n",
    "    for word in words:\n",
    "        if len(word) > 6:\n",
    "            C = C + 1\n",
    "        \n",
    "    LIX = A/B + (C*100)/A\n",
    "            \n",
    "#     if LIX < 35:\n",
    "#         print('Easy')\n",
    "#     elif LIX > 45:\n",
    "#         print('Difficult')\n",
    "#     else:\n",
    "#         print('Medium')\n",
    "    \n",
    "    return LIX"
   ]
  },
  {
   "cell_type": "code",
   "execution_count": 14,
   "metadata": {
    "scrolled": false
   },
   "outputs": [
    {
     "name": "stdout",
     "output_type": "stream",
     "text": [
      "Difficult:  15\n",
      "Medium:  50\n",
      "Easy:  230\n"
     ]
    }
   ],
   "source": [
    "#filePath = r'\\\\ait-pdfs.win.dtu.dk\\users\\homedir\\taba\\Documents\\Experiment design\\English sentences'\n",
    "#fileName = 'default_phrases.txt'\n",
    "\n",
    "filePath = r'M:\\Documents\\Experiment design\\Sentences\\Danish sentences\\Leipzig Corpora\\dan_mixed_2014_10K'\n",
    "fileName = 'dan_check'\n",
    "LIXDifficultList = list()\n",
    "LIXEasyList = list()\n",
    "LIXMediumList = list()\n",
    "\n",
    "# open file and read sentences\n",
    "try:\n",
    "    fSentences = open(filePath + '\\\\' + fileName, encoding=\"utf-8\")\n",
    "    sentences = fSentences.readlines()\n",
    "    #print(sentences)\n",
    "except:\n",
    "    print('error opening file')\n",
    "\n",
    "for sentence in sentences:\n",
    "    #print(sentence)\n",
    "    \n",
    "    LIX = ComputeLIXscoreOfPhrase(sentence)\n",
    "    if LIX > 65:\n",
    "        LIXDifficultList.append(sentence)\n",
    "    elif LIX < 25: \n",
    "        LIXEasyList.append(sentence)\n",
    "    elif LIX > 40 and LIX < 50:\n",
    "        LIXMediumList.append(sentence)\n",
    "        \n",
    "        \n",
    "print('Difficult: ', len(LIXDifficultList))\n",
    "print('Medium: ', len(LIXMediumList))\n",
    "print('Easy: ', len(LIXEasyList))\n",
    "\n",
    "file = open(filePath + '\\\\' + 'dan_difficult.txt', \"w+\", encoding='utf-8')\n",
    "LIXDifficultList = set(LIXDifficultList)\n",
    "file.write(\"\\n\".join(LIXDifficultList))\n",
    "file.close()\n",
    "\n",
    "file = open(filePath + '\\\\' + 'default_phrases_medium.txt', \"w+\", encoding='utf-8')\n",
    "LIXMediumList = set(LIXMediumList)\n",
    "file.write(\"\\n\".join(LIXMediumList))\n",
    "file.close()\n",
    "\n",
    "file = open(filePath + '\\\\' + 'default_phrases_easy.txt', \"w+\", encoding='utf-8')\n",
    "LIXEasyList = set(LIXEasyList)\n",
    "file.write(\"\\n\".join(LIXEasyList))\n",
    "file.close()"
   ]
  },
  {
   "cell_type": "code",
   "execution_count": null,
   "metadata": {},
   "outputs": [],
   "source": []
  }
 ],
 "metadata": {
  "kernelspec": {
   "display_name": "Python 3",
   "language": "python",
   "name": "python3"
  },
  "language_info": {
   "codemirror_mode": {
    "name": "ipython",
    "version": 3
   },
   "file_extension": ".py",
   "mimetype": "text/x-python",
   "name": "python",
   "nbconvert_exporter": "python",
   "pygments_lexer": "ipython3",
   "version": "3.7.3"
  }
 },
 "nbformat": 4,
 "nbformat_minor": 2
}
