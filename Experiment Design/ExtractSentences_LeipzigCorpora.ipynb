{
 "cells": [
  {
   "cell_type": "code",
   "execution_count": 1,
   "metadata": {},
   "outputs": [],
   "source": [
    "import os\n",
    "import numpy as np\n",
    "import re\n",
    "import matplotlib.pyplot as plt\n",
    "import random\n",
    "from pathlib import Path"
   ]
  },
  {
   "cell_type": "code",
   "execution_count": 16,
   "metadata": {},
   "outputs": [],
   "source": [
    "# input files \n",
    "#\n",
    "danish = 1\n",
    "if danish:\n",
    "    file_1 = r'C:\\Users\\taba\\Desktop\\Experiment design\\Sentences\\Danish sentences\\Leipzig Corpora\\dan_mixed_2014_10K\\dan_mixed_2014_10K-sentences - Copy.txt'\n",
    "    file_reduced = r'C:\\Users\\taba\\Desktop\\Experiment design\\Sentences\\Danish sentences\\Leipzig Corpora\\dan_mixed_2014_10K\\dan_mixed_2014_10K-sentences - Reduced.txt'\n",
    "else:\n",
    "    file_1 = r'\\\\ait-pdfs.win.dtu.dk\\users\\homedir\\taba\\Documents\\Experiment design\\English sentences\\Leipzig corpora\\eng_mixed_reduced2.txt'\n",
    "\n",
    "#resultPath = r'C:\\Users\\taba\\Desktop\\Experiment design\\Sentences\\Danish sentences\\Leipzig Corpora\\Leipzig Corpora - Study2\\Analyzed_Patients\\Danish'\n"
   ]
  },
  {
   "cell_type": "code",
   "execution_count": 3,
   "metadata": {},
   "outputs": [
    {
     "name": "stdout",
     "output_type": "stream",
     "text": [
      "10000\n"
     ]
    }
   ],
   "source": [
    "config = Path(file_1)\n",
    "if config.is_file():\n",
    "    fSentences = open(file_1, encoding='utf-8')\n",
    "\n",
    "    sentences = fSentences.readlines()\n",
    "    \n",
    "print(len(sentences))\n"
   ]
  },
  {
   "cell_type": "code",
   "execution_count": 20,
   "metadata": {
    "scrolled": false
   },
   "outputs": [],
   "source": [
    "# remove the numbers at the beginning of the line\n",
    "\n",
    "sentences_reduced = list()\n",
    "\n",
    "i = 0\n",
    "\n",
    "for sentence in sentences:\n",
    "    \n",
    "    # sentences are between a tab and a new line\n",
    "    a = re.compile(\"(?<=\\t)(.*)(?=\\n)\")\n",
    "    sentence_reduced = a.findall(sentence)[0]\n",
    "    \n",
    "    sentences_reduced.append(sentence_reduced)\n",
    "    "
   ]
  },
  {
   "cell_type": "code",
   "execution_count": 21,
   "metadata": {},
   "outputs": [],
   "source": [
    "# write the phrases in a text file \n",
    "with open(file_reduced, 'w+', encoding='utf-8') as f_out:\n",
    "    f_out.write('\\n'.join(sentences_reduced))"
   ]
  },
  {
   "cell_type": "code",
   "execution_count": null,
   "metadata": {},
   "outputs": [],
   "source": []
  }
 ],
 "metadata": {
  "kernelspec": {
   "display_name": "Python 3",
   "language": "python",
   "name": "python3"
  },
  "language_info": {
   "codemirror_mode": {
    "name": "ipython",
    "version": 3
   },
   "file_extension": ".py",
   "mimetype": "text/x-python",
   "name": "python",
   "nbconvert_exporter": "python",
   "pygments_lexer": "ipython3",
   "version": "3.6.5"
  }
 },
 "nbformat": 4,
 "nbformat_minor": 2
}
