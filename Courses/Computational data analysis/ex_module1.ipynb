{
 "cells": [
  {
   "cell_type": "code",
   "execution_count": 89,
   "metadata": {},
   "outputs": [],
   "source": [
    "import os\n",
    "import pandas as pd\n",
    "from sklearn.linear_model import LinearRegression\n",
    "from sklearn import linear_model\n",
    "import numpy as np\n",
    "from sklearn.neighbors import KNeighborsRegressor\n",
    "import matplotlib.pyplot as plt\n",
    "import scipy.linalg as lng\n",
    "import matplotlib"
   ]
  },
  {
   "cell_type": "code",
   "execution_count": 45,
   "metadata": {},
   "outputs": [],
   "source": [
    "data = pd.read_csv(r'M:\\Documents\\Courses\\Credits\\2019August\\Module1\\Exercises 1\\Exercises 1\\Python\\DiabetesData.txt', sep=\",\",)\n",
    "Y = data.Y\n",
    "\n",
    "data.drop(['Y'], axis=1, inplace=True)"
   ]
  },
  {
   "cell_type": "code",
   "execution_count": 46,
   "metadata": {},
   "outputs": [],
   "source": [
    "# normalize the data\n",
    "data_norm = (data-data.mean())/(data.std()) "
   ]
  },
  {
   "cell_type": "markdown",
   "metadata": {},
   "source": [
    "# Question1"
   ]
  },
  {
   "cell_type": "code",
   "execution_count": 47,
   "metadata": {},
   "outputs": [],
   "source": [
    "# 1(a)\n",
    "# solve it using basic equation:\n",
    "# beta = (X_t*X)-1*X_t*y\n",
    "\n",
    "inv = np.linalg.inv(np.dot(data_norm.transpose(),data_norm))\n",
    "inv_ = np.dot(inv, data_norm.transpose())\n",
    "beta1 = np.dot(inv_, Y)"
   ]
  },
  {
   "cell_type": "code",
   "execution_count": 48,
   "metadata": {},
   "outputs": [],
   "source": [
    "# 1(b)\n",
    "# solve it using linear equations\n",
    "M = np.c_[np.ones(len(Y)),data_norm]\n",
    "beta2, res, rnk, s = lng.lstsq(M, Y)\n"
   ]
  },
  {
   "cell_type": "code",
   "execution_count": 50,
   "metadata": {},
   "outputs": [],
   "source": [
    "# 1(c)\n",
    "MSE = 1/len(Y)*np.mean((Y-np.matmul(M,beta2)**2))"
   ]
  },
  {
   "cell_type": "code",
   "execution_count": 95,
   "metadata": {},
   "outputs": [
    {
     "name": "stdout",
     "output_type": "stream",
     "text": [
      "2859.6963475867474 5929.884896910383\n",
      "0.5177484222203503\n"
     ]
    }
   ],
   "source": [
    "# 1(d)\n",
    "RSS = np.mean((Y-np.matmul(M,beta2))**2)\n",
    "TSS = np.mean((Y-np.mean(Y))**2)\n",
    "\n",
    "R_sq = 1-RSS/TSS\n"
   ]
  },
  {
   "cell_type": "markdown",
   "metadata": {},
   "source": [
    "# Question2"
   ]
  },
  {
   "cell_type": "code",
   "execution_count": 9,
   "metadata": {},
   "outputs": [],
   "source": [
    "\n",
    "\n",
    "mu, sigma = 0, 1 # mean and standard deviation\n",
    "s1 = np.random.normal(mu, sigma, 10)\n",
    "s2 = np.random.normal(mu, sigma, 10)\n",
    "s3 = np.random.normal(mu, sigma, 10)\n",
    "\n",
    "\n",
    "X = np.array([[s1],[s2],[s3]])\n",
    "X = X.reshape((3,10))\n",
    "X = X.transpose()\n",
    "B_true = [1, 2, 3]\n",
    "\n"
   ]
  },
  {
   "cell_type": "code",
   "execution_count": 73,
   "metadata": {},
   "outputs": [
    {
     "data": {
      "image/png": "[encoded data removed]",
      "text/plain": [
       "<Figure size 432x288 with 1 Axes>"
      ]
     },
     "metadata": {},
     "output_type": "display_data"
    }
   ],
   "source": [
    "# 2(a)\n",
    "\n",
    "\n",
    "for i in range(0,100):\n",
    "\n",
    "    mu_e, sigma_e = 0,0.1\n",
    "    e = np.random.normal(mu_e, sigma_e, 10)\n",
    "\n",
    "    y = np.matmul(X, B_true) + e\n",
    "    \n",
    "    # solve it using linear equations\n",
    "    #M = np.c_[np.ones(len(y)),X]\n",
    "    #beta, res, rnk, s = lng.lstsq(M, y)\n",
    "    #plt.plot(B_true, beta[1:], 'o')\n",
    "    \n",
    "    inv = np.linalg.inv(np.dot(X.transpose(),X))\n",
    "    inv_ = np.dot(inv, X.transpose())\n",
    "    beta = np.dot(inv_, y)\n",
    "    \n",
    "    #print(beta)\n",
    "    plt.plot(B_true, beta, 'o')\n",
    "    \n",
    "    "
   ]
  },
  {
   "cell_type": "markdown",
   "metadata": {},
   "source": [
    "the plot shows low bias but high variance"
   ]
  },
  {
   "cell_type": "markdown",
   "metadata": {},
   "source": [
    "# Question3"
   ]
  },
  {
   "cell_type": "code",
   "execution_count": 80,
   "metadata": {},
   "outputs": [
    {
     "data": {
      "text/plain": [
       "Text(0,0.5,'beta ridge')"
      ]
     },
     "execution_count": 80,
     "metadata": {},
     "output_type": "execute_result"
    },
    {
     "data": {
      "image/png": "[encoded data removed]",
      "text/plain": [
       "<Figure size 432x288 with 1 Axes>"
      ]
     },
     "metadata": {},
     "output_type": "display_data"
    }
   ],
   "source": [
    "# 3(b)\n",
    "data_np = np.reshape(np.array(data.values), (len(data), len(data.columns)))\n",
    "\n",
    "lambda_ = np.logspace(-4, 3, num=10)\n",
    "beta_ridge_list = list()\n",
    "\n",
    "for lambda_value in lambda_:\n",
    "    \n",
    "    \n",
    "    inv = np.linalg.inv(np.dot(data_np.transpose(),data_np) + lambda_value*np.identity(len(data.columns)))\n",
    "    inv_ = np.dot(inv, data_np.transpose())\n",
    "    beta_ridge = np.dot(inv_, Y)\n",
    "    beta_ridge_list.append(beta_ridge)\n",
    "    \n",
    "plt.semilogx(lambda_, np.mean(beta_ridge_list, axis=1), 'o')\n",
    "plt.xlabel('lambda')\n",
    "plt.ylabel('beta ridge')"
   ]
  },
  {
   "cell_type": "markdown",
   "metadata": {},
   "source": [
    "Beta goes towards 0 with increasing lambda (increasing complexity), since lambda is in the inverse"
   ]
  },
  {
   "cell_type": "code",
   "execution_count": 91,
   "metadata": {
    "scrolled": false
   },
   "outputs": [
    {
     "data": {
      "text/plain": [
       "<ErrorbarContainer object of 3 artists>"
      ]
     },
     "execution_count": 91,
     "metadata": {},
     "output_type": "execute_result"
    },
    {
     "data": {
      "image/png": "[encoded data removed]",
      "text/plain": [
       "<Figure size 432x288 with 1 Axes>"
      ]
     },
     "metadata": {},
     "output_type": "display_data"
    }
   ],
   "source": [
    "# 3(c)\n",
    "\n",
    "lambda_ = np.logspace(-4, 3, num=10)\n",
    "\n",
    "beta_ridge_list = list()\n",
    "\n",
    "for lambda_value in lambda_:\n",
    "    \n",
    "    \n",
    "    inv = np.linalg.inv(np.dot(X.transpose(),X) + lambda_value*np.identity(len(B_true)))\n",
    "    inv_ = np.dot(inv, X.transpose())\n",
    "    beta_ridge = np.dot(inv_, y)\n",
    "    beta_ridge_list.append(beta_ridge)\n",
    "    \n",
    "plt.errorbar(B_true, np.mean(beta_ridge_list, axis=0), yerr=np.std(beta_ridge_list, axis=0), label=lambda_value)"
   ]
  },
  {
   "cell_type": "markdown",
   "metadata": {},
   "source": [
    "this plot has high bias and  variance"
   ]
  },
  {
   "cell_type": "markdown",
   "metadata": {},
   "source": [
    "# Question4"
   ]
  },
  {
   "cell_type": "code",
   "execution_count": 110,
   "metadata": {},
   "outputs": [
    {
     "data": {
      "text/plain": [
       "[<matplotlib.lines.Line2D at 0x2091ab2b2e8>]"
      ]
     },
     "execution_count": 110,
     "metadata": {},
     "output_type": "execute_result"
    },
    {
     "data": {
      "image/png": "[encoded data removed]",
      "text/plain": [
       "<Figure size 432x288 with 1 Axes>"
      ]
     },
     "metadata": {},
     "output_type": "display_data"
    }
   ],
   "source": [
    "neigh = KNeighborsRegressor(n_neighbors=2)\n",
    "y_knn = neigh.fit(data_norm[0:100], Y[0:100]).predict(data_norm[100:200])\n",
    "\n",
    "#knn.fit(X, y).predict(T)\n",
    "\n",
    "plt.plot(Y[100:200], y_knn, 'o')\n"
   ]
  },
  {
   "cell_type": "code",
   "execution_count": 93,
   "metadata": {
    "scrolled": false
   },
   "outputs": [
    {
     "name": "stdout",
     "output_type": "stream",
     "text": [
      "4917.132499999999\n",
      "4694.16942222222\n",
      "4844.347300000001\n"
     ]
    },
    {
     "data": {
      "image/png": "[encoded data removed]",
      "text/plain": [
       "<Figure size 432x288 with 1 Axes>"
      ]
     },
     "metadata": {},
     "output_type": "display_data"
    },
    {
     "data": {
      "image/png": "[encoded data removed]",
      "text/plain": [
       "<Figure size 432x288 with 1 Axes>"
      ]
     },
     "metadata": {},
     "output_type": "display_data"
    },
    {
     "data": {
      "image/png": "[encoded data removed]",
      "text/plain": [
       "<Figure size 432x288 with 1 Axes>"
      ]
     },
     "metadata": {},
     "output_type": "display_data"
    }
   ],
   "source": [
    "# 4()\n",
    "for neighbour in range(10, 25, 5):\n",
    "    neigh = KNeighborsRegressor(n_neighbors=neighbour)\n",
    "    y_knn = neigh.fit(data_norm[0:100], Y[0:100]).predict(data_norm[100:200])\n",
    "    \n",
    "    print(np.mean((Y[100:200]-y_knn)**2))\n",
    "    \n",
    "    plt.figure()\n",
    "    plt.plot(Y[100:200], y_knn, 'o')\n",
    "    plt.title(neighbour)"
   ]
  },
  {
   "cell_type": "code",
   "execution_count": null,
   "metadata": {},
   "outputs": [],
   "source": []
  }
 ],
 "metadata": {
  "kernelspec": {
   "display_name": "Python 3",
   "language": "python",
   "name": "python3"
  },
  "language_info": {
   "codemirror_mode": {
    "name": "ipython",
    "version": 3
   },
   "file_extension": ".py",
   "mimetype": "text/x-python",
   "name": "python",
   "nbconvert_exporter": "python",
   "pygments_lexer": "ipython3",
   "version": "3.7.3"
  }
 },
 "nbformat": 4,
 "nbformat_minor": 2
}
