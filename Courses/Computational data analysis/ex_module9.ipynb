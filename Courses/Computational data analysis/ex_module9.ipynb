{
 "cells": [
  {
   "cell_type": "code",
   "execution_count": 8,
   "metadata": {},
   "outputs": [],
   "source": [
    "import scipy.io\n",
    "import numpy as np\n",
    "import csv\n",
    "import pandas as pd\n",
    "from sklearn.tree import DecisionTreeClassifier, export_graphviz"
   ]
  },
  {
   "cell_type": "markdown",
   "metadata": {},
   "source": [
    "# Question1"
   ]
  },
  {
   "cell_type": "code",
   "execution_count": 10,
   "metadata": {},
   "outputs": [],
   "source": [
    "T = pd.read_csv(r'M:\\Documents\\Courses\\Credits\\2019August\\Computational Data Analysis\\Module9\\Exercises 9\\Data\\Actors.csv')\n",
    "    "
   ]
  },
  {
   "cell_type": "code",
   "execution_count": 14,
   "metadata": {},
   "outputs": [],
   "source": [
    "T['Actor'] = pd.Categorical(T['Actor']).codes\n",
    "\n",
    "dtree=DecisionTreeClassifier()\n",
    "# Casting response into categorical, as decision trees expects cat response\n",
    "dtree.fit(T[['Actor', 'Budget']], pd.Categorical(T['IMDb']).codes)\n",
    "\n",
    "with open(\"dt.dot\", 'w') as f:\n",
    "    export_graphviz(dtree, out_file=f,\n",
    "                    feature_names=['Actor', 'Budget'])\n",
    "\n"
   ]
  },
  {
   "cell_type": "code",
   "execution_count": null,
   "metadata": {},
   "outputs": [],
   "source": []
  }
 ],
 "metadata": {
  "kernelspec": {
   "display_name": "Python 3",
   "language": "python",
   "name": "python3"
  },
  "language_info": {
   "codemirror_mode": {
    "name": "ipython",
    "version": 3
   },
   "file_extension": ".py",
   "mimetype": "text/x-python",
   "name": "python",
   "nbconvert_exporter": "python",
   "pygments_lexer": "ipython3",
   "version": "3.6.5"
  }
 },
 "nbformat": 4,
 "nbformat_minor": 2
}
