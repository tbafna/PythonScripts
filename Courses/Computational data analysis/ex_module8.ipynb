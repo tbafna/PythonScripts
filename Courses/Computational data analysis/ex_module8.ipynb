{
 "cells": [
  {
   "cell_type": "code",
   "execution_count": 1,
   "metadata": {},
   "outputs": [
    {
     "name": "stdout",
     "output_type": "stream",
     "text": [
      "Using matplotlib backend: Qt5Agg\n"
     ]
    }
   ],
   "source": [
    "import sklearn\n",
    "from sklearn.svm import SVC\n",
    "import numpy as np\n",
    "import csv\n",
    "import matplotlib.pyplot as plt\n",
    "%matplotlib\n",
    "import pandas as pd\n",
    "from sklearn.model_selection import KFold\n",
    "from sklearn.model_selection import train_test_split"
   ]
  },
  {
   "cell_type": "code",
   "execution_count": null,
   "metadata": {},
   "outputs": [],
   "source": [
    "def make_meshgrid(x, y, h=.02):\n",
    "    \"\"\"Create a mesh of points to plot in\n",
    "\n",
    "    Parameters\n",
    "    ----------\n",
    "    x: data to base x-axis meshgrid on\n",
    "    y: data to base y-axis meshgrid on\n",
    "    h: stepsize for meshgrid, optional\n",
    "\n",
    "    Returns\n",
    "    -------\n",
    "    xx, yy : ndarray\n",
    "    \"\"\"\n",
    "    x_min, x_max = x.min() - 1, x.max() + 1\n",
    "    y_min, y_max = y.min() - 1, y.max() + 1\n",
    "    xx, yy = np.meshgrid(np.arange(x_min, x_max, h),\n",
    "                         np.arange(y_min, y_max, h))\n",
    "    return xx, yy"
   ]
  },
  {
   "cell_type": "code",
   "execution_count": null,
   "metadata": {},
   "outputs": [],
   "source": [
    "def plot_contours(ax, clf, xx, yy, **params):\n",
    "    \"\"\"Plot the decision boundaries for a classifier.\n",
    "\n",
    "    Parameters\n",
    "    ----------\n",
    "    clf: a classifier\n",
    "    xx: meshgrid ndarray\n",
    "    yy: meshgrid ndarray\n",
    "    params: dictionary of params to pass to contourf, optional\n",
    "    \"\"\"\n",
    "    Z = clf.predict(np.c_[xx.ravel(), yy.ravel()])\n",
    "    Z = Z.reshape(xx.shape)\n",
    "    out = ax.contourf(xx, yy, Z, **params)\n",
    "    return out"
   ]
  },
  {
   "cell_type": "markdown",
   "metadata": {},
   "source": [
    "# Question1"
   ]
  },
  {
   "cell_type": "code",
   "execution_count": null,
   "metadata": {},
   "outputs": [],
   "source": [
    "# 1(a)\n",
    "\n",
    "with open(r'M:\\Documents\\Courses\\Credits\\2019August\\Computational Data Analysis\\Module8\\Exercises 8\\Data\\Synthetic2DNoOverlapp.csv', newline='') as csvfile:\n",
    "    data = np.array(list(csv.reader(csvfile)))\n",
    "    \n",
    "X = data[:,0:2].astype(np.float)\n",
    "y = data[:,-1].ravel()\n",
    "\n",
    "kernelType = 'linear'\n",
    "degreeVal = 5 \n",
    "cVal = 2000\n",
    "\n",
    "model = SVC(kernel='linear', degree=degreeVal)\n",
    "\n",
    "print(model.coef_)\n",
    "\n",
    "title = 'SVC with %s kernel' % kernelType\n",
    "        \n",
    "# Set-up 2x2 grid for plotting.\n",
    "\n",
    "X0, X1 = X[:, 0], X[:, 1]\n",
    "xx, yy = make_meshgrid(X0, X1)\n",
    "\n",
    "ax = plt.subplot(111)\n",
    "plot_contours(ax, model.fit(X,y), xx, yy, cmap=plt.cm.coolwarm, alpha=0.8)\n",
    "ax.scatter(X0, X1, c=y.T.tolist()[0], cmap=plt.cm.coolwarm, s=20, edgecolors='k')\n",
    "ax.set_xlim(xx.min(), xx.max())\n",
    "ax.set_ylim(yy.min(), yy.max())\n",
    "ax.set_xticks(())\n",
    "ax.set_yticks(())\n",
    "ax.set_title(title)\n",
    "plt.show()\n"
   ]
  },
  {
   "cell_type": "code",
   "execution_count": null,
   "metadata": {},
   "outputs": [],
   "source": [
    "# 1(b)\n",
    "\n",
    "with open(r'M:\\Documents\\Courses\\Credits\\2019August\\Computational Data Analysis\\Module8\\Exercises 8\\Data\\Synthetic2DOverlap.csv', newline='') as csvfile:\n",
    "    data = np.array(list(csv.reader(csvfile)))\n",
    "    \n",
    "X = data[:,0:2].astype(np.float)\n",
    "y = data[:,2].ravel()\n",
    "\n",
    "kernelType = 'linear'\n",
    "\n",
    "model = SVC(kernel='linear')\n",
    "\n",
    "title = 'SVC with %s kernel' % kernelType\n",
    "        \n",
    "# Set-up 2x2 grid for plotting.\n",
    "\n",
    "X0, X1 = X[:, 0], X[:, 1]\n",
    "xx, yy = make_meshgrid(X0, X1)\n",
    "\n",
    "ax = plt.subplot(111)\n",
    "plot_contours(ax, model.fit(X,y), xx, yy, cmap=plt.cm.coolwarm, alpha=0.8)\n",
    "ax.scatter(X0, X1, c=y, cmap=plt.cm.coolwarm, s=20, edgecolors='k')\n",
    "ax.set_xlim(xx.min(), xx.max())\n",
    "ax.set_ylim(yy.min(), yy.max())\n",
    "ax.set_xticks(())\n",
    "ax.set_yticks(())\n",
    "ax.set_title(title)\n",
    "plt.show()"
   ]
  },
  {
   "cell_type": "markdown",
   "metadata": {},
   "source": [
    "# Question 3"
   ]
  },
  {
   "cell_type": "code",
   "execution_count": null,
   "metadata": {},
   "outputs": [],
   "source": [
    "with open(r'M:\\Documents\\Courses\\Credits\\2019August\\Computational Data Analysis\\Module8\\Exercises 8\\Data\\Ex3Data.csv', newline='') as csvfile:\n",
    "    data = np.array(list(csv.reader(csvfile)))\n",
    "    \n",
    "X = data[:,0:2].astype(np.float)\n",
    "y = data[:,2].ravel()\n",
    "\n",
    "kernelType = 'rbf'\n",
    "degreeVal = 5 \n",
    "gammaVal = 0.5\n",
    "cVal = 1\n",
    "\n",
    "model = SVC(kernel=kernelType, degree=degreeVal, C=cVal, gamma=gammaVal)\n",
    "\n",
    "title = 'SVC with %s kernel and %s lambda and %s sigma' % (kernelType, cVal, gammaVal)\n",
    "        \n",
    "# Set-up 2x2 grid for plotting.\n",
    "\n",
    "X0, X1 = X[:, 0], X[:, 1]\n",
    "xx, yy = make_meshgrid(X0, X1)\n",
    "\n",
    "plt.figure()\n",
    "ax = plt.subplot(111)\n",
    "plot_contours(ax, model.fit(X,y), xx, yy, cmap=plt.cm.coolwarm, alpha=0.6)\n",
    "ax.scatter(X0, X1, c=y, cmap=plt.cm.coolwarm, s=20, edgecolors='k')\n",
    "ax.set_xlim(xx.min(), xx.max())\n",
    "ax.set_ylim(yy.min(), yy.max())\n",
    "ax.set_xticks(())\n",
    "ax.set_yticks(())\n",
    "ax.set_title(title)\n",
    "plt.show()"
   ]
  },
  {
   "cell_type": "markdown",
   "metadata": {},
   "source": [
    "# Question5"
   ]
  },
  {
   "cell_type": "code",
   "execution_count": 2,
   "metadata": {},
   "outputs": [],
   "source": [
    "dataFrame = pd.read_csv(r'M:\\Documents\\Courses\\Credits\\2019August\\Computational Data Analysis\\Module8\\Exercises 8\\Data\\ACS.csv')\n",
    "\n",
    "dataTrain = np.asarray(dataFrame)[dataFrame['Train'] == 1,:]\n",
    "dataTest = np.asarray(dataFrame)[dataFrame['Train'] == 0,:]\n",
    "   \n",
    "X_train = dataTrain[:,:-1]\n",
    "y_train = dataTrain[:,-2:-1].ravel() # Second to last row in dataframe is class\n",
    "\n",
    "X_test = dataTest[:,:-1]\n",
    "y_test = dataTest[:,-2:-1].ravel() # Second to last row in dataframe is class\n"
   ]
  },
  {
   "cell_type": "code",
   "execution_count": 3,
   "metadata": {},
   "outputs": [
    {
     "name": "stdout",
     "output_type": "stream",
     "text": [
      "fold 0\n",
      "kernel linear\n",
      "0.87 0.8579080913447984\n",
      "kernel sigmoid\n",
      "0.875 0.8463490273470539\n",
      "kernel rbf\n",
      "0.925 0.9168311248942769\n",
      "fold 1\n",
      "kernel linear\n",
      "0.88 0.8601635184663096\n",
      "kernel sigmoid\n",
      "0.885 0.8508598815900761\n",
      "kernel rbf\n",
      "0.94 0.9168311248942769\n",
      "fold 2\n",
      "kernel linear\n",
      "0.84 0.8384550324217649\n",
      "kernel sigmoid\n",
      "0.84 0.8438116718353538\n",
      "kernel rbf\n",
      "0.905 0.9168311248942769\n",
      "fold 3\n",
      "kernel linear\n",
      "0.8 0.8567803777840428\n",
      "kernel sigmoid\n",
      "0.845 0.8556526642232873\n",
      "kernel rbf\n",
      "0.895 0.9168311248942769\n",
      "fold 4\n",
      "kernel linear\n",
      "0.77 0.8393008175923315\n",
      "kernel sigmoid\n",
      "0.835 0.8483225260783761\n",
      "kernel rbf\n",
      "0.9 0.9168311248942769\n"
     ]
    },
    {
     "data": {
      "text/plain": [
       "<matplotlib.legend.Legend at 0x1ffc7f0bb38>"
      ]
     },
     "execution_count": 3,
     "metadata": {},
     "output_type": "execute_result"
    },
    {
     "data": {
      "image/png": "[encoded data removed]",
      "text/plain": [
       "<Figure size 432x288 with 1 Axes>"
      ]
     },
     "metadata": {},
     "output_type": "display_data"
    }
   ],
   "source": [
    "\n",
    "\n",
    "kernelTypes = ['linear', 'sigmoid', 'rbf']\n",
    "degreeVal = 5 \n",
    "gamma = 0.5\n",
    "cVal = 1\n",
    "\n",
    "#modelTrain = SVC(kernel=kernelType, degree=degreeVal, C=cVal)\n",
    "#yHat_svm = modelTrain.fit(X_train, y_train).predict(X_test)\n",
    "#mse_svm = 1-sum(y_test==yHat_svm)/len(y_test)\n",
    "\n",
    "modelLog = sklearn.linear_model.LogisticRegression()\n",
    "yHat_log = modelLog.fit(X_train, y_train).predict(X_test)\n",
    "mse_log = 1-sum(y_test==yHat_log)/len(y_test)\n",
    "\n",
    "K = 5\n",
    "kf = KFold(n_splits=K)\n",
    "\n",
    "accTrain = np.zeros((K,len(kernelTypes)))\n",
    "accTest = np.zeros((K,len(kernelTypes)))\n",
    "\n",
    "# training data is aplit into training and testing - for validation\n",
    "for ind, (train_index, test_index) in enumerate(kf.split(X_train)):\n",
    "    print('fold', ind)\n",
    "    for ind_kernal, kernalType in enumerate(kernelTypes):\n",
    "        print('kernel', kernalType)\n",
    "        model_svm = SVC(kernel=kernalType, degree=degreeVal, C=cVal, gamma=gamma, shrinking = False)\n",
    "        model_svm = model_svm.fit(X_train[train_index,:], y_train[train_index]) \n",
    "        yHat_svm_train = model_svm.predict(X_train[test_index])\n",
    "        yHat_svm_test = model_svm.predict(X_test)\n",
    "        \n",
    "        accTrain[ind, ind_kernal] = sum(y_train[test_index]==yHat_svm_train)/len(y_train[test_index])\n",
    "        accTest[ind, ind_kernal] = sum(y_test==yHat_svm_test)/len(y_test)\n",
    "        \n",
    "        print(accTrain[ind, ind_kernal], accTest[ind, ind_kernal])\n",
    "\n",
    "        \n",
    "plt.plot(accTrain)\n",
    "plt.plot(accTest)\n",
    "plt.legend(kernelTypes)"
   ]
  },
  {
   "cell_type": "code",
   "execution_count": null,
   "metadata": {},
   "outputs": [],
   "source": [
    "accTrain"
   ]
  },
  {
   "cell_type": "code",
   "execution_count": null,
   "metadata": {},
   "outputs": [],
   "source": []
  }
 ],
 "metadata": {
  "kernelspec": {
   "display_name": "Python 3",
   "language": "python",
   "name": "python3"
  },
  "language_info": {
   "codemirror_mode": {
    "name": "ipython",
    "version": 3
   },
   "file_extension": ".py",
   "mimetype": "text/x-python",
   "name": "python",
   "nbconvert_exporter": "python",
   "pygments_lexer": "ipython3",
   "version": "3.6.5"
  }
 },
 "nbformat": 4,
 "nbformat_minor": 2
}
