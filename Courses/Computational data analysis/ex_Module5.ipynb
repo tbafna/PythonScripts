{
 "cells": [
  {
   "cell_type": "code",
   "execution_count": 7,
   "metadata": {},
   "outputs": [],
   "source": [
    "import numpy as np\n",
    "import matplotlib.pyplot as plt\n",
    "import numpy as np\n",
    "from sklearn import linear_model\n",
    "from sklearn import preprocessing\n",
    "import csv"
   ]
  },
  {
   "cell_type": "code",
   "execution_count": 17,
   "metadata": {},
   "outputs": [],
   "source": [
    "with open(r'M:\\Documents\\Courses\\Credits\\2019August\\Computational Data Analysis\\Module5\\Exercises 5\\Data\\faces.csv', newline='') as csvfile:\n",
    "    data = np.array(list(csv.reader(csvfile))).astype(float)"
   ]
  },
  {
   "cell_type": "markdown",
   "metadata": {},
   "source": [
    "# Question1"
   ]
  },
  {
   "cell_type": "code",
   "execution_count": 39,
   "metadata": {},
   "outputs": [
    {
     "name": "stdout",
     "output_type": "stream",
     "text": [
      "(116,)\n",
      "(36,)\n"
     ]
    },
    {
     "name": "stderr",
     "output_type": "stream",
     "text": [
      "C:\\Program Files (x86)\\Microsoft Visual Studio\\Shared\\Anaconda3_64\\lib\\site-packages\\ipykernel_launcher.py:12: ComplexWarning: Casting complex values to real discards the imaginary part\n",
      "  if sys.path[0] == '':\n",
      "C:\\Program Files (x86)\\Microsoft Visual Studio\\Shared\\Anaconda3_64\\lib\\site-packages\\ipykernel_launcher.py:13: ComplexWarning: Casting complex values to real discards the imaginary part\n",
      "  del sys.path[0]\n"
     ]
    }
   ],
   "source": [
    "# 1(a)\n",
    "\n",
    "# center the data\n",
    "data_c = data - np.mean(data, axis=0)\n",
    "\n",
    "n, p = np.shape(data)\n",
    "\n",
    "# Compute PCA as an eigenvalue analysis of the covariance matrix\n",
    "Eval, Evec = np.linalg.eig(np.cov(data.T))\n",
    "\n",
    "# sort the eigenvalues \n",
    "index = np.argsort(Eval)[::-1]\n",
    "\n",
    "Eval = Eval[index].astype(np.float64)\n",
    "Evec = Evec[:,index].astype(np.float64)\n",
    "\n",
    "print(np.shape(Eval))\n",
    "\n",
    "# Discard strictly none-positive eigenvalues modes\n",
    "Eval = Eval[np.where(Eval > 1e-9)]\n",
    "Evec = Evec[:, 0: len(Eval)]\n",
    "print(np.shape(Eval))\n"
   ]
  },
  {
   "cell_type": "code",
   "execution_count": 42,
   "metadata": {},
   "outputs": [
    {
     "name": "stdout",
     "output_type": "stream",
     "text": [
      "(37,)\n",
      "(36,)\n",
      "(37, 37) (116, 116)\n",
      "(37, 36) (116, 36)\n"
     ]
    }
   ],
   "source": [
    "u, d, v = np.linalg.svd(data_c)\n",
    "\n",
    "# calculate the variances\n",
    "# keep only modes correspoding to strictly positive singular values -- diagonal matrix of the singular values are the eigen\n",
    "# values\n",
    "print(np.shape(d))\n",
    "d = d[np.where(d > 1e-9)]\n",
    "print(np.shape(d))\n",
    "\n",
    "k = len(d)\n",
    "print(np.shape(u), np.shape(v))\n",
    "u = u[:, :k]\n",
    "v = v[:k, :].T # Matrix that is returned from svd is ordered differently, therefor different slicing\n",
    "print(np.shape(u), np.shape(v))\n",
    "\n",
    "     # Assign PCA\n",
    "L = v # the loading\n",
    "S = np.matmul(u, np.diag(d)) # The scores\n",
    "sigma2 = d ** 2 / n\n",
    "\n",
    "# Check if values corrosponds\n",
    "print(\"Differences in eigenvalues (variance): %2.3f\" % (np.linalg.norm((Eval - d ** 2 / n), ord = 2)))\n",
    "print(\"Difference in eigenvalues: %2.3f\" % (np.linalg.norm(Evec ** 2 - v ** 2)))"
   ]
  },
  {
   "cell_type": "code",
   "execution_count": 65,
   "metadata": {},
   "outputs": [
    {
     "name": "stdout",
     "output_type": "stream",
     "text": [
      "[0.31957907 0.16953028 0.13038426 0.12198532 0.09997679 0.09536748\n",
      " 0.08765642 0.07998127 0.07380248 0.06899452 0.06324186 0.05993379\n",
      " 0.05657064 0.05407138 0.05077074 0.04614636 0.04378579 0.04294402\n",
      " 0.03802202 0.03732799 0.03333875 0.0313944  0.03023779 0.02876824\n",
      " 0.02830552 0.02764182 0.02539063 0.02332958 0.02217975 0.02072585\n",
      " 0.0200828  0.01878136 0.0170452  0.0162239  0.01583516 0.01394442]\n"
     ]
    }
   ],
   "source": [
    "print(d)"
   ]
  },
  {
   "cell_type": "markdown",
   "metadata": {},
   "source": [
    "# Question 2"
   ]
  },
  {
   "cell_type": "code",
   "execution_count": 60,
   "metadata": {},
   "outputs": [
    {
     "name": "stdout",
     "output_type": "stream",
     "text": [
      "(116, 36) (116, 36)\n",
      "(37, 36)\n"
     ]
    }
   ],
   "source": [
    "# 2(a) - \n",
    "\n",
    "# Thresholding\n",
    "\n",
    "# threshold the loadings - where the value is less than 0.15, it is replaced with 0\n",
    "Lthres = L\n",
    "Lthres[np.where(np.abs(L) < 0.15)] = 0\n",
    "\n",
    "# find the new score matrix\n",
    "Sthres = np.matmul(data_c, Lthres) # this is only an approximation, not exactly the correct way to determine the \n",
    "# score matrix since the loadings are not independent anymore. \n",
    "sigma2thres  = np.var(Sthres, axis = 0) # variance of the new score matrix\n",
    "\n",
    "\n",
    "\n"
   ]
  },
  {
   "cell_type": "code",
   "execution_count": 61,
   "metadata": {},
   "outputs": [],
   "source": [
    "# 2(b)\n",
    "\n",
    "# varimax\n",
    "\n",
    "def varimax(Phi, gamma=1, q=20, tol=1e-6):\n",
    "    from numpy import eye, asarray, dot, sum, diag\n",
    "    from numpy.linalg import svd\n",
    "    p,k = Phi.shape\n",
    "    R = eye(k)\n",
    "    d=0\n",
    "    for i in range(q):\n",
    "        d_old = d\n",
    "        Lambda = dot(Phi, R)\n",
    "        u,s,vh = svd(dot(Phi.T,asarray(Lambda)**3 - (gamma/p) * dot(Lambda, diag(diag(dot(Lambda.T,Lambda))))))\n",
    "        R = dot(u,vh)  # rotation matrix\n",
    "        d = sum(s)\n",
    "        if d/d_old < tol: break\n",
    "    return dot(Phi, R)"
   ]
  },
  {
   "cell_type": "code",
   "execution_count": 63,
   "metadata": {},
   "outputs": [
    {
     "name": "stderr",
     "output_type": "stream",
     "text": [
      "C:\\Program Files (x86)\\Microsoft Visual Studio\\Shared\\Anaconda3_64\\lib\\site-packages\\ipykernel_launcher.py:17: RuntimeWarning: divide by zero encountered in double_scalars\n"
     ]
    }
   ],
   "source": [
    "L_varimax = varimax(L[:, :12]) # k - number of columns - defines the sparsity\n",
    "S_varimax = np.matmul(data_c, L_varimax) \n",
    "sigma2_varimax = np.var(S_varimax, axis = 0)\n",
    "\n"
   ]
  },
  {
   "cell_type": "code",
   "execution_count": 67,
   "metadata": {},
   "outputs": [],
   "source": [
    "# 2(c)\n",
    "\n",
    "\"\"\" Elastic net to choose components \"\"\"\n",
    "k = 12 # estimate first 12 components\n",
    "L_en = np.zeros((p,k))\n",
    "ElasticNet = linear_model.ElasticNet(alpha = 0.0001, l1_ratio = 0.1, fit_intercept = False) # Ratio is 0 for only l2 penalty\n",
    "for i in range(k):\n",
    "    reg_elastic = ElasticNet.fit(data_c, S[:,i]).coef_.reshape(-1,1)\n",
    "    L_en[:,i] = preprocessing.normalize(reg_elastic, norm = \"l2\").ravel()\n",
    "    \n",
    "S_en = np.matmul(data_c, L_en)\n",
    "sigma2_en = np.var(S_en, axis = 0)"
   ]
  },
  {
   "cell_type": "code",
   "execution_count": null,
   "metadata": {},
   "outputs": [],
   "source": []
  }
 ],
 "metadata": {
  "kernelspec": {
   "display_name": "Python 3",
   "language": "python",
   "name": "python3"
  },
  "language_info": {
   "codemirror_mode": {
    "name": "ipython",
    "version": 3
   },
   "file_extension": ".py",
   "mimetype": "text/x-python",
   "name": "python",
   "nbconvert_exporter": "python",
   "pygments_lexer": "ipython3",
   "version": "3.6.5"
  }
 },
 "nbformat": 4,
 "nbformat_minor": 2
}
