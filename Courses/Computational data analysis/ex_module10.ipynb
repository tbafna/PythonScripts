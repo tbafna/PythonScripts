{
 "cells": [
  {
   "cell_type": "code",
   "execution_count": null,
   "metadata": {},
   "outputs": [],
   "source": [
    "import numpy as np\n",
    "from sklearn.cluster import KMeans\n",
    "import matplotlib.pyplot as plt\n",
    "import matplotlib\n",
    "matplotlib.use(\"TkAgg\")"
   ]
  },
  {
   "cell_type": "code",
   "execution_count": null,
   "metadata": {},
   "outputs": [],
   "source": [
    "\n",
    "def plotting(X, kmeans, y_pred, ax):\n",
    "    ax[0].clear()\n",
    "    ax[1].clear()\n",
    "    \n",
    "    ax[0].scatter(X[:,0], X[:,1], c = y_pred[:,0], marker= \".\")\n",
    "    ax[1].scatter(X[:,0], X[:,1], c = y_pred[:,1], marker= \".\")\n",
    "    \n",
    "    ax[0].set_title(\"Last iteration\")\n",
    "    ax[1].set_title(\"Current iteration\")\n",
    "\n",
    "pause = False"
   ]
  },
  {
   "cell_type": "code",
   "execution_count": null,
   "metadata": {},
   "outputs": [],
   "source": [
    "dataPath = r\"M:\\Documents\\Courses\\Credits\\2019August\\Computational Data Analysis\\Module10\\Solutions 10\\Data\"\n",
    "\n",
    "X = np.loadtxt(dataPath + \"\\\\simulatedData.csv\", delimiter = \",\")\n",
    "\n",
    "clusters = 8 # Control how many clusters we want\n",
    "\n",
    "kmeans = [0] * 2\n",
    "y_pred = np.zeros((np.size(X, axis = 0), 2))\n",
    "fig, ax = plt.subplots(1,2)\n",
    "plt.suptitle(\"Press anykey to advance plot, ctrl-C to kill loop\")\n",
    "ax[0].set_title(\"Last iteration\")\n",
    "ax[1].set_title(\"Current iteration\")\n",
    "\n",
    "kmeans[1] = KMeans(n_clusters = clusters, n_init = 1, random_state = 1, max_iter = 1)\n",
    "y_pred[:,1] = kmeans[1].fit_predict(X)\n",
    "\n",
    "ax[1].scatter(X[:,0], X[:,1], marker = '.', c = y_pred[:,1])\n",
    "\n",
    "current_iter = 0\n",
    "\n",
    "while(True):\n",
    "    kmeans[0] = kmeans[1]\n",
    "    y_pred[:,0] = y_pred[:,1]\n",
    "    \n",
    "    # Note, below is not a elegant solution, since we run through a lot of steps that are similar each time\n",
    "    kmeans[1] = KMeans(n_clusters = clusters, init = \"random\", n_init = 1, random_state = 0, max_iter = 1 + current_iter)\n",
    "    y_pred[:,1] = kmeans[1].fit_predict(X)\n",
    "    \n",
    "    plotting(X, kmeans, y_pred, ax)\n",
    "    plt.draw()\n",
    "    plt.waitforbuttonpress()\n",
    "    current_iter += 1\n",
    "    print(current_iter)"
   ]
  },
  {
   "cell_type": "code",
   "execution_count": null,
   "metadata": {},
   "outputs": [],
   "source": []
  }
 ],
 "metadata": {
  "kernelspec": {
   "display_name": "Python 3",
   "language": "python",
   "name": "python3"
  },
  "language_info": {
   "codemirror_mode": {
    "name": "ipython",
    "version": 3
   },
   "file_extension": ".py",
   "mimetype": "text/x-python",
   "name": "python",
   "nbconvert_exporter": "python",
   "pygments_lexer": "ipython3",
   "version": "3.6.5"
  }
 },
 "nbformat": 4,
 "nbformat_minor": 2
}
