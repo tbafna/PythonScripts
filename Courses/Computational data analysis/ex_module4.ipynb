{
 "cells": [
  {
   "cell_type": "code",
   "execution_count": 2,
   "metadata": {},
   "outputs": [],
   "source": [
    "import scipy.io\n",
    "import numpy as np\n",
    "import csv\n"
   ]
  },
  {
   "cell_type": "code",
   "execution_count": 21,
   "metadata": {},
   "outputs": [],
   "source": [
    "with open(r'M:\\Documents\\Courses\\Credits\\2019August\\Module4\\Exercises 4\\Data\\FisherIris.csv', newline='') as csvfile:\n",
    "    data = np.array(list(csv.reader(csvfile)))\n",
    "    "
   ]
  },
  {
   "cell_type": "code",
   "execution_count": 33,
   "metadata": {},
   "outputs": [
    {
     "name": "stdout",
     "output_type": "stream",
     "text": [
      "['Setosa' 'Versicolor' 'Virginica']\n",
      "150 4\n"
     ]
    }
   ],
   "source": [
    "y = data[1:,4]\n",
    "X = data[1:, 0:4].astype(np.float)\n",
    "\n",
    "print(np.unique(y))\n",
    "\n",
    "n,p = np.shape(X)\n",
    "print(n, p)"
   ]
  },
  {
   "cell_type": "markdown",
   "metadata": {},
   "source": [
    "# Question1"
   ]
  },
  {
   "cell_type": "code",
   "execution_count": 83,
   "metadata": {},
   "outputs": [
    {
     "name": "stdout",
     "output_type": "stream",
     "text": [
      "(4, 4)\n",
      "(4, 4)\n"
     ]
    }
   ],
   "source": [
    "# 1(a)\n",
    "\n",
    "pi_k = dict()\n",
    "pi_k['Setosa'] = len(X[y=='Setosa'])/len(y)\n",
    "pi_k['Versicolor'] = len(X[y=='Versicolor'])/len(y)\n",
    "pi_k['Virginica'] = len(X[y=='Virginica'])/len(y)\n",
    "\n",
    "mean_k = dict()\n",
    "mean_k['Setosa'] = np.mean(X[y=='Setosa'], axis=0)\n",
    "mean_k['Versicolor'] = np.mean(X[y=='Versicolor'], axis=0)\n",
    "mean_k['Virginica'] = np.mean(X[y=='Virginica'], axis=0)\n",
    "\n",
    "sigma = 0\n",
    "for y_class in np.unique(y):\n",
    "    sigma = sigma + (np.matmul((X[y==y_class]-pi_k[y_class]).T, (X[y==y_class]-pi_k[y_class])))\n",
    "    \n",
    "sigma = sigma/(n-len(np.unique(y)))\n",
    "\n",
    "print(np.shape(sigma))\n",
    "sigma_inv = np.linalg.inv(sigma)\n",
    "print(np.shape(sigma_inv))"
   ]
  },
  {
   "cell_type": "code",
   "execution_count": 89,
   "metadata": {},
   "outputs": [],
   "source": [
    "# 1(b)\n",
    "d_k = dict()\n",
    "for y_class in np.unique(y):\n",
    "    \n",
    "    part1 = np.matmul(np.matmul(X, sigma_inv), mean_k[y_class].T)\n",
    "    part2 = 0.5*np.matmul(np.matmul(mean_k[y_class].T, sigma_inv), mean_k[y_class])\n",
    "    part3 = np.log(pi_k[y_class])\n",
    "    \n",
    "    d_k[y_class] = part1 - part2 + part3 "
   ]
  },
  {
   "cell_type": "code",
   "execution_count": 97,
   "metadata": {},
   "outputs": [
    {
     "name": "stdout",
     "output_type": "stream",
     "text": [
      "['Setosa', 'Setosa', 'Setosa', 'Setosa', 'Setosa']\n",
      "['Setosa' 'Setosa' 'Setosa' 'Setosa' 'Setosa']\n"
     ]
    }
   ],
   "source": [
    "# 1(c) done only for 5 points\n",
    "\n",
    "x_class = list()\n",
    "for x_pt in X[0:5,:]:\n",
    "    d_k = list()\n",
    "    for y_class in np.unique(y):\n",
    "    \n",
    "        part1 = np.matmul(np.matmul(x_pt, sigma_inv), mean_k[y_class].T)\n",
    "        part2 = 0.5*np.matmul(np.matmul(mean_k[y_class].T, sigma_inv), mean_k[y_class])\n",
    "        part3 = np.log(pi_k[y_class])\n",
    "    \n",
    "        d_k.append(part1-part2+part3)\n",
    "        \n",
    "    x_class.append(np.unique(y)[np.argmax(d_k)])\n",
    "print(x_class)\n",
    "print(y[0:5])"
   ]
  },
  {
   "cell_type": "code",
   "execution_count": 98,
   "metadata": {},
   "outputs": [],
   "source": [
    "# 1(d)"
   ]
  },
  {
   "cell_type": "markdown",
   "metadata": {},
   "source": [
    "# Question2"
   ]
  },
  {
   "cell_type": "code",
   "execution_count": 108,
   "metadata": {},
   "outputs": [
    {
     "name": "stdout",
     "output_type": "stream",
     "text": [
      "(40, 65)\n"
     ]
    }
   ],
   "source": [
    "with open(r'M:\\Documents\\Courses\\Credits\\2019August\\Module4\\Exercises 4\\Data\\Silhouettes.csv', newline='') as csvfile:\n",
    "    data = np.array(list(csv.reader(csvfile)))\n",
    "\n",
    "X = data[:,1:66]\n",
    "Y = data[:,66:]\n",
    "\n"
   ]
  },
  {
   "cell_type": "code",
   "execution_count": 109,
   "metadata": {},
   "outputs": [
    {
     "name": "stdout",
     "output_type": "stream",
     "text": [
      "[['Y1' 'Y2' 'Y3' ... 'Y63' 'Y64' 'Y65']\n",
      " ['0.204285632593294' '0.198256972323117' '0.191372253647063' ...\n",
      "  '-0.204917220647434' '-0.212447226516423' '-0.219613045390334']\n",
      " ['0.200950265782639' '0.195121253447966' '0.189025293734925' ...\n",
      "  '-0.20620778605881' '-0.212873375837107' '-0.218347547150275']\n",
      " ...\n",
      " ['0.192734142897946' '0.187206015331264' '0.181737281586584' ...\n",
      "  '-0.207254969796766' '-0.212431087313176' '-0.216724397720751']\n",
      " ['0.192869097220727' '0.18745468937108' '0.182232705255192' ...\n",
      "  '-0.205525985147094' '-0.21013384449179' '-0.213928090012159']\n",
      " ['0.203921796048262' '0.197754057338198' '0.191586318628133' ...\n",
      "  '-0.206148823919251' '-0.213123763267235' '-0.218812501805109']]\n"
     ]
    }
   ],
   "source": [
    "print(Y)"
   ]
  },
  {
   "cell_type": "code",
   "execution_count": null,
   "metadata": {},
   "outputs": [],
   "source": []
  }
 ],
 "metadata": {
  "kernelspec": {
   "display_name": "Python 3",
   "language": "python",
   "name": "python3"
  },
  "language_info": {
   "codemirror_mode": {
    "name": "ipython",
    "version": 3
   },
   "file_extension": ".py",
   "mimetype": "text/x-python",
   "name": "python",
   "nbconvert_exporter": "python",
   "pygments_lexer": "ipython3",
   "version": "3.6.5"
  }
 },
 "nbformat": 4,
 "nbformat_minor": 2
}
