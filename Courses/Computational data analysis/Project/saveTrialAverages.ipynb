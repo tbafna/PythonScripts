{
 "cells": [
  {
   "cell_type": "code",
   "execution_count": 1,
   "metadata": {},
   "outputs": [],
   "source": [
    "import os\n",
    "import pandas as pd\n",
    "import numpy as np"
   ]
  },
  {
   "cell_type": "code",
   "execution_count": 2,
   "metadata": {},
   "outputs": [],
   "source": [
    "## Save data for every session\n",
    "\n",
    "data = pd.read_excel(r'M:\\Documents\\Courses\\Credits\\2019_04_August\\Computational Data Analysis\\Project\\Data\\Subject_Block_Session_Trial.xlsx')\n",
    "Y_wNanInData = np.array(data.ScoreDifficultyNew.tolist())\n",
    "\n",
    "data.dropna(inplace=True, axis=0)\n",
    "\n",
    "Y = np.array(data.ScoreDifficultyNew.tolist())\n",
    "\n",
    "X = data.drop(['ScoreDifficultyNew', 'Block', 'TypingTechnique', 'SessionDifficulty'], axis = 1)"
   ]
  },
  {
   "cell_type": "code",
   "execution_count": 3,
   "metadata": {},
   "outputs": [],
   "source": [
    "features = ['TotalTime','EffectiveTime','TypingSpeed','ErrorRate','PupilSizeAbsolute_writingMean','PupilSizeAbsolute_writingMedian','PupilSizeAbsoluteDifference_writingStartingEnding_300ms','PupilSizeRelative_writingMean','PupilSizeRelative_writingMedian','PupilSizeRelative_writingStart300','LHIPA_writing20s','BlinkCount','BlinkFrequency', 'BlinkDurationTotal', 'BlinkDurationAverage']\n",
    "\n",
    "featureMeanList = list()\n",
    "\n",
    "for subject in np.unique(X.SubjectID):\n",
    "    subjectName = np.unique(X.Subject)[int(subject)-1]\n",
    "    for block in range(1,6):\n",
    "        for session in range(1,3):\n",
    "            featureList = list()\n",
    "            featureList.append(subjectName)\n",
    "            featureList.append(subject)\n",
    "            featureList.append(block)\n",
    "            featureList.append(session)\n",
    "            indices = np.logical_and(np.logical_and(X.SubjectID==subject, X.BlockID==block), X.Session==session)\n",
    "            for feature in features:\n",
    "                featureList.append(np.mean(X[feature][indices]))\n",
    "            if not np.isnan(featureList[-1]):\n",
    "                featureMeanList.append(featureList)\n",
    "            \n",
    "            \n",
    "    \n"
   ]
  },
  {
   "cell_type": "code",
   "execution_count": 4,
   "metadata": {},
   "outputs": [],
   "source": [
    "DataToFile_df = pd.DataFrame.from_records(featureMeanList, columns= ['Subject', 'SubjectID', 'Block', 'Session', 'TotalTime','EffectiveTime','TypingSpeed','ErrorRate','PupilSizeAbsolute_writingMean','PupilSizeAbsolute_writingMedian','PupilSizeAbsoluteDifference_writingStartingEnding_300ms','PupilSizeRelative_writingMean','PupilSizeRelative_writingMedian','PupilSizeRelative_writingStart300','LHIPA_writing20s','BlinkCount','BlinkFrequency', 'BlinkDurationTotal', 'BlinkDurationAverage'])\n",
    "DataToFile_df.to_excel(r'M:\\Documents\\Courses\\Credits\\2019_04_August\\Computational Data Analysis\\Project\\Data\\Subject_Block_Session2.xlsx', index=None)\n"
   ]
  },
  {
   "cell_type": "code",
   "execution_count": null,
   "metadata": {},
   "outputs": [],
   "source": []
  }
 ],
 "metadata": {
  "kernelspec": {
   "display_name": "Python 2",
   "language": "python",
   "name": "python2"
  },
  "language_info": {
   "codemirror_mode": {
    "name": "ipython",
    "version": 2
   },
   "file_extension": ".py",
   "mimetype": "text/x-python",
   "name": "python",
   "nbconvert_exporter": "python",
   "pygments_lexer": "ipython2",
   "version": "2.7.16"
  }
 },
 "nbformat": 4,
 "nbformat_minor": 2
}
