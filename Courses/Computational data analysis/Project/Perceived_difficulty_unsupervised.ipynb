{
 "cells": [
  {
   "cell_type": "code",
   "execution_count": 1,
   "metadata": {},
   "outputs": [],
   "source": [
    "import os\n",
    "import pandas as pd\n",
    "from sklearn.linear_model import LinearRegression\n",
    "from sklearn import linear_model\n",
    "import numpy as np\n",
    "from sklearn.neighbors import KNeighborsRegressor\n",
    "import matplotlib.pyplot as plt\n",
    "import scipy.linalg as lng\n",
    "import matplotlib\n",
    "from sklearn.cluster import KMeans\n",
    "import operator\n",
    "%matplotlib inline\n",
    "from sklearn.decomposition import PCA\n",
    "from scipy.cluster.hierarchy import dendrogram, linkage\n",
    "from matplotlib import pyplot as plt\n",
    "import seaborn as sns\n",
    "from sklearn.tree import DecisionTreeClassifier\n",
    "from sklearn.metrics import confusion_matrix\n",
    "from sklearn.linear_model import LinearRegression\n",
    "import statsmodels.formula.api as smf\n",
    "import mord\n",
    "from sklearn.ensemble import RandomForestRegressor\n",
    "\n",
    "#from sklearn.tree import export_graphviz\n",
    "#import pydot\n",
    "#os.environ[\"PATH\"] += os.pathsep + 'C:/Program Files (x86)/Graphviz2.38/bin/'\n"
   ]
  },
  {
   "cell_type": "code",
   "execution_count": 2,
   "metadata": {},
   "outputs": [],
   "source": [
    "def center(X):\n",
    "    \"\"\" Center the columns (variables) of a data matrix to zero mean.\n",
    "        \n",
    "        X, MU = center(X) centers the observations of a data matrix such that each variable\n",
    "        (column) has zero mean and also returns a vector MU of mean values for each variable.\n",
    "     \"\"\" \n",
    "    n = X.shape[0]\n",
    "    mu = np.mean(X,0)\n",
    "    #X = X - np.ones((n,1)) * mu\n",
    "    X = X - mu\n",
    "    \n",
    "    return X, mu"
   ]
  },
  {
   "cell_type": "code",
   "execution_count": 3,
   "metadata": {},
   "outputs": [],
   "source": [
    "def normalize(X):\n",
    "    \"\"\"Normalize the columns (variables) of a data matrix to unit Euclidean length.\n",
    "    X, MU, D = normalize(X)\n",
    "    i) centers and scales the observations of a data matrix such\n",
    "    that each variable (column) has unit Euclidean length. For a normalized matrix X,\n",
    "    X'*X is equivalent to the correlation matrix of X.\n",
    "    ii) returns a vector MU of mean values for each variable.\n",
    "    iii) returns a vector D containing the Euclidean lengths for each original variable.\n",
    "    \n",
    "    \"\"\"\n",
    "\n",
    "    n = np.size(X, 0)\n",
    "    X, mu = center(X)\n",
    "    d = np.linalg.norm(X, ord = 2, axis = 0)\n",
    "    d[np.where(d==0)] = 1\n",
    "    X = np.divide(X, np.ones((n,1)) * d)\n",
    "    return X, mu, d"
   ]
  },
  {
   "cell_type": "code",
   "execution_count": 116,
   "metadata": {
    "scrolled": false
   },
   "outputs": [],
   "source": [
    "data = pd.read_excel(r'M:\\Documents\\Courses\\Credits\\2019_04_August\\Computational Data Analysis\\Project\\Data\\Subject_Block_Session_Trial.xlsx')\n",
    "\n",
    "data.dropna(subset=['ScoreDifficultyNew'], inplace=True, axis=0) # drop only nan in ScoreDifficultyNew\n",
    "Y1_wNanInData = np.array(data.ScoreDifficultyNew.tolist())\n",
    "\n",
    "\n",
    "data_woNa = data.dropna(inplace=False, axis=0) # drop nan values in all data\n",
    "Y1 = data_woNa.ScoreDifficultyNew.tolist() # Y corresponding to data\n",
    "\n",
    "#Y = [int(item) for item in Y]\n",
    "\n",
    "#X = data.drop(['ScoreDifficultyNew'], axis = 1)\n",
    "\n",
    "# drop some variables that are higher correlated to some other variables\n",
    "data_new = data_woNa.drop(['PupilSizeAbsolute_writingMedian', 'BlinkCount', 'PupilSizeRelative_writingMedian', 'Subject', 'EffectiveTime'], axis=1)\n",
    "\n",
    "\n",
    "# convert some data to categorical first\n",
    "cols_categorical = ['SubjectID', 'BlockID', 'TypingTechniqueID', 'Session', 'Trial', 'ScoreDifficultyNew']\n",
    "for cols in cols_categorical:\n",
    "    data_new[cols] = data_new[cols].astype('category')\n",
    "\n",
    "X = data_new.drop(['ScoreDifficultyNew', 'SubjectID', 'Block', 'BlockID', 'TypingTechnique', 'TypingTechniqueID', 'Session', 'SessionDifficulty', 'Trial'], \\\n",
    "             axis = 1)\n",
    "#X.drop(['ScoreDifficultyNew'], axis=1, inplace=True)\n",
    "\n",
    "X_norm, mu, d = normalize(X)\n",
    "\n",
    "X_exptDesign = data_new.drop(['Block', 'TypingTechnique', 'SessionDifficulty',\n",
    "       'TotalTime', 'ScoreDifficultyNew',\n",
    "       'TypingSpeed', 'ErrorRate', 'PupilSizeAbsolute_writingMean',\n",
    "       #'PupilSizeAbsolute_writingMedian',\n",
    "       'PupilSizeAbsoluteDifference_writingStartingEnding_300ms',\n",
    "       'PupilSizeRelative_writingMean', #'PupilSizeRelative_writingMedian',\n",
    "       'PupilSizeRelative_writingStart300', 'LHIPA_writing20s', #'BlinkCount',\n",
    "       'BlinkFrequency', 'BlinkDurationTotal', 'BlinkDurationAverage'], axis=1)\n",
    "\n",
    "X_norm_all = pd.concat([X_exptDesign, X_norm], axis=1)\n"
   ]
  },
  {
   "cell_type": "code",
   "execution_count": 117,
   "metadata": {},
   "outputs": [],
   "source": [
    "# create X with missing data\n",
    "data_wNa = data.drop(['PupilSizeAbsolute_writingMedian', 'BlinkCount', 'PupilSizeRelative_writingMedian', 'Subject', 'EffectiveTime'], inplace=False, axis=1)\n",
    "\n",
    "# convert some data to categorical first\n",
    "cols_categorical = ['SubjectID', 'BlockID', 'TypingTechniqueID', 'Session', 'Trial', 'ScoreDifficultyNew']\n",
    "for cols in cols_categorical:\n",
    "    data_wNa[cols] = data_wNa[cols].astype('category')\n",
    "\n",
    "X_wNa = data_wNa.drop(['ScoreDifficultyNew', 'SubjectID', 'Block', 'BlockID', 'TypingTechnique', 'TypingTechniqueID', 'Session', 'SessionDifficulty', 'Trial'], \\\n",
    "             axis = 1)\n",
    "#X.drop(['ScoreDifficultyNew'], axis=1, inplace=True)\n",
    "\n",
    "X_wNa_norm, mu, d = normalize(X_wNa)\n",
    "\n",
    "X_wNa_exptDesign = data_wNa.drop(['Block', 'TypingTechnique', 'SessionDifficulty',\n",
    "       'TotalTime', 'ScoreDifficultyNew',\n",
    "       'TypingSpeed', 'ErrorRate', 'PupilSizeAbsolute_writingMean',\n",
    "       #'PupilSizeAbsolute_writingMedian',\n",
    "       'PupilSizeAbsoluteDifference_writingStartingEnding_300ms',\n",
    "       'PupilSizeRelative_writingMean', #'PupilSizeRelative_writingMedian',\n",
    "       'PupilSizeRelative_writingStart300', 'LHIPA_writing20s', #'BlinkCount',\n",
    "       'BlinkFrequency', 'BlinkDurationTotal', 'BlinkDurationAverage'], axis=1)\n",
    "\n",
    "X_wNa_norm_all = pd.concat([X_wNa_exptDesign, X_wNa_norm], axis=1)\n",
    "\n"
   ]
  },
  {
   "cell_type": "code",
   "execution_count": 119,
   "metadata": {},
   "outputs": [],
   "source": [
    "from sklearn import preprocessing, metrics\n",
    "\n",
    "le = preprocessing.LabelEncoder()\n",
    "le.fit(Y1)\n",
    "le.classes_\n",
    "Y = le.transform(Y1)\n",
    "\n",
    "\n",
    "le = preprocessing.LabelEncoder()\n",
    "le.fit(Y1_wNanInData)\n",
    "le.classes_\n",
    "Y_wNanInData = le.transform(Y1_wNanInData)"
   ]
  },
  {
   "cell_type": "markdown",
   "metadata": {},
   "source": [
    "# Unsupervised Learning"
   ]
  },
  {
   "cell_type": "markdown",
   "metadata": {},
   "source": [
    "## K-means clustering"
   ]
  },
  {
   "cell_type": "code",
   "execution_count": null,
   "metadata": {},
   "outputs": [],
   "source": [
    "def plotting(X, kmeans, y_pred, ax):\n",
    "    ax[0].clear()\n",
    "    ax[1].clear()\n",
    "    \n",
    "    ax[0].scatter(X.BlinkCount, X.ErrorRate, c = y_pred[:,0], marker= \".\")\n",
    "    ax[1].scatter(X.BlinkCount, X.ErrorRate, c = y_pred[:,1], marker= \".\")\n",
    "    \n",
    "    ax[0].set_title(\"Last iteration\")\n",
    "    ax[1].set_title(\"Current iteration\")"
   ]
  },
  {
   "cell_type": "code",
   "execution_count": null,
   "metadata": {},
   "outputs": [],
   "source": [
    "wcss = []\n",
    "\n",
    "for i in range(1, 11):\n",
    "    kmeans = KMeans(n_clusters = i, init = 'k-means++', random_state = 42)\n",
    "    kmeans.fit(X_norm)\n",
    "    wcss.append(kmeans.inertia_)\n",
    "    \n",
    "plt.plot(range(1, 11), wcss)\n",
    "plt.title('The Elbow Method')\n",
    "plt.xlabel('Number of clusters')\n",
    "plt.ylabel('WCSS')\n",
    "plt.show()\n",
    "    "
   ]
  },
  {
   "cell_type": "code",
   "execution_count": null,
   "metadata": {
    "scrolled": false
   },
   "outputs": [],
   "source": [
    "# Fitting K-Means to the dataset\n",
    "kmeans = KMeans(n_clusters = 7, init = 'k-means++', random_state = 42)\n",
    "y_pred = kmeans.fit_predict(X_norm)\n",
    "\n",
    "plt.figure(figsize=(15,10))\n",
    "x_variable = 'BlinkDurationAverage'\n",
    "y_variable = 'BlinkFrequency'\n",
    "\n",
    "\n",
    "plt.scatter(X_norm[x_variable], X_norm[y_variable], c=y_pred, marker='.', s=200)\n",
    "plt.xlabel(x_variable)\n",
    "plt.ylabel(y_variable)\n",
    "\n",
    "cbar = plt.colorbar()\n",
    "#plt.savefig(r'M:\\Documents\\Courses\\Credits\\2019_04_August\\Computational Data Analysis\\Project\\Analysis\\perceivedDifficulty\\kmeans' + '\\\\'+ y_variable+'_'+x_variable+'.png')"
   ]
  },
  {
   "cell_type": "markdown",
   "metadata": {},
   "source": [
    "## PCA"
   ]
  },
  {
   "cell_type": "code",
   "execution_count": 25,
   "metadata": {},
   "outputs": [],
   "source": [
    "n, p = np.shape(X_norm)\n",
    "u, d, v = np.linalg.svd(X_norm)\n",
    "\n",
    "# Plot the two components and see if the perceived difficulty levels are differentiated\n",
    "L = v # the loading\n",
    "k = len(d)\n",
    "d = d[0:k]\n",
    "u = u[:, :k]\n",
    "v = v[:k, :] # Matrix that is returned from svd is ordered differently, therefor different slicing\n",
    "\n",
    "S = np.matmul(u, np.diag(d)) # The scores\n"
   ]
  },
  {
   "cell_type": "code",
   "execution_count": 26,
   "metadata": {},
   "outputs": [
    {
     "data": {
      "text/plain": [
       "(0, 105)"
      ]
     },
     "execution_count": 26,
     "metadata": {},
     "output_type": "execute_result"
    },
    {
     "data": {
      "image/png": "[encoded data removed]",
      "text/plain": [
       "<Figure size 432x288 with 1 Axes>"
      ]
     },
     "metadata": {},
     "output_type": "display_data"
    }
   ],
   "source": [
    "d_varianceExplained = list()\n",
    "# Plot the variance explained by n components:\n",
    "\n",
    "plt.figure()\n",
    "plt.bar(range(1, len(d)+1), (d/sum(d))*100)\n",
    "\n",
    "for i in range(1, len(d)+1):\n",
    "    #print(len(d[0:i]), (sum(d[0:i])/sum(d))*100)\n",
    "    d_varianceExplained.append((sum(d[0:i])/sum(d))*100)\n",
    "\n",
    "plt.grid(b=True)\n",
    "#d_varianceExplained = (d[0]/sum(d))*100\n",
    "plt.plot(range(1, len(d)+1), d_varianceExplained)\n",
    "plt.xlabel('number of components')\n",
    "plt.ylabel('Percentage variance explained')\n",
    "plt.xticks(range(1,len(d)+1))\n",
    "plt.yticks(range(10,110,10))\n",
    "plt.ylim([0,105])"
   ]
  },
  {
   "cell_type": "code",
   "execution_count": 27,
   "metadata": {},
   "outputs": [
    {
     "data": {
      "text/plain": [
       "<matplotlib.legend.Legend at 0x28e52ccd588>"
      ]
     },
     "execution_count": 27,
     "metadata": {},
     "output_type": "execute_result"
    },
    {
     "data": {
      "image/png": "[encoded data removed]",
      "text/plain": [
       "<Figure size 432x288 with 1 Axes>"
      ]
     },
     "metadata": {},
     "output_type": "display_data"
    }
   ],
   "source": [
    "\n",
    "# for perceived score of 1, plot pc2 vs pc1:\n",
    "#colorList = ['b', 'r', 'y', 'c', 'm', 'pink', 'g']\n",
    "\n",
    "indices = Y==2\n",
    "plt.figure()\n",
    "plt.plot(S[indices, 0], S[indices, 1], 'ob', label=2)\n",
    "\n",
    "indices = Y==7\n",
    "plt.plot(S[indices, 0], S[indices, 1], 'or', label=7)\n",
    "\n",
    "plt.xlabel('Principal Component 1')\n",
    "plt.ylabel('Principal Component 2')\n",
    "\n",
    "#for i in range(1,8):\n",
    "#    indices = Y==i\n",
    "#    plt.plot(S[indices, 1], S[indices,0], 'o', markerfacecolor=colorList[i-1], markeredgecolor=colorList[i-1], label=i)\n",
    "plt.legend()\n"
   ]
  },
  {
   "cell_type": "code",
   "execution_count": 28,
   "metadata": {},
   "outputs": [
    {
     "data": {
      "text/plain": [
       "Text(0.5,1,'Scree plot')"
      ]
     },
     "execution_count": 28,
     "metadata": {},
     "output_type": "execute_result"
    },
    {
     "data": {
      "image/png": "[encoded data removed]",
      "text/plain": [
       "<Figure size 432x288 with 1 Axes>"
      ]
     },
     "metadata": {},
     "output_type": "display_data"
    }
   ],
   "source": [
    "# Scree plot\n",
    "sigma2 = d ** 2 / sum(d**2)\n",
    "plt.figure()\n",
    "plt.plot(range(1,len(d)+1), sigma2, '-ob')\n",
    "plt.xlabel('Number of components')\n",
    "plt.ylabel('Eigenvalues')\n",
    "plt.title('Scree plot')"
   ]
  },
  {
   "cell_type": "code",
   "execution_count": 29,
   "metadata": {},
   "outputs": [
    {
     "name": "stdout",
     "output_type": "stream",
     "text": [
      "Var1 : TotalTime\n",
      "Var2 : EffectiveTime\n",
      "Var3 : TypingSpeed\n",
      "Var4 : ErrorRate\n",
      "Var5 : PupilSizeAbsolute_writingMean\n",
      "Var6 : PupilSizeAbsoluteDifference_writingStartingEnding_300ms\n",
      "Var7 : PupilSizeRelative_writingMean\n",
      "Var8 : PupilSizeRelative_writingStart300\n",
      "Var9 : LHIPA_writing20s\n",
      "Var10 : BlinkFrequency\n",
      "Var11 : BlinkDurationTotal\n",
      "Var12 : BlinkDurationAverage\n"
     ]
    },
    {
     "data": {
      "image/png": "[encoded data removed]",
      "text/plain": [
       "<Figure size 432x288 with 2 Axes>"
      ]
     },
     "metadata": {},
     "output_type": "display_data"
    }
   ],
   "source": [
    "# Biplot and factor loadings\n",
    "xs = S[:,0]\n",
    "ys = S[:,1]\n",
    "coeff = np.transpose(v[0:2,:])\n",
    "n = coeff.shape[0]\n",
    "\n",
    "scalex = 1.0/(xs.max() - xs.min())\n",
    "scaley = 1.0/(ys.max() - ys.min())\n",
    "plt.figure()\n",
    "plt.scatter(xs * scalex,ys * scaley, c = Y, alpha=0.5)\n",
    "plt.colorbar()\n",
    "\n",
    "for i in range(n):\n",
    "    \n",
    "    label_ = 'Var'+str(i+1)+' : '+X_norm.columns[i]\n",
    "    print(label_)\n",
    "    plt.arrow(0, 0, coeff[i,0], coeff[i,1], color = 'r', alpha = 1)\n",
    "    plt.text(coeff[i,0]*1.5, coeff[i,1]*1.5, \"Var\"+str(i+1), color = 'black', ha = 'center', va = 'center')\n",
    "    \n",
    "plt.xlabel('Principal component 1')\n",
    "plt.ylabel('Principal component 2')\n",
    "plt.xlim(-1,1)\n",
    "plt.ylim(-1,1)\n",
    "\n",
    "plt.grid()\n"
   ]
  },
  {
   "cell_type": "markdown",
   "metadata": {},
   "source": [
    "# Hierarchical clustering "
   ]
  },
  {
   "cell_type": "code",
   "execution_count": null,
   "metadata": {},
   "outputs": [],
   "source": [
    "import scipy.cluster.hierarchy as shc\n",
    "\n",
    "plt.figure(figsize=(10, 7))\n",
    "plt.title(\"Customer Dendograms\")\n",
    "dend = shc.dendrogram(shc.linkage(X_norm, method='ward'), p=10, labels=Y)"
   ]
  },
  {
   "cell_type": "code",
   "execution_count": null,
   "metadata": {},
   "outputs": [],
   "source": [
    "d_group = \"ward\"\n",
    "N_leafs = 7\n",
    "\n",
    "Z = linkage(X_norm, d_group, metric='euclidean')\n",
    "labelList = range(1,8)\n",
    "\n",
    "plt.figure()\n",
    "plt.title('Hierarchical Clustering Dendrogram')\n",
    "plt.xlabel('sample index')\n",
    "plt.ylabel('distance')\n",
    "den = dendrogram(\n",
    "    Z,\n",
    "    leaf_rotation=90.,\n",
    "    leaf_font_size=8.,\n",
    "    truncate_mode='lastp',\n",
    "    labels=Y,\n",
    "    p = 50,\n",
    ")\n",
    "plt.show()"
   ]
  },
  {
   "cell_type": "code",
   "execution_count": null,
   "metadata": {},
   "outputs": [],
   "source": [
    "from sklearn.cluster import AgglomerativeClustering\n",
    "\n",
    "model = AgglomerativeClustering(n_clusters=7, affinity='euclidean', linkage='ward')\n",
    "model.fit(X_norm)\n",
    "labels = model.labels_\n",
    "\n",
    "plt.figure()\n",
    "plt.scatter(X_norm['TotalTime_writing'], X_norm['PupilSizeRelative_writingMedian'], c=labels, cmap='rainbow')\n",
    "plt.xlabel('TotalTime_writing'), plt.ylabel('PupilSizeRelative_writingMedian')\n",
    "cbar = plt.colorbar()\n",
    "\n",
    "plt.figure()\n",
    "plt.scatter(X_norm['BlinkCount'], X_norm['TotalTime_writing'], c=labels, cmap='rainbow')\n",
    "plt.xlabel('BlinkCount'), plt.ylabel('TotalTime_writing')\n",
    "cbar = plt.colorbar()"
   ]
  },
  {
   "cell_type": "code",
   "execution_count": null,
   "metadata": {},
   "outputs": [],
   "source": [
    "#dataPath = r\"M:\\Documents\\Courses\\Credits\\2019_04_August\\Computational Data Analysis\\Module10\\Solutions 10\\Data\"\n",
    "#X = np.loadtxt(dataPath + '\\\\' + \"zipdata.csv\", delimiter = \",\")\n",
    "\n",
    "n, p = np.shape(X)\n",
    "d_group = \"ward\"\n",
    "N_leafs = 100\n",
    "\n",
    "Z = linkage(X_norm, d_group)\n",
    "\n",
    "plt.figure()\n",
    "plt.title('Hierarchical Clustering Dendrogram')\n",
    "plt.xlabel('sample index')\n",
    "plt.ylabel('distance')\n",
    "den = dendrogram(Z, leaf_rotation=90., leaf_font_size=8., truncate_mode='lastp', p = N_leafs,labels=Y)\n",
    "plt.show()"
   ]
  },
  {
   "cell_type": "code",
   "execution_count": null,
   "metadata": {},
   "outputs": [],
   "source": [
    "import pandas as pd\n",
    "from matplotlib import pyplot as plt\n",
    "from scipy.cluster.hierarchy import dendrogram, linkage\n",
    "import numpy as np\n",
    " \n",
    "# Data set\n",
    "url = 'https://python-graph-gallery.com/wp-content/uploads/mtcars.csv'\n",
    "df = pd.read_csv(url)\n",
    "df = df.set_index('model')\n",
    "del df.index.name\n",
    " \n",
    "# Calculate the distance between each sample\n",
    "Z = linkage(df, 'ward')\n",
    " \n",
    "# Make the dendro\n",
    "dendrogram(Z, labels=df.index, leaf_rotation=0, orientation=\"left\", color_threshold=240, above_threshold_color='grey')\n",
    "\n",
    "\"\"\"\n",
    "# Create a color palette with 3 color for the 3 cyl possibilities\n",
    "my_palette = plt.cm.get_cmap(\"Accent\", 3)\n",
    " \n",
    "# transforme the 'cyl' column in a categorical variable. It will allow to put one color on each level.\n",
    "df['cyl']=pd.Categorical(df['cyl'])\n",
    "my_color=df['cyl'].cat.codes\n",
    " \n",
    "# Apply the right color to each label\n",
    "ax = plt.gca()\n",
    "xlbls = ax.get_ymajorticklabels()\n",
    "num=-1\n",
    "for lbl in xlbls:\n",
    "    num+=1\n",
    "    val=my_color[num]\n",
    "    lbl.set_color(my_palette(val))\n",
    "\n",
    "\"\"\""
   ]
  },
  {
   "cell_type": "markdown",
   "metadata": {},
   "source": [
    "## Features chosen on data based from above"
   ]
  },
  {
   "cell_type": "code",
   "execution_count": 95,
   "metadata": {},
   "outputs": [],
   "source": [
    "X_norm_allReduced = X_norm_all.drop(['PupilSizeAbsolute_writingMean', \\\n",
    "'PupilSizeAbsoluteDifference_writingStartingEnding_300ms', 'PupilSizeRelative_writingMean', 'LHIPA_writing20s', \\\n",
    "'BlinkDurationAverage'], axis=1)\n",
    "\n",
    "X_normReduced = X_norm.drop(['PupilSizeAbsolute_writingMean', \\\n",
    "'PupilSizeAbsoluteDifference_writingStartingEnding_300ms', 'PupilSizeRelative_writingMean', 'LHIPA_writing20s', \\\n",
    "'BlinkDurationAverage'], axis=1)"
   ]
  },
  {
   "cell_type": "code",
   "execution_count": 93,
   "metadata": {},
   "outputs": [
    {
     "data": {
      "text/html": [
       "<div>\n",
       "<style scoped>\n",
       "    .dataframe tbody tr th:only-of-type {\n",
       "        vertical-align: middle;\n",
       "    }\n",
       "\n",
       "    .dataframe tbody tr th {\n",
       "        vertical-align: top;\n",
       "    }\n",
       "\n",
       "    .dataframe thead th {\n",
       "        text-align: right;\n",
       "    }\n",
       "</style>\n",
       "<table border=\"1\" class=\"dataframe\">\n",
       "  <thead>\n",
       "    <tr style=\"text-align: right;\">\n",
       "      <th></th>\n",
       "      <th>SubjectID</th>\n",
       "      <th>BlockID</th>\n",
       "      <th>TypingTechniqueID</th>\n",
       "      <th>Session</th>\n",
       "      <th>Trial</th>\n",
       "      <th>TotalTime</th>\n",
       "      <th>TypingSpeed</th>\n",
       "      <th>ErrorRate</th>\n",
       "      <th>PupilSizeRelative_writingStart300</th>\n",
       "      <th>BlinkFrequency</th>\n",
       "      <th>BlinkDurationTotal</th>\n",
       "    </tr>\n",
       "  </thead>\n",
       "  <tbody>\n",
       "    <tr>\n",
       "      <th>0</th>\n",
       "      <td>1.0</td>\n",
       "      <td>1.0</td>\n",
       "      <td>1.0</td>\n",
       "      <td>1.0</td>\n",
       "      <td>0.0</td>\n",
       "      <td>-0.016127</td>\n",
       "      <td>-0.006768</td>\n",
       "      <td>-0.029719</td>\n",
       "      <td>-0.056420</td>\n",
       "      <td>0.068978</td>\n",
       "      <td>0.022400</td>\n",
       "    </tr>\n",
       "    <tr>\n",
       "      <th>1</th>\n",
       "      <td>1.0</td>\n",
       "      <td>1.0</td>\n",
       "      <td>1.0</td>\n",
       "      <td>1.0</td>\n",
       "      <td>1.0</td>\n",
       "      <td>-0.024759</td>\n",
       "      <td>-0.015421</td>\n",
       "      <td>-0.029719</td>\n",
       "      <td>0.031970</td>\n",
       "      <td>0.046282</td>\n",
       "      <td>0.001233</td>\n",
       "    </tr>\n",
       "    <tr>\n",
       "      <th>2</th>\n",
       "      <td>1.0</td>\n",
       "      <td>1.0</td>\n",
       "      <td>1.0</td>\n",
       "      <td>1.0</td>\n",
       "      <td>2.0</td>\n",
       "      <td>-0.037566</td>\n",
       "      <td>-0.007165</td>\n",
       "      <td>-0.009149</td>\n",
       "      <td>-0.006215</td>\n",
       "      <td>0.023133</td>\n",
       "      <td>-0.019565</td>\n",
       "    </tr>\n",
       "    <tr>\n",
       "      <th>3</th>\n",
       "      <td>1.0</td>\n",
       "      <td>1.0</td>\n",
       "      <td>1.0</td>\n",
       "      <td>1.0</td>\n",
       "      <td>3.0</td>\n",
       "      <td>-0.016004</td>\n",
       "      <td>-0.004969</td>\n",
       "      <td>-0.021707</td>\n",
       "      <td>0.010820</td>\n",
       "      <td>0.048643</td>\n",
       "      <td>0.012972</td>\n",
       "    </tr>\n",
       "    <tr>\n",
       "      <th>4</th>\n",
       "      <td>1.0</td>\n",
       "      <td>1.0</td>\n",
       "      <td>1.0</td>\n",
       "      <td>1.0</td>\n",
       "      <td>4.0</td>\n",
       "      <td>-0.036926</td>\n",
       "      <td>0.012007</td>\n",
       "      <td>-0.029719</td>\n",
       "      <td>-0.023880</td>\n",
       "      <td>0.019890</td>\n",
       "      <td>-0.021968</td>\n",
       "    </tr>\n",
       "  </tbody>\n",
       "</table>\n",
       "</div>"
      ],
      "text/plain": [
       "  SubjectID BlockID TypingTechniqueID Session Trial  TotalTime  TypingSpeed  \\\n",
       "0       1.0     1.0               1.0     1.0   0.0  -0.016127    -0.006768   \n",
       "1       1.0     1.0               1.0     1.0   1.0  -0.024759    -0.015421   \n",
       "2       1.0     1.0               1.0     1.0   2.0  -0.037566    -0.007165   \n",
       "3       1.0     1.0               1.0     1.0   3.0  -0.016004    -0.004969   \n",
       "4       1.0     1.0               1.0     1.0   4.0  -0.036926     0.012007   \n",
       "\n",
       "   ErrorRate  PupilSizeRelative_writingStart300  BlinkFrequency  \\\n",
       "0  -0.029719                          -0.056420        0.068978   \n",
       "1  -0.029719                           0.031970        0.046282   \n",
       "2  -0.009149                          -0.006215        0.023133   \n",
       "3  -0.021707                           0.010820        0.048643   \n",
       "4  -0.029719                          -0.023880        0.019890   \n",
       "\n",
       "   BlinkDurationTotal  \n",
       "0            0.022400  \n",
       "1            0.001233  \n",
       "2           -0.019565  \n",
       "3            0.012972  \n",
       "4           -0.021968  "
      ]
     },
     "execution_count": 93,
     "metadata": {},
     "output_type": "execute_result"
    }
   ],
   "source": [
    "X_norm_allReduced.head()"
   ]
  },
  {
   "cell_type": "code",
   "execution_count": null,
   "metadata": {},
   "outputs": [],
   "source": []
  }
 ],
 "metadata": {
  "kernelspec": {
   "display_name": "Python 3",
   "language": "python",
   "name": "python3"
  },
  "language_info": {
   "codemirror_mode": {
    "name": "ipython",
    "version": 2
   },
   "file_extension": ".py",
   "mimetype": "text/x-python",
   "name": "python",
   "nbconvert_exporter": "python",
   "pygments_lexer": "ipython2",
   "version": "2.7.16"
  }
 },
 "nbformat": 4,
 "nbformat_minor": 2
}
