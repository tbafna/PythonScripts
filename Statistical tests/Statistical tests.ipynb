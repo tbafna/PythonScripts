{
 "cells": [
  {
   "cell_type": "code",
   "execution_count": null,
   "metadata": {},
   "outputs": [],
   "source": [
    "%matplotlib\n",
    "#%matplotlib inline\n",
    "import os\n",
    "import csv\n",
    "import fnmatch\n",
    "import numpy as np\n",
    "import datetime\n",
    "import re \n",
    "import pandas as pd\n",
    "import matplotlib.pyplot as plt\n",
    "import math\n",
    "import xlsxwriter\n",
    "import scipy.stats\n",
    "\n",
    "pd.options.mode.use_inf_as_na = True"
   ]
  },
  {
   "cell_type": "code",
   "execution_count": null,
   "metadata": {},
   "outputs": [],
   "source": [
    "# csv file with the saved data\n",
    "fileName = r\"C:\\DTU\\Data\\201805_HealthnRehab\\data_summary.csv\"\n",
    "\n",
    "fDataSummary = open(fileName, 'r')\n",
    "readerDataSummary = csv.reader(fDataSummary)\n",
    "dataSummary = list(readerDataSummary)\n",
    "print(dataSummary[0])\n",
    "\n",
    "# Find subject names and the typing mechanism\n",
    "subjName = [key[0] for key in dataSummary]\n",
    "\n",
    "re_typingMechanism = re.compile('_[.]')\n",
    "\n",
    "typingMechanism = [subjName_each[2] for subjName_each in dataSummary[1:]]\n",
    "typingMechanismDictKeys = set(typingMechanism)"
   ]
  },
  {
   "cell_type": "code",
   "execution_count": null,
   "metadata": {
    "scrolled": false
   },
   "outputs": [],
   "source": [
    "# Typing speed statistical analysis\n",
    "typingSpeedAvgDict = dict()\n",
    "typingSpeedStdDict = dict()\n",
    "typingSpeed = [key[17] for key in dataSummary[1:]]\n",
    "#print(typingSpeed[0])\n",
    "\n",
    "typingMechanismDictKeys = set(typingMechanism)\n",
    "#print(typingMechanismDictKeys)\n",
    "\n",
    "# create array to hold lists of different typing mechanisms\n",
    "typingSpeedMechanismArray = np.zeros([2, 16]) # row length changed after checking the data\n",
    "nRow = -1\n",
    "for typingMechanismEach in typingMechanismDictKeys:\n",
    "    speedAdd = 0\n",
    "    nAdd = 0\n",
    "    speedList = list()\n",
    "    nRow = nRow + 1\n",
    "    #print(typingMechanismEach)\n",
    "    for row in enumerate(dataSummary[1:]):\n",
    "        #print(row[0], row[1][2])\n",
    "        if row[1][2] == typingMechanismEach:\n",
    "            speedAdd = speedAdd + float(typingSpeed[row[0]])\n",
    "            speedList.append(float(typingSpeed[row[0]]))\n",
    "            #print(typingSpeed[row[0]])\n",
    "            typingSpeedMechanismArray[nRow][nAdd] = float(typingSpeed[row[0]])\n",
    "            nAdd = nAdd + 1\n",
    "            \n",
    "    speedAvg = np.mean(np.array(speedList))\n",
    "    speedStd = np.std(np.array(speedList))\n",
    "    #print(speedAvg)\n",
    "    \n",
    "    typingSpeedAvgDict[typingMechanismEach] = speedAvg\n",
    "    typingSpeedStdDict[typingMechanismEach] = speedStd\n",
    "    \n",
    "#typingSpeedMechanismArray[typingSpeedMechanismArray!=0]\n",
    "# Average speed of both types of typing mechanisms\n",
    "plt.figure(0)\n",
    "plt.boxplot(np.transpose(typingSpeedMechanismArray), labels = typingMechanismDictKeys)\n",
    "#plt.show()\n",
    "\n",
    "scipy.stats.kruskal(typingSpeedMechanismArray[0], typingSpeedMechanismArray[1])\n"
   ]
  },
  {
   "cell_type": "code",
   "execution_count": null,
   "metadata": {},
   "outputs": [],
   "source": [
    "print(typingSpeedAvgDict)\n",
    "print(typingSpeedStdDict)"
   ]
  },
  {
   "cell_type": "code",
   "execution_count": null,
   "metadata": {},
   "outputs": [],
   "source": [
    "# Error rate analysis\n",
    "errorRateAvgDict = dict()\n",
    "errorRateStdDict = dict()\n",
    "errorRate = [key[18] for key in dataSummary[1:]]\n",
    "#print(typingSpeed[0])\n",
    "\n",
    "#print(typingMechanismDictKeys)\n",
    "\n",
    "# create array to hold lists of different typing mechanisms\n",
    "errorRateMechanismArray = np.zeros([2, 16]) # row length changed after checking the data\n",
    "nRow = -1\n",
    "for typingMechanismEach in typingMechanismDictKeys:\n",
    "    errorRateAdd = 0\n",
    "    nAdd = 0\n",
    "    errorRateList = list()\n",
    "    nRow = nRow + 1\n",
    "    #print(typingMechanismEach)\n",
    "    for row in enumerate(dataSummary[1:]):\n",
    "        #print(row[0], row[1][2])\n",
    "        if row[1][2] == typingMechanismEach:\n",
    "            errorRateAdd = errorRateAdd + float(errorRate[row[0]])\n",
    "            errorRateList.append(float(errorRate[row[0]]))\n",
    "            #print(typingSpeed[row[0]])\n",
    "            errorRateMechanismArray[nRow][nAdd] = float(errorRate[row[0]])\n",
    "            nAdd = nAdd + 1\n",
    "            \n",
    "    errorRateAvg = np.mean(np.array(errorRateList))\n",
    "    errorRateStd = np.std(np.array(errorRateList))\n",
    "    #print(speedAvg)\n",
    "    \n",
    "    errorRateAvgDict[typingMechanismEach] = errorRateAvg\n",
    "    errorRateStdDict[typingMechanismEach] = errorRateStd\n",
    "    \n",
    "#typingSpeedMechanismArray[typingSpeedMechanismArray!=0]\n",
    "# Average speed of both types of typing mechanisms\n",
    "plt.figure(1)\n",
    "plt.boxplot(np.transpose(errorRateMechanismArray), labels = typingMechanismDictKeys)\n",
    "#plt.show()\n",
    "\n",
    "scipy.stats.kruskal(errorRateMechanismArray[0], errorRateMechanismArray[1])\n"
   ]
  },
  {
   "cell_type": "code",
   "execution_count": null,
   "metadata": {},
   "outputs": [],
   "source": [
    "print(errorRateAvgDict)\n",
    "print(errorRateStdDict)"
   ]
  },
  {
   "cell_type": "code",
   "execution_count": null,
   "metadata": {},
   "outputs": [],
   "source": []
  }
 ],
 "metadata": {
  "kernelspec": {
   "display_name": "Python 3",
   "language": "python",
   "name": "python3"
  },
  "language_info": {
   "codemirror_mode": {
    "name": "ipython",
    "version": 3
   },
   "file_extension": ".py",
   "mimetype": "text/x-python",
   "name": "python",
   "nbconvert_exporter": "python",
   "pygments_lexer": "ipython3",
   "version": "3.6.4"
  }
 },
 "nbformat": 4,
 "nbformat_minor": 2
}
