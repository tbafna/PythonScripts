{
 "cells": [
  {
   "cell_type": "code",
   "execution_count": 1,
   "metadata": {},
   "outputs": [
    {
     "name": "stdout",
     "output_type": "stream",
     "text": [
      "Using matplotlib backend: Qt5Agg\n"
     ]
    },
    {
     "name": "stderr",
     "output_type": "stream",
     "text": [
      "C:\\ProgramData\\Anaconda3\\lib\\site-packages\\statsmodels\\compat\\pandas.py:56: FutureWarning: The pandas.core.datetools module is deprecated and will be removed in a future version. Please use the pandas.tseries module instead.\n",
      "  from pandas.core import datetools\n"
     ]
    }
   ],
   "source": [
    "%matplotlib\n",
    "#%matplotlib inline\n",
    "import os\n",
    "import csv\n",
    "import fnmatch\n",
    "import numpy as np\n",
    "import datetime\n",
    "import re \n",
    "import pandas as pd\n",
    "import matplotlib.pyplot as plt\n",
    "import math\n",
    "import xlsxwriter\n",
    "import scipy.stats\n",
    "import statsmodels.api as sm\n",
    "from statsmodels.formula.api import ols\n",
    "import statsmodels\n",
    "from statsmodels.graphics.regressionplots import abline_plot\n",
    "from statsmodels.stats.api import anova_lm\n",
    "import seaborn as sns\n",
    "\n",
    "pd.options.mode.use_inf_as_na = True"
   ]
  },
  {
   "cell_type": "markdown",
   "metadata": {},
   "source": [
    "Obtain data in form of pandas dataframe"
   ]
  },
  {
   "cell_type": "code",
   "execution_count": 6,
   "metadata": {
    "scrolled": false
   },
   "outputs": [],
   "source": [
    "# csv file with the saved data\n",
    "fileName = r\"C:\\DTU\\Data\\201805_HealthnRehab\\data_summary.csv\"\n",
    "\n",
    "df = pd.read_csv(fileName, delimiter=',')\n",
    "\n",
    "typingMechanismDictKeys = set(df['typing_mechanism'])\n",
    "\n",
    "# create reference data frame for age bins and gender (0:Less than 30/Male, 1:Greater than 30/Female)\n",
    "labels = ['age_bins', 'gender', 'typing_mechanism']\n",
    "dataReference = [['Less than 30', 'Male', 'Dwell-Time'], ['Greater than 30', 'Female', 'Multi-Key Selection']]\n",
    "df_refAgeGender = pd.DataFrame.from_records(dataReference, columns=labels)\n",
    "\n",
    "# replace data in df in string or category\n",
    "df = df.replace({'Less than 30': 0, 'Greater than 30': 1, 'Male': 0, 'Female': 1, 'DT' : 0, 'MS' : 1})\n",
    "\n",
    "# Create dataframe without Nan values\n",
    "df_woNaGenderAgeExperience = df.dropna(subset=['gender','age_bins', 'gaze_interaction_experience'], how='any') \n",
    "\n",
    "# Create a copy of the dataframe to avoid loc errors.\n",
    "df_ToAnalyze = df_woNaGenderAgeExperience.copy()\n",
    "\n",
    "# Convert columns of age_bins, typing_mechanism, gender into categorical columns\n",
    "df_ToAnalyze['gender'] = pd.Categorical(df_woNaGenderAgeExperience.gender).codes\n",
    "df_ToAnalyze['typing_mechanism'] = pd.Categorical(df_woNaGenderAgeExperience.typing_mechanism).codes\n",
    "df_ToAnalyze['age_bins'] = pd.Categorical(df_woNaGenderAgeExperience.age_bins).codes\n",
    "df_ToAnalyze['gaze_interaction_experience'] = pd.Categorical(df_woNaGenderAgeExperience.gaze_interaction_experience).codes"
   ]
  },
  {
   "cell_type": "code",
   "execution_count": 7,
   "metadata": {},
   "outputs": [
    {
     "data": {
      "text/plain": [
       "<bound method NDFrame.head of           timestamp subject_name  typing_mechanism    age  age_bins  gender  \\\n",
       "1   5/15/2018 14:56        be_DT                 0     40         1       1   \n",
       "3   5/15/2018 12:35       KEA_MS                 1  20-25         0       0   \n",
       "4   5/15/2018 11:11      lone_DT                 0  50-55         1       1   \n",
       "5   5/15/2018 12:12       mcc_MS                 1  20-25         0       0   \n",
       "6   5/15/2018 14:44        MK_DT                 0  45-50         1       1   \n",
       "7   5/15/2018 10:58        MT_MS                 1     25         0       0   \n",
       "8   5/15/2018 12:28        ok_MS                 1  20-25         0       0   \n",
       "9   5/15/2018 12:51        pt_DT                 0     27         0       0   \n",
       "11  5/15/2018 15:42        sh_MS                 1  20-25         0       1   \n",
       "12  5/15/2018 11:48       slh_DT                 0     10         0       1   \n",
       "13  5/16/2018 15:13        ae_DT                 0     68         1       0   \n",
       "14  5/16/2018 13:12        ep_DT                 0     23         0       0   \n",
       "15  5/16/2018 13:55        hc_MS                 1     43         1       1   \n",
       "16  5/16/2018 10:51        ib_MS                 1     59         1       0   \n",
       "17  5/16/2018 10:25        js_MS                 1  20-25         0       0   \n",
       "18  5/16/2018 14:13        km_DT                 0     33         1       0   \n",
       "19  5/16/2018 10:14        ma_DT                 0  25-30         0       1   \n",
       "20  5/16/2018 16:28        mw_MS                 1     41         1       0   \n",
       "21  5/16/2018 14:57      pgba_DT                 0     27         0       0   \n",
       "22  5/16/2018 16:01        pt_MS                 1     27         0       0   \n",
       "23  5/16/2018 12:06       smn_DT                 0     29         0       1   \n",
       "24  5/17/2018 11:57        eo_DT                 0     25         0       0   \n",
       "25  5/17/2018 13:54       jek_MS                 1     42         1       0   \n",
       "26  5/17/2018 12:40        jg_DT                 0     46         1       0   \n",
       "27  5/17/2018 10:48        lg_MS                 1     34         1       1   \n",
       "28  5/17/2018 10:22        lr_MS                 1     40         1       1   \n",
       "29  5/17/2018 16:11        mm_MS                 1     27         0       1   \n",
       "30  5/17/2018 16:08        mr_DT                 0     39         1       1   \n",
       "31  5/17/2018 10:36       snk_DT                 0     55         1       1   \n",
       "\n",
       "                           profession                          vision  \\\n",
       "1                            business                          Lenses   \n",
       "3                             Student                          Normal   \n",
       "4                               nurse                         Glasses   \n",
       "5                             student                          Normal   \n",
       "6                   Product Developer  Not wearing glasses during exp   \n",
       "7                          Programmer                          Normal   \n",
       "8                             student                          Normal   \n",
       "9      Student - Health informatic KU                          Lenses   \n",
       "11                            student                          Normal   \n",
       "12                                NaN                          Normal   \n",
       "13                        electronics                         Glasses   \n",
       "14                       Eye-tracking                          Normal   \n",
       "15              occopational terapist                         Glasses   \n",
       "16           IKT - Teknologikonsulent                          Normal   \n",
       "17                           medicine                          Normal   \n",
       "18                         psychology                          Lenses   \n",
       "19                            student                         Glasses   \n",
       "20  rehabilitation device distributor                         Glasses   \n",
       "21                            Student                          Normal   \n",
       "22     Student - Health informatic KU                          Lenses   \n",
       "23                     work with kids                          Normal   \n",
       "24                         consultant                         Glasses   \n",
       "25                           Engineer                          Lenses   \n",
       "26                            Mobile                          Glasses   \n",
       "27             occupational therapist                          Lenses   \n",
       "28                   software testing                         Glasses   \n",
       "29                 eye tracking sales                          Normal   \n",
       "30                       Ergoterapeut                          Normal   \n",
       "31        administrativ sagsbehandler                          Normal   \n",
       "\n",
       "    gaze_interaction_experience  \\\n",
       "1                             1   \n",
       "3                             1   \n",
       "4                             1   \n",
       "5                             1   \n",
       "6                             1   \n",
       "7                             0   \n",
       "8                             1   \n",
       "9                             1   \n",
       "11                            0   \n",
       "12                            1   \n",
       "13                            1   \n",
       "14                            0   \n",
       "15                            0   \n",
       "16                            0   \n",
       "17                            1   \n",
       "18                            0   \n",
       "19                            1   \n",
       "20                            1   \n",
       "21                            1   \n",
       "22                            1   \n",
       "23                            1   \n",
       "24                            0   \n",
       "25                            2   \n",
       "26                            1   \n",
       "27                            0   \n",
       "28                            0   \n",
       "29                            0   \n",
       "30                            1   \n",
       "31                            1   \n",
       "\n",
       "         application_of_gaze_interaction_used_before  \\\n",
       "1                                                NaN   \n",
       "3                                                NaN   \n",
       "4                                                NaN   \n",
       "5                                                NaN   \n",
       "6                                                NaN   \n",
       "7   Virtual reality with eye tracking, Eye tracking    \n",
       "8                                                NaN   \n",
       "9                                                NaN   \n",
       "11                                Gaming, hmd typing   \n",
       "12                                               NaN   \n",
       "13                                               NaN   \n",
       "14                                        Everything   \n",
       "15                                            typing   \n",
       "16                                       gaze typing   \n",
       "17                                               NaN   \n",
       "18                               control of fixation   \n",
       "19                                               NaN   \n",
       "20                                               NaN   \n",
       "21                                               NaN   \n",
       "22                                               NaN   \n",
       "23                                               NaN   \n",
       "24                                        eye typing   \n",
       "25                                   gesture control   \n",
       "26                                               NaN   \n",
       "27                               communication (aac)   \n",
       "28                                learning and games   \n",
       "29                                        everything   \n",
       "30                                               NaN   \n",
       "31                                               NaN   \n",
       "\n",
       "               ...               how_comfortable_was_it_during_the_task?  \\\n",
       "1              ...                                                     9   \n",
       "3              ...                                                     6   \n",
       "4              ...                                                     9   \n",
       "5              ...                                                     6   \n",
       "6              ...                                                     9   \n",
       "7              ...                                                    10   \n",
       "8              ...                                                     4   \n",
       "9              ...                                                     3   \n",
       "11             ...                                                    10   \n",
       "12             ...                                                     0   \n",
       "13             ...                                                     0   \n",
       "14             ...                                                    10   \n",
       "15             ...                                                     9   \n",
       "16             ...                                                    10   \n",
       "17             ...                                                     8   \n",
       "18             ...                                                     8   \n",
       "19             ...                                                     8   \n",
       "20             ...                                                     9   \n",
       "21             ...                                                     9   \n",
       "22             ...                                                     3   \n",
       "23             ...                                                     9   \n",
       "24             ...                                                     0   \n",
       "25             ...                                                     4   \n",
       "26             ...                                                     8   \n",
       "27             ...                                                     9   \n",
       "28             ...                                                     9   \n",
       "29             ...                                                     7   \n",
       "30             ...                                                     9   \n",
       "31             ...                                                     8   \n",
       "\n",
       "    would_you_use_Optikey_or_recommend_it?  \\\n",
       "1                                    Maybe   \n",
       "3                                      Yes   \n",
       "4                                      Yes   \n",
       "5                                      Yes   \n",
       "6                                      Yes   \n",
       "7                                      Yes   \n",
       "8                                    Maybe   \n",
       "9                                      NaN   \n",
       "11                                     Yes   \n",
       "12                                     NaN   \n",
       "13                                     NaN   \n",
       "14                                     Yes   \n",
       "15                                   Maybe   \n",
       "16                                     Yes   \n",
       "17                                     Yes   \n",
       "18                                     Yes   \n",
       "19                                     Yes   \n",
       "20                                   Maybe   \n",
       "21                                     Yes   \n",
       "22                                     NaN   \n",
       "23                                     Yes   \n",
       "24                                     NaN   \n",
       "25                                   Maybe   \n",
       "26                                   Maybe   \n",
       "27                                   Maybe   \n",
       "28                                     Yes   \n",
       "29                                     Yes   \n",
       "30                                     Yes   \n",
       "31                                     Yes   \n",
       "\n",
       "                            any_suggestions/comments? dataLog_saved?  \\\n",
       "1                                                 NaN            Yes   \n",
       "3                                                 NaN            Yes   \n",
       "4                          kom hurtigst mulig igang\\n            Yes   \n",
       "5                                                 NaN            Yes   \n",
       "6          A brilliant tool for thouse that need it.             Yes   \n",
       "7                                           Backspace             No   \n",
       "8                                                 NaN            Yes   \n",
       "9                                                 NaN            Yes   \n",
       "11                                                NaN            Yes   \n",
       "12                                                NaN             No   \n",
       "13  The feedback about the keyboard was not filled...            Yes   \n",
       "14                                                NaN             No   \n",
       "15                                                NaN            Yes   \n",
       "16               prediction for multi-swipe function             Yes   \n",
       "17                                                NaN            Yes   \n",
       "18  autocomplete suggestions were difficult to see...            Yes   \n",
       "19                                                NaN            Yes   \n",
       "20                                                NaN            Yes   \n",
       "21                                                NaN            Yes   \n",
       "22                                                NaN             No   \n",
       "23                                                NaN            Yes   \n",
       "24  The user got stressed while typing and stopped...            Yes   \n",
       "25  no feedback for when a word is started, or wha...            Yes   \n",
       "26                                                NaN            Yes   \n",
       "27                                                NaN            Yes   \n",
       "28                                                NaN            Yes   \n",
       "29  divide into training and testing clearly, take...            Yes   \n",
       "30                                                NaN             No   \n",
       "31                                                NaN            Yes   \n",
       "\n",
       "                     comments typing_speed ms_per_char  error_rate  \\\n",
       "1             English speaker     1.878433    6.388303   66.275660   \n",
       "3                         NaN    10.785736    1.112581   13.147724   \n",
       "4                         NaN     4.103884    2.924059   53.722222   \n",
       "5                         NaN     8.778835    1.366924   40.370370   \n",
       "6                         NaN     4.625490    2.594320   18.445341   \n",
       "7                         NaN     7.144239    1.679675    8.816964   \n",
       "8                         NaN    11.135985    1.077588    8.210327   \n",
       "9                         NaN     6.230274    1.926079    9.676650   \n",
       "11                        NaN     5.309663    2.260031   25.246753   \n",
       "12                        NaN     5.241627    2.289366    7.530067   \n",
       "13      Not enough valid date     0.522646   22.960094   90.322581   \n",
       "14                        NaN     8.320822    1.442165    2.988615   \n",
       "15                        NaN     4.895676    2.451143   39.285263   \n",
       "16                        NaN     6.768202    1.772997   49.392157   \n",
       "17            English speaker     7.463367    1.607853   22.909549   \n",
       "18                        NaN     5.059759    2.371654   12.072047   \n",
       "19                        NaN     5.304923    2.262050   13.340810   \n",
       "20            English speaker     5.280016    2.272721   47.447272   \n",
       "21                        NaN     6.411380    1.871672    4.517041   \n",
       "22                        NaN     8.334700    1.439764   62.953189   \n",
       "23                        NaN     5.522410    2.172964    1.668409   \n",
       "24                        NaN     2.095240    5.727267   96.910755   \n",
       "25                        NaN     6.077941    1.974353   46.204124   \n",
       "26  MSD goes higher than 100%     2.130563    5.632315  117.179487   \n",
       "27                        NaN     5.673385    2.115139   63.779936   \n",
       "28                        NaN     8.453259    1.419571   21.588089   \n",
       "29            English speaker     8.834883    1.358252   12.188406   \n",
       "30                        NaN     6.736920    1.781229    5.549042   \n",
       "31                        NaN     5.004198    2.397987   18.259649   \n",
       "\n",
       "    read_text_events_frequency_ratio  read_text_events_time_ratio  \n",
       "1                           0.277778                     0.007300  \n",
       "3                           0.056000                     0.003742  \n",
       "4                           0.205128                     0.024690  \n",
       "5                           0.076087                     0.005991  \n",
       "6                           0.092593                     0.005869  \n",
       "7                           0.185185                     0.013547  \n",
       "8                           0.045161                     0.003269  \n",
       "9                           0.058442                     0.004910  \n",
       "11                          0.108696                     0.001796  \n",
       "12                          0.155556                     0.009696  \n",
       "13                          0.555556                     0.001660  \n",
       "14                          0.055215                     0.004696  \n",
       "15                          0.074257                     0.003238  \n",
       "16                          0.059211                     0.003422  \n",
       "17                          0.093750                     0.004519  \n",
       "18                          0.141243                     0.008967  \n",
       "19                          0.146552                     0.008179  \n",
       "20                          0.116667                     0.004081  \n",
       "21                          0.052980                     0.006890  \n",
       "22                          0.101266                     0.005530  \n",
       "23                          0.150327                     0.008241  \n",
       "24                          0.368421                     0.002043  \n",
       "25                          0.086207                     0.007967  \n",
       "26                          0.382353                     0.006836  \n",
       "27                          0.083333                     0.003936  \n",
       "28                          0.161074                     0.011078  \n",
       "29                          0.091346                     0.008003  \n",
       "30                          0.082278                     0.008291  \n",
       "31                          0.096552                     0.006794  \n",
       "\n",
       "[29 rows x 22 columns]>"
      ]
     },
     "execution_count": 7,
     "metadata": {},
     "output_type": "execute_result"
    }
   ],
   "source": [
    "df_ToAnalyze.head"
   ]
  },
  {
   "cell_type": "code",
   "execution_count": 8,
   "metadata": {},
   "outputs": [
    {
     "name": "stdout",
     "output_type": "stream",
     "text": [
      "Males: 16 Females: 13\n",
      "Below 30: 15 Above 30 14\n",
      "Dwell time 15 Multi-key selection: 14\n",
      "No previous experience with gaze: 18 Tried once before: 1 Multiple times 10\n"
     ]
    }
   ],
   "source": [
    "n_Males = df_ToAnalyze.gender[df_ToAnalyze['gender'] == 0].count()\n",
    "n_Females = df_ToAnalyze.gender[df_ToAnalyze['gender'] == 1].count()\n",
    "\n",
    "n_Below30 = df_ToAnalyze.age_bins[df_ToAnalyze['age_bins'] == 0].count()\n",
    "n_Above30 = df_ToAnalyze.age_bins[df_ToAnalyze['age_bins'] == 1].count()\n",
    "\n",
    "n_DT = df_ToAnalyze.typing_mechanism[df_ToAnalyze['typing_mechanism'] == 0].count()\n",
    "n_MS = df_ToAnalyze.typing_mechanism[df_ToAnalyze['typing_mechanism'] == 1].count()\n",
    "\n",
    "n_ExperienceNever = df_ToAnalyze.gaze_interaction_experience[df_ToAnalyze['gaze_interaction_experience'] == 1].count()\n",
    "n_ExperienceMultiple = df_ToAnalyze.gaze_interaction_experience[df_ToAnalyze['gaze_interaction_experience'] == 0].count()\n",
    "n_ExperienceOnce = df_ToAnalyze.gaze_interaction_experience[df_ToAnalyze['gaze_interaction_experience'] == 2].count()\n",
    "\n",
    "\n",
    "print('Males:', n_Males, 'Females:', n_Females)\n",
    "print('Below 30:', n_Below30, 'Above 30', n_Above30)\n",
    "print('Dwell time', n_DT, 'Multi-key selection:', n_MS)\n",
    "print('No previous experience with gaze:', n_ExperienceNever, 'Tried once before:', n_ExperienceOnce, 'Multiple times', n_ExperienceMultiple)"
   ]
  },
  {
   "cell_type": "code",
   "execution_count": 9,
   "metadata": {},
   "outputs": [
    {
     "name": "stdout",
     "output_type": "stream",
     "text": [
      "7 8 8 6\n",
      "7 8 9 5\n"
     ]
    }
   ],
   "source": [
    "n_DT_Below30 = df_ToAnalyze.typing_mechanism[(df_ToAnalyze['typing_mechanism'] == 0) & (df_ToAnalyze['age_bins'] == 0)].count()\n",
    "n_DT_Above30 = df_ToAnalyze.typing_mechanism[(df_ToAnalyze['typing_mechanism'] == 0) & (df_ToAnalyze['age_bins'] == 1)].count()\n",
    "\n",
    "n_MS_Below30 = df_ToAnalyze.typing_mechanism[(df_ToAnalyze['typing_mechanism'] == 1) & (df_ToAnalyze['age_bins'] == 0)].count()\n",
    "n_MS_Above30 = df_ToAnalyze.typing_mechanism[(df_ToAnalyze['typing_mechanism'] == 1) & (df_ToAnalyze['age_bins'] == 1)].count()\n",
    "\n",
    "\n",
    "n_DT_Males = df_ToAnalyze.typing_mechanism[(df_ToAnalyze['typing_mechanism'] == 0) & (df_ToAnalyze['gender'] == 0)].count()\n",
    "n_DT_Females = df_ToAnalyze.typing_mechanism[(df_ToAnalyze['typing_mechanism'] == 0) & (df_ToAnalyze['gender'] == 1)].count()\n",
    "\n",
    "n_MS_Males = df_ToAnalyze.typing_mechanism[(df_ToAnalyze['typing_mechanism'] == 1) & (df_ToAnalyze['gender'] == 0)].count()\n",
    "n_MS_Females = df_ToAnalyze.typing_mechanism[(df_ToAnalyze['typing_mechanism'] == 1) & (df_ToAnalyze['gender'] == 1)].count()\n",
    "\n",
    "\n",
    "print(n_DT_Below30, n_DT_Above30, n_MS_Below30, n_MS_Above30)\n",
    "print(n_DT_Males, n_DT_Females, n_MS_Males, n_MS_Females)"
   ]
  },
  {
   "cell_type": "code",
   "execution_count": 13,
   "metadata": {},
   "outputs": [
    {
     "ename": "AttributeError",
     "evalue": "'DataFrame' object has no attribute 'how_challenging_was_the_task'",
     "output_type": "error",
     "traceback": [
      "\u001b[1;31m---------------------------------------------------------------------------\u001b[0m",
      "\u001b[1;31mAttributeError\u001b[0m                            Traceback (most recent call last)",
      "\u001b[1;32m<ipython-input-13-ed8e2498df96>\u001b[0m in \u001b[0;36m<module>\u001b[1;34m()\u001b[0m\n\u001b[0;32m      1\u001b[0m \u001b[1;31m# Experience (comfort, challenge level, fun) -\u001b[0m\u001b[1;33m\u001b[0m\u001b[1;33m\u001b[0m\u001b[0m\n\u001b[1;32m----> 2\u001b[1;33m \u001b[0mdf_ToAnalyze\u001b[0m\u001b[1;33m.\u001b[0m\u001b[0mhow_challenging_was_the_task\u001b[0m\u001b[1;33m\u001b[0m\u001b[0m\n\u001b[0m",
      "\u001b[1;32mC:\\ProgramData\\Anaconda3\\lib\\site-packages\\pandas\\core\\generic.py\u001b[0m in \u001b[0;36m__getattr__\u001b[1;34m(self, name)\u001b[0m\n\u001b[0;32m   3612\u001b[0m             \u001b[1;32mif\u001b[0m \u001b[0mname\u001b[0m \u001b[1;32min\u001b[0m \u001b[0mself\u001b[0m\u001b[1;33m.\u001b[0m\u001b[0m_info_axis\u001b[0m\u001b[1;33m:\u001b[0m\u001b[1;33m\u001b[0m\u001b[0m\n\u001b[0;32m   3613\u001b[0m                 \u001b[1;32mreturn\u001b[0m \u001b[0mself\u001b[0m\u001b[1;33m[\u001b[0m\u001b[0mname\u001b[0m\u001b[1;33m]\u001b[0m\u001b[1;33m\u001b[0m\u001b[0m\n\u001b[1;32m-> 3614\u001b[1;33m             \u001b[1;32mreturn\u001b[0m \u001b[0mobject\u001b[0m\u001b[1;33m.\u001b[0m\u001b[0m__getattribute__\u001b[0m\u001b[1;33m(\u001b[0m\u001b[0mself\u001b[0m\u001b[1;33m,\u001b[0m \u001b[0mname\u001b[0m\u001b[1;33m)\u001b[0m\u001b[1;33m\u001b[0m\u001b[0m\n\u001b[0m\u001b[0;32m   3615\u001b[0m \u001b[1;33m\u001b[0m\u001b[0m\n\u001b[0;32m   3616\u001b[0m     \u001b[1;32mdef\u001b[0m \u001b[0m__setattr__\u001b[0m\u001b[1;33m(\u001b[0m\u001b[0mself\u001b[0m\u001b[1;33m,\u001b[0m \u001b[0mname\u001b[0m\u001b[1;33m,\u001b[0m \u001b[0mvalue\u001b[0m\u001b[1;33m)\u001b[0m\u001b[1;33m:\u001b[0m\u001b[1;33m\u001b[0m\u001b[0m\n",
      "\u001b[1;31mAttributeError\u001b[0m: 'DataFrame' object has no attribute 'how_challenging_was_the_task'"
     ]
    }
   ],
   "source": [
    "# Experience (comfort, challenge level, fun) - \n",
    "df_ToAnalyze.how_challenging_was_the_task"
   ]
  },
  {
   "cell_type": "markdown",
   "metadata": {},
   "source": [
    "# Analysis of typing speed "
   ]
  },
  {
   "cell_type": "markdown",
   "metadata": {},
   "source": [
    "### OLS regression"
   ]
  },
  {
   "cell_type": "code",
   "execution_count": 3,
   "metadata": {},
   "outputs": [
    {
     "data": {
      "text/html": [
       "<table class=\"simpletable\">\n",
       "<caption>OLS Regression Results</caption>\n",
       "<tr>\n",
       "  <th>Dep. Variable:</th>      <td>typing_speed</td>   <th>  R-squared:         </th> <td>   0.731</td>\n",
       "</tr>\n",
       "<tr>\n",
       "  <th>Model:</th>                   <td>OLS</td>       <th>  Adj. R-squared:    </th> <td>   0.700</td>\n",
       "</tr>\n",
       "<tr>\n",
       "  <th>Method:</th>             <td>Least Squares</td>  <th>  F-statistic:       </th> <td>   23.60</td>\n",
       "</tr>\n",
       "<tr>\n",
       "  <th>Date:</th>             <td>Fri, 27 Jul 2018</td> <th>  Prob (F-statistic):</th> <td>1.37e-07</td>\n",
       "</tr>\n",
       "<tr>\n",
       "  <th>Time:</th>                 <td>10:51:14</td>     <th>  Log-Likelihood:    </th> <td> -76.312</td>\n",
       "</tr>\n",
       "<tr>\n",
       "  <th>No. Observations:</th>      <td>    29</td>      <th>  AIC:               </th> <td>   158.6</td>\n",
       "</tr>\n",
       "<tr>\n",
       "  <th>Df Residuals:</th>          <td>    26</td>      <th>  BIC:               </th> <td>   162.7</td>\n",
       "</tr>\n",
       "<tr>\n",
       "  <th>Df Model:</th>              <td>     3</td>      <th>                     </th>     <td> </td>   \n",
       "</tr>\n",
       "<tr>\n",
       "  <th>Covariance Type:</th>      <td>nonrobust</td>    <th>                     </th>     <td> </td>   \n",
       "</tr>\n",
       "</table>\n",
       "<table class=\"simpletable\">\n",
       "<tr>\n",
       "          <td></td>            <th>coef</th>     <th>std err</th>      <th>t</th>      <th>P>|t|</th>  <th>[0.025</th>    <th>0.975]</th>  \n",
       "</tr>\n",
       "<tr>\n",
       "  <th>age_bins</th>         <td>    0.5286</td> <td>    1.227</td> <td>    0.431</td> <td> 0.670</td> <td>   -1.994</td> <td>    3.051</td>\n",
       "</tr>\n",
       "<tr>\n",
       "  <th>typing_mechanism</th> <td>    6.2813</td> <td>    1.064</td> <td>    5.903</td> <td> 0.000</td> <td>    4.094</td> <td>    8.468</td>\n",
       "</tr>\n",
       "<tr>\n",
       "  <th>gender</th>           <td>    2.7654</td> <td>    1.239</td> <td>    2.232</td> <td> 0.034</td> <td>    0.219</td> <td>    5.312</td>\n",
       "</tr>\n",
       "</table>\n",
       "<table class=\"simpletable\">\n",
       "<tr>\n",
       "  <th>Omnibus:</th>       <td> 0.106</td> <th>  Durbin-Watson:     </th> <td>   2.013</td>\n",
       "</tr>\n",
       "<tr>\n",
       "  <th>Prob(Omnibus):</th> <td> 0.948</td> <th>  Jarque-Bera (JB):  </th> <td>   0.036</td>\n",
       "</tr>\n",
       "<tr>\n",
       "  <th>Skew:</th>          <td> 0.042</td> <th>  Prob(JB):          </th> <td>   0.982</td>\n",
       "</tr>\n",
       "<tr>\n",
       "  <th>Kurtosis:</th>      <td> 2.849</td> <th>  Cond. No.          </th> <td>    2.20</td>\n",
       "</tr>\n",
       "</table>"
      ],
      "text/plain": [
       "<class 'statsmodels.iolib.summary.Summary'>\n",
       "\"\"\"\n",
       "                            OLS Regression Results                            \n",
       "==============================================================================\n",
       "Dep. Variable:           typing_speed   R-squared:                       0.731\n",
       "Model:                            OLS   Adj. R-squared:                  0.700\n",
       "Method:                 Least Squares   F-statistic:                     23.60\n",
       "Date:                Fri, 27 Jul 2018   Prob (F-statistic):           1.37e-07\n",
       "Time:                        10:51:14   Log-Likelihood:                -76.312\n",
       "No. Observations:                  29   AIC:                             158.6\n",
       "Df Residuals:                      26   BIC:                             162.7\n",
       "Df Model:                           3                                         \n",
       "Covariance Type:            nonrobust                                         \n",
       "====================================================================================\n",
       "                       coef    std err          t      P>|t|      [0.025      0.975]\n",
       "------------------------------------------------------------------------------------\n",
       "age_bins             0.5286      1.227      0.431      0.670      -1.994       3.051\n",
       "typing_mechanism     6.2813      1.064      5.903      0.000       4.094       8.468\n",
       "gender               2.7654      1.239      2.232      0.034       0.219       5.312\n",
       "==============================================================================\n",
       "Omnibus:                        0.106   Durbin-Watson:                   2.013\n",
       "Prob(Omnibus):                  0.948   Jarque-Bera (JB):                0.036\n",
       "Skew:                           0.042   Prob(JB):                        0.982\n",
       "Kurtosis:                       2.849   Cond. No.                         2.20\n",
       "==============================================================================\n",
       "\n",
       "Warnings:\n",
       "[1] Standard Errors assume that the covariance matrix of the errors is correctly specified.\n",
       "\"\"\""
      ]
     },
     "execution_count": 3,
     "metadata": {},
     "output_type": "execute_result"
    }
   ],
   "source": [
    "# OLS regression to check residuals of data for anova testing \n",
    "X = df_ToAnalyze[['age_bins', 'typing_mechanism', 'gender']] # independent variable\n",
    "y_typingSpeed = df_ToAnalyze.typing_speed # dependent variable\n",
    "\n",
    "model_typingSpeed = sm.OLS(y_typingSpeed, X)\n",
    "model_fit_typingSpeed = model_typingSpeed.fit()\n",
    "\n",
    "p_typingSpeed = model_fit_typingSpeed.params\n",
    "\n",
    "# Plot the residuals of each\n",
    "residuals_typingSpeed = model_fit_typingSpeed.resid # residuals\n",
    "fig = sm.qqplot(residuals_typingSpeed)\n",
    "plt.show()\n",
    "\n",
    "model_fit_typingSpeed.summary()"
   ]
  },
  {
   "cell_type": "markdown",
   "metadata": {},
   "source": [
    "Comments:\n",
    "Only 73.5% of variance is explained -- is high correlation value\n",
    "Prob(F-statistic) --> Null hypothesis is rejected, that the variability is random and alternate hypothesis that the variability\n",
    "can be explained is accepted\n",
    "\n",
    "From the graph, we see that the residuals are normally distributed"
   ]
  },
  {
   "cell_type": "markdown",
   "metadata": {},
   "source": [
    "### ANOVA "
   ]
  },
  {
   "cell_type": "code",
   "execution_count": 4,
   "metadata": {},
   "outputs": [
    {
     "name": "stdout",
     "output_type": "stream",
     "text": [
      "                                                       sum_sq    df  \\\n",
      "df_ToAnalyze.age_bins                               28.096317   1.0   \n",
      "df_ToAnalyze.gender                                  0.038918   1.0   \n",
      "df_ToAnalyze.typing_mechanism                       48.519850   1.0   \n",
      "df_ToAnalyze.age_bins:df_ToAnalyze.gender            8.279473   1.0   \n",
      "df_ToAnalyze.age_bins:df_ToAnalyze.typing_mecha...   0.089929   1.0   \n",
      "df_ToAnalyze.gender:df_ToAnalyze.typing_mechanism    3.831038   1.0   \n",
      "Residual                                            71.913248  22.0   \n",
      "\n",
      "                                                            F    PR(>F)  \n",
      "df_ToAnalyze.age_bins                                8.595342  0.007720  \n",
      "df_ToAnalyze.gender                                  0.011906  0.914101  \n",
      "df_ToAnalyze.typing_mechanism                       14.843394  0.000863  \n",
      "df_ToAnalyze.age_bins:df_ToAnalyze.gender            2.532891  0.125764  \n",
      "df_ToAnalyze.age_bins:df_ToAnalyze.typing_mecha...   0.027511  0.869778  \n",
      "df_ToAnalyze.gender:df_ToAnalyze.typing_mechanism    1.172007  0.290713  \n",
      "Residual                                                  NaN       NaN  \n"
     ]
    }
   ],
   "source": [
    "formula_typingSpeed = 'df_ToAnalyze.typing_speed ~ df_ToAnalyze.age_bins + df_ToAnalyze.gender + df_ToAnalyze.typing_mechanism + df_ToAnalyze.age_bins:df_ToAnalyze.gender + df_ToAnalyze.age_bins:df_ToAnalyze.typing_mechanism + df_ToAnalyze.gender:df_ToAnalyze.typing_mechanism'\n",
    "model_typingSpeed = ols(formula_typingSpeed, df_ToAnalyze).fit()\n",
    "aov_table_typingSpeed = statsmodels.stats.anova.anova_lm(model_typingSpeed, typ=2)\n",
    "print(aov_table_typingSpeed)"
   ]
  },
  {
   "cell_type": "markdown",
   "metadata": {},
   "source": [
    "### Plots of typing speed wrt independent variables"
   ]
  },
  {
   "cell_type": "code",
   "execution_count": 37,
   "metadata": {},
   "outputs": [
    {
     "name": "stdout",
     "output_type": "stream",
     "text": [
      "Average speed and standard deviation for dwell time selection are: 4.6125712236 2.123543537879204\n",
      "Average speed and standard deviation for multi-key selection are: 7.495420426000001 1.9917046006795018\n"
     ]
    },
    {
     "name": "stderr",
     "output_type": "stream",
     "text": [
      "C:\\ProgramData\\Anaconda3\\lib\\site-packages\\matplotlib\\cbook\\deprecation.py:106: MatplotlibDeprecationWarning: Adding an axes using the same arguments as a previous axes currently reuses the earlier instance.  In a future version, a new instance will always be created and returned.  Meanwhile, this warning can be suppressed, and the future behavior ensured, by passing a unique label to each axes instance.\n",
      "  warnings.warn(message, mplDeprecation, stacklevel=1)\n"
     ]
    },
    {
     "data": {
      "text/plain": [
       "<matplotlib.legend.Legend at 0x20d68b8e518>"
      ]
     },
     "execution_count": 37,
     "metadata": {},
     "output_type": "execute_result"
    }
   ],
   "source": [
    "# Box Plots\n",
    "\n",
    "figBoxPlot = plt.figure()\n",
    "\n",
    "# Age\n",
    "ax = figBoxPlot.add_subplot(131)\n",
    "df_ToAnalyze.boxplot( column = 'typing_speed', by='age_bins', ax = ax, grid = False)\n",
    "plt.xticks([1, 2], ['Less than 30', 'Greater than 30'])\n",
    "plt.yticks(np.arange(0, float(df.typing_speed.max())+2, step = 2))\n",
    "plt.ylabel('Typing speed [in wpm]')\n",
    "\n",
    "# Gender\n",
    "ax = figBoxPlot.add_subplot(132)\n",
    "df_ToAnalyze.boxplot(column = 'typing_speed', by='gender', ax = ax, grid = False)\n",
    "plt.xticks([1, 2], ['Male', 'Female'])\n",
    "plt.yticks(np.arange(0, float(df.typing_speed.max())+2, step = 2))\n",
    "plt.ylabel('Typing speed [in wpm]')\n",
    "\n",
    "# Typing mechanism\n",
    "ax = figBoxPlot.add_subplot(133)\n",
    "df_ToAnalyze.boxplot(column = 'typing_speed', by='typing_mechanism', ax = ax, grid = False)\n",
    "plt.xticks([1, 2], ['Dwell time', 'MultiKey selection'])\n",
    "plt.yticks(np.arange(0, float(df.typing_speed.max())+2, step = 2))\n",
    "plt.ylabel('Typing speed [in wpm]')\n",
    "\n",
    "print('Average speed and standard deviation for dwell time selection are:', df_ToAnalyze.typing_speed[df_ToAnalyze['typing_mechanism']==0].mean(), df_ToAnalyze.typing_speed[df_ToAnalyze['typing_mechanism']==0].std())\n",
    "print('Average speed and standard deviation for multi-key selection are:', df_ToAnalyze.typing_speed[df_ToAnalyze['typing_mechanism']==1].mean(), df_ToAnalyze.typing_speed[df_ToAnalyze['typing_mechanism']==1].std())\n"
   ]
  },
  {
   "cell_type": "code",
   "execution_count": 40,
   "metadata": {},
   "outputs": [
    {
     "name": "stderr",
     "output_type": "stream",
     "text": [
      "C:\\ProgramData\\Anaconda3\\lib\\site-packages\\matplotlib\\cbook\\deprecation.py:106: MatplotlibDeprecationWarning: Adding an axes using the same arguments as a previous axes currently reuses the earlier instance.  In a future version, a new instance will always be created and returned.  Meanwhile, this warning can be suppressed, and the future behavior ensured, by passing a unique label to each axes instance.\n",
      "  warnings.warn(message, mplDeprecation, stacklevel=1)\n"
     ]
    },
    {
     "data": {
      "text/plain": [
       "<matplotlib.legend.Legend at 0x20d68ae5c88>"
      ]
     },
     "execution_count": 40,
     "metadata": {},
     "output_type": "execute_result"
    }
   ],
   "source": [
    "# Histograms\n",
    "figHist = plt.figure()\n",
    "bins = np.arange(0, float(df_ToAnalyze.typing_speed.max()+2), step = 2)\n",
    "\n",
    "# Age\n",
    "ax = figHist.add_subplot(141)\n",
    "df_ToAnalyze.hist( column = 'typing_speed', ax = ax, grid = False)\n",
    "plt.xticks(bins)\n",
    "plt.xlabel('Typing speed [in wpm]')\n",
    "plt.yticks(np.arange(0, 11, step = 2))\n",
    "plt.ylabel('Frequency')\n",
    "\n",
    "ax = figHist.add_subplot(142)\n",
    "df_ToAnalyze.typing_speed[df_ToAnalyze['age_bins'] == 0].hist(ax = ax, alpha=0.5, grid = False, label = 'Below 30 years')\n",
    "#df_ToAnalyze.hist(df_ToAnalyze.typing_speed[df_ToAnalyze['age_bins'] == 0], bins, ax = ax, grid = False)\n",
    "plt.xticks(bins)\n",
    "plt.xlabel('Typing speed [in wpm]')\n",
    "plt.ylabel('Frequency')\n",
    "\n",
    "ax = figHist.add_subplot(142)\n",
    "df_ToAnalyze.typing_speed[df_ToAnalyze['age_bins'] == 1].hist(ax = ax, alpha=0.5, grid = False, label = 'Above 30 years')\n",
    "plt.xticks(bins)\n",
    "plt.xlabel('Typing speed [in wpm]')\n",
    "plt.ylabel('Frequency')\n",
    "plt.title('Typing speed and Age')\n",
    "plt.legend()\n",
    "\n",
    "# Gender\n",
    "\n",
    "ax = figHist.add_subplot(143)\n",
    "df_ToAnalyze.typing_speed[df_ToAnalyze['gender'] == 0].hist(ax = ax, alpha=0.5, grid = False, label = 'Male')\n",
    "#df_ToAnalyze.hist(df_ToAnalyze.typing_speed[df_ToAnalyze['age_bins'] == 0], bins, ax = ax, grid = False)\n",
    "plt.xticks(bins)\n",
    "plt.xlabel('Typing speed [in wpm]')\n",
    "plt.ylabel('Frequency')\n",
    "\n",
    "ax = figHist.add_subplot(143)\n",
    "df_ToAnalyze.typing_speed[df_ToAnalyze['gender'] == 1].hist(ax = ax, alpha=0.5, grid = False, label = 'Female')\n",
    "plt.xticks(bins)\n",
    "plt.xlabel('Typing speed [in wpm]')\n",
    "plt.ylabel('Frequency')\n",
    "plt.title('Typing speed and Gender')\n",
    "plt.legend()\n",
    "\n",
    "# Typing Mechanism\n",
    "\n",
    "ax = figHist.add_subplot(144)\n",
    "df_ToAnalyze.typing_speed[df_ToAnalyze['typing_mechanism'] == 0].hist(ax = ax, alpha=0.5, grid = False, label = 'Dwell time')\n",
    "#df_ToAnalyze.hist(df_ToAnalyze.typing_speed[df_ToAnalyze['age_bins'] == 0], bins, ax = ax, grid = False)\n",
    "plt.xticks(bins)\n",
    "plt.xlabel('Typing speed [in wpm]')\n",
    "plt.ylabel('Frequency')\n",
    "\n",
    "ax = figHist.add_subplot(144)\n",
    "df_ToAnalyze.typing_speed[df_ToAnalyze['typing_mechanism'] == 1].hist(ax = ax, alpha=0.5, grid = False, label = 'Multi-key selection')\n",
    "plt.xticks(bins)\n",
    "plt.xlabel('Typing speed [in wpm]')\n",
    "plt.ylabel('Frequency')\n",
    "plt.title('Typing speed and Typing Mechanism')\n",
    "plt.legend()"
   ]
  },
  {
   "cell_type": "markdown",
   "metadata": {},
   "source": [
    "With the new calculations of typing speed, the histograms for typing speed are normal when distributed as per age and gender, \n",
    "but not using typing mechanism. Therefore, mann whitney test will be performed for typing mechanism (their variances are still\n",
    "more or less equal) and t-test for the others."
   ]
  },
  {
   "cell_type": "markdown",
   "metadata": {},
   "source": [
    "### Typing speed statistical analysis"
   ]
  },
  {
   "cell_type": "code",
   "execution_count": 55,
   "metadata": {},
   "outputs": [
    {
     "name": "stdout",
     "output_type": "stream",
     "text": [
      "reject Ho\n",
      "31.0 0.0006687654485574123\n"
     ]
    }
   ],
   "source": [
    "# Age\n",
    "\n",
    "\n",
    "# Gender\n",
    "\n",
    "\n",
    "# Typing mechanism\n",
    "# the mann whitney test in scipy.stats clearly says that it is reliable only for sample size of 20 in each. Since we do not have\n",
    "# that, this test will be performed manually, based on - http://psych.unl.edu/psycrs/handcomp/hcmann.PDF\n",
    "n_DT = df_ToAnalyze.typing_mechanism[df_ToAnalyze['typing_mechanism'] == 0].count()\n",
    "n_MS = df_ToAnalyze.typing_mechanism[df_ToAnalyze['typing_mechanism'] == 1].count()\n",
    "\n",
    "# Rank the data and add up\n",
    "RankedSumDT = sum(df_ToAnalyze.typing_speed[df_ToAnalyze['typing_mechanism'] == 0].rank(axis=0, method='average'))\n",
    "\n",
    "U_DT = n_DT*n_MS + n_DT*(n_DT + 1)/2 - RankedSumDT\n",
    "U_MS = n_DT*n_MS - U_DT\n",
    "U_select = min(U_MS, U_DT)\n",
    "U_critical = 59\n",
    "if U_select < U_critical:\n",
    "    print('reject Ho')\n",
    "\n",
    "# using the function\n",
    "U_stat, p_val = scipy.stats.mannwhitneyu(df_ToAnalyze.typing_speed[df_ToAnalyze['typing_mechanism'] == 0], df_ToAnalyze.typing_speed[df_ToAnalyze['typing_mechanism'] == 1])\n",
    "print(U_stat, p_val)"
   ]
  },
  {
   "cell_type": "code",
   "execution_count": 56,
   "metadata": {},
   "outputs": [
    {
     "name": "stdout",
     "output_type": "stream",
     "text": [
      "15 14\n"
     ]
    }
   ],
   "source": [
    "print(n_DT, n_MS)"
   ]
  },
  {
   "cell_type": "code",
   "execution_count": null,
   "metadata": {},
   "outputs": [],
   "source": []
  },
  {
   "cell_type": "code",
   "execution_count": null,
   "metadata": {},
   "outputs": [],
   "source": [
    "# Age\n",
    "a = df_ToAnalyze.typing_speed[df_ToAnalyze['age_bins']==0]\n",
    "b = df_ToAnalyze.typing_speed[df_ToAnalyze['age_bins']==1]\n",
    "(h, p) = scipy.stats.kruskal(a.values, b.values)\n",
    "print('Kruskal result for age: H-statistic=', h, ', pvalue=', p)\n",
    "\n",
    "# Gender\n",
    "a = df_ToAnalyze.typing_speed[df_ToAnalyze['gender']==0]\n",
    "b = df_ToAnalyze.typing_speed[df_ToAnalyze['gender']==1]\n",
    "(h, p) = scipy.stats.kruskal(a.values, b.values)\n",
    "print('Kruskal result for gender: H-statistic=', h, ', pvalue=', p)\n",
    "\n",
    "# Typing mechanism\n",
    "a = df_ToAnalyze.typing_speed[df_ToAnalyze['typing_mechanism']==0]\n",
    "b = df_ToAnalyze.typing_speed[df_ToAnalyze['typing_mechanism']==1]\n",
    "(h, p) = scipy.stats.kruskal(a.values, b.values)\n",
    "print('Kruskal result for typing mechanism: H-statistic=', h, ', pvalue=', p)"
   ]
  },
  {
   "cell_type": "markdown",
   "metadata": {},
   "source": [
    "# Analysis of error rate"
   ]
  },
  {
   "cell_type": "markdown",
   "metadata": {},
   "source": [
    "### OLS regression"
   ]
  },
  {
   "cell_type": "code",
   "execution_count": null,
   "metadata": {},
   "outputs": [],
   "source": [
    "# OLS regression to check residuals of data for anova testing \n",
    "X = df_ToAnalyze[['age_bins', 'typing_mechanism', 'gender']] # independent variable\n",
    "y_errorRate = df_ToAnalyze.error_rate # dependent variable\n",
    "\n",
    "model_errorRate = sm.OLS(y_errorRate,X)\n",
    "model_fit_errorRate = model_errorRate.fit()\n",
    "\n",
    "p_errorRate = model_fit_errorRate.params\n",
    "\n",
    "# Plot the residuals of each\n",
    "residuals_errorRate = model_fit_errorRate.resid # residuals\n",
    "fig = sm.qqplot(residuals_errorRate)\n",
    "plt.show()\n",
    "\n",
    "model_fit_errorRate.summary()"
   ]
  },
  {
   "cell_type": "markdown",
   "metadata": {},
   "source": [
    "Comments: The residual plot is slightly skewed --> anova cannot be performed \n",
    "But Prob(F-statistic) is low enough to reject null hypothesis\n",
    "Still, anova is not performed due to the skewed residual plot"
   ]
  },
  {
   "cell_type": "code",
   "execution_count": null,
   "metadata": {},
   "outputs": [],
   "source": [
    "## TODO: Perform Shierer Ray Hare test \n",
    "\n",
    "# For now, it is performed in R"
   ]
  },
  {
   "cell_type": "markdown",
   "metadata": {},
   "source": [
    "## Equivalence testing of error rate for typing mechansims\n",
    "Here, the null hypothesis is that error rates for both is not equivalent\n",
    "For a practical equivalence value of 'del', Ho: |mu1 - mu2| > del and Ha: |mu1 - mu2| < del\n",
    "So, to reject the null hypothesis, both should be rejected:\n",
    "mu1 - mu2 > del and mu1 - mu2 < -del\n",
    "or in terms of two-one sided test :\n",
    "    ((y1m - y2m) + del)/sigma(1/n1 + 1/n2) > z(1-alpha) and ((y1m - y2m) - del)/sigma(1/n1 + 1/n2) < -z(1-alpha)"
   ]
  },
  {
   "cell_type": "code",
   "execution_count": null,
   "metadata": {},
   "outputs": [],
   "source": [
    "sd_errorRate_DT = df_ToAnalyze.error_rate[df_ToAnalyze['typing_mechanism']==0].std()\n",
    "sd_errorRate_MS = df_ToAnalyze.error_rate[df_ToAnalyze['typing_mechanism']==1].std()\n",
    "\n",
    "n_DT = df_ToAnalyze.typing_mechanism[df_ToAnalyze['typing_mechanism'] == 0].count()\n",
    "n_MS = df_ToAnalyze.typing_mechanism[df_ToAnalyze['typing_mechanism'] == 1].count()\n",
    "\n",
    "mean_errorRate_DT = df_ToAnalyze.error_rate[df_ToAnalyze['typing_mechanism']==0].mean()\n",
    "mean_errorRate_MS = df_ToAnalyze.error_rate[df_ToAnalyze['typing_mechanism']==1].mean()\n",
    "\n",
    "sd = math.sqrt(((n_DT - 1)*(sd_errorRate_DT)**2 + (n_MS - 1)*(sd_errorRate_MS)**2)/(n_DT + n_MS - 2))\n",
    "\n",
    "print(sd*0.3)"
   ]
  },
  {
   "cell_type": "code",
   "execution_count": null,
   "metadata": {},
   "outputs": [],
   "source": [
    "delError = 10 # As per Lakens 2017 Equivalence testing, del = d*sd, where d is Cohen's d = 0.3. For the given data, sd = ~36\n",
    "\n",
    "tL = (mean_errorRate_DT - mean_errorRate_MS - (-delError))/(math.sqrt(((sd_errorRate_DT**2)/n_DT) + (sd_errorRate_MS**2)/n_MS))\n",
    "tU = (mean_errorRate_DT - mean_errorRate_MS - (delError))/(math.sqrt(((sd_errorRate_DT**2)/n_DT) + (sd_errorRate_MS**2)/n_MS))\n",
    "\n",
    "#df = ((((sd_errorRate_DT**2)/(n_DT)) + ((sd_errorRate_MS**2)/(n_MS)))**2)/(((sd_errorRate_DT/n_DT)**2)/(n_DT-1) + ((sd_errorRate_MS/n_MS)**2)/(n_MS-1))\n",
    "\n",
    "df = (n_DT + n_MS - 1)\n",
    "\n",
    "print('tLower:', tL, ',tUpper:', tU,'with', df, ' degrees of freedom')"
   ]
  },
  {
   "cell_type": "markdown",
   "metadata": {},
   "source": [
    "#For t(28, 0.05) = 1.701\n",
    "To reject null hypothesis, both of the following should be followed - \n",
    "tU < -t(28, 0.05) AND tL > t(28, 0.05)\n",
    "As both are not, null hypothesis cannot be rejected \n",
    "Therefore, both cannot be equivalent"
   ]
  },
  {
   "cell_type": "code",
   "execution_count": null,
   "metadata": {},
   "outputs": [],
   "source": [
    "print('Average error rate and standard deviation for dwell time selection are:', df_ToAnalyze.error_rate[df_ToAnalyze['typing_mechanism']==0].mean(), df_ToAnalyze.error_rate[df_ToAnalyze['typing_mechanism']==0].std())\n",
    "print('Average error rate and standard deviation for multi-key selection are:', df_ToAnalyze.error_rate[df_ToAnalyze['typing_mechanism']==1].mean(), df_ToAnalyze.error_rate[df_ToAnalyze['typing_mechanism']==1].std())"
   ]
  },
  {
   "cell_type": "markdown",
   "metadata": {},
   "source": [
    "### Plots of error rate wrt independent variables"
   ]
  },
  {
   "cell_type": "code",
   "execution_count": null,
   "metadata": {},
   "outputs": [],
   "source": [
    "fig = plt.figure()\n",
    "\n",
    "# Age\n",
    "ax = fig.add_subplot(131)\n",
    "df_ToAnalyze.boxplot(column = 'error_rate', by='age_bins', ax = ax, grid = False)\n",
    "plt.xticks([1, 2], ['Less than 30', 'Greater than 30'])\n",
    "#plt.yticks(np.arange(0, float(df.typing_speed.max())+2, step = 2))\n",
    "plt.ylabel('Typing speed [in wpm]')\n",
    "\n",
    "# Gender\n",
    "ax = fig.add_subplot(132)\n",
    "df_ToAnalyze.boxplot(column = 'error_rate', by='gender', ax = ax, grid = False)\n",
    "plt.xticks([1, 2], ['Male', 'Female'])\n",
    "#plt.yticks(np.arange(0, float(df.typing_speed.max())+2, step = 2))\n",
    "plt.ylabel('Typing speed [in wpm]')\n",
    "\n",
    "# Typing mechanism\n",
    "ax = fig.add_subplot(133)\n",
    "df_ToAnalyze.boxplot(column = 'error_rate', by='typing_mechanism', ax = ax, grid = False)\n",
    "plt.xticks([1, 2], ['Dwell time', 'MultiKey selection'])\n",
    "#plt.yticks(np.arange(0, float(df.typing_speed.max())+2, step = 2))\n",
    "plt.ylabel('Typing speed [in wpm]')\n"
   ]
  },
  {
   "cell_type": "markdown",
   "metadata": {},
   "source": [
    "### Error rate statistical analysis"
   ]
  },
  {
   "cell_type": "code",
   "execution_count": null,
   "metadata": {},
   "outputs": [],
   "source": [
    "# Age\n",
    "a = df_ToAnalyze.error_rate[df_ToAnalyze['age_bins']==0]\n",
    "b = df_ToAnalyze.error_rate[df_ToAnalyze['age_bins']==1]\n",
    "(h, p) = scipy.stats.kruskal(a.values, b.values)\n",
    "print('Kruskal result for age: H-statistic=', h, ', pvalue=', p)\n",
    "\n",
    "# Typing mechanism\n",
    "a = df_ToAnalyze.error_rate[df_ToAnalyze['gender']==0]\n",
    "b = df_ToAnalyze.error_rate[df_ToAnalyze['gender']==1]\n",
    "(h, p) = scipy.stats.kruskal(a.values, b.values)\n",
    "print('Kruskal result for gender: H-statistic=', h, ', pvalue=', p)\n",
    "\n",
    "# Typing mechanism\n",
    "a = df_ToAnalyze.error_rate[df_ToAnalyze['typing_mechanism']==0]\n",
    "b = df_ToAnalyze.error_rate[df_ToAnalyze['typing_mechanism']==1]\n",
    "(h, p) = scipy.stats.kruskal(a.values, b.values)\n",
    "print('Kruskal result for typing mechanism: H-statistic=', h, ', pvalue=', p)"
   ]
  },
  {
   "cell_type": "code",
   "execution_count": null,
   "metadata": {},
   "outputs": [],
   "source": [
    "k = np.hstack(df_ToAnalyze.typing_speed)\n",
    "plt.hist(k)"
   ]
  },
  {
   "cell_type": "markdown",
   "metadata": {},
   "source": [
    "# Typing Mechanism and other Independent variables"
   ]
  },
  {
   "cell_type": "markdown",
   "metadata": {},
   "source": [
    "### Pie charts"
   ]
  },
  {
   "cell_type": "code",
   "execution_count": null,
   "metadata": {},
   "outputs": [],
   "source": [
    "fig = plt.figure()\n",
    "\n",
    "nSubj = len(df_ToAnalyze)\n",
    "\n",
    "# Overall\n",
    "# Gender\n",
    "ax = fig.add_subplot(131)\n",
    "df_ToAnalyze.gender.value_counts(sort = False).plot.pie(ax = ax, labels = ['Male', 'Female'], autopct='%1.1f%%')\n",
    "ax.set_title('Gender distribution \\n Total count = ' + str(nSubj))\n",
    "\n",
    "# Age\n",
    "ax = fig.add_subplot(132)\n",
    "df_ToAnalyze.age_bins.value_counts(sort = False).plot.pie(ax = ax, labels = ['Less than 30', 'Greater than 30'], autopct='%1.1f%%')\n",
    "ax.set_title('Age distribution \\n Total count = ' + str(nSubj))\n",
    "\n",
    "# Typing mechanism\n",
    "ax = fig.add_subplot(133)\n",
    "df_ToAnalyze.typing_mechanism.value_counts(sort = False).plot.pie(ax = ax, labels = ['Dwell time', 'MultiKey selection'], autopct='%1.1f%%')\n",
    "ax.set_title('Typing mechanism distribution \\n Total count = ' + str(nSubj))\n"
   ]
  },
  {
   "cell_type": "code",
   "execution_count": null,
   "metadata": {},
   "outputs": [],
   "source": [
    "fig = plt.figure()\n",
    "\n",
    "# DWELL TIME\n",
    "# Gender and Typing mechanism\n",
    "ax = fig.add_subplot(221)\n",
    "df_ToAnalyze.gender[df['typing_mechanism']==0].value_counts(sort = False).plot.pie(ax = ax, labels = ['Male', 'Female'], autopct='%1.1f%%')\n",
    "ax.set_title('Dwell time')\n",
    "\n",
    "# Age and Typing mechanism\n",
    "ax = fig.add_subplot(223)\n",
    "df_ToAnalyze.age_bins[df['typing_mechanism']==0].value_counts(sort = False).plot.pie(ax = ax, labels = ['Less than 30', 'Greater than 30'], autopct='%1.1f%%')\n",
    "\n",
    "# MULTIKEY SELECTION\n",
    "# Gender and Typing mechanism\n",
    "ax = fig.add_subplot(222)\n",
    "df_ToAnalyze.gender[df['typing_mechanism']==1].value_counts(sort = False).plot.pie(ax = ax, labels = ['Male', 'Female'], autopct='%1.1f%%')\n",
    "ax.set_title('MultiKey Selection')\n",
    "\n",
    "# Age and Typing mechanism\n",
    "ax = fig.add_subplot(224)\n",
    "df_ToAnalyze.age_bins[df['typing_mechanism']==1].value_counts(sort = False).plot.pie(ax = ax, labels = ['Less than 30', 'Greater than 30'], autopct='%1.1f%%')\n"
   ]
  },
  {
   "cell_type": "markdown",
   "metadata": {},
   "source": [
    "The minimum number in the pie charts is 5 (Female, MultiKey Selection). This is the number of subjects that will be choosen \n",
    "randomly from every category and the statistical tests will be performed again"
   ]
  },
  {
   "cell_type": "code",
   "execution_count": null,
   "metadata": {},
   "outputs": [],
   "source": []
  }
 ],
 "metadata": {
  "kernelspec": {
   "display_name": "Python 3",
   "language": "python",
   "name": "python3"
  },
  "language_info": {
   "codemirror_mode": {
    "name": "ipython",
    "version": 3
   },
   "file_extension": ".py",
   "mimetype": "text/x-python",
   "name": "python",
   "nbconvert_exporter": "python",
   "pygments_lexer": "ipython3",
   "version": "3.6.4"
  }
 },
 "nbformat": 4,
 "nbformat_minor": 2
}
