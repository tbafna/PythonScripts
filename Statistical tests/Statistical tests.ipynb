{
 "cells": [
  {
   "cell_type": "code",
   "execution_count": 1,
   "metadata": {},
   "outputs": [
    {
     "name": "stdout",
     "output_type": "stream",
     "text": [
      "Using matplotlib backend: Qt5Agg\n"
     ]
    },
    {
     "name": "stderr",
     "output_type": "stream",
     "text": [
      "C:\\ProgramData\\Anaconda3\\lib\\site-packages\\statsmodels\\compat\\pandas.py:56: FutureWarning: The pandas.core.datetools module is deprecated and will be removed in a future version. Please use the pandas.tseries module instead.\n",
      "  from pandas.core import datetools\n"
     ]
    }
   ],
   "source": [
    "%matplotlib\n",
    "#%matplotlib inline\n",
    "import os\n",
    "import csv\n",
    "import fnmatch\n",
    "import numpy as np\n",
    "import datetime\n",
    "import re \n",
    "import pandas as pd\n",
    "import matplotlib.pyplot as plt\n",
    "import math\n",
    "import xlsxwriter\n",
    "import scipy.stats\n",
    "import statsmodels.api as sm\n",
    "from statsmodels.formula.api import ols\n",
    "import statsmodels\n",
    "from statsmodels.graphics.regressionplots import abline_plot\n",
    "from statsmodels.stats.api import anova_lm\n",
    "import seaborn as sns\n",
    "\n",
    "pd.options.mode.use_inf_as_na = True"
   ]
  },
  {
   "cell_type": "markdown",
   "metadata": {},
   "source": [
    "Obtain data in form of pandas dataframe"
   ]
  },
  {
   "cell_type": "code",
   "execution_count": 8,
   "metadata": {
    "scrolled": false
   },
   "outputs": [],
   "source": [
    "# csv file with the saved data\n",
    "fileName = r\"C:\\DTU\\Data\\201805_HealthnRehab\\data_summary.csv\"\n",
    "\n",
    "df = pd.read_csv(fileName, delimiter=',')\n",
    "\n",
    "typingMechanismDictKeys = set(df['typing_mechanism'])\n",
    "\n",
    "# create reference data frame for age bins and gender (0:Less than 30/Male, 1:Greater than 30/Female)\n",
    "labels = ['age_bins', 'gender', 'typing_mechanism']\n",
    "dataReference = [['Less than 30', 'Male', 'Dwell-Time'], ['Greater than 30', 'Female', 'Multi-Key Selection']]\n",
    "df_refAgeGender = pd.DataFrame.from_records(dataReference, columns=labels)\n",
    "\n",
    "# replace data in df in string or category\n",
    "df = df.replace({'Less than 30': 0, 'Greater than 30': 1, 'Male': 0, 'Female': 1, 'DT' : 0, 'MS' : 1})\n",
    "\n",
    "# Create dataframe without Nan values\n",
    "df_woNaGenderAgeExperience = df.dropna(subset=['gender','age_bins', 'gaze_interaction_experience'], how='any') \n",
    "\n",
    "# Create a copy of the dataframe to avoid loc errors.\n",
    "df_ToAnalyze = df_woNaGenderAgeExperience.copy()\n",
    "\n",
    "# Convert columns of age_bins, typing_mechanism, gender into categorical columns\n",
    "df_ToAnalyze['gender'] = pd.Categorical(df_woNaGenderAgeExperience.gender).codes\n",
    "df_ToAnalyze['typing_mechanism'] = pd.Categorical(df_woNaGenderAgeExperience.typing_mechanism).codes\n",
    "df_ToAnalyze['age_bins'] = pd.Categorical(df_woNaGenderAgeExperience.age_bins).codes\n",
    "df_ToAnalyze['gaze_interaction_experience'] = pd.Categorical(df_woNaGenderAgeExperience.gaze_interaction_experience).codes"
   ]
  },
  {
   "cell_type": "code",
   "execution_count": 9,
   "metadata": {
    "scrolled": false
   },
   "outputs": [
    {
     "data": {
      "text/plain": [
       "<bound method NDFrame.head of           timestamp subject_name  typing_mechanism    age  age_bins  gender  \\\n",
       "1   5/15/2018 14:56        be_DT                 0     40         1       1   \n",
       "3   5/15/2018 12:35       KEA_MS                 1  20-25         0       0   \n",
       "4   5/15/2018 11:11      lone_DT                 0  50-55         1       1   \n",
       "5   5/15/2018 12:12       mcc_MS                 1  20-25         0       0   \n",
       "6   5/15/2018 14:44        MK_DT                 0  45-50         1       1   \n",
       "7   5/15/2018 10:58        MT_MS                 1     25         0       0   \n",
       "8   5/15/2018 12:28        ok_MS                 1  20-25         0       0   \n",
       "9   5/15/2018 12:51        pt_DT                 0     27         0       0   \n",
       "11  5/15/2018 15:42        sh_MS                 1  20-25         0       1   \n",
       "12  5/15/2018 11:48       slh_DT                 0     10         0       1   \n",
       "13  5/16/2018 15:13        ae_DT                 0     68         1       0   \n",
       "14  5/16/2018 13:12        ep_DT                 0     23         0       0   \n",
       "15  5/16/2018 13:55        hc_MS                 1     43         1       1   \n",
       "16  5/16/2018 10:51        ib_MS                 1     59         1       0   \n",
       "17  5/16/2018 10:25        js_MS                 1  20-25         0       0   \n",
       "18  5/16/2018 14:13        km_DT                 0     33         1       0   \n",
       "19  5/16/2018 10:14        ma_DT                 0  25-30         0       1   \n",
       "20  5/16/2018 16:28        mw_MS                 1     41         1       0   \n",
       "21  5/16/2018 14:57      pgba_DT                 0     27         0       0   \n",
       "22  5/16/2018 16:01        pt_MS                 1     27         0       0   \n",
       "23  5/16/2018 12:06       smn_DT                 0     29         0       1   \n",
       "24  5/17/2018 11:57        eo_DT                 0     25         0       0   \n",
       "25  5/17/2018 13:54       jek_MS                 1     42         1       0   \n",
       "26  5/17/2018 12:40        jg_DT                 0     46         1       0   \n",
       "27  5/17/2018 10:48        lg_MS                 1     34         1       1   \n",
       "28  5/17/2018 10:22        lr_MS                 1     40         1       1   \n",
       "29  5/17/2018 16:11        mm_MS                 1     27         0       1   \n",
       "30  5/17/2018 16:08        mr_DT                 0     39         1       1   \n",
       "31  5/17/2018 10:36       snk_DT                 0     55         1       1   \n",
       "\n",
       "                           profession                          vision  \\\n",
       "1                            business                          Lenses   \n",
       "3                             Student                          Normal   \n",
       "4                               nurse                         Glasses   \n",
       "5                             student                          Normal   \n",
       "6                   Product Developer  Not wearing glasses during exp   \n",
       "7                          Programmer                          Normal   \n",
       "8                             student                          Normal   \n",
       "9      Student - Health informatic KU                          Lenses   \n",
       "11                            student                          Normal   \n",
       "12                                NaN                          Normal   \n",
       "13                        electronics                         Glasses   \n",
       "14                       Eye-tracking                          Normal   \n",
       "15              occopational terapist                         Glasses   \n",
       "16           IKT - Teknologikonsulent                          Normal   \n",
       "17                           medicine                          Normal   \n",
       "18                         psychology                          Lenses   \n",
       "19                            student                         Glasses   \n",
       "20  rehabilitation device distributor                         Glasses   \n",
       "21                            Student                          Normal   \n",
       "22     Student - Health informatic KU                          Lenses   \n",
       "23                     work with kids                          Normal   \n",
       "24                         consultant                         Glasses   \n",
       "25                           Engineer                          Lenses   \n",
       "26                            Mobile                          Glasses   \n",
       "27             occupational therapist                          Lenses   \n",
       "28                   software testing                         Glasses   \n",
       "29                 eye tracking sales                          Normal   \n",
       "30                       Ergoterapeut                          Normal   \n",
       "31        administrativ sagsbehandler                          Normal   \n",
       "\n",
       "    gaze_interaction_experience  \\\n",
       "1                             1   \n",
       "3                             1   \n",
       "4                             1   \n",
       "5                             1   \n",
       "6                             1   \n",
       "7                             0   \n",
       "8                             1   \n",
       "9                             1   \n",
       "11                            0   \n",
       "12                            1   \n",
       "13                            1   \n",
       "14                            0   \n",
       "15                            0   \n",
       "16                            0   \n",
       "17                            1   \n",
       "18                            0   \n",
       "19                            1   \n",
       "20                            1   \n",
       "21                            1   \n",
       "22                            1   \n",
       "23                            1   \n",
       "24                            0   \n",
       "25                            2   \n",
       "26                            1   \n",
       "27                            0   \n",
       "28                            0   \n",
       "29                            0   \n",
       "30                            1   \n",
       "31                            1   \n",
       "\n",
       "         application_of_gaze_interaction_used_before  \\\n",
       "1                                                NaN   \n",
       "3                                                NaN   \n",
       "4                                                NaN   \n",
       "5                                                NaN   \n",
       "6                                                NaN   \n",
       "7   Virtual reality with eye tracking, Eye tracking    \n",
       "8                                                NaN   \n",
       "9                                                NaN   \n",
       "11                                Gaming, hmd typing   \n",
       "12                                               NaN   \n",
       "13                                               NaN   \n",
       "14                                        Everything   \n",
       "15                                            typing   \n",
       "16                                       gaze typing   \n",
       "17                                               NaN   \n",
       "18                               control of fixation   \n",
       "19                                               NaN   \n",
       "20                                               NaN   \n",
       "21                                               NaN   \n",
       "22                                               NaN   \n",
       "23                                               NaN   \n",
       "24                                        eye typing   \n",
       "25                                   gesture control   \n",
       "26                                               NaN   \n",
       "27                               communication (aac)   \n",
       "28                                learning and games   \n",
       "29                                        everything   \n",
       "30                                               NaN   \n",
       "31                                               NaN   \n",
       "\n",
       "                   ...                   \\\n",
       "1                  ...                    \n",
       "3                  ...                    \n",
       "4                  ...                    \n",
       "5                  ...                    \n",
       "6                  ...                    \n",
       "7                  ...                    \n",
       "8                  ...                    \n",
       "9                  ...                    \n",
       "11                 ...                    \n",
       "12                 ...                    \n",
       "13                 ...                    \n",
       "14                 ...                    \n",
       "15                 ...                    \n",
       "16                 ...                    \n",
       "17                 ...                    \n",
       "18                 ...                    \n",
       "19                 ...                    \n",
       "20                 ...                    \n",
       "21                 ...                    \n",
       "22                 ...                    \n",
       "23                 ...                    \n",
       "24                 ...                    \n",
       "25                 ...                    \n",
       "26                 ...                    \n",
       "27                 ...                    \n",
       "28                 ...                    \n",
       "29                 ...                    \n",
       "30                 ...                    \n",
       "31                 ...                    \n",
       "\n",
       "    would_you_use_Optikey_or_recommend_it?  \\\n",
       "1                                    Maybe   \n",
       "3                                      Yes   \n",
       "4                                      Yes   \n",
       "5                                      Yes   \n",
       "6                                      Yes   \n",
       "7                                      Yes   \n",
       "8                                    Maybe   \n",
       "9                                      NaN   \n",
       "11                                     Yes   \n",
       "12                                     NaN   \n",
       "13                                     NaN   \n",
       "14                                     Yes   \n",
       "15                                   Maybe   \n",
       "16                                     Yes   \n",
       "17                                     Yes   \n",
       "18                                     Yes   \n",
       "19                                     Yes   \n",
       "20                                   Maybe   \n",
       "21                                     Yes   \n",
       "22                                     NaN   \n",
       "23                                     Yes   \n",
       "24                                     NaN   \n",
       "25                                   Maybe   \n",
       "26                                   Maybe   \n",
       "27                                   Maybe   \n",
       "28                                     Yes   \n",
       "29                                     Yes   \n",
       "30                                     Yes   \n",
       "31                                     Yes   \n",
       "\n",
       "                            any_suggestions/comments?  dataLog_saved?  \\\n",
       "1                                                 NaN             Yes   \n",
       "3                                                 NaN             Yes   \n",
       "4                          kom hurtigst mulig igang\\n             Yes   \n",
       "5                                                 NaN             Yes   \n",
       "6          A brilliant tool for thouse that need it.              Yes   \n",
       "7                                           Backspace              No   \n",
       "8                                                 NaN             Yes   \n",
       "9                                                 NaN             Yes   \n",
       "11                                                NaN             Yes   \n",
       "12                                                NaN              No   \n",
       "13  The feedback about the keyboard was not filled...             Yes   \n",
       "14                                                NaN              No   \n",
       "15                                                NaN             Yes   \n",
       "16               prediction for multi-swipe function              Yes   \n",
       "17                                                NaN             Yes   \n",
       "18  autocomplete suggestions were difficult to see...             Yes   \n",
       "19                                                NaN             Yes   \n",
       "20                                                NaN             Yes   \n",
       "21                                                NaN             Yes   \n",
       "22                                                NaN              No   \n",
       "23                                                NaN             Yes   \n",
       "24  The user got stressed while typing and stopped...             Yes   \n",
       "25  no feedback for when a word is started, or wha...             Yes   \n",
       "26                                                NaN             Yes   \n",
       "27                                                NaN             Yes   \n",
       "28                                                NaN             Yes   \n",
       "29  divide into training and testing clearly, take...             Yes   \n",
       "30                                                NaN              No   \n",
       "31                                                NaN             Yes   \n",
       "\n",
       "                     comments typing_speed ms_per_char  error_rate  \\\n",
       "1             English speaker     1.878433    6.388303   66.275660   \n",
       "3                         NaN    10.785736    1.112581   13.147724   \n",
       "4                         NaN     4.103884    2.924059   53.722222   \n",
       "5                         NaN     8.778835    1.366924   40.370370   \n",
       "6                         NaN     4.625490    2.594320   18.445341   \n",
       "7                         NaN     7.144239    1.679675    8.816964   \n",
       "8                         NaN    11.135985    1.077588    8.210327   \n",
       "9                         NaN     6.230274    1.926079    9.676650   \n",
       "11                        NaN     5.309663    2.260031   25.246753   \n",
       "12                        NaN     5.241627    2.289366    7.530067   \n",
       "13      Not enough valid date     0.522646   22.960094   90.322581   \n",
       "14                        NaN     8.320822    1.442165    2.988615   \n",
       "15                        NaN     4.895676    2.451143   39.285263   \n",
       "16                        NaN     6.768202    1.772997   49.392157   \n",
       "17            English speaker     7.463367    1.607853   22.909549   \n",
       "18                        NaN     5.059759    2.371654   12.072047   \n",
       "19                        NaN     5.304923    2.262050   13.340810   \n",
       "20            English speaker     5.280016    2.272721   47.447272   \n",
       "21                        NaN     6.411380    1.871672    4.517041   \n",
       "22                        NaN     8.334700    1.439764   62.953189   \n",
       "23                        NaN     5.522410    2.172964    1.668409   \n",
       "24                        NaN     2.095240    5.727267   96.910755   \n",
       "25                        NaN     6.077941    1.974353   46.204124   \n",
       "26  MSD goes higher than 100%     2.130563    5.632315  117.179487   \n",
       "27                        NaN     5.673385    2.115139   63.779936   \n",
       "28                        NaN     8.453259    1.419571   21.588089   \n",
       "29            English speaker     8.834883    1.358252   12.188406   \n",
       "30                        NaN     6.736920    1.781229    5.549042   \n",
       "31                        NaN     5.004198    2.397987   18.259649   \n",
       "\n",
       "    read_text_events_frequency_ratio  read_text_events_time_ratio  \\\n",
       "1                           0.277778                     0.007300   \n",
       "3                           0.056000                     0.003742   \n",
       "4                           0.205128                     0.024690   \n",
       "5                           0.076087                     0.005991   \n",
       "6                           0.092593                     0.005869   \n",
       "7                           0.185185                     0.013547   \n",
       "8                           0.045161                     0.003269   \n",
       "9                           0.058442                     0.004910   \n",
       "11                          0.108696                     0.001796   \n",
       "12                          0.155556                     0.009696   \n",
       "13                          0.555556                     0.001660   \n",
       "14                          0.055215                     0.004696   \n",
       "15                          0.074257                     0.003238   \n",
       "16                          0.059211                     0.003422   \n",
       "17                          0.093750                     0.004519   \n",
       "18                          0.141243                     0.008967   \n",
       "19                          0.146552                     0.008179   \n",
       "20                          0.116667                     0.004081   \n",
       "21                          0.052980                     0.006890   \n",
       "22                          0.101266                     0.005530   \n",
       "23                          0.150327                     0.008241   \n",
       "24                          0.368421                     0.002043   \n",
       "25                          0.086207                     0.007967   \n",
       "26                          0.382353                     0.006836   \n",
       "27                          0.083333                     0.003936   \n",
       "28                          0.161074                     0.011078   \n",
       "29                          0.091346                     0.008003   \n",
       "30                          0.082278                     0.008291   \n",
       "31                          0.096552                     0.006794   \n",
       "\n",
       "    attended_but_not_selected_rate_time  \n",
       "1                              0.042949  \n",
       "3                              0.029752  \n",
       "4                              0.082312  \n",
       "5                              0.034549  \n",
       "6                              0.027000  \n",
       "7                              0.015569  \n",
       "8                              0.033078  \n",
       "9                              0.013036  \n",
       "11                             0.027771  \n",
       "12                             0.020300  \n",
       "13                             0.030164  \n",
       "14                             0.005931  \n",
       "15                             0.069406  \n",
       "16                             0.054967  \n",
       "17                             0.036798  \n",
       "18                             0.020826  \n",
       "19                             0.026139  \n",
       "20                             0.062806  \n",
       "21                             0.031186  \n",
       "22                             0.073314  \n",
       "23                             0.014623  \n",
       "24                             0.018605  \n",
       "25                             0.109562  \n",
       "26                             0.021263  \n",
       "27                             0.093907  \n",
       "28                             0.054378  \n",
       "29                             0.015625  \n",
       "30                             0.042316  \n",
       "31                             0.046196  \n",
       "\n",
       "[29 rows x 23 columns]>"
      ]
     },
     "execution_count": 9,
     "metadata": {},
     "output_type": "execute_result"
    }
   ],
   "source": [
    "df_ToAnalyze.head"
   ]
  },
  {
   "cell_type": "code",
   "execution_count": null,
   "metadata": {},
   "outputs": [],
   "source": [
    "n_Males = df_ToAnalyze.gender[df_ToAnalyze['gender'] == 0].count()\n",
    "n_Females = df_ToAnalyze.gender[df_ToAnalyze['gender'] == 1].count()\n",
    "\n",
    "n_Below30 = df_ToAnalyze.age_bins[df_ToAnalyze['age_bins'] == 0].count()\n",
    "n_Above30 = df_ToAnalyze.age_bins[df_ToAnalyze['age_bins'] == 1].count()\n",
    "\n",
    "n_DT = df_ToAnalyze.typing_mechanism[df_ToAnalyze['typing_mechanism'] == 0].count()\n",
    "n_MS = df_ToAnalyze.typing_mechanism[df_ToAnalyze['typing_mechanism'] == 1].count()\n",
    "\n",
    "n_ExperienceNever = df_ToAnalyze.gaze_interaction_experience[df_ToAnalyze['gaze_interaction_experience'] == 1].count()\n",
    "n_ExperienceMultiple = df_ToAnalyze.gaze_interaction_experience[df_ToAnalyze['gaze_interaction_experience'] == 0].count()\n",
    "n_ExperienceOnce = df_ToAnalyze.gaze_interaction_experience[df_ToAnalyze['gaze_interaction_experience'] == 2].count()\n",
    "\n",
    "\n",
    "print('Males:', n_Males, 'Females:', n_Females)\n",
    "print('Below 30:', n_Below30, 'Above 30', n_Above30)\n",
    "print('Dwell time', n_DT, 'Multi-key selection:', n_MS)\n",
    "print('No previous experience with gaze:', n_ExperienceNever, 'Tried once before:', n_ExperienceOnce, 'Multiple times', n_ExperienceMultiple)"
   ]
  },
  {
   "cell_type": "code",
   "execution_count": null,
   "metadata": {},
   "outputs": [],
   "source": [
    "n_DT_Below30 = df_ToAnalyze.typing_mechanism[(df_ToAnalyze['typing_mechanism'] == 0) & (df_ToAnalyze['age_bins'] == 0)].count()\n",
    "n_DT_Above30 = df_ToAnalyze.typing_mechanism[(df_ToAnalyze['typing_mechanism'] == 0) & (df_ToAnalyze['age_bins'] == 1)].count()\n",
    "\n",
    "n_MS_Below30 = df_ToAnalyze.typing_mechanism[(df_ToAnalyze['typing_mechanism'] == 1) & (df_ToAnalyze['age_bins'] == 0)].count()\n",
    "n_MS_Above30 = df_ToAnalyze.typing_mechanism[(df_ToAnalyze['typing_mechanism'] == 1) & (df_ToAnalyze['age_bins'] == 1)].count()\n",
    "\n",
    "\n",
    "n_DT_Males = df_ToAnalyze.typing_mechanism[(df_ToAnalyze['typing_mechanism'] == 0) & (df_ToAnalyze['gender'] == 0)].count()\n",
    "n_DT_Females = df_ToAnalyze.typing_mechanism[(df_ToAnalyze['typing_mechanism'] == 0) & (df_ToAnalyze['gender'] == 1)].count()\n",
    "\n",
    "n_MS_Males = df_ToAnalyze.typing_mechanism[(df_ToAnalyze['typing_mechanism'] == 1) & (df_ToAnalyze['gender'] == 0)].count()\n",
    "n_MS_Females = df_ToAnalyze.typing_mechanism[(df_ToAnalyze['typing_mechanism'] == 1) & (df_ToAnalyze['gender'] == 1)].count()\n",
    "\n",
    "\n",
    "print(n_DT_Below30, n_DT_Above30, n_MS_Below30, n_MS_Above30)\n",
    "print(n_DT_Males, n_DT_Females, n_MS_Males, n_MS_Females)"
   ]
  },
  {
   "cell_type": "code",
   "execution_count": null,
   "metadata": {},
   "outputs": [],
   "source": [
    "# Experience (comfort, challenge level, fun) - \n",
    "df_ToAnalyze.how_challenging_was_the_task"
   ]
  },
  {
   "cell_type": "markdown",
   "metadata": {},
   "source": [
    "# Analysis of typing speed "
   ]
  },
  {
   "cell_type": "markdown",
   "metadata": {},
   "source": [
    "### OLS regression"
   ]
  },
  {
   "cell_type": "code",
   "execution_count": null,
   "metadata": {},
   "outputs": [],
   "source": [
    "# OLS regression to check residuals of data for anova testing \n",
    "X = df_ToAnalyze[['age_bins', 'typing_mechanism', 'gender']] # independent variable\n",
    "y_typingSpeed = df_ToAnalyze.typing_speed # dependent variable\n",
    "\n",
    "model_typingSpeed = sm.OLS(y_typingSpeed, X)\n",
    "model_fit_typingSpeed = model_typingSpeed.fit()\n",
    "\n",
    "p_typingSpeed = model_fit_typingSpeed.params\n",
    "\n",
    "# Plot the residuals of each\n",
    "residuals_typingSpeed = model_fit_typingSpeed.resid # residuals\n",
    "fig = sm.qqplot(residuals_typingSpeed)\n",
    "plt.show()\n",
    "\n",
    "model_fit_typingSpeed.summary()"
   ]
  },
  {
   "cell_type": "markdown",
   "metadata": {},
   "source": [
    "Comments:\n",
    "Only 73.5% of variance is explained -- is high correlation value\n",
    "Prob(F-statistic) --> Null hypothesis is rejected, that the variability is random and alternate hypothesis that the variability\n",
    "can be explained is accepted\n",
    "\n",
    "From the graph, we see that the residuals are normally distributed"
   ]
  },
  {
   "cell_type": "markdown",
   "metadata": {},
   "source": [
    "### ANOVA "
   ]
  },
  {
   "cell_type": "code",
   "execution_count": null,
   "metadata": {},
   "outputs": [],
   "source": [
    "formula_typingSpeed = 'df_ToAnalyze.typing_speed ~ df_ToAnalyze.age_bins + df_ToAnalyze.gender + df_ToAnalyze.typing_mechanism + df_ToAnalyze.age_bins:df_ToAnalyze.gender + df_ToAnalyze.age_bins:df_ToAnalyze.typing_mechanism + df_ToAnalyze.gender:df_ToAnalyze.typing_mechanism'\n",
    "model_typingSpeed = ols(formula_typingSpeed, df_ToAnalyze).fit()\n",
    "aov_table_typingSpeed = statsmodels.stats.anova.anova_lm(model_typingSpeed, typ=2)\n",
    "print(aov_table_typingSpeed)"
   ]
  },
  {
   "cell_type": "markdown",
   "metadata": {},
   "source": [
    "### Plots of typing speed wrt independent variables"
   ]
  },
  {
   "cell_type": "code",
   "execution_count": null,
   "metadata": {},
   "outputs": [],
   "source": [
    "# Box Plots\n",
    "\n",
    "figBoxPlot = plt.figure()\n",
    "\n",
    "# Age\n",
    "ax = figBoxPlot.add_subplot(131)\n",
    "df_ToAnalyze.boxplot( column = 'typing_speed', by='age_bins', ax = ax, grid = False)\n",
    "plt.xticks([1, 2], ['Less than 30', 'Greater than 30'])\n",
    "plt.yticks(np.arange(0, float(df.typing_speed.max())+2, step = 2))\n",
    "plt.ylabel('Typing speed [in wpm]')\n",
    "\n",
    "# Gender\n",
    "ax = figBoxPlot.add_subplot(132)\n",
    "df_ToAnalyze.boxplot(column = 'typing_speed', by='gender', ax = ax, grid = False)\n",
    "plt.xticks([1, 2], ['Male', 'Female'])\n",
    "plt.yticks(np.arange(0, float(df.typing_speed.max())+2, step = 2))\n",
    "plt.ylabel('Typing speed [in wpm]')\n",
    "\n",
    "# Typing mechanism\n",
    "ax = figBoxPlot.add_subplot(133)\n",
    "df_ToAnalyze.boxplot(column = 'typing_speed', by='typing_mechanism', ax = ax, grid = False)\n",
    "plt.xticks([1, 2], ['Dwell time', 'MultiKey selection'])\n",
    "plt.yticks(np.arange(0, float(df.typing_speed.max())+2, step = 2))\n",
    "plt.ylabel('Typing speed [in wpm]')\n",
    "\n",
    "print('Average speed and standard deviation for dwell time selection are:', df_ToAnalyze.typing_speed[df_ToAnalyze['typing_mechanism']==0].mean(), df_ToAnalyze.typing_speed[df_ToAnalyze['typing_mechanism']==0].std())\n",
    "print('Average speed and standard deviation for multi-key selection are:', df_ToAnalyze.typing_speed[df_ToAnalyze['typing_mechanism']==1].mean(), df_ToAnalyze.typing_speed[df_ToAnalyze['typing_mechanism']==1].std())\n"
   ]
  },
  {
   "cell_type": "code",
   "execution_count": null,
   "metadata": {},
   "outputs": [],
   "source": [
    "# Histograms\n",
    "figHist = plt.figure()\n",
    "bins = np.arange(0, float(df_ToAnalyze.typing_speed.max()+2), step = 2)\n",
    "\n",
    "# Age\n",
    "ax = figHist.add_subplot(141)\n",
    "df_ToAnalyze.hist( column = 'typing_speed', ax = ax, grid = False)\n",
    "plt.xticks(bins)\n",
    "plt.xlabel('Typing speed [in wpm]')\n",
    "plt.yticks(np.arange(0, 11, step = 2))\n",
    "plt.ylabel('Frequency')\n",
    "\n",
    "ax = figHist.add_subplot(142)\n",
    "df_ToAnalyze.typing_speed[df_ToAnalyze['age_bins'] == 0].hist(ax = ax, alpha=0.5, grid = False, label = 'Below 30 years')\n",
    "#df_ToAnalyze.hist(df_ToAnalyze.typing_speed[df_ToAnalyze['age_bins'] == 0], bins, ax = ax, grid = False)\n",
    "plt.xticks(bins)\n",
    "plt.xlabel('Typing speed [in wpm]')\n",
    "plt.ylabel('Frequency')\n",
    "\n",
    "ax = figHist.add_subplot(142)\n",
    "df_ToAnalyze.typing_speed[df_ToAnalyze['age_bins'] == 1].hist(ax = ax, alpha=0.5, grid = False, label = 'Above 30 years')\n",
    "plt.xticks(bins)\n",
    "plt.xlabel('Typing speed [in wpm]')\n",
    "plt.ylabel('Frequency')\n",
    "plt.title('Typing speed and Age')\n",
    "plt.legend()\n",
    "\n",
    "# Gender\n",
    "\n",
    "ax = figHist.add_subplot(143)\n",
    "df_ToAnalyze.typing_speed[df_ToAnalyze['gender'] == 0].hist(ax = ax, alpha=0.5, grid = False, label = 'Male')\n",
    "#df_ToAnalyze.hist(df_ToAnalyze.typing_speed[df_ToAnalyze['age_bins'] == 0], bins, ax = ax, grid = False)\n",
    "plt.xticks(bins)\n",
    "plt.xlabel('Typing speed [in wpm]')\n",
    "plt.ylabel('Frequency')\n",
    "\n",
    "ax = figHist.add_subplot(143)\n",
    "df_ToAnalyze.typing_speed[df_ToAnalyze['gender'] == 1].hist(ax = ax, alpha=0.5, grid = False, label = 'Female')\n",
    "plt.xticks(bins)\n",
    "plt.xlabel('Typing speed [in wpm]')\n",
    "plt.ylabel('Frequency')\n",
    "plt.title('Typing speed and Gender')\n",
    "plt.legend()\n",
    "\n",
    "# Typing Mechanism\n",
    "\n",
    "ax = figHist.add_subplot(144)\n",
    "df_ToAnalyze.typing_speed[df_ToAnalyze['typing_mechanism'] == 0].hist(ax = ax, alpha=0.5, grid = False, label = 'Dwell time')\n",
    "#df_ToAnalyze.hist(df_ToAnalyze.typing_speed[df_ToAnalyze['age_bins'] == 0], bins, ax = ax, grid = False)\n",
    "plt.xticks(bins)\n",
    "plt.xlabel('Typing speed [in wpm]')\n",
    "plt.ylabel('Frequency')\n",
    "\n",
    "ax = figHist.add_subplot(144)\n",
    "df_ToAnalyze.typing_speed[df_ToAnalyze['typing_mechanism'] == 1].hist(ax = ax, alpha=0.5, grid = False, label = 'Multi-key selection')\n",
    "plt.xticks(bins)\n",
    "plt.xlabel('Typing speed [in wpm]')\n",
    "plt.ylabel('Frequency')\n",
    "plt.title('Typing speed and Typing Mechanism')\n",
    "plt.legend()"
   ]
  },
  {
   "cell_type": "markdown",
   "metadata": {},
   "source": [
    "With the new calculations of typing speed, the histograms for typing speed are normal when distributed as per age and gender, \n",
    "but not using typing mechanism. Therefore, mann whitney test will be performed for typing mechanism (their variances are still\n",
    "more or less equal) and t-test for the others."
   ]
  },
  {
   "cell_type": "markdown",
   "metadata": {},
   "source": [
    "### Typing speed statistical analysis"
   ]
  },
  {
   "cell_type": "code",
   "execution_count": null,
   "metadata": {},
   "outputs": [],
   "source": [
    "# Age\n",
    "\n",
    "\n",
    "# Gender\n",
    "\n",
    "\n",
    "# Typing mechanism\n",
    "# the mann whitney test in scipy.stats clearly says that it is reliable only for sample size of 20 in each. Since we do not have\n",
    "# that, this test will be performed manually, based on - http://psych.unl.edu/psycrs/handcomp/hcmann.PDF\n",
    "n_DT = df_ToAnalyze.typing_mechanism[df_ToAnalyze['typing_mechanism'] == 0].count()\n",
    "n_MS = df_ToAnalyze.typing_mechanism[df_ToAnalyze['typing_mechanism'] == 1].count()\n",
    "\n",
    "# Rank the data and add up\n",
    "RankedSumDT = sum(df_ToAnalyze.typing_speed[df_ToAnalyze['typing_mechanism'] == 0].rank(axis=0, method='average'))\n",
    "\n",
    "U_DT = n_DT*n_MS + n_DT*(n_DT + 1)/2 - RankedSumDT\n",
    "U_MS = n_DT*n_MS - U_DT\n",
    "U_select = min(U_MS, U_DT)\n",
    "U_critical = 59\n",
    "if U_select < U_critical:\n",
    "    print('reject Ho')\n",
    "\n",
    "# using the function\n",
    "U_stat, p_val = scipy.stats.mannwhitneyu(df_ToAnalyze.typing_speed[df_ToAnalyze['typing_mechanism'] == 0], df_ToAnalyze.typing_speed[df_ToAnalyze['typing_mechanism'] == 1])\n",
    "print(U_stat, p_val)"
   ]
  },
  {
   "cell_type": "code",
   "execution_count": null,
   "metadata": {},
   "outputs": [],
   "source": [
    "print(n_DT, n_MS)"
   ]
  },
  {
   "cell_type": "code",
   "execution_count": null,
   "metadata": {},
   "outputs": [],
   "source": []
  },
  {
   "cell_type": "code",
   "execution_count": null,
   "metadata": {},
   "outputs": [],
   "source": [
    "# Age\n",
    "a = df_ToAnalyze.typing_speed[df_ToAnalyze['age_bins']==0]\n",
    "b = df_ToAnalyze.typing_speed[df_ToAnalyze['age_bins']==1]\n",
    "(h, p) = scipy.stats.kruskal(a.values, b.values)\n",
    "print('Kruskal result for age: H-statistic=', h, ', pvalue=', p)\n",
    "\n",
    "# Gender\n",
    "a = df_ToAnalyze.typing_speed[df_ToAnalyze['gender']==0]\n",
    "b = df_ToAnalyze.typing_speed[df_ToAnalyze['gender']==1]\n",
    "(h, p) = scipy.stats.kruskal(a.values, b.values)\n",
    "print('Kruskal result for gender: H-statistic=', h, ', pvalue=', p)\n",
    "\n",
    "# Typing mechanism\n",
    "a = df_ToAnalyze.typing_speed[df_ToAnalyze['typing_mechanism']==0]\n",
    "b = df_ToAnalyze.typing_speed[df_ToAnalyze['typing_mechanism']==1]\n",
    "(h, p) = scipy.stats.kruskal(a.values, b.values)\n",
    "print('Kruskal result for typing mechanism: H-statistic=', h, ', pvalue=', p)"
   ]
  },
  {
   "cell_type": "markdown",
   "metadata": {},
   "source": [
    "# Analysis of error rate"
   ]
  },
  {
   "cell_type": "markdown",
   "metadata": {},
   "source": [
    "### OLS regression"
   ]
  },
  {
   "cell_type": "code",
   "execution_count": null,
   "metadata": {},
   "outputs": [],
   "source": [
    "# OLS regression to check residuals of data for anova testing \n",
    "X = df_ToAnalyze[['age_bins', 'typing_mechanism', 'gender']] # independent variable\n",
    "y_errorRate = df_ToAnalyze.error_rate # dependent variable\n",
    "\n",
    "model_errorRate = sm.OLS(y_errorRate,X)\n",
    "model_fit_errorRate = model_errorRate.fit()\n",
    "\n",
    "p_errorRate = model_fit_errorRate.params\n",
    "\n",
    "# Plot the residuals of each\n",
    "residuals_errorRate = model_fit_errorRate.resid # residuals\n",
    "fig = sm.qqplot(residuals_errorRate)\n",
    "plt.show()\n",
    "\n",
    "model_fit_errorRate.summary()"
   ]
  },
  {
   "cell_type": "markdown",
   "metadata": {},
   "source": [
    "Comments: The residual plot is slightly skewed --> anova cannot be performed \n",
    "But Prob(F-statistic) is low enough to reject null hypothesis\n",
    "Still, anova is not performed due to the skewed residual plot"
   ]
  },
  {
   "cell_type": "code",
   "execution_count": null,
   "metadata": {},
   "outputs": [],
   "source": [
    "## TODO: Perform Shierer Ray Hare test \n",
    "\n",
    "# For now, it is performed in R"
   ]
  },
  {
   "cell_type": "markdown",
   "metadata": {},
   "source": [
    "## Equivalence testing of error rate for typing mechansims\n",
    "Here, the null hypothesis is that error rates for both is not equivalent\n",
    "For a practical equivalence value of 'del', Ho: |mu1 - mu2| > del and Ha: |mu1 - mu2| < del\n",
    "So, to reject the null hypothesis, both should be rejected:\n",
    "mu1 - mu2 > del and mu1 - mu2 < -del\n",
    "or in terms of two-one sided test :\n",
    "    ((y1m - y2m) + del)/sigma(1/n1 + 1/n2) > z(1-alpha) and ((y1m - y2m) - del)/sigma(1/n1 + 1/n2) < -z(1-alpha)"
   ]
  },
  {
   "cell_type": "code",
   "execution_count": null,
   "metadata": {},
   "outputs": [],
   "source": [
    "sd_errorRate_DT = df_ToAnalyze.error_rate[df_ToAnalyze['typing_mechanism']==0].std()\n",
    "sd_errorRate_MS = df_ToAnalyze.error_rate[df_ToAnalyze['typing_mechanism']==1].std()\n",
    "\n",
    "n_DT = df_ToAnalyze.typing_mechanism[df_ToAnalyze['typing_mechanism'] == 0].count()\n",
    "n_MS = df_ToAnalyze.typing_mechanism[df_ToAnalyze['typing_mechanism'] == 1].count()\n",
    "\n",
    "mean_errorRate_DT = df_ToAnalyze.error_rate[df_ToAnalyze['typing_mechanism']==0].mean()\n",
    "mean_errorRate_MS = df_ToAnalyze.error_rate[df_ToAnalyze['typing_mechanism']==1].mean()\n",
    "\n",
    "sd = math.sqrt(((n_DT - 1)*(sd_errorRate_DT)**2 + (n_MS - 1)*(sd_errorRate_MS)**2)/(n_DT + n_MS - 2))\n",
    "\n",
    "print(sd*0.3)"
   ]
  },
  {
   "cell_type": "code",
   "execution_count": null,
   "metadata": {},
   "outputs": [],
   "source": [
    "delError = 10 # As per Lakens 2017 Equivalence testing, del = d*sd, where d is Cohen's d = 0.3. For the given data, sd = ~36\n",
    "\n",
    "tL = (mean_errorRate_DT - mean_errorRate_MS - (-delError))/(math.sqrt(((sd_errorRate_DT**2)/n_DT) + (sd_errorRate_MS**2)/n_MS))\n",
    "tU = (mean_errorRate_DT - mean_errorRate_MS - (delError))/(math.sqrt(((sd_errorRate_DT**2)/n_DT) + (sd_errorRate_MS**2)/n_MS))\n",
    "\n",
    "#df = ((((sd_errorRate_DT**2)/(n_DT)) + ((sd_errorRate_MS**2)/(n_MS)))**2)/(((sd_errorRate_DT/n_DT)**2)/(n_DT-1) + ((sd_errorRate_MS/n_MS)**2)/(n_MS-1))\n",
    "\n",
    "df = (n_DT + n_MS - 1)\n",
    "\n",
    "print('tLower:', tL, ',tUpper:', tU,'with', df, ' degrees of freedom')"
   ]
  },
  {
   "cell_type": "markdown",
   "metadata": {},
   "source": [
    "#For t(28, 0.05) = 1.701\n",
    "To reject null hypothesis, both of the following should be followed - \n",
    "tU < -t(28, 0.05) AND tL > t(28, 0.05)\n",
    "As both are not, null hypothesis cannot be rejected \n",
    "Therefore, both cannot be equivalent"
   ]
  },
  {
   "cell_type": "code",
   "execution_count": null,
   "metadata": {},
   "outputs": [],
   "source": [
    "print('Average error rate and standard deviation for dwell time selection are:', df_ToAnalyze.error_rate[df_ToAnalyze['typing_mechanism']==0].mean(), df_ToAnalyze.error_rate[df_ToAnalyze['typing_mechanism']==0].std())\n",
    "print('Average error rate and standard deviation for multi-key selection are:', df_ToAnalyze.error_rate[df_ToAnalyze['typing_mechanism']==1].mean(), df_ToAnalyze.error_rate[df_ToAnalyze['typing_mechanism']==1].std())"
   ]
  },
  {
   "cell_type": "markdown",
   "metadata": {},
   "source": [
    "### Plots of error rate wrt independent variables"
   ]
  },
  {
   "cell_type": "code",
   "execution_count": null,
   "metadata": {},
   "outputs": [],
   "source": [
    "fig = plt.figure()\n",
    "\n",
    "# Age\n",
    "ax = fig.add_subplot(131)\n",
    "df_ToAnalyze.boxplot(column = 'error_rate', by='age_bins', ax = ax, grid = False)\n",
    "plt.xticks([1, 2], ['Less than 30', 'Greater than 30'])\n",
    "#plt.yticks(np.arange(0, float(df.typing_speed.max())+2, step = 2))\n",
    "plt.ylabel('Typing speed [in wpm]')\n",
    "\n",
    "# Gender\n",
    "ax = fig.add_subplot(132)\n",
    "df_ToAnalyze.boxplot(column = 'error_rate', by='gender', ax = ax, grid = False)\n",
    "plt.xticks([1, 2], ['Male', 'Female'])\n",
    "#plt.yticks(np.arange(0, float(df.typing_speed.max())+2, step = 2))\n",
    "plt.ylabel('Typing speed [in wpm]')\n",
    "\n",
    "# Typing mechanism\n",
    "ax = fig.add_subplot(133)\n",
    "df_ToAnalyze.boxplot(column = 'error_rate', by='typing_mechanism', ax = ax, grid = False)\n",
    "plt.xticks([1, 2], ['Dwell time', 'MultiKey selection'])\n",
    "#plt.yticks(np.arange(0, float(df.typing_speed.max())+2, step = 2))\n",
    "plt.ylabel('Typing speed [in wpm]')\n"
   ]
  },
  {
   "cell_type": "markdown",
   "metadata": {},
   "source": [
    "### Error rate statistical analysis"
   ]
  },
  {
   "cell_type": "code",
   "execution_count": null,
   "metadata": {},
   "outputs": [],
   "source": [
    "# Age\n",
    "a = df_ToAnalyze.error_rate[df_ToAnalyze['age_bins']==0]\n",
    "b = df_ToAnalyze.error_rate[df_ToAnalyze['age_bins']==1]\n",
    "(h, p) = scipy.stats.kruskal(a.values, b.values)\n",
    "print('Kruskal result for age: H-statistic=', h, ', pvalue=', p)\n",
    "\n",
    "# Typing mechanism\n",
    "a = df_ToAnalyze.error_rate[df_ToAnalyze['gender']==0]\n",
    "b = df_ToAnalyze.error_rate[df_ToAnalyze['gender']==1]\n",
    "(h, p) = scipy.stats.kruskal(a.values, b.values)\n",
    "print('Kruskal result for gender: H-statistic=', h, ', pvalue=', p)\n",
    "\n",
    "# Typing mechanism\n",
    "a = df_ToAnalyze.error_rate[df_ToAnalyze['typing_mechanism']==0]\n",
    "b = df_ToAnalyze.error_rate[df_ToAnalyze['typing_mechanism']==1]\n",
    "(h, p) = scipy.stats.kruskal(a.values, b.values)\n",
    "print('Kruskal result for typing mechanism: H-statistic=', h, ', pvalue=', p)"
   ]
  },
  {
   "cell_type": "code",
   "execution_count": null,
   "metadata": {},
   "outputs": [],
   "source": [
    "k = np.hstack(df_ToAnalyze.typing_speed)\n",
    "plt.hist(k)"
   ]
  },
  {
   "cell_type": "markdown",
   "metadata": {},
   "source": [
    "# Typing Mechanism"
   ]
  },
  {
   "cell_type": "markdown",
   "metadata": {},
   "source": [
    "## Typing Mechanism and other Independent variables"
   ]
  },
  {
   "cell_type": "markdown",
   "metadata": {},
   "source": [
    "### Pie charts"
   ]
  },
  {
   "cell_type": "code",
   "execution_count": null,
   "metadata": {},
   "outputs": [],
   "source": [
    "fig = plt.figure()\n",
    "\n",
    "nSubj = len(df_ToAnalyze)\n",
    "\n",
    "# Overall\n",
    "# Gender\n",
    "ax = fig.add_subplot(131)\n",
    "df_ToAnalyze.gender.value_counts(sort = False).plot.pie(ax = ax, labels = ['Male', 'Female'], autopct='%1.1f%%')\n",
    "ax.set_title('Gender distribution \\n Total count = ' + str(nSubj))\n",
    "\n",
    "# Age\n",
    "ax = fig.add_subplot(132)\n",
    "df_ToAnalyze.age_bins.value_counts(sort = False).plot.pie(ax = ax, labels = ['Less than 30', 'Greater than 30'], autopct='%1.1f%%')\n",
    "ax.set_title('Age distribution \\n Total count = ' + str(nSubj))\n",
    "\n",
    "# Typing mechanism\n",
    "ax = fig.add_subplot(133)\n",
    "df_ToAnalyze.typing_mechanism.value_counts(sort = False).plot.pie(ax = ax, labels = ['Dwell time', 'MultiKey selection'], autopct='%1.1f%%')\n",
    "ax.set_title('Typing mechanism distribution \\n Total count = ' + str(nSubj))\n"
   ]
  },
  {
   "cell_type": "code",
   "execution_count": null,
   "metadata": {},
   "outputs": [],
   "source": [
    "fig = plt.figure()\n",
    "\n",
    "# DWELL TIME\n",
    "# Gender and Typing mechanism\n",
    "ax = fig.add_subplot(221)\n",
    "df_ToAnalyze.gender[df['typing_mechanism']==0].value_counts(sort = False).plot.pie(ax = ax, labels = ['Male', 'Female'], autopct='%1.1f%%')\n",
    "ax.set_title('Dwell time')\n",
    "\n",
    "# Age and Typing mechanism\n",
    "ax = fig.add_subplot(223)\n",
    "df_ToAnalyze.age_bins[df['typing_mechanism']==0].value_counts(sort = False).plot.pie(ax = ax, labels = ['Less than 30', 'Greater than 30'], autopct='%1.1f%%')\n",
    "\n",
    "# MULTIKEY SELECTION\n",
    "# Gender and Typing mechanism\n",
    "ax = fig.add_subplot(222)\n",
    "df_ToAnalyze.gender[df['typing_mechanism']==1].value_counts(sort = False).plot.pie(ax = ax, labels = ['Male', 'Female'], autopct='%1.1f%%')\n",
    "ax.set_title('MultiKey Selection')\n",
    "\n",
    "# Age and Typing mechanism\n",
    "ax = fig.add_subplot(224)\n",
    "df_ToAnalyze.age_bins[df['typing_mechanism']==1].value_counts(sort = False).plot.pie(ax = ax, labels = ['Less than 30', 'Greater than 30'], autopct='%1.1f%%')\n"
   ]
  },
  {
   "cell_type": "markdown",
   "metadata": {},
   "source": [
    "The minimum number in the pie charts is 5 (Female, MultiKey Selection). This is the number of subjects that will be choosen \n",
    "randomly from every category and the statistical tests will be performed again"
   ]
  },
  {
   "cell_type": "markdown",
   "metadata": {},
   "source": [
    "# Attended But Not Selected Rate"
   ]
  },
  {
   "cell_type": "code",
   "execution_count": null,
   "metadata": {},
   "outputs": [],
   "source": [
    "# Box Plots\n",
    "\n",
    "figBoxPlot = plt.figure()\n",
    "\n",
    "# Typing mechanism\n",
    "ax = figBoxPlot.add_subplot(111)\n",
    "df_ToAnalyze.boxplot( column = 'attended_but_not_selected_rate_time', by='typing_mechanism', ax = ax, grid = False)\n",
    "plt.xticks([1, 2], ['Dwell Time', 'Multi-key Selection'])\n",
    "plt.ylabel('Attended but not selected ratio of time')"
   ]
  },
  {
   "cell_type": "code",
   "execution_count": null,
   "metadata": {},
   "outputs": [],
   "source": [
    "# Equivalence testing on ansr\n",
    "\n",
    "sd_ansr_DT = df_ToAnalyze.attended_but_not_selected_rate_time[df_ToAnalyze['typing_mechanism']==0].std()\n",
    "sd_ansr_MS = df_ToAnalyze.attended_but_not_selected_rate_time[df_ToAnalyze['typing_mechanism']==1].std()\n",
    "\n",
    "mean_ansr_DT = df_ToAnalyze.attended_but_not_selected_rate_time[df_ToAnalyze['typing_mechanism']==0].mean()\n",
    "mean_ansr_MS = df_ToAnalyze.attended_but_not_selected_rate_time[df_ToAnalyze['typing_mechanism']==1].mean()\n",
    "\n",
    "n_DT = df_ToAnalyze.typing_mechanism[df_ToAnalyze['typing_mechanism'] == 0].count()\n",
    "n_MS = df_ToAnalyze.typing_mechanism[df_ToAnalyze['typing_mechanism'] == 1].count()\n",
    "\n",
    "sd = math.sqrt(((n_DT - 1)*(sd_ansr_DT)**2 + (n_MS - 1)*(sd_ansr_MS)**2)/(n_DT + n_MS - 2))\n",
    "\n",
    "print(sd*0.3)\n",
    "\n",
    "print(mean_ansr_DT, sd_ansr_DT)\n",
    "print(mean_ansr_MS, sd_ansr_MS)\n",
    "\n",
    "delError = 0.005 # As per Lakens 2017 Equivalence testing, del = d*sd, where d is Cohen's d = 0.3. For the given data, sd = ~0.006\n",
    "\n",
    "tL = (mean_ansr_DT - mean_ansr_MS - (-delError))/(math.sqrt(((sd_ansr_DT**2)/n_DT) + (sd_ansr_MS**2)/n_MS))\n",
    "tU = (mean_ansr_DT - mean_ansr_MS - (delError))/(math.sqrt(((sd_ansr_DT**2)/n_DT) + (sd_ansr_MS**2)/n_MS))\n",
    "\n",
    "#df = ((((sd_errorRate_DT**2)/(n_DT)) + ((sd_errorRate_MS**2)/(n_MS)))**2)/(((sd_errorRate_DT/n_DT)**2)/(n_DT-1) + ((sd_errorRate_MS/n_MS)**2)/(n_MS-1))\n",
    "\n",
    "df = (n_DT + n_MS - 1)\n",
    "\n",
    "print('tLower:', tL, ',tUpper:', tU,'with', df, ' degrees of freedom')"
   ]
  },
  {
   "cell_type": "markdown",
   "metadata": {},
   "source": [
    " For t(28, 0.05) = 1.701 To reject null hypothesis, both of the following should be followed : tU < -t(28, 0.05) AND \n",
    "tL > t(28, 0.05) , but here, the former is true but the latter isnot. So, the null hypothesis cannot be rejected, and both\n",
    "cannot be said to be equivalent.\n"
   ]
  },
  {
   "cell_type": "code",
   "execution_count": null,
   "metadata": {},
   "outputs": [],
   "source": [
    "# Histogram of the two typing mechanisms\n",
    "\n",
    "# Histograms\n",
    "figHist = plt.figure()\n",
    "bins = np.arange(0, float(df_ToAnalyze.attended_but_not_selected_rate_time.max())+0.01, step = 0.01)\n",
    "\n",
    "# Typing Mechanism\n",
    "\n",
    "ax = figHist.add_subplot(111)\n",
    "df_ToAnalyze.attended_but_not_selected_rate_time[df_ToAnalyze['typing_mechanism'] == 0].hist(ax = ax, alpha=0.5, grid = False, label = 'Dwell time')\n",
    "#df_ToAnalyze.hist(df_ToAnalyze.typing_speed[df_ToAnalyze['age_bins'] == 0], bins, ax = ax, grid = False)\n",
    "#plt.xticks(bins)\n",
    "#plt.xlabel('Attended but Not Selected Ratio of Time')\n",
    "plt.ylabel('Frequency')\n",
    "\n",
    "ax = figHist.add_subplot(111)\n",
    "df_ToAnalyze.attended_but_not_selected_rate_time[df_ToAnalyze['typing_mechanism'] == 1].hist(ax = ax, alpha=0.5, grid = False, label = 'Multi-key selection')\n",
    "plt.xticks(bins)\n",
    "plt.xlabel('Attended but Not Selected Ratio of Time')\n",
    "plt.ylabel('Frequency')\n",
    "plt.title('Typing speed and Attended but Not Selected Ratio')\n",
    "plt.legend()"
   ]
  },
  {
   "cell_type": "markdown",
   "metadata": {},
   "source": [
    " Since the histograms are more or less normal and the means are also more or less the same, t-test can be performed"
   ]
  },
  {
   "cell_type": "code",
   "execution_count": null,
   "metadata": {},
   "outputs": [],
   "source": [
    "scipy.stats.ttest_ind(df_ToAnalyze.attended_but_not_selected_rate_time[df.typing_mechanism == 0], df_ToAnalyze.attended_but_not_selected_rate_time[df.typing_mechanism == 1])"
   ]
  },
  {
   "cell_type": "markdown",
   "metadata": {},
   "source": [
    "### Correlation between ansr and error rate"
   ]
  },
  {
   "cell_type": "code",
   "execution_count": 99,
   "metadata": {},
   "outputs": [
    {
     "data": {
      "text/plain": [
       "Text(0,0.5,'Error rate [in %]')"
      ]
     },
     "execution_count": 99,
     "metadata": {},
     "output_type": "execute_result"
    }
   ],
   "source": [
    "\n",
    "c = str(df_ToAnalyze['attended_but_not_selected_rate_time'].corr(df_ToAnalyze['error_rate']))\n",
    "\n",
    "fig = plt.figure()\n",
    "ax1 = fig.add_subplot(1,1,1)\n",
    "ax2 = ax1.twinx()\n",
    "\n",
    "a = df_ToAnalyze.attended_but_not_selected_rate_time.sort_values()\n",
    "\n",
    "i = 0\n",
    "for ind in a.keys():\n",
    "    i = i + 1\n",
    "    ax1.plot(i, df_ToAnalyze['attended_but_not_selected_rate_time'].loc[ind], 'bo')\n",
    "    ax2.plot(i, df_ToAnalyze['error_rate'].loc[ind], 'ro')\n",
    "    \n",
    "ax1.set_title('Correlation between ansr and error rate is: %s' %c)\n",
    "ax1.set_ylabel('Attended but not selected time ratio', color = 'b')\n",
    "ax1.set_yticks(np.arange(0,0.13,0.02))\n",
    "ax2.set_ylabel('Error rate [in %]', color = 'r')"
   ]
  },
  {
   "cell_type": "code",
   "execution_count": null,
   "metadata": {},
   "outputs": [],
   "source": []
  }
 ],
 "metadata": {
  "kernelspec": {
   "display_name": "Python 3",
   "language": "python",
   "name": "python3"
  },
  "language_info": {
   "codemirror_mode": {
    "name": "ipython",
    "version": 3
   },
   "file_extension": ".py",
   "mimetype": "text/x-python",
   "name": "python",
   "nbconvert_exporter": "python",
   "pygments_lexer": "ipython3",
   "version": "3.6.4"
  }
 },
 "nbformat": 4,
 "nbformat_minor": 2
}
