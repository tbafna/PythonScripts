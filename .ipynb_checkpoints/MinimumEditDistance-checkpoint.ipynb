{
 "cells": [
  {
   "cell_type": "code",
   "execution_count": 453,
   "metadata": {},
   "outputs": [],
   "source": [
    "%matplotlib inline\n",
    "import os\n",
    "import csv\n",
    "import fnmatch\n",
    "import numpy as np\n",
    "import operator"
   ]
  },
  {
   "cell_type": "code",
   "execution_count": 454,
   "metadata": {},
   "outputs": [],
   "source": [
    "phraseStim = None\n",
    "phraseUser = None"
   ]
  },
  {
   "cell_type": "code",
   "execution_count": 455,
   "metadata": {},
   "outputs": [],
   "source": [
    "subjName = r'C:\\DTU\\Data\\201805_HealthnRehab\\TypingData\\May17\\jg_dt'\n",
    "\n",
    "\n",
    "for root, dirs, subfolder in os.walk(subjName):\n",
    "    if not dirs:\n",
    "        if 'notCompleted' in root:\n",
    "            continue\n",
    "        for file in subfolder:\n",
    "            if fnmatch.fnmatch(file, 'PhraseLog*'):\n",
    "                with open(root + '\\\\' + file, encoding='utf-8') as fp:\n",
    "                    reader = csv.reader(fp)\n",
    "                    phraseStim = list(reader)\n",
    "                    phraseStim.remove(phraseStim[0])\n",
    "            elif fnmatch.fnmatch(file, 'ScratchPadLog*'):\n",
    "                with open(root + '\\\\' + file, encoding='utf-8') as fs:\n",
    "                    reader = csv.reader(fs)\n",
    "                    phraseUser = list(reader)\n",
    "                    phraseUser.remove(phraseUser[0])      "
   ]
  },
  {
   "cell_type": "code",
   "execution_count": 456,
   "metadata": {},
   "outputs": [],
   "source": [
    "phraseUserEnd = list()\n",
    "\n",
    "for row_ind in range(0, len(phraseUser)):\n",
    "    if row_ind!= 0 and phraseUser[row_ind][1] == '':\n",
    "        phraseUserEnd.append(phraseUser[row_ind-1])"
   ]
  },
  {
   "cell_type": "code",
   "execution_count": 465,
   "metadata": {},
   "outputs": [],
   "source": [
    "# Attempt to remove all elements that are not end phrases - stimulated or user-generated\n",
    "\n",
    "\n",
    "\n",
    "\n",
    "for row_ind2 in range(0, len(phraseStim)):\n",
    "    if phraseStim[row_ind2][1] == 'THE EXPERIMENT IS NOW DONE':\n",
    "        phraseUserEnd.remove(phraseUserEnd[row_ind2])\n",
    "        phraseStim.remove(phraseStim[row_ind2])\n",
    "        \n",
    "for row_ind3 in range(0, len(phraseUserEnd)):\n",
    "    if phraseUserEnd[row_ind3][1] == '':\n",
    "        if row_ind3 < len(phraseStim):\n",
    "            phraseStim.remove(phraseStim[row_ind3])\n",
    "            phraseUserEnd.remove(phraseUserEnd[row_ind3])\n",
    "    \n",
    "# if phrases documented have a comma, the said phrase is split and saved into different columns. They need to be joined\n",
    "for row_ind4 in range(0, len(phraseStim)):\n",
    "    if len(phraseStim[row_ind4])>2:\n",
    "        phraseStim[row_ind4][1] = ''.join(phraseStim[row_ind4][1:])\n",
    "        \n",
    "for row_ind5 in range(0, len(phraseUserEnd)):\n",
    "    if len(phraseUserEnd[row_ind5])>2:\n",
    "        phraseUserEnd[row_ind5][1] = ''.join(phraseUserEnd[row_ind5][1:])\n",
    "        \n"
   ]
  },
  {
   "cell_type": "code",
   "execution_count": 466,
   "metadata": {},
   "outputs": [],
   "source": [
    "# Function to compute the MSD, with cost of 2 for substitution and 1 for insertion and deletion\n",
    "costSub = 2\n",
    "costIns = 1\n",
    "costDel = 1\n",
    "\n",
    "def levenshteinDist(phraseIn, phraseOut):\n",
    "    \n",
    "    lenStim = len(phraseIn)\n",
    "    lenUser = len(phraseOut)\n",
    "    costMatrix = np.zeros((lenStim+1, lenUser+1), dtype=int)\n",
    "    MSDoperation = np.empty([lenStim+1, lenUser+1], dtype=\"U4\")\n",
    "    costMatrix[0,0:] = range(0, lenUser+1)\n",
    "    costMatrix[0:,0] = range(0, lenStim+1)\n",
    "    MSDoperation[0,0:] = 'I'\n",
    "    MSDoperation[0:,0] = 'D'\n",
    "    \n",
    "    for i in range(1, len(phraseIn)+1):\n",
    "        iP = i - 1\n",
    "        for j in range(1, len(phraseOut)+1):\n",
    "            jP = j - 1\n",
    "            if phraseIn[iP].lower() == phraseOut[jP].lower():\n",
    "                # Define the possible cost array\n",
    "                costOptionArray = [costMatrix[i,j-1]+costDel, costMatrix[i-1,j]+costIns, costMatrix[i-1,j-1]] \n",
    "                flagSame = 1\n",
    "            else:\n",
    "                costOptionArray = [costMatrix[i,j-1]+costDel, costMatrix[i-1,j]+costIns, costMatrix[i-1,j-1]+costSub]\n",
    "                flagSame = 0\n",
    "            costMatrix[i,j], MSDoperation[i][j] = minValnInd(costOptionArray, flagSame)            \n",
    "    return costMatrix[-1,-1]\n"
   ]
  },
  {
   "cell_type": "code",
   "execution_count": 467,
   "metadata": {},
   "outputs": [],
   "source": [
    "# find minimum cost and the operations that give rise to it\n",
    "def minValnInd(costOptions, flagSame):\n",
    "    operator = list()\n",
    "    unique_entries = set(costOptions)\n",
    "    valInd = { value : [ i for i, v in enumerate(costOptions) if v == value ] for value in unique_entries }\n",
    "    keyVal = list(valInd.keys())\n",
    "    min_value = min(keyVal)\n",
    "    \n",
    "    if 0 in valInd[min_value]:\n",
    "        operator.append('D')\n",
    "    if 1 in valInd[min_value]:\n",
    "        operator.append('I')\n",
    "    if 2 in valInd[min_value]:\n",
    "        if flagSame == 0:\n",
    "            operator.append('S')\n",
    "        else:\n",
    "            operator.append('N')   \n",
    "    flagSame = None    \n",
    "    return min_value, ''.join(operator)"
   ]
  },
  {
   "cell_type": "code",
   "execution_count": 468,
   "metadata": {},
   "outputs": [
    {
     "name": "stdout",
     "output_type": "stream",
     "text": [
      "28 26 0\n",
      "38 30 1\n",
      "Minimum edit distance by the user is  1.1717948717948716\n"
     ]
    }
   ],
   "source": [
    "dist = 0\n",
    "if len(phraseUserEnd)==len(phraseStim):\n",
    "    for n in range(0,len(phraseStim)):\n",
    "        dist = dist + (levenshteinDist(phraseStim[n][1], phraseUserEnd[n][1]))/max(len(phraseStim[n][1]),len(phraseUserEnd[n][1]))\n",
    "        print(levenshteinDist(phraseStim[n][1], phraseUserEnd[n][1]), max(len(phraseStim[n][1]),len(phraseUserEnd[n][1])), n)\n",
    "    dist = float(dist/(n+1))\n",
    "    print(\"Minimum edit distance by the user is \", dist)\n",
    "else:\n",
    "    print('Unequal stimulation and user-generated phrases')\n"
   ]
  },
  {
   "cell_type": "code",
   "execution_count": 460,
   "metadata": {},
   "outputs": [
    {
     "data": {
      "text/plain": [
       "[['2018-05-17T12:34:29.4611889+02:00', 'kom ud til os på terrassen'],\n",
       " ['2018-05-17T12:35:02.5899961+02:00', 'min yndlingswebbrowser']]"
      ]
     },
     "execution_count": 460,
     "metadata": {},
     "output_type": "execute_result"
    }
   ],
   "source": [
    "phraseStim"
   ]
  },
  {
   "cell_type": "code",
   "execution_count": 464,
   "metadata": {},
   "outputs": [
    {
     "data": {
      "text/plain": [
       "[['2018-05-17T12:34:45.7777259+02:00', 'tjjb'],\n",
       " ['2018-05-17T12:37:59.9113340+02:00', 'må jacobbb  hhar  væreet  herr']]"
      ]
     },
     "execution_count": 464,
     "metadata": {},
     "output_type": "execute_result"
    }
   ],
   "source": [
    "phraseUserEnd"
   ]
  },
  {
   "cell_type": "code",
   "execution_count": null,
   "metadata": {},
   "outputs": [],
   "source": []
  }
 ],
 "metadata": {
  "kernelspec": {
   "display_name": "Python 3",
   "language": "python",
   "name": "python3"
  },
  "language_info": {
   "codemirror_mode": {
    "name": "ipython",
    "version": 3
   },
   "file_extension": ".py",
   "mimetype": "text/x-python",
   "name": "python",
   "nbconvert_exporter": "python",
   "pygments_lexer": "ipython3",
   "version": "3.6.4"
  }
 },
 "nbformat": 4,
 "nbformat_minor": 2
}
