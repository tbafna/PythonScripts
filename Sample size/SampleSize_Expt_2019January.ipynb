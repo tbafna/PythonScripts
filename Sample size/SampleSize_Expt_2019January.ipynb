{
 "cells": [
  {
   "cell_type": "code",
   "execution_count": null,
   "metadata": {},
   "outputs": [],
   "source": [
    "# Sample size calculation (Relative pupil size calculation)\n",
    "\n",
    "D = 0.15\n",
    "S1 = 0.049\n",
    "S2 = 0.067\n",
    "n = 5\n",
    "\n",
    "t = (D/np.sqrt((S1**2/n)+(S2**2/n)))\n",
    "print(t)\n",
    "\n",
    "\n",
    "sigma = (S1+S2)/2\n",
    "a = 2 \n",
    "b = n\n",
    "\n",
    "phi_square = (a*D**2)/(2*b*sigma**2)\n",
    "print(phi_square)\n",
    "\n",
    "n1 = 8\n",
    "phi1 = np.sqrt(phi_square*n1)\n",
    "print(phi1)\n",
    "\n",
    "n2 = 10\n",
    "phi2 = np.sqrt(phi_square*n2)\n",
    "print(phi2)"
   ]
  }
 ],
 "metadata": {
  "kernelspec": {
   "display_name": "Python 3",
   "language": "python",
   "name": "python3"
  },
  "language_info": {
   "codemirror_mode": {
    "name": "ipython",
    "version": 3
   },
   "file_extension": ".py",
   "mimetype": "text/x-python",
   "name": "python",
   "nbconvert_exporter": "python",
   "pygments_lexer": "ipython3",
   "version": "3.6.4"
  }
 },
 "nbformat": 4,
 "nbformat_minor": 2
}
