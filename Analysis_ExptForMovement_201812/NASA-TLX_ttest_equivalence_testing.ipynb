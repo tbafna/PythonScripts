{
 "cells": [
  {
   "cell_type": "code",
   "execution_count": 1,
   "metadata": {},
   "outputs": [
    {
     "name": "stdout",
     "output_type": "stream",
     "text": [
      "Using matplotlib backend: Qt5Agg\n"
     ]
    }
   ],
   "source": [
    "%matplotlib\n",
    "#%matplotlib inline\n",
    "import os\n",
    "import numpy as np\n",
    "import re \n",
    "import math\n",
    "import scipy.stats\n",
    "import statsmodels.api as sm\n",
    "from statsmodels.formula.api import ols\n",
    "import statsmodels\n",
    "from statsmodels.graphics.regressionplots import abline_plot\n",
    "from statsmodels.stats.api import anova_lm\n",
    "import seaborn as sns"
   ]
  },
  {
   "cell_type": "code",
   "execution_count": 2,
   "metadata": {},
   "outputs": [],
   "source": [
    "tlx_wChinRest = [16, 24, 24, 16, 25]\n",
    "tlx_woChinRest = [14, 26, 27, 22, 28]\n",
    "\n",
    "tlx_diff = [tlx_wChinRest[i] - tlx_woChinRest[i] for i in range(0, len(tlx_wChinRest))]"
   ]
  },
  {
   "cell_type": "code",
   "execution_count": 3,
   "metadata": {},
   "outputs": [
    {
     "data": {
      "text/plain": [
       "Ttest_relResult(statistic=-1.8627612616951987, pvalue=0.1359651579647878)"
      ]
     },
     "execution_count": 3,
     "metadata": {},
     "output_type": "execute_result"
    }
   ],
   "source": [
    "# t-test with hypothesis that the tlx scores are equal\n",
    "\n",
    "scipy.stats.ttest_rel(tlx_wChinRest, tlx_woChinRest)"
   ]
  },
  {
   "cell_type": "code",
   "execution_count": 18,
   "metadata": {},
   "outputs": [
    {
     "name": "stdout",
     "output_type": "stream",
     "text": [
      "-0.5173567362710718\n",
      "-1.3331350534105566\n",
      "not rejected -2.4\n"
     ]
    }
   ],
   "source": [
    "# equivalence testing with H0: Ho: |mu1 - mu2| > del and Ha: |mu1 - mu2| < del \n",
    "# So, to reject the null hypothesis, both should be rejected: mu1 - mu2 > del and mu1 - mu2 < -del or \n",
    "# in terms of two-one sided test : \n",
    "# ((y1m - y2m) + del)/sigma(1/n1 + 1/n2) > z(1-alpha) and ((y1m - y2m) - del)/sigma(1/n1 + 1/n2) < -z(1-alpha)\n",
    "\n",
    "# In this case, both should be rejected.\n",
    "\n",
    "# As per Lakens 2017 Equivalence testing, del = d*sd, where d is Cohen's d = mu1-mu2/pooled std. For the given data, sd = ~36\n",
    "mu1 = np.mean(tlx_wChinRest)\n",
    "mu2 = np.mean(tlx_woChinRest)\n",
    "S1 = np.std(tlx_wChinRest)\n",
    "S2 = np.std(tlx_woChinRest)\n",
    "\n",
    "d = (mu1-mu2)/np.sqrt(((S1)**2+(S2)**2)/2)\n",
    "print(d)\n",
    "sd = np.std(tlx_diff)\n",
    "delError = d*sd \n",
    "\n",
    "print(delError)\n",
    "\n",
    "mu = np.mean(tlx_diff)\n",
    "\n",
    "if np.mean(tlx_diff) > delError:\n",
    "    print('not rejected', np.mean(tlx_diff))\n",
    "if np.mean(tlx_diff) < -delError:\n",
    "    print('not rejected', np.mean(tlx_diff))"
   ]
  },
  {
   "cell_type": "code",
   "execution_count": 16,
   "metadata": {},
   "outputs": [
    {
     "name": "stdout",
     "output_type": "stream",
     "text": [
      "-2.3999999999999986\n"
     ]
    }
   ],
   "source": [
    "print(np.mean(tlx_wChinRest)-np.mean(tlx_woChinRest))"
   ]
  },
  {
   "cell_type": "code",
   "execution_count": null,
   "metadata": {},
   "outputs": [],
   "source": []
  }
 ],
 "metadata": {
  "kernelspec": {
   "display_name": "Python 3",
   "language": "python",
   "name": "python3"
  },
  "language_info": {
   "codemirror_mode": {
    "name": "ipython",
    "version": 3
   },
   "file_extension": ".py",
   "mimetype": "text/x-python",
   "name": "python",
   "nbconvert_exporter": "python",
   "pygments_lexer": "ipython3",
   "version": "3.6.5"
  }
 },
 "nbformat": 4,
 "nbformat_minor": 2
}
