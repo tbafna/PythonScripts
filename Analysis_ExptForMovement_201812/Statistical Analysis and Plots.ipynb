{
 "cells": [
  {
   "cell_type": "code",
   "execution_count": 1,
   "metadata": {},
   "outputs": [
    {
     "name": "stdout",
     "output_type": "stream",
     "text": [
      "Using matplotlib backend: Qt5Agg\n"
     ]
    }
   ],
   "source": [
    "%matplotlib \n",
    "#%matplotlib inline\n",
    "#%matplotlib qt\n",
    "import os\n",
    "import csv\n",
    "import numpy as np\n",
    "import fnmatch\n",
    "from pathlib import Path\n",
    "import pandas as pd\n",
    "import xlrd\n",
    "import matplotlib.pyplot as plt\n",
    "from scipy import stats \n",
    "import statsmodels\n",
    "from statsmodels.graphics.gofplots import qqplot\n"
   ]
  },
  {
   "cell_type": "code",
   "execution_count": 2,
   "metadata": {},
   "outputs": [
    {
     "name": "stdout",
     "output_type": "stream",
     "text": [
      "18\n"
     ]
    }
   ],
   "source": [
    "# first find the number of rows in the existing file\n",
    "filePath_PythonData = \"C:\\\\DTU\\\\Data\\\\201812_ExptToCheckMovementEffect\\\\Data\\\\python_data.xlsx\"\n",
    "loc = (filePath_PythonData) \n",
    "  \n",
    "sheet = xlrd.open_workbook(loc).sheet_by_index(0)\n",
    "\n",
    "# Extracting number of rows \n",
    "print(sheet.ncols) \n",
    "\n",
    "sheet_columns = [sheet.row(0)[i].value for i in range(0, sheet.ncols)]\n",
    "\n",
    "df_data = pd.read_excel(filePath_PythonData)\n",
    "    \n",
    "# removing 2 medium trials from participant 4's trials - p4 has 4 medium trials and 2 easy trials\n",
    "df_data_reduced = df_data.drop([27], axis=0)"
   ]
  },
  {
   "cell_type": "code",
   "execution_count": 3,
   "metadata": {},
   "outputs": [],
   "source": [
    "# removing 2 medium trials from participant 4's trials - p4 has 4 medium trials and 2 easy trials\n",
    "df_data_difficultRemove = df_data.drop([27], axis=0)\n",
    "\n",
    "df_data_mediumRemove = df_data.drop([29, 30], axis=0)"
   ]
  },
  {
   "cell_type": "code",
   "execution_count": 4,
   "metadata": {},
   "outputs": [
    {
     "name": "stdout",
     "output_type": "stream",
     "text": [
      "    participant_id  chin_rest  session_order  blink_frequency  \\\n",
      "27               4          1              1         0.197299   \n",
      "28               4          1              1         0.174190   \n",
      "29               4          1              1         0.058011   \n",
      "30               4          1              1         0.070893   \n",
      "33               4          1              1         0.137923   \n",
      "\n",
      "    blink_duration_average  inter_blink_duration  pupil_relative  \\\n",
      "27                0.113889              2.430521        1.155936   \n",
      "28                0.111329              3.048134        1.102457   \n",
      "29                0.136667              2.698314        1.090394   \n",
      "30                0.053704             15.422011        1.046752   \n",
      "33                0.096190              3.325166        1.165455   \n",
      "\n",
      "    pupil_relative_diff  pupil_absolute       ipa  score_complexity  \\\n",
      "27             0.816000        6.050726  0.113527                 4   \n",
      "28             0.551785        5.937182  0.046541                 5   \n",
      "29             0.491048        5.924431  0.105532                 4   \n",
      "30             0.260017        5.822067  0.120554                 2   \n",
      "33             0.853918        6.015534  0.074809                 5   \n",
      "\n",
      "    score_difficulty  score_LIX  typingSpeed  errorRate  \\\n",
      "27                 4          3     6.303965   0.000000   \n",
      "28                 5          2     6.826826   0.001153   \n",
      "29                 3          2     6.869089   0.000383   \n",
      "30                 2          2     6.438087   0.000000   \n",
      "33                 5          2     6.098363   0.001864   \n",
      "\n",
      "    readTextEventPerCharacter  attendedButNotSelectedRate  typing_speed  \n",
      "27                   0.095890                    0.383562      6.492013  \n",
      "28                   0.055556                    0.365079      4.461819  \n",
      "29                   0.258824                    0.282353      7.112234  \n",
      "30                   0.305556                    0.333333      6.473064  \n",
      "33                   0.447619                    0.304762      5.879579  \n"
     ]
    }
   ],
   "source": [
    "print(df_data.loc[[27, 28, 29, 30, 33]])"
   ]
  },
  {
   "cell_type": "code",
   "execution_count": 149,
   "metadata": {},
   "outputs": [
    {
     "name": "stdout",
     "output_type": "stream",
     "text": [
      "Ttest_relResult(statistic=-0.9218379820697532, pvalue=0.36448840315525943)\n"
     ]
    }
   ],
   "source": [
    "# t-test of pupil size and LIX score\n",
    "\n",
    "# relative t-test - easy and difficult\n",
    "print(stats.ttest_rel(df_data_reduced.pupil_relative[df_data_reduced.score_LIX==1], df_data_reduced.pupil_relative[df_data_reduced.score_LIX==3]))\n",
    "\n",
    "\n",
    "# checking the normality of the data:\n",
    "\n",
    "#qqplot(np.asarray(pupilSize_mediumNew), line='s') # medium difficulty\n",
    "#qqplot(np.asarray(df_data.pupil_relative[df_data.score_LIX==1]), line='s') # easy difficulty"
   ]
  },
  {
   "cell_type": "code",
   "execution_count": 6,
   "metadata": {
    "scrolled": false
   },
   "outputs": [],
   "source": [
    "# box chart of pupil size and LIX score\n",
    "\n",
    "label_fontSize = 75\n",
    "others_fontSize = 65\n",
    "\n",
    "fig = plt.figure(figsize=(20,20))\n",
    "ax1 = fig.add_subplot(1,1,1)\n",
    "\n",
    "pupil_relative_plottingData = [df_data_reduced.pupil_relative[df_data_reduced.score_LIX==1], df_data_reduced.pupil_relative[df_data_reduced.score_LIX==2], df_data_reduced.pupil_relative[df_data_reduced.score_LIX==3]]\n",
    "\n",
    "boxProps = dict(linewidth=2)\n",
    "medianProps = dict(linestyle='-.', linewidth=4, color='orange')\n",
    "meanLineProps = dict(linestyle='-',linewidth=4)\n",
    "meanPointProps = dict(marker='D', markeredgecolor='black', markerfacecolor='green', markersize=32)\n",
    "capProps = dict(linewidth=4)\n",
    "whiskerProps = dict(linestyle='-.', linewidth=2)\n",
    "flierProps = dict(markersize = 10)\n",
    "\n",
    "ax1.boxplot(pupil_relative_plottingData, boxprops=boxProps, medianprops=medianProps, meanline=False, meanprops=meanPointProps, capprops=capProps, showmeans=True, whiskerprops=whiskerProps, flierprops=flierProps)\n",
    "ax1.set_ylabel('Relative pupil size', fontsize = label_fontSize)\n",
    "ax1.set_xlabel('Sentence complexity', fontsize = label_fontSize)\n",
    "ax1.tick_params(axis='both', which='major', labelsize= others_fontSize)\n",
    "ax1.set_xticklabels(['Easy', 'Medium', 'Difficult'])\n",
    "\n",
    "plt.rc('axes', linewidth=2)\n",
    "plt.tight_layout()\n",
    "\n",
    "\n",
    "fig.savefig('pupilSize_LIX.png', dpi = 300, bbox_to_anchor = (0.95, 0.1))\n"
   ]
  },
  {
   "cell_type": "code",
   "execution_count": null,
   "metadata": {},
   "outputs": [],
   "source": [
    "# annotate with significance level\n",
    "maxPupilSize = df_data_reduced.pupil_relative.max()+0.01\n",
    "y_pupilSize, h, col = maxPupilSize, 0.01, 'k'\n",
    "x1_pupilSize = 1\n",
    "x2_pupilSize = 2\n",
    "ax1.plot([x1_pupilSize, x1_pupilSize, x2_pupilSize, x2_pupilSize], [y_pupilSize, y_pupilSize+h, y_pupilSize+h, y_pupilSize], lw=2, c=col)\n",
    "ax1.text((x1_pupilSize+x2_pupilSize)*.5, y_pupilSize+h+0.01, \"p<0.001\", ha='center', va='bottom', color=col, fontsize = others_fontSize)\n",
    "\n",
    "ax1.set_ylim([df_data_reduced.pupil_relative.min()-0.02, df_data_reduced.pupil_relative.max()+0.1])\n",
    "\n",
    "plt.tight_layout()"
   ]
  },
  {
   "cell_type": "code",
   "execution_count": 29,
   "metadata": {},
   "outputs": [],
   "source": [
    "# box chart of score_difficulty and LIX score\n",
    "\n",
    "label_fontSize = 75\n",
    "others_fontSize = 65\n",
    "\n",
    "fig = plt.figure(figsize=(24,24))\n",
    "ax1 = fig.add_subplot(1,1,1)\n",
    "\n",
    "scoreDifficulty_plottingData = [df_data_reduced.score_difficulty[df_data_reduced.score_LIX==1], df_data_reduced.score_difficulty[df_data_reduced.score_LIX==2], df_data_reduced.score_difficulty[df_data_reduced.score_LIX==3]]\n",
    "\n",
    "boxProps = dict(linewidth=2)\n",
    "medianProps = dict(linestyle='-.', linewidth=4, color='orange')\n",
    "meanLineProps = dict(linestyle='-',linewidth=4)\n",
    "meanPointProps = dict(marker='D', markeredgecolor='black', markerfacecolor='green', markersize=32)\n",
    "capProps = dict(linewidth=4)\n",
    "whiskerProps = dict(linestyle='-.', linewidth=2)\n",
    "flierProps = dict(markersize = 10)\n",
    "\n",
    "ax1.boxplot(scoreDifficulty_plottingData, boxprops=boxProps, medianprops=medianProps, meanline=False, meanprops=meanPointProps, capprops=capProps, showmeans=True, whiskerprops=whiskerProps, flierprops=flierProps)\n",
    "ax1.set_ylabel('Score difficulty', fontsize = label_fontSize)\n",
    "ax1.set_xlabel('Sentence complexity', fontsize = label_fontSize)\n",
    "ax1.tick_params(axis='both', which='major', labelsize= others_fontSize)\n",
    "ax1.set_yticks([0, 1, 2, 3, 4, 5, 6, 7, 8, 9, 10])\n",
    "ax1.set_xticklabels(['Easy', 'Medium', 'Difficult'])\n",
    "#plt.tight_layout()\n",
    "\n",
    "\n",
    "#fig.savefig('scoreDifficulty_LIX.png', dpi = 300, bbox_to_anchor = (0.95, 0.1))\n",
    "# annotate with significance level - easy and medium\n",
    "maxDifficultyScore = df_data_reduced.score_difficulty.max()+0.5\n",
    "y_difficulty, h, col = maxDifficultyScore, 0.25, 'k'\n",
    "x1_difficulty = 1\n",
    "x2_difficulty = 1.95\n",
    "ax1.plot([x1_difficulty, x1_difficulty, x2_difficulty, x2_difficulty], [y_difficulty, y_difficulty+h, y_difficulty+h, y_difficulty], lw=2, c=col)\n",
    "ax1.text((x1_difficulty+x2_difficulty)*.5, y_difficulty+h+0.2, \"p<0.001\", ha='center', va='bottom', color=col, fontsize = others_fontSize)\n",
    "\n",
    "# annotate with significance level - easy and difficult\n",
    "y_difficulty1 = maxDifficultyScore + 1\n",
    "x1_difficulty1 = 1\n",
    "x2_difficulty1 = 3\n",
    "ax1.plot([x1_difficulty1, x1_difficulty1, x2_difficulty1, x2_difficulty1], [y_difficulty1, y_difficulty1+h, y_difficulty1+h, y_difficulty1], lw=2, c=col)\n",
    "ax1.text((x1_difficulty1+x2_difficulty1)*.5, y_difficulty1+h+0.2, \"p<0.001\", ha='center', va='bottom', color=col, fontsize = others_fontSize)\n",
    "\n",
    "# annotate with significance level - medium and difficult\n",
    "maxDifficultyScore = df_data_reduced.score_difficulty.max()+0.5\n",
    "y_difficulty, h, col = maxDifficultyScore, 0.25, 'k'\n",
    "x1_difficulty = 2.05\n",
    "x2_difficulty = 3\n",
    "ax1.plot([x1_difficulty, x1_difficulty, x2_difficulty, x2_difficulty], [y_difficulty, y_difficulty+h, y_difficulty+h, y_difficulty], lw=2, c=col)\n",
    "ax1.text((x1_difficulty+x2_difficulty)*.5, y_difficulty+h+0.2, \"ns\", ha='center', va='bottom', color=col, fontsize = others_fontSize)\n",
    "\n",
    "\n",
    "ax1.set_ylim([df_data_reduced.score_difficulty.min()-0.5, df_data_reduced.score_difficulty.max()+2.5])\n",
    "plt.rc('axes', linewidth=2)\n",
    "plt.tight_layout()\n",
    "fig.savefig('scoreDifficulty_LIX.png', dpi = 300, bbox_to_anchor = (0.95, 0.1))\n"
   ]
  },
  {
   "cell_type": "code",
   "execution_count": 27,
   "metadata": {},
   "outputs": [],
   "source": [
    "# box chart of score_complexity and LIX score\n",
    "\n",
    "label_fontSize = 75\n",
    "others_fontSize = 65\n",
    "\n",
    "fig = plt.figure(figsize=(24,24))\n",
    "ax1 = fig.add_subplot(1,1,1)\n",
    "\n",
    "scoreComplexity_plottingData = [df_data_reduced.score_complexity[df_data_reduced.score_LIX==1], df_data_reduced.score_complexity[df_data_reduced.score_LIX==2], df_data_reduced.score_complexity[df_data_reduced.score_LIX==3]]\n",
    "\n",
    "boxProps = dict(linewidth=2)\n",
    "medianProps = dict(linestyle='-.', linewidth=4, color='orange')\n",
    "meanLineProps = dict(linestyle='-',linewidth=4)\n",
    "meanPointProps = dict(marker='D', markeredgecolor='black', markerfacecolor='green', markersize=32)\n",
    "capProps = dict(linewidth=4)\n",
    "whiskerProps = dict(linestyle='-.', linewidth = 2)\n",
    "flierProps = dict(markersize = 10)\n",
    "\n",
    "ax1.boxplot(scoreComplexity_plottingData, boxprops=boxProps, medianprops=medianProps, meanline=False, meanprops=meanPointProps, capprops=capProps, showmeans=True, whiskerprops=whiskerProps, flierprops=flierProps)\n",
    "ax1.set_ylabel('Score complexity', fontsize = label_fontSize)\n",
    "ax1.set_xlabel('Sentence complexity', fontsize = label_fontSize)\n",
    "ax1.tick_params(axis='both', which='major', labelsize= others_fontSize, direction = 'inout', length = 10, width = 3)\n",
    "ax1.set_yticks([0, 1, 2, 3, 4, 5, 6, 7, 8, 9, 10])\n",
    "ax1.set_xticklabels(['Easy', 'Medium', 'Difficult'])\n",
    "#plt.tight_layout()\n",
    "\n",
    "\n",
    "#fig.savefig('scorecomplexity_LIX.png', dpi = 300, bbox_to_anchor = (0.95, 0.1))\n",
    "# annotate with significance level - easy and medium\n",
    "maxcomplexityScore = df_data_reduced.score_complexity.max()+0.5\n",
    "y_complexity, h, col = maxcomplexityScore, 0.25, 'k'\n",
    "x1_complexity = 1\n",
    "x2_complexity = 1.95\n",
    "ax1.plot([x1_complexity, x1_complexity, x2_complexity, x2_complexity], [y_complexity, y_complexity+h, y_complexity+h, y_complexity], lw=2, c=col)\n",
    "ax1.text((x1_complexity+x2_complexity)*.5, y_complexity+h+0.2, \"p<0.001\", ha='center', va='bottom', color=col, fontsize = others_fontSize)\n",
    "\n",
    "# annotate with significance level - easy and difficult\n",
    "y_complexity1 = maxcomplexityScore + 1\n",
    "x1_complexity1 = 1\n",
    "x2_complexity1 = 3\n",
    "ax1.plot([x1_complexity1, x1_complexity1, x2_complexity1, x2_complexity1], [y_complexity1, y_complexity1+h, y_complexity1+h, y_complexity1], lw=2, c=col)\n",
    "ax1.text((x1_complexity1+x2_complexity1)*.5, y_complexity1+h+0.2, \"p<0.001\", ha='center', va='bottom', color=col, fontsize = others_fontSize)\n",
    "\n",
    "# annotate with significance level - medium and difficult\n",
    "maxcomplexityScore = df_data_reduced.score_complexity.max()+0.5\n",
    "y_complexity, h, col = maxcomplexityScore, 0.25, 'k'\n",
    "x1_complexity = 2.05\n",
    "x2_complexity = 3\n",
    "ax1.plot([x1_complexity, x1_complexity, x2_complexity, x2_complexity], [y_complexity, y_complexity+h, y_complexity+h, y_complexity], lw=2, c=col)\n",
    "ax1.text((x1_complexity+x2_complexity)*.5, y_complexity+h+0.2, \"ns\", ha='center', va='bottom', color=col, fontsize = others_fontSize)\n",
    "\n",
    "\n",
    "ax1.set_ylim([df_data_reduced.score_complexity.min()-0.5, df_data_reduced.score_complexity.max()+2.5])\n",
    "plt.rc('axes', linewidth=2)\n",
    "plt.tight_layout()\n",
    "fig.savefig('scoreComplexity_LIX.png', dpi = 300, bbox_to_anchor = (0.95, 0.1))\n"
   ]
  },
  {
   "cell_type": "code",
   "execution_count": null,
   "metadata": {},
   "outputs": [],
   "source": []
  }
 ],
 "metadata": {
  "kernelspec": {
   "display_name": "Python 3",
   "language": "python",
   "name": "python3"
  },
  "language_info": {
   "codemirror_mode": {
    "name": "ipython",
    "version": 3
   },
   "file_extension": ".py",
   "mimetype": "text/x-python",
   "name": "python",
   "nbconvert_exporter": "python",
   "pygments_lexer": "ipython3",
   "version": "3.6.5"
  }
 },
 "nbformat": 4,
 "nbformat_minor": 2
}
