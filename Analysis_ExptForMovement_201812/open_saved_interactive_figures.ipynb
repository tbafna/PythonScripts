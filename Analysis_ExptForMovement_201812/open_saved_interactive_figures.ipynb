{
 "cells": [
  {
   "cell_type": "code",
   "execution_count": 25,
   "metadata": {},
   "outputs": [
    {
     "name": "stdout",
     "output_type": "stream",
     "text": [
      "Using matplotlib backend: Qt5Agg\n"
     ]
    }
   ],
   "source": [
    "%matplotlib\n",
    "#%matplotlib inline\n",
    "\n",
    "import pickle"
   ]
  },
  {
   "cell_type": "code",
   "execution_count": 28,
   "metadata": {},
   "outputs": [],
   "source": [
    "scoreType = 'LIX'\n",
    "#scoreType = 'SumOfScores'\n",
    "#scoreType = 'Difficulty'\n",
    "#scoreType = 'Complexity'\n",
    "\n",
    "subj_session_name = 'ph\\\\Test_woChinRest'\n",
    "\n",
    "subj_session_name_fig = subj_session_name\n",
    "#subj_session_name_fig = subj_session_name + '_p1'\n",
    "#subj_session_name_fig = subj_session_name + '_p2'"
   ]
  },
  {
   "cell_type": "code",
   "execution_count": 29,
   "metadata": {},
   "outputs": [],
   "source": [
    "# complete pupil size - absolute value\n",
    "     \n",
    "figx = pickle.load(open(r'C:\\DTU\\Results\\201812_PilotExptForMovement\\pupil Size\\Complete pupil size' + '\\\\' + subj_session_name_fig + '_absolute', 'rb'))\n",
    "\n",
    "figx.show() # Show the figure, edit it, etc.!\n",
    "\n",
    "     "
   ]
  },
  {
   "cell_type": "code",
   "execution_count": 30,
   "metadata": {},
   "outputs": [],
   "source": [
    "# complete pupil size - relative value\n",
    "     \n",
    "figx = pickle.load(open(r'C:\\DTU\\Results\\201812_PilotExptForMovement\\pupil Size\\Complete pupil size' + '\\\\' + subj_session_name_fig + '_relative', 'rb'))\n",
    "\n",
    "figx.show() # Show the figure, edit it, etc.!\n",
    "\n",
    "     "
   ]
  },
  {
   "cell_type": "code",
   "execution_count": 31,
   "metadata": {},
   "outputs": [],
   "source": [
    "# complete pupil size - relative value, with trials and their averages plotted; point indicates end of baseline time\n",
    "\n",
    "figx = pickle.load(open(r'C:\\DTU\\Results\\201812_PilotExptForMovement\\pupil Size\\Trial by trial' + '\\\\' + subj_session_name_fig + '_relativeComplete_allTrials_wAvg' + '_' + scoreType, 'rb'))\n",
    "\n",
    "figx.show() # Show the figure, edit it, etc.!\n"
   ]
  },
  {
   "cell_type": "code",
   "execution_count": 33,
   "metadata": {},
   "outputs": [],
   "source": [
    "# pupil size - absolute, of all trials in one figure, with scores and with baseline avegrage shown  \n",
    "\n",
    "figx = pickle.load(open(r'C:\\DTU\\Results\\201812_PilotExptForMovement\\pupil Size\\Trial by trial' + '\\\\' + subj_session_name_fig + '_absoluteNbaseline_allTrials' + '_' + scoreType, 'rb'))\n",
    "\n",
    "figx.show() # Show the figure, edit it, etc.!"
   ]
  },
  {
   "cell_type": "code",
   "execution_count": 32,
   "metadata": {},
   "outputs": [],
   "source": [
    "# relative pupil size (right and left) for each trial in that session in a new figure\n",
    "\n",
    "for i in range(1,10):\n",
    "    figx = pickle.load(open(r'C:\\DTU\\Results\\201812_PilotExptForMovement\\pupil Size\\Trial by trial' + '\\\\' + subj_session_name_fig + '_' + str(i) + '_' + scoreType, 'rb'))\n",
    "\n",
    "figx.show() # Show the figure, edit it, etc.!"
   ]
  },
  {
   "cell_type": "code",
   "execution_count": 23,
   "metadata": {},
   "outputs": [],
   "source": [
    "# relative pupil size of all trials in one figure, with scores\n",
    "\n",
    "figx = pickle.load(open(r'C:\\DTU\\Results\\201812_PilotExptForMovement\\pupil Size\\Trial by trial' + '\\\\' + subj_session_name_fig + '_relative_allTrials' + '_' + scoreType, 'rb'))\n",
    "\n",
    "figx.show() # Show the figure, edit it, etc.!"
   ]
  },
  {
   "cell_type": "code",
   "execution_count": 34,
   "metadata": {},
   "outputs": [],
   "source": [
    "# relative pupil size of all trials in one figure, with categories\n",
    "\n",
    "figx = pickle.load(open(r'C:\\DTU\\Results\\201812_PilotExptForMovement\\pupil Size\\Trial by trial' + '\\\\' + subj_session_name_fig + '_relative_allTrials_categorized' + scoreType , 'rb'))\n",
    "\n",
    "figx.show() # Show the figure, edit it, etc.!"
   ]
  },
  {
   "cell_type": "code",
   "execution_count": null,
   "metadata": {},
   "outputs": [],
   "source": []
  }
 ],
 "metadata": {
  "kernelspec": {
   "display_name": "Python 3",
   "language": "python",
   "name": "python3"
  },
  "language_info": {
   "codemirror_mode": {
    "name": "ipython",
    "version": 3
   },
   "file_extension": ".py",
   "mimetype": "text/x-python",
   "name": "python",
   "nbconvert_exporter": "python",
   "pygments_lexer": "ipython3",
   "version": "3.6.5"
  }
 },
 "nbformat": 4,
 "nbformat_minor": 2
}
